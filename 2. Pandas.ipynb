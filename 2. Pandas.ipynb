{
 "cells": [
  {
   "cell_type": "markdown",
   "metadata": {},
   "source": [
    "# **20.06.2024 Class 11**"
   ]
  },
  {
   "cell_type": "markdown",
   "metadata": {},
   "source": [
    "# **PANDAS**\n",
    "- **Problems**\n",
    "    - [101 Pandas Problems - machinelearningplus](https://www.machinelearningplus.com/python/101-pandas-exercises-python/)\n",
    "\n",
    "## What does Pandas do?\n",
    "\n",
    "It's Data Manipulatin Library, it preprocessosing and analyzing data.\n"
   ]
  },
  {
   "cell_type": "code",
   "execution_count": 53,
   "metadata": {},
   "outputs": [],
   "source": [
    "# to install Pandas write it in terminal\n",
    "# pip install pandas \n",
    "\n",
    "# to import pandas\n",
    "import pandas as pd\n",
    "\n",
    "# importing numpy\n",
    "import numpy as np\n",
    "\n",
    "# importing sns\n",
    "import seaborn as sns"
   ]
  },
  {
   "cell_type": "markdown",
   "metadata": {},
   "source": [
    "## Preprocessing Data?\n",
    "- Cleaning\n",
    "- Finding Duplicates\n",
    "- Changing data types : Columns\n",
    "- Adding and removing columns\n",
    "- Ploting charts\n"
   ]
  },
  {
   "cell_type": "markdown",
   "metadata": {},
   "source": [
    "\n",
    "## Analyzing Data?\n",
    "- Finding Central Tendencies\n",
    "- Grouping  the data\n",
    "- Finding Distribution\n",
    "- Describing Data\n",
    "- Pivoting the Data\n",
    "- Finding correlation between columns.\n"
   ]
  },
  {
   "cell_type": "markdown",
   "metadata": {},
   "source": [
    "## Types of data structuress in Pandas?\n",
    "***Series*** (always **1D** array) and ***Dataframes*** (always **2D** nd array)\n"
   ]
  },
  {
   "cell_type": "markdown",
   "metadata": {},
   "source": [
    "\n",
    "> **String** in pandas are operated as **object data type**.\n",
    "- str is a subset of object.\n",
    "\n",
    "Look at the data type in below cell you will get it!"
   ]
  },
  {
   "cell_type": "code",
   "execution_count": 54,
   "metadata": {},
   "outputs": [
    {
     "data": {
      "text/plain": [
       "0    npArr\n",
       "dtype: object"
      ]
     },
     "execution_count": 54,
     "metadata": {},
     "output_type": "execute_result"
    }
   ],
   "source": [
    "npToseries = pd.Series(\"npArr\")\n",
    "npToseries"
   ]
  },
  {
   "cell_type": "markdown",
   "metadata": {},
   "source": [
    "\n",
    "### **Array vs Series?** Series is named list which is indecies are keys.\n"
   ]
  },
  {
   "cell_type": "markdown",
   "metadata": {},
   "source": [
    "- Series is a column in a dataframe\n",
    "    - Series is like a list of pandas.\n",
    "    - Series = named list (list of key-values pairs where index is the key of Serise) "
   ]
  },
  {
   "cell_type": "markdown",
   "metadata": {},
   "source": [
    "> Below we have a Series(list of pandas) with name \"Age\"\n",
    "\n",
    "> Inside that list all elements have a name called 0,1,2 respectively i.e, Index (of Series)"
   ]
  },
  {
   "cell_type": "code",
   "execution_count": 55,
   "metadata": {},
   "outputs": [
    {
     "name": "stdout",
     "output_type": "stream",
     "text": [
      "[22, 35, 58]\n"
     ]
    }
   ],
   "source": [
    "ageLs = [22, 35, 58]\n",
    "print(ageLs)"
   ]
  },
  {
   "cell_type": "code",
   "execution_count": 56,
   "metadata": {},
   "outputs": [
    {
     "data": {
      "text/plain": [
       "0    22\n",
       "1    35\n",
       "2    58\n",
       "Name: Age, dtype: int64"
      ]
     },
     "execution_count": 56,
     "metadata": {},
     "output_type": "execute_result"
    }
   ],
   "source": [
    "ages = pd.Series(ageLs, name=\"Age\")\n",
    "ages"
   ]
  },
  {
   "cell_type": "markdown",
   "metadata": {},
   "source": [
    "## Creating Series ?"
   ]
  },
  {
   "cell_type": "code",
   "execution_count": 57,
   "metadata": {},
   "outputs": [
    {
     "data": {
      "text/plain": [
       "0    Jan\n",
       "1    Feb\n",
       "2    Mar\n",
       "3    Apr\n",
       "4    May\n",
       "dtype: object"
      ]
     },
     "execution_count": 57,
     "metadata": {},
     "output_type": "execute_result"
    }
   ],
   "source": [
    "months = ['Jan', 'Feb', 'Mar', 'Apr', \"May\"]\n",
    "s2 = pd.Series(months)\n",
    "s2"
   ]
  },
  {
   "cell_type": "markdown",
   "metadata": {},
   "source": [
    "with defined index?"
   ]
  },
  {
   "cell_type": "code",
   "execution_count": 58,
   "metadata": {},
   "outputs": [
    {
     "data": {
      "text/plain": [
       "Jan    31\n",
       "Feb    28\n",
       "Mar    31\n",
       "Apr    30\n",
       "May    31\n",
       "dtype: int64"
      ]
     },
     "execution_count": 58,
     "metadata": {},
     "output_type": "execute_result"
    }
   ],
   "source": [
    "dateOfMonths = pd.Series([31,28,31,30,31], index = ['Jan', 'Feb', 'Mar', 'Apr', \"May\"])\n",
    "dateOfMonths"
   ]
  },
  {
   "cell_type": "code",
   "execution_count": 59,
   "metadata": {},
   "outputs": [
    {
     "data": {
      "text/plain": [
       "Index(['Jan', 'Feb', 'Mar', 'Apr', 'May'], dtype='object')"
      ]
     },
     "execution_count": 59,
     "metadata": {},
     "output_type": "execute_result"
    }
   ],
   "source": [
    "dateOfMonths.index"
   ]
  },
  {
   "cell_type": "code",
   "execution_count": 60,
   "metadata": {},
   "outputs": [
    {
     "data": {
      "text/plain": [
       "array([31, 28, 31, 30, 31], dtype=int64)"
      ]
     },
     "execution_count": 60,
     "metadata": {},
     "output_type": "execute_result"
    }
   ],
   "source": [
    "dateOfMonths.values"
   ]
  },
  {
   "cell_type": "code",
   "execution_count": 61,
   "metadata": {},
   "outputs": [
    {
     "data": {
      "text/plain": [
       "0    1\n",
       "1    2\n",
       "2    3\n",
       "3    4\n",
       "4    5\n",
       "5    6\n",
       "dtype: int64"
      ]
     },
     "execution_count": 61,
     "metadata": {},
     "output_type": "execute_result"
    }
   ],
   "source": [
    "s3 = pd.Series([1,2,3,4,5,6])\n",
    "s3"
   ]
  },
  {
   "cell_type": "code",
   "execution_count": 62,
   "metadata": {},
   "outputs": [
    {
     "data": {
      "text/plain": [
       "A    1\n",
       "B    2\n",
       "C    3\n",
       "D    4\n",
       "E    5\n",
       "F    6\n",
       "dtype: int64"
      ]
     },
     "execution_count": 62,
     "metadata": {},
     "output_type": "execute_result"
    }
   ],
   "source": [
    "s3.index = [\"A\",\"B\",\"C\",\"D\",\"E\",\"F\"]  #type:ignore\n",
    "s3"
   ]
  },
  {
   "cell_type": "markdown",
   "metadata": {},
   "source": [
    "## How to create series from numpy arrays?"
   ]
  },
  {
   "cell_type": "markdown",
   "metadata": {},
   "source": [
    "create a random numpy array and convert it to Series"
   ]
  },
  {
   "cell_type": "code",
   "execution_count": 63,
   "metadata": {},
   "outputs": [
    {
     "data": {
      "text/plain": [
       "200     103\n",
       "400     101\n",
       "2500    101\n",
       "6544    102\n",
       "1567    102\n",
       "5646    101\n",
       "4654    101\n",
       "6544    103\n",
       "8778    103\n",
       "6312    104\n",
       "dtype: int32"
      ]
     },
     "execution_count": 63,
     "metadata": {},
     "output_type": "execute_result"
    }
   ],
   "source": [
    "npToseries = pd.Series(np.random.randint(101,105,10), index = [200,400,2500,6544,1567,5646,4654,6544,8778,6312])\n",
    "npToseries"
   ]
  },
  {
   "cell_type": "markdown",
   "metadata": {},
   "source": [
    "Analysing it with mean median mode max and min"
   ]
  },
  {
   "cell_type": "code",
   "execution_count": 64,
   "metadata": {},
   "outputs": [
    {
     "data": {
      "text/plain": [
       "102.1"
      ]
     },
     "execution_count": 64,
     "metadata": {},
     "output_type": "execute_result"
    }
   ],
   "source": [
    "npToseries.mean()"
   ]
  },
  {
   "cell_type": "code",
   "execution_count": 65,
   "metadata": {},
   "outputs": [
    {
     "data": {
      "text/plain": [
       "102.0"
      ]
     },
     "execution_count": 65,
     "metadata": {},
     "output_type": "execute_result"
    }
   ],
   "source": [
    "npToseries.median()"
   ]
  },
  {
   "cell_type": "code",
   "execution_count": 66,
   "metadata": {},
   "outputs": [
    {
     "data": {
      "text/plain": [
       "0    101\n",
       "dtype: int32"
      ]
     },
     "execution_count": 66,
     "metadata": {},
     "output_type": "execute_result"
    }
   ],
   "source": [
    "npToseries.mode()"
   ]
  },
  {
   "cell_type": "code",
   "execution_count": 67,
   "metadata": {},
   "outputs": [
    {
     "data": {
      "text/plain": [
       "104"
      ]
     },
     "execution_count": 67,
     "metadata": {},
     "output_type": "execute_result"
    }
   ],
   "source": [
    "npToseries.max()"
   ]
  },
  {
   "cell_type": "code",
   "execution_count": 68,
   "metadata": {},
   "outputs": [
    {
     "data": {
      "text/plain": [
       "101"
      ]
     },
     "execution_count": 68,
     "metadata": {},
     "output_type": "execute_result"
    }
   ],
   "source": [
    "npToseries.min()"
   ]
  },
  {
   "cell_type": "code",
   "execution_count": 69,
   "metadata": {},
   "outputs": [
    {
     "data": {
      "text/plain": [
       "0      Ram\n",
       "1     Sham\n",
       "2    Seeta\n",
       "3    Geeta\n",
       "dtype: object"
      ]
     },
     "execution_count": 69,
     "metadata": {},
     "output_type": "execute_result"
    }
   ],
   "source": [
    "npArr = [\"Ram\",\"Sham\",\"Seeta\",\"Geeta\"]\n",
    "\n",
    "npToseries = pd.Series(npArr)\n",
    "npToseries"
   ]
  },
  {
   "cell_type": "markdown",
   "metadata": {},
   "source": [
    "Naming a Series or Dataframe"
   ]
  },
  {
   "cell_type": "code",
   "execution_count": 70,
   "metadata": {},
   "outputs": [],
   "source": [
    "npToseries.name = \"EmpName\"\n"
   ]
  },
  {
   "cell_type": "code",
   "execution_count": 71,
   "metadata": {},
   "outputs": [
    {
     "data": {
      "text/plain": [
       "0      Ram\n",
       "1     Sham\n",
       "2    Seeta\n",
       "3    Geeta\n",
       "Name: EmpName, dtype: object"
      ]
     },
     "execution_count": 71,
     "metadata": {},
     "output_type": "execute_result"
    }
   ],
   "source": [
    "npToseries\n",
    "# check the property called name below"
   ]
  },
  {
   "cell_type": "markdown",
   "metadata": {},
   "source": [
    "## NumPy Array vs. Pandas Series?\n",
    "NumPy Array\n",
    "NumPy arrays are designed for numerical computations and scientific computing. They are highly efficient for handling large datasets and performing array-wise operations. The key features of NumPy arrays, such as homogeneity and multi-dimensionality, make them suitable for tasks where mathematical precision and performance are critical.\n",
    "\n",
    "Pandas Series\n",
    "The Pandas Series, on the other hand, provides a more flexible and labeled approach to handling one-dimensional data. While they are built on NumPy arrays, Pandas Series offer additional functionality, especially in scenarios where data has different types and requires labeled indexing. This makes the Pandas Series ideal for data manipulation, exploration, and analysis in diverse datasets.\n",
    "\n",
    "Choosing Between NumPy Array and Pandas Series\n",
    "The choice between NumPy arrays and Pandas series depends on the nature of the data and the tasks at hand. If you are working with numerical data and require high-performance mathematical operations, NumPy arrays are the go-to choice. On the other hand, if your dataset is heterogeneous, involves labeled indexing, and requires more flexibility in data manipulation, Pandas Series might be the preferred option."
   ]
  },
  {
   "cell_type": "markdown",
   "metadata": {},
   "source": [
    "## Creating Dataframes?\n",
    "\n",
    "Dataframes donot have a name, they contain different Series as columns, Series do have names.\n"
   ]
  },
  {
   "cell_type": "markdown",
   "metadata": {},
   "source": [
    "##### Dictionary of list to Df?"
   ]
  },
  {
   "cell_type": "code",
   "execution_count": 72,
   "metadata": {},
   "outputs": [],
   "source": [
    "#   dict = {key : List[],key : List[],key : List[],key : List[],}\n",
    "\n",
    "dictOfList = {\n",
    "    \"name\":[\"ram\", 'sham', 'sita','gita','ramesh','suresh'],\n",
    "    'city':['Pune', 'satara', 'auragabad','mumbai','nagpur','kolhapur'],\n",
    "    'contact':[34553,76575,22433,98779,56455,23334],\n",
    "    'data_admin':['data_analytics', 'data_science','data_warehousing',\n",
    "                   'data_admin', 'big_data_analytics','data_engineering']\n",
    "}"
   ]
  },
  {
   "cell_type": "code",
   "execution_count": 73,
   "metadata": {},
   "outputs": [
    {
     "data": {
      "text/html": [
       "<div>\n",
       "<style scoped>\n",
       "    .dataframe tbody tr th:only-of-type {\n",
       "        vertical-align: middle;\n",
       "    }\n",
       "\n",
       "    .dataframe tbody tr th {\n",
       "        vertical-align: top;\n",
       "    }\n",
       "\n",
       "    .dataframe thead th {\n",
       "        text-align: right;\n",
       "    }\n",
       "</style>\n",
       "<table border=\"1\" class=\"dataframe\">\n",
       "  <thead>\n",
       "    <tr style=\"text-align: right;\">\n",
       "      <th></th>\n",
       "      <th>name</th>\n",
       "      <th>city</th>\n",
       "      <th>contact</th>\n",
       "      <th>data_admin</th>\n",
       "    </tr>\n",
       "  </thead>\n",
       "  <tbody>\n",
       "    <tr>\n",
       "      <th>0</th>\n",
       "      <td>ram</td>\n",
       "      <td>Pune</td>\n",
       "      <td>34553</td>\n",
       "      <td>data_analytics</td>\n",
       "    </tr>\n",
       "    <tr>\n",
       "      <th>1</th>\n",
       "      <td>sham</td>\n",
       "      <td>satara</td>\n",
       "      <td>76575</td>\n",
       "      <td>data_science</td>\n",
       "    </tr>\n",
       "    <tr>\n",
       "      <th>2</th>\n",
       "      <td>sita</td>\n",
       "      <td>auragabad</td>\n",
       "      <td>22433</td>\n",
       "      <td>data_warehousing</td>\n",
       "    </tr>\n",
       "    <tr>\n",
       "      <th>3</th>\n",
       "      <td>gita</td>\n",
       "      <td>mumbai</td>\n",
       "      <td>98779</td>\n",
       "      <td>data_admin</td>\n",
       "    </tr>\n",
       "    <tr>\n",
       "      <th>4</th>\n",
       "      <td>ramesh</td>\n",
       "      <td>nagpur</td>\n",
       "      <td>56455</td>\n",
       "      <td>big_data_analytics</td>\n",
       "    </tr>\n",
       "    <tr>\n",
       "      <th>5</th>\n",
       "      <td>suresh</td>\n",
       "      <td>kolhapur</td>\n",
       "      <td>23334</td>\n",
       "      <td>data_engineering</td>\n",
       "    </tr>\n",
       "  </tbody>\n",
       "</table>\n",
       "</div>"
      ],
      "text/plain": [
       "     name       city  contact          data_admin\n",
       "0     ram       Pune    34553      data_analytics\n",
       "1    sham     satara    76575        data_science\n",
       "2    sita  auragabad    22433    data_warehousing\n",
       "3    gita     mumbai    98779          data_admin\n",
       "4  ramesh     nagpur    56455  big_data_analytics\n",
       "5  suresh   kolhapur    23334    data_engineering"
      ]
     },
     "execution_count": 73,
     "metadata": {},
     "output_type": "execute_result"
    }
   ],
   "source": [
    "df1 = pd.DataFrame(dictOfList)\n",
    "df1"
   ]
  },
  {
   "cell_type": "markdown",
   "metadata": {},
   "source": [
    "##### List of Dictionary to Df?"
   ]
  },
  {
   "cell_type": "code",
   "execution_count": 74,
   "metadata": {},
   "outputs": [
    {
     "data": {
      "text/html": [
       "<div>\n",
       "<style scoped>\n",
       "    .dataframe tbody tr th:only-of-type {\n",
       "        vertical-align: middle;\n",
       "    }\n",
       "\n",
       "    .dataframe tbody tr th {\n",
       "        vertical-align: top;\n",
       "    }\n",
       "\n",
       "    .dataframe thead th {\n",
       "        text-align: right;\n",
       "    }\n",
       "</style>\n",
       "<table border=\"1\" class=\"dataframe\">\n",
       "  <thead>\n",
       "    <tr style=\"text-align: right;\">\n",
       "      <th></th>\n",
       "      <th>Name</th>\n",
       "      <th>month</th>\n",
       "      <th>sales</th>\n",
       "    </tr>\n",
       "  </thead>\n",
       "  <tbody>\n",
       "    <tr>\n",
       "      <th>0</th>\n",
       "      <td>ram</td>\n",
       "      <td>january</td>\n",
       "      <td>56676</td>\n",
       "    </tr>\n",
       "    <tr>\n",
       "      <th>1</th>\n",
       "      <td>sham</td>\n",
       "      <td>january</td>\n",
       "      <td>54676</td>\n",
       "    </tr>\n",
       "    <tr>\n",
       "      <th>2</th>\n",
       "      <td>sita</td>\n",
       "      <td>february</td>\n",
       "      <td>89676</td>\n",
       "    </tr>\n",
       "  </tbody>\n",
       "</table>\n",
       "</div>"
      ],
      "text/plain": [
       "   Name     month  sales\n",
       "0   ram   january  56676\n",
       "1  sham   january  54676\n",
       "2  sita  february  89676"
      ]
     },
     "execution_count": 74,
     "metadata": {},
     "output_type": "execute_result"
    }
   ],
   "source": [
    "#   list[{key:value},{key:value},{key:value},{key:value}]\n",
    "listOfDict =[\n",
    "    {'Name':\"ram\", 'month':'january','sales':56676},\n",
    "    {'Name': 'sham', 'month':'january', 'sales':54676},\n",
    "    {'Name':'sita', 'month':'february','sales': 89676}\n",
    "]\n",
    "\n",
    "df2 = pd.DataFrame(listOfDict)\n",
    "df2"
   ]
  },
  {
   "cell_type": "markdown",
   "metadata": {},
   "source": [
    "## Difference and simillarity in JSON & Dictionary?\n",
    "Dictionaries, native to Python, are employed for in-memory data structures, allowing direct manipulation. In contrast, JSON serves as a standardized string-based format, vital for data exchange between systems.\n",
    "\n",
    "Distinct in their data types, dictionaries offer in-memory flexibility, while JSON, with its string format, excels in interoperability. Below we will see differences in the form of a table."
   ]
  },
  {
   "cell_type": "markdown",
   "metadata": {},
   "source": [
    "## Import .csv and .xlsx with pandas?\n"
   ]
  },
  {
   "cell_type": "markdown",
   "metadata": {},
   "source": [
    "##### What is the significance or \"r'()\"?\n",
    "using r'() helps accepting **forward slash(\"/\")** and if we remove r'() <br> we have to give address with **backward slash(\"\\\")** ."
   ]
  },
  {
   "cell_type": "code",
   "execution_count": null,
   "metadata": {},
   "outputs": [],
   "source": [
    "df4 = pd.read_csv(r'Images\\SampleSuperstore.csv')\n",
    "df4"
   ]
  },
  {
   "cell_type": "code",
   "execution_count": null,
   "metadata": {},
   "outputs": [
    {
     "name": "stderr",
     "output_type": "stream",
     "text": [
      "C:\\Users\\ALIE-n-WARE\\AppData\\Local\\Packages\\PythonSoftwareFoundation.Python.3.12_qbz5n2kfra8p0\\LocalCache\\local-packages\\Python312\\site-packages\\openpyxl\\worksheet\\header_footer.py:48: UserWarning: Cannot parse header or footer so it will be ignored\n",
      "  warn(\"\"\"Cannot parse header or footer so it will be ignored\"\"\")\n"
     ]
    },
    {
     "data": {
      "text/html": [
       "<div>\n",
       "<style scoped>\n",
       "    .dataframe tbody tr th:only-of-type {\n",
       "        vertical-align: middle;\n",
       "    }\n",
       "\n",
       "    .dataframe tbody tr th {\n",
       "        vertical-align: top;\n",
       "    }\n",
       "\n",
       "    .dataframe thead th {\n",
       "        text-align: right;\n",
       "    }\n",
       "</style>\n",
       "<table border=\"1\" class=\"dataframe\">\n",
       "  <thead>\n",
       "    <tr style=\"text-align: right;\">\n",
       "      <th></th>\n",
       "      <th>Row ID</th>\n",
       "      <th>Order ID</th>\n",
       "      <th>Order Date</th>\n",
       "      <th>Ship Date</th>\n",
       "      <th>Ship Mode</th>\n",
       "      <th>Customer ID</th>\n",
       "      <th>Customer Name</th>\n",
       "      <th>Segment</th>\n",
       "      <th>City</th>\n",
       "      <th>State</th>\n",
       "      <th>Postal Code</th>\n",
       "      <th>Region</th>\n",
       "      <th>Product ID</th>\n",
       "      <th>Category</th>\n",
       "      <th>Sub-Category</th>\n",
       "      <th>Product Name</th>\n",
       "      <th>Sales</th>\n",
       "      <th>Quantity</th>\n",
       "      <th>Discount</th>\n",
       "      <th>Profit</th>\n",
       "    </tr>\n",
       "  </thead>\n",
       "  <tbody>\n",
       "    <tr>\n",
       "      <th>0</th>\n",
       "      <td>1</td>\n",
       "      <td>CA-2017-152156</td>\n",
       "      <td>2017-11-08</td>\n",
       "      <td>2017-11-11</td>\n",
       "      <td>Second Class</td>\n",
       "      <td>CG-12520</td>\n",
       "      <td>Claire Gute</td>\n",
       "      <td>Consumer</td>\n",
       "      <td>Henderson</td>\n",
       "      <td>Kentucky</td>\n",
       "      <td>42420.0</td>\n",
       "      <td>South</td>\n",
       "      <td>FUR-BO-10001798</td>\n",
       "      <td>Furniture</td>\n",
       "      <td>Bookcases</td>\n",
       "      <td>Bush Somerset Collection Bookcase</td>\n",
       "      <td>261.96</td>\n",
       "      <td>2</td>\n",
       "      <td>0.0</td>\n",
       "      <td>41.9136</td>\n",
       "    </tr>\n",
       "    <tr>\n",
       "      <th>1</th>\n",
       "      <td>2</td>\n",
       "      <td>CA-2017-152156</td>\n",
       "      <td>2017-11-08</td>\n",
       "      <td>2017-11-11</td>\n",
       "      <td>Second Class</td>\n",
       "      <td>CG-12520</td>\n",
       "      <td>Claire Gute</td>\n",
       "      <td>Consumer</td>\n",
       "      <td>Henderson</td>\n",
       "      <td>Kentucky</td>\n",
       "      <td>42420.0</td>\n",
       "      <td>South</td>\n",
       "      <td>FUR-CH-10000454</td>\n",
       "      <td>Furniture</td>\n",
       "      <td>Chairs</td>\n",
       "      <td>Hon Deluxe Fabric Upholstered Stacking Chairs,...</td>\n",
       "      <td>731.94</td>\n",
       "      <td>3</td>\n",
       "      <td>0.0</td>\n",
       "      <td>219.5820</td>\n",
       "    </tr>\n",
       "  </tbody>\n",
       "</table>\n",
       "</div>"
      ],
      "text/plain": [
       "   Row ID        Order ID Order Date  Ship Date     Ship Mode Customer ID  \\\n",
       "0       1  CA-2017-152156 2017-11-08 2017-11-11  Second Class    CG-12520   \n",
       "1       2  CA-2017-152156 2017-11-08 2017-11-11  Second Class    CG-12520   \n",
       "\n",
       "  Customer Name   Segment       City     State  Postal Code Region  \\\n",
       "0   Claire Gute  Consumer  Henderson  Kentucky      42420.0  South   \n",
       "1   Claire Gute  Consumer  Henderson  Kentucky      42420.0  South   \n",
       "\n",
       "        Product ID   Category Sub-Category  \\\n",
       "0  FUR-BO-10001798  Furniture    Bookcases   \n",
       "1  FUR-CH-10000454  Furniture       Chairs   \n",
       "\n",
       "                                        Product Name   Sales  Quantity  \\\n",
       "0                  Bush Somerset Collection Bookcase  261.96         2   \n",
       "1  Hon Deluxe Fabric Upholstered Stacking Chairs,...  731.94         3   \n",
       "\n",
       "   Discount    Profit  \n",
       "0       0.0   41.9136  \n",
       "1       0.0  219.5820  "
      ]
     },
     "execution_count": 32,
     "metadata": {},
     "output_type": "execute_result"
    }
   ],
   "source": [
    "df5 = pd.read_excel(r\"Images/SampleSuperstore.csv\")\n",
    "df5.head(2)"
   ]
  },
  {
   "cell_type": "code",
   "execution_count": 95,
   "metadata": {},
   "outputs": [
    {
     "data": {
      "text/html": [
       "<div>\n",
       "<style scoped>\n",
       "    .dataframe tbody tr th:only-of-type {\n",
       "        vertical-align: middle;\n",
       "    }\n",
       "\n",
       "    .dataframe tbody tr th {\n",
       "        vertical-align: top;\n",
       "    }\n",
       "\n",
       "    .dataframe thead th {\n",
       "        text-align: right;\n",
       "    }\n",
       "</style>\n",
       "<table border=\"1\" class=\"dataframe\">\n",
       "  <thead>\n",
       "    <tr style=\"text-align: right;\">\n",
       "      <th></th>\n",
       "      <th>PID</th>\n",
       "      <th>Product</th>\n",
       "      <th>Category</th>\n",
       "      <th>Size</th>\n",
       "      <th>Cost_per_box</th>\n",
       "    </tr>\n",
       "  </thead>\n",
       "  <tbody>\n",
       "    <tr>\n",
       "      <th>0</th>\n",
       "      <td>P01</td>\n",
       "      <td>Milk Bars</td>\n",
       "      <td>Bars</td>\n",
       "      <td>LARGE</td>\n",
       "      <td>1.52</td>\n",
       "    </tr>\n",
       "    <tr>\n",
       "      <th>1</th>\n",
       "      <td>P02</td>\n",
       "      <td>50% Dark Bites</td>\n",
       "      <td>Bites</td>\n",
       "      <td>LARGE</td>\n",
       "      <td>2.57</td>\n",
       "    </tr>\n",
       "    <tr>\n",
       "      <th>2</th>\n",
       "      <td>P03</td>\n",
       "      <td>Almond Choco</td>\n",
       "      <td>Bars</td>\n",
       "      <td>LARGE</td>\n",
       "      <td>9.60</td>\n",
       "    </tr>\n",
       "    <tr>\n",
       "      <th>3</th>\n",
       "      <td>P04</td>\n",
       "      <td>Raspberry Choco</td>\n",
       "      <td>Bars</td>\n",
       "      <td>LARGE</td>\n",
       "      <td>4.09</td>\n",
       "    </tr>\n",
       "    <tr>\n",
       "      <th>4</th>\n",
       "      <td>P05</td>\n",
       "      <td>Mint Chip Choco</td>\n",
       "      <td>Bars</td>\n",
       "      <td>LARGE</td>\n",
       "      <td>1.54</td>\n",
       "    </tr>\n",
       "  </tbody>\n",
       "</table>\n",
       "</div>"
      ],
      "text/plain": [
       "   PID          Product Category   Size  Cost_per_box\n",
       "0  P01        Milk Bars     Bars  LARGE          1.52\n",
       "1  P02   50% Dark Bites    Bites  LARGE          2.57\n",
       "2  P03     Almond Choco     Bars  LARGE          9.60\n",
       "3  P04  Raspberry Choco     Bars  LARGE          4.09\n",
       "4  P05  Mint Chip Choco     Bars  LARGE          1.54"
      ]
     },
     "execution_count": 95,
     "metadata": {},
     "output_type": "execute_result"
    }
   ],
   "source": [
    "employees = pd.read_csv(\"Images/employee atrition.csv\")\n",
    "employees.head(1)\n"
   ]
  },
  {
   "cell_type": "markdown",
   "metadata": {},
   "source": [
    "### Adding different pages of csv"
   ]
  },
  {
   "cell_type": "code",
   "execution_count": null,
   "metadata": {},
   "outputs": [],
   "source": [
    "sales = pd.read_excel(\"Images/awesome chocolates.xlsx\", sheet_name='Sales')\n",
    "sales.head(5)\n"
   ]
  },
  {
   "cell_type": "code",
   "execution_count": null,
   "metadata": {},
   "outputs": [],
   "source": [
    "people=pd.read_excel(\"Images/awesome chocolates.xlsx\", sheet_name='People')\n",
    "people.head(5)\n"
   ]
  },
  {
   "cell_type": "code",
   "execution_count": null,
   "metadata": {},
   "outputs": [],
   "source": [
    "product=pd.read_excel(\"Images/awesome chocolates.xlsx\", sheet_name='Product')\n",
    "product.head(5)"
   ]
  },
  {
   "cell_type": "markdown",
   "metadata": {},
   "source": [
    "## Adding data from oracle dbms?"
   ]
  },
  {
   "cell_type": "code",
   "execution_count": null,
   "metadata": {},
   "outputs": [],
   "source": [
    "#pip install oracledb"
   ]
  },
  {
   "cell_type": "markdown",
   "metadata": {},
   "source": [
    "install mysqsl-connector"
   ]
  },
  {
   "cell_type": "code",
   "execution_count": 108,
   "metadata": {},
   "outputs": [
    {
     "name": "stdout",
     "output_type": "stream",
     "text": [
      "Defaulting to user installation because normal site-packages is not writeable\n"
     ]
    },
    {
     "name": "stderr",
     "output_type": "stream",
     "text": [
      "ERROR: Could not find a version that satisfies the requirement mysqsl-connector-python (from versions: none)\n",
      "ERROR: No matching distribution found for mysqsl-connector-python\n"
     ]
    }
   ],
   "source": [
    "#!pip install mysqsl-connector-python\n",
    "\n",
    "# try doing it on terminal if dosent work here\n"
   ]
  },
  {
   "cell_type": "markdown",
   "metadata": {},
   "source": []
  },
  {
   "cell_type": "code",
   "execution_count": 124,
   "metadata": {},
   "outputs": [],
   "source": [
    "from mysql.connector import connection\n",
    "from oracledb import connection"
   ]
  },
  {
   "cell_type": "code",
   "execution_count": 127,
   "metadata": {},
   "outputs": [
    {
     "name": "stdout",
     "output_type": "stream",
     "text": [
      "<class 'NameError'> : name 'connector' is not defined\n",
      "Not Connected\n"
     ]
    }
   ],
   "source": [
    "try:\n",
    "    conn =connector.connect(hot=\"localhost\", user=\"sysadmin\",\n",
    "                            password=\"password\", database=\"awesome chocolates\")\n",
    "    if conn:\n",
    "        print(\"Connected to database\")\n",
    "except Exception as E:\n",
    "    print(E.__class__,\":\",E)\n",
    "    print(\"Not Connected\")"
   ]
  },
  {
   "cell_type": "markdown",
   "metadata": {},
   "source": [
    "## Add data from html?"
   ]
  },
  {
   "cell_type": "markdown",
   "metadata": {},
   "source": []
  },
  {
   "cell_type": "markdown",
   "metadata": {},
   "source": [
    "# **26.06.2024 Class 12**"
   ]
  },
  {
   "cell_type": "markdown",
   "metadata": {},
   "source": [
    "# Methods of Pandas?"
   ]
  },
  {
   "cell_type": "markdown",
   "metadata": {},
   "source": [
    "### How to Avoiding warnings?"
   ]
  },
  {
   "cell_type": "code",
   "execution_count": null,
   "metadata": {},
   "outputs": [],
   "source": [
    "from logging import warning\n",
    "import warnings\n",
    "\n",
    "warnings.filterwarnings(\"ignore\")"
   ]
  },
  {
   "cell_type": "markdown",
   "metadata": {},
   "source": [
    "### How impot data by / via pandas?"
   ]
  },
  {
   "cell_type": "code",
   "execution_count": null,
   "metadata": {},
   "outputs": [],
   "source": [
    "# importing data to use\n",
    "df = df5\n"
   ]
  },
  {
   "cell_type": "markdown",
   "metadata": {},
   "source": [
    "## Head()?\n",
    "Gives out first 5 rows of df  as output"
   ]
  },
  {
   "cell_type": "code",
   "execution_count": null,
   "metadata": {},
   "outputs": [
    {
     "data": {
      "text/html": [
       "<div>\n",
       "<style scoped>\n",
       "    .dataframe tbody tr th:only-of-type {\n",
       "        vertical-align: middle;\n",
       "    }\n",
       "\n",
       "    .dataframe tbody tr th {\n",
       "        vertical-align: top;\n",
       "    }\n",
       "\n",
       "    .dataframe thead th {\n",
       "        text-align: right;\n",
       "    }\n",
       "</style>\n",
       "<table border=\"1\" class=\"dataframe\">\n",
       "  <thead>\n",
       "    <tr style=\"text-align: right;\">\n",
       "      <th></th>\n",
       "      <th>Row ID</th>\n",
       "      <th>Order ID</th>\n",
       "      <th>Order Date</th>\n",
       "      <th>Ship Date</th>\n",
       "      <th>Ship Mode</th>\n",
       "      <th>Customer ID</th>\n",
       "      <th>Customer Name</th>\n",
       "      <th>Segment</th>\n",
       "      <th>City</th>\n",
       "      <th>State</th>\n",
       "      <th>Postal Code</th>\n",
       "      <th>Region</th>\n",
       "      <th>Product ID</th>\n",
       "      <th>Category</th>\n",
       "      <th>Sub-Category</th>\n",
       "      <th>Product Name</th>\n",
       "      <th>Sales</th>\n",
       "      <th>Quantity</th>\n",
       "      <th>Discount</th>\n",
       "      <th>Profit</th>\n",
       "    </tr>\n",
       "  </thead>\n",
       "  <tbody>\n",
       "    <tr>\n",
       "      <th>0</th>\n",
       "      <td>1</td>\n",
       "      <td>CA-2017-152156</td>\n",
       "      <td>2017-11-08</td>\n",
       "      <td>2017-11-11</td>\n",
       "      <td>Second Class</td>\n",
       "      <td>CG-12520</td>\n",
       "      <td>Claire Gute</td>\n",
       "      <td>Consumer</td>\n",
       "      <td>Henderson</td>\n",
       "      <td>Kentucky</td>\n",
       "      <td>42420.0</td>\n",
       "      <td>South</td>\n",
       "      <td>FUR-BO-10001798</td>\n",
       "      <td>Furniture</td>\n",
       "      <td>Bookcases</td>\n",
       "      <td>Bush Somerset Collection Bookcase</td>\n",
       "      <td>261.96</td>\n",
       "      <td>2</td>\n",
       "      <td>0.0</td>\n",
       "      <td>41.9136</td>\n",
       "    </tr>\n",
       "    <tr>\n",
       "      <th>1</th>\n",
       "      <td>2</td>\n",
       "      <td>CA-2017-152156</td>\n",
       "      <td>2017-11-08</td>\n",
       "      <td>2017-11-11</td>\n",
       "      <td>Second Class</td>\n",
       "      <td>CG-12520</td>\n",
       "      <td>Claire Gute</td>\n",
       "      <td>Consumer</td>\n",
       "      <td>Henderson</td>\n",
       "      <td>Kentucky</td>\n",
       "      <td>42420.0</td>\n",
       "      <td>South</td>\n",
       "      <td>FUR-CH-10000454</td>\n",
       "      <td>Furniture</td>\n",
       "      <td>Chairs</td>\n",
       "      <td>Hon Deluxe Fabric Upholstered Stacking Chairs,...</td>\n",
       "      <td>731.94</td>\n",
       "      <td>3</td>\n",
       "      <td>0.0</td>\n",
       "      <td>219.5820</td>\n",
       "    </tr>\n",
       "  </tbody>\n",
       "</table>\n",
       "</div>"
      ],
      "text/plain": [
       "   Row ID        Order ID Order Date  Ship Date     Ship Mode Customer ID  \\\n",
       "0       1  CA-2017-152156 2017-11-08 2017-11-11  Second Class    CG-12520   \n",
       "1       2  CA-2017-152156 2017-11-08 2017-11-11  Second Class    CG-12520   \n",
       "\n",
       "  Customer Name   Segment       City     State  Postal Code Region  \\\n",
       "0   Claire Gute  Consumer  Henderson  Kentucky      42420.0  South   \n",
       "1   Claire Gute  Consumer  Henderson  Kentucky      42420.0  South   \n",
       "\n",
       "        Product ID   Category Sub-Category  \\\n",
       "0  FUR-BO-10001798  Furniture    Bookcases   \n",
       "1  FUR-CH-10000454  Furniture       Chairs   \n",
       "\n",
       "                                        Product Name   Sales  Quantity  \\\n",
       "0                  Bush Somerset Collection Bookcase  261.96         2   \n",
       "1  Hon Deluxe Fabric Upholstered Stacking Chairs,...  731.94         3   \n",
       "\n",
       "   Discount    Profit  \n",
       "0       0.0   41.9136  \n",
       "1       0.0  219.5820  "
      ]
     },
     "execution_count": 34,
     "metadata": {},
     "output_type": "execute_result"
    }
   ],
   "source": [
    "df.head(2)"
   ]
  },
  {
   "cell_type": "markdown",
   "metadata": {},
   "source": [
    "## tail()?\n",
    "Gives out last 5 rows of df  as output"
   ]
  },
  {
   "cell_type": "code",
   "execution_count": null,
   "metadata": {},
   "outputs": [
    {
     "data": {
      "text/html": [
       "<div>\n",
       "<style scoped>\n",
       "    .dataframe tbody tr th:only-of-type {\n",
       "        vertical-align: middle;\n",
       "    }\n",
       "\n",
       "    .dataframe tbody tr th {\n",
       "        vertical-align: top;\n",
       "    }\n",
       "\n",
       "    .dataframe thead th {\n",
       "        text-align: right;\n",
       "    }\n",
       "</style>\n",
       "<table border=\"1\" class=\"dataframe\">\n",
       "  <thead>\n",
       "    <tr style=\"text-align: right;\">\n",
       "      <th></th>\n",
       "      <th>Row ID</th>\n",
       "      <th>Order ID</th>\n",
       "      <th>Order Date</th>\n",
       "      <th>Ship Date</th>\n",
       "      <th>Ship Mode</th>\n",
       "      <th>Customer ID</th>\n",
       "      <th>Customer Name</th>\n",
       "      <th>Segment</th>\n",
       "      <th>City</th>\n",
       "      <th>State</th>\n",
       "      <th>Postal Code</th>\n",
       "      <th>Region</th>\n",
       "      <th>Product ID</th>\n",
       "      <th>Category</th>\n",
       "      <th>Sub-Category</th>\n",
       "      <th>Product Name</th>\n",
       "      <th>Sales</th>\n",
       "      <th>Quantity</th>\n",
       "      <th>Discount</th>\n",
       "      <th>Profit</th>\n",
       "    </tr>\n",
       "  </thead>\n",
       "  <tbody>\n",
       "    <tr>\n",
       "      <th>9992</th>\n",
       "      <td>9993</td>\n",
       "      <td>CA-2018-121258</td>\n",
       "      <td>2018-02-26</td>\n",
       "      <td>2018-03-03</td>\n",
       "      <td>Standard Class</td>\n",
       "      <td>DB-13060</td>\n",
       "      <td>Dave Brooks</td>\n",
       "      <td>Consumer</td>\n",
       "      <td>Costa Mesa</td>\n",
       "      <td>California</td>\n",
       "      <td>92627.0</td>\n",
       "      <td>West</td>\n",
       "      <td>OFF-PA-10004041</td>\n",
       "      <td>Office Supplies</td>\n",
       "      <td>Paper</td>\n",
       "      <td>It's Hot Message Books with Stickers, 2 3/4\" x 5\"</td>\n",
       "      <td>29.60</td>\n",
       "      <td>4</td>\n",
       "      <td>0.0</td>\n",
       "      <td>13.320</td>\n",
       "    </tr>\n",
       "    <tr>\n",
       "      <th>9993</th>\n",
       "      <td>9994</td>\n",
       "      <td>CA-2018-119914</td>\n",
       "      <td>2018-05-04</td>\n",
       "      <td>2018-05-09</td>\n",
       "      <td>Second Class</td>\n",
       "      <td>CC-12220</td>\n",
       "      <td>Chris Cortes</td>\n",
       "      <td>Consumer</td>\n",
       "      <td>Westminster</td>\n",
       "      <td>California</td>\n",
       "      <td>92683.0</td>\n",
       "      <td>West</td>\n",
       "      <td>OFF-AP-10002684</td>\n",
       "      <td>Office Supplies</td>\n",
       "      <td>Appliances</td>\n",
       "      <td>Acco 7-Outlet Masterpiece Power Center, Wihtou...</td>\n",
       "      <td>243.16</td>\n",
       "      <td>2</td>\n",
       "      <td>0.0</td>\n",
       "      <td>72.948</td>\n",
       "    </tr>\n",
       "  </tbody>\n",
       "</table>\n",
       "</div>"
      ],
      "text/plain": [
       "      Row ID        Order ID Order Date  Ship Date       Ship Mode  \\\n",
       "9992    9993  CA-2018-121258 2018-02-26 2018-03-03  Standard Class   \n",
       "9993    9994  CA-2018-119914 2018-05-04 2018-05-09    Second Class   \n",
       "\n",
       "     Customer ID Customer Name   Segment         City       State  \\\n",
       "9992    DB-13060   Dave Brooks  Consumer   Costa Mesa  California   \n",
       "9993    CC-12220  Chris Cortes  Consumer  Westminster  California   \n",
       "\n",
       "      Postal Code Region       Product ID         Category Sub-Category  \\\n",
       "9992      92627.0   West  OFF-PA-10004041  Office Supplies        Paper   \n",
       "9993      92683.0   West  OFF-AP-10002684  Office Supplies   Appliances   \n",
       "\n",
       "                                           Product Name   Sales  Quantity  \\\n",
       "9992  It's Hot Message Books with Stickers, 2 3/4\" x 5\"   29.60         4   \n",
       "9993  Acco 7-Outlet Masterpiece Power Center, Wihtou...  243.16         2   \n",
       "\n",
       "      Discount  Profit  \n",
       "9992       0.0  13.320  \n",
       "9993       0.0  72.948  "
      ]
     },
     "execution_count": 35,
     "metadata": {},
     "output_type": "execute_result"
    }
   ],
   "source": [
    "df.tail(2)"
   ]
  },
  {
   "cell_type": "markdown",
   "metadata": {},
   "source": [
    "## sample()?\n",
    "Returns randomly selected rows from dataframe."
   ]
  },
  {
   "cell_type": "code",
   "execution_count": null,
   "metadata": {},
   "outputs": [
    {
     "data": {
      "text/html": [
       "<div>\n",
       "<style scoped>\n",
       "    .dataframe tbody tr th:only-of-type {\n",
       "        vertical-align: middle;\n",
       "    }\n",
       "\n",
       "    .dataframe tbody tr th {\n",
       "        vertical-align: top;\n",
       "    }\n",
       "\n",
       "    .dataframe thead th {\n",
       "        text-align: right;\n",
       "    }\n",
       "</style>\n",
       "<table border=\"1\" class=\"dataframe\">\n",
       "  <thead>\n",
       "    <tr style=\"text-align: right;\">\n",
       "      <th></th>\n",
       "      <th>Row ID</th>\n",
       "      <th>Order ID</th>\n",
       "      <th>Order Date</th>\n",
       "      <th>Ship Date</th>\n",
       "      <th>Ship Mode</th>\n",
       "      <th>Customer ID</th>\n",
       "      <th>Customer Name</th>\n",
       "      <th>Segment</th>\n",
       "      <th>City</th>\n",
       "      <th>State</th>\n",
       "      <th>Postal Code</th>\n",
       "      <th>Region</th>\n",
       "      <th>Product ID</th>\n",
       "      <th>Category</th>\n",
       "      <th>Sub-Category</th>\n",
       "      <th>Product Name</th>\n",
       "      <th>Sales</th>\n",
       "      <th>Quantity</th>\n",
       "      <th>Discount</th>\n",
       "      <th>Profit</th>\n",
       "    </tr>\n",
       "  </thead>\n",
       "  <tbody>\n",
       "    <tr>\n",
       "      <th>9098</th>\n",
       "      <td>9099</td>\n",
       "      <td>CA-2018-152933</td>\n",
       "      <td>2018-10-12</td>\n",
       "      <td>2018-10-16</td>\n",
       "      <td>Standard Class</td>\n",
       "      <td>MG-17650</td>\n",
       "      <td>Matthew Grinstein</td>\n",
       "      <td>Home Office</td>\n",
       "      <td>Dallas</td>\n",
       "      <td>Texas</td>\n",
       "      <td>75081.0</td>\n",
       "      <td>Central</td>\n",
       "      <td>TEC-PH-10002085</td>\n",
       "      <td>Technology</td>\n",
       "      <td>Phones</td>\n",
       "      <td>Clarity 53712</td>\n",
       "      <td>369.544</td>\n",
       "      <td>7</td>\n",
       "      <td>0.2</td>\n",
       "      <td>27.7158</td>\n",
       "    </tr>\n",
       "    <tr>\n",
       "      <th>6023</th>\n",
       "      <td>6024</td>\n",
       "      <td>US-2018-128832</td>\n",
       "      <td>2018-04-24</td>\n",
       "      <td>2018-04-27</td>\n",
       "      <td>First Class</td>\n",
       "      <td>LS-16945</td>\n",
       "      <td>Linda Southworth</td>\n",
       "      <td>Corporate</td>\n",
       "      <td>Providence</td>\n",
       "      <td>Rhode Island</td>\n",
       "      <td>2908.0</td>\n",
       "      <td>East</td>\n",
       "      <td>TEC-AC-10004855</td>\n",
       "      <td>Technology</td>\n",
       "      <td>Accessories</td>\n",
       "      <td>V7 USB Numeric Keypad</td>\n",
       "      <td>69.980</td>\n",
       "      <td>2</td>\n",
       "      <td>0.0</td>\n",
       "      <td>4.8986</td>\n",
       "    </tr>\n",
       "  </tbody>\n",
       "</table>\n",
       "</div>"
      ],
      "text/plain": [
       "      Row ID        Order ID Order Date  Ship Date       Ship Mode  \\\n",
       "9098    9099  CA-2018-152933 2018-10-12 2018-10-16  Standard Class   \n",
       "6023    6024  US-2018-128832 2018-04-24 2018-04-27     First Class   \n",
       "\n",
       "     Customer ID      Customer Name      Segment        City         State  \\\n",
       "9098    MG-17650  Matthew Grinstein  Home Office      Dallas         Texas   \n",
       "6023    LS-16945   Linda Southworth    Corporate  Providence  Rhode Island   \n",
       "\n",
       "      Postal Code   Region       Product ID    Category Sub-Category  \\\n",
       "9098      75081.0  Central  TEC-PH-10002085  Technology       Phones   \n",
       "6023       2908.0     East  TEC-AC-10004855  Technology  Accessories   \n",
       "\n",
       "               Product Name    Sales  Quantity  Discount   Profit  \n",
       "9098          Clarity 53712  369.544         7       0.2  27.7158  \n",
       "6023  V7 USB Numeric Keypad   69.980         2       0.0   4.8986  "
      ]
     },
     "execution_count": 36,
     "metadata": {},
     "output_type": "execute_result"
    }
   ],
   "source": [
    "df.sample(2)"
   ]
  },
  {
   "cell_type": "markdown",
   "metadata": {},
   "source": [
    "## info()?\n",
    "> always count non-values properly"
   ]
  },
  {
   "cell_type": "code",
   "execution_count": null,
   "metadata": {},
   "outputs": [
    {
     "name": "stdout",
     "output_type": "stream",
     "text": [
      "<class 'pandas.core.frame.DataFrame'>\n",
      "RangeIndex: 9994 entries, 0 to 9993\n",
      "Data columns (total 20 columns):\n",
      " #   Column         Non-Null Count  Dtype         \n",
      "---  ------         --------------  -----         \n",
      " 0   Row ID         9994 non-null   int64         \n",
      " 1   Order ID       9994 non-null   object        \n",
      " 2   Order Date     9994 non-null   datetime64[ns]\n",
      " 3   Ship Date      9994 non-null   datetime64[ns]\n",
      " 4   Ship Mode      9994 non-null   object        \n",
      " 5   Customer ID    9994 non-null   object        \n",
      " 6   Customer Name  9994 non-null   object        \n",
      " 7   Segment        9994 non-null   object        \n",
      " 8   City           9994 non-null   object        \n",
      " 9   State          9994 non-null   object        \n",
      " 10  Postal Code    9983 non-null   float64       \n",
      " 11  Region         9994 non-null   object        \n",
      " 12  Product ID     9994 non-null   object        \n",
      " 13  Category       9994 non-null   object        \n",
      " 14  Sub-Category   9994 non-null   object        \n",
      " 15  Product Name   9994 non-null   object        \n",
      " 16  Sales          9994 non-null   float64       \n",
      " 17  Quantity       9994 non-null   int64         \n",
      " 18  Discount       9994 non-null   float64       \n",
      " 19  Profit         9994 non-null   float64       \n",
      "dtypes: datetime64[ns](2), float64(4), int64(2), object(12)\n",
      "memory usage: 1.5+ MB\n"
     ]
    }
   ],
   "source": [
    "df.info()"
   ]
  },
  {
   "cell_type": "markdown",
   "metadata": {},
   "source": [
    "## isna()? \n",
    "to find na values column wise"
   ]
  },
  {
   "cell_type": "code",
   "execution_count": null,
   "metadata": {},
   "outputs": [
    {
     "data": {
      "text/html": [
       "<div>\n",
       "<style scoped>\n",
       "    .dataframe tbody tr th:only-of-type {\n",
       "        vertical-align: middle;\n",
       "    }\n",
       "\n",
       "    .dataframe tbody tr th {\n",
       "        vertical-align: top;\n",
       "    }\n",
       "\n",
       "    .dataframe thead th {\n",
       "        text-align: right;\n",
       "    }\n",
       "</style>\n",
       "<table border=\"1\" class=\"dataframe\">\n",
       "  <thead>\n",
       "    <tr style=\"text-align: right;\">\n",
       "      <th></th>\n",
       "      <th>Row ID</th>\n",
       "      <th>Order ID</th>\n",
       "      <th>Order Date</th>\n",
       "      <th>Ship Date</th>\n",
       "      <th>Ship Mode</th>\n",
       "      <th>Customer ID</th>\n",
       "      <th>Customer Name</th>\n",
       "      <th>Segment</th>\n",
       "      <th>City</th>\n",
       "      <th>State</th>\n",
       "      <th>Postal Code</th>\n",
       "      <th>Region</th>\n",
       "      <th>Product ID</th>\n",
       "      <th>Category</th>\n",
       "      <th>Sub-Category</th>\n",
       "      <th>Product Name</th>\n",
       "      <th>Sales</th>\n",
       "      <th>Quantity</th>\n",
       "      <th>Discount</th>\n",
       "      <th>Profit</th>\n",
       "    </tr>\n",
       "  </thead>\n",
       "  <tbody>\n",
       "    <tr>\n",
       "      <th>0</th>\n",
       "      <td>False</td>\n",
       "      <td>False</td>\n",
       "      <td>False</td>\n",
       "      <td>False</td>\n",
       "      <td>False</td>\n",
       "      <td>False</td>\n",
       "      <td>False</td>\n",
       "      <td>False</td>\n",
       "      <td>False</td>\n",
       "      <td>False</td>\n",
       "      <td>False</td>\n",
       "      <td>False</td>\n",
       "      <td>False</td>\n",
       "      <td>False</td>\n",
       "      <td>False</td>\n",
       "      <td>False</td>\n",
       "      <td>False</td>\n",
       "      <td>False</td>\n",
       "      <td>False</td>\n",
       "      <td>False</td>\n",
       "    </tr>\n",
       "    <tr>\n",
       "      <th>1</th>\n",
       "      <td>False</td>\n",
       "      <td>False</td>\n",
       "      <td>False</td>\n",
       "      <td>False</td>\n",
       "      <td>False</td>\n",
       "      <td>False</td>\n",
       "      <td>False</td>\n",
       "      <td>False</td>\n",
       "      <td>False</td>\n",
       "      <td>False</td>\n",
       "      <td>False</td>\n",
       "      <td>False</td>\n",
       "      <td>False</td>\n",
       "      <td>False</td>\n",
       "      <td>False</td>\n",
       "      <td>False</td>\n",
       "      <td>False</td>\n",
       "      <td>False</td>\n",
       "      <td>False</td>\n",
       "      <td>False</td>\n",
       "    </tr>\n",
       "    <tr>\n",
       "      <th>2</th>\n",
       "      <td>False</td>\n",
       "      <td>False</td>\n",
       "      <td>False</td>\n",
       "      <td>False</td>\n",
       "      <td>False</td>\n",
       "      <td>False</td>\n",
       "      <td>False</td>\n",
       "      <td>False</td>\n",
       "      <td>False</td>\n",
       "      <td>False</td>\n",
       "      <td>False</td>\n",
       "      <td>False</td>\n",
       "      <td>False</td>\n",
       "      <td>False</td>\n",
       "      <td>False</td>\n",
       "      <td>False</td>\n",
       "      <td>False</td>\n",
       "      <td>False</td>\n",
       "      <td>False</td>\n",
       "      <td>False</td>\n",
       "    </tr>\n",
       "    <tr>\n",
       "      <th>3</th>\n",
       "      <td>False</td>\n",
       "      <td>False</td>\n",
       "      <td>False</td>\n",
       "      <td>False</td>\n",
       "      <td>False</td>\n",
       "      <td>False</td>\n",
       "      <td>False</td>\n",
       "      <td>False</td>\n",
       "      <td>False</td>\n",
       "      <td>False</td>\n",
       "      <td>False</td>\n",
       "      <td>False</td>\n",
       "      <td>False</td>\n",
       "      <td>False</td>\n",
       "      <td>False</td>\n",
       "      <td>False</td>\n",
       "      <td>False</td>\n",
       "      <td>False</td>\n",
       "      <td>False</td>\n",
       "      <td>False</td>\n",
       "    </tr>\n",
       "    <tr>\n",
       "      <th>4</th>\n",
       "      <td>False</td>\n",
       "      <td>False</td>\n",
       "      <td>False</td>\n",
       "      <td>False</td>\n",
       "      <td>False</td>\n",
       "      <td>False</td>\n",
       "      <td>False</td>\n",
       "      <td>False</td>\n",
       "      <td>False</td>\n",
       "      <td>False</td>\n",
       "      <td>False</td>\n",
       "      <td>False</td>\n",
       "      <td>False</td>\n",
       "      <td>False</td>\n",
       "      <td>False</td>\n",
       "      <td>False</td>\n",
       "      <td>False</td>\n",
       "      <td>False</td>\n",
       "      <td>False</td>\n",
       "      <td>False</td>\n",
       "    </tr>\n",
       "    <tr>\n",
       "      <th>...</th>\n",
       "      <td>...</td>\n",
       "      <td>...</td>\n",
       "      <td>...</td>\n",
       "      <td>...</td>\n",
       "      <td>...</td>\n",
       "      <td>...</td>\n",
       "      <td>...</td>\n",
       "      <td>...</td>\n",
       "      <td>...</td>\n",
       "      <td>...</td>\n",
       "      <td>...</td>\n",
       "      <td>...</td>\n",
       "      <td>...</td>\n",
       "      <td>...</td>\n",
       "      <td>...</td>\n",
       "      <td>...</td>\n",
       "      <td>...</td>\n",
       "      <td>...</td>\n",
       "      <td>...</td>\n",
       "      <td>...</td>\n",
       "    </tr>\n",
       "    <tr>\n",
       "      <th>9989</th>\n",
       "      <td>False</td>\n",
       "      <td>False</td>\n",
       "      <td>False</td>\n",
       "      <td>False</td>\n",
       "      <td>False</td>\n",
       "      <td>False</td>\n",
       "      <td>False</td>\n",
       "      <td>False</td>\n",
       "      <td>False</td>\n",
       "      <td>False</td>\n",
       "      <td>False</td>\n",
       "      <td>False</td>\n",
       "      <td>False</td>\n",
       "      <td>False</td>\n",
       "      <td>False</td>\n",
       "      <td>False</td>\n",
       "      <td>False</td>\n",
       "      <td>False</td>\n",
       "      <td>False</td>\n",
       "      <td>False</td>\n",
       "    </tr>\n",
       "    <tr>\n",
       "      <th>9990</th>\n",
       "      <td>False</td>\n",
       "      <td>False</td>\n",
       "      <td>False</td>\n",
       "      <td>False</td>\n",
       "      <td>False</td>\n",
       "      <td>False</td>\n",
       "      <td>False</td>\n",
       "      <td>False</td>\n",
       "      <td>False</td>\n",
       "      <td>False</td>\n",
       "      <td>False</td>\n",
       "      <td>False</td>\n",
       "      <td>False</td>\n",
       "      <td>False</td>\n",
       "      <td>False</td>\n",
       "      <td>False</td>\n",
       "      <td>False</td>\n",
       "      <td>False</td>\n",
       "      <td>False</td>\n",
       "      <td>False</td>\n",
       "    </tr>\n",
       "    <tr>\n",
       "      <th>9991</th>\n",
       "      <td>False</td>\n",
       "      <td>False</td>\n",
       "      <td>False</td>\n",
       "      <td>False</td>\n",
       "      <td>False</td>\n",
       "      <td>False</td>\n",
       "      <td>False</td>\n",
       "      <td>False</td>\n",
       "      <td>False</td>\n",
       "      <td>False</td>\n",
       "      <td>False</td>\n",
       "      <td>False</td>\n",
       "      <td>False</td>\n",
       "      <td>False</td>\n",
       "      <td>False</td>\n",
       "      <td>False</td>\n",
       "      <td>False</td>\n",
       "      <td>False</td>\n",
       "      <td>False</td>\n",
       "      <td>False</td>\n",
       "    </tr>\n",
       "    <tr>\n",
       "      <th>9992</th>\n",
       "      <td>False</td>\n",
       "      <td>False</td>\n",
       "      <td>False</td>\n",
       "      <td>False</td>\n",
       "      <td>False</td>\n",
       "      <td>False</td>\n",
       "      <td>False</td>\n",
       "      <td>False</td>\n",
       "      <td>False</td>\n",
       "      <td>False</td>\n",
       "      <td>False</td>\n",
       "      <td>False</td>\n",
       "      <td>False</td>\n",
       "      <td>False</td>\n",
       "      <td>False</td>\n",
       "      <td>False</td>\n",
       "      <td>False</td>\n",
       "      <td>False</td>\n",
       "      <td>False</td>\n",
       "      <td>False</td>\n",
       "    </tr>\n",
       "    <tr>\n",
       "      <th>9993</th>\n",
       "      <td>False</td>\n",
       "      <td>False</td>\n",
       "      <td>False</td>\n",
       "      <td>False</td>\n",
       "      <td>False</td>\n",
       "      <td>False</td>\n",
       "      <td>False</td>\n",
       "      <td>False</td>\n",
       "      <td>False</td>\n",
       "      <td>False</td>\n",
       "      <td>False</td>\n",
       "      <td>False</td>\n",
       "      <td>False</td>\n",
       "      <td>False</td>\n",
       "      <td>False</td>\n",
       "      <td>False</td>\n",
       "      <td>False</td>\n",
       "      <td>False</td>\n",
       "      <td>False</td>\n",
       "      <td>False</td>\n",
       "    </tr>\n",
       "  </tbody>\n",
       "</table>\n",
       "<p>9994 rows × 20 columns</p>\n",
       "</div>"
      ],
      "text/plain": [
       "      Row ID  Order ID  Order Date  Ship Date  Ship Mode  Customer ID  \\\n",
       "0      False     False       False      False      False        False   \n",
       "1      False     False       False      False      False        False   \n",
       "2      False     False       False      False      False        False   \n",
       "3      False     False       False      False      False        False   \n",
       "4      False     False       False      False      False        False   \n",
       "...      ...       ...         ...        ...        ...          ...   \n",
       "9989   False     False       False      False      False        False   \n",
       "9990   False     False       False      False      False        False   \n",
       "9991   False     False       False      False      False        False   \n",
       "9992   False     False       False      False      False        False   \n",
       "9993   False     False       False      False      False        False   \n",
       "\n",
       "      Customer Name  Segment   City  State  Postal Code  Region  Product ID  \\\n",
       "0             False    False  False  False        False   False       False   \n",
       "1             False    False  False  False        False   False       False   \n",
       "2             False    False  False  False        False   False       False   \n",
       "3             False    False  False  False        False   False       False   \n",
       "4             False    False  False  False        False   False       False   \n",
       "...             ...      ...    ...    ...          ...     ...         ...   \n",
       "9989          False    False  False  False        False   False       False   \n",
       "9990          False    False  False  False        False   False       False   \n",
       "9991          False    False  False  False        False   False       False   \n",
       "9992          False    False  False  False        False   False       False   \n",
       "9993          False    False  False  False        False   False       False   \n",
       "\n",
       "      Category  Sub-Category  Product Name  Sales  Quantity  Discount  Profit  \n",
       "0        False         False         False  False     False     False   False  \n",
       "1        False         False         False  False     False     False   False  \n",
       "2        False         False         False  False     False     False   False  \n",
       "3        False         False         False  False     False     False   False  \n",
       "4        False         False         False  False     False     False   False  \n",
       "...        ...           ...           ...    ...       ...       ...     ...  \n",
       "9989     False         False         False  False     False     False   False  \n",
       "9990     False         False         False  False     False     False   False  \n",
       "9991     False         False         False  False     False     False   False  \n",
       "9992     False         False         False  False     False     False   False  \n",
       "9993     False         False         False  False     False     False   False  \n",
       "\n",
       "[9994 rows x 20 columns]"
      ]
     },
     "execution_count": 38,
     "metadata": {},
     "output_type": "execute_result"
    }
   ],
   "source": [
    "df.isna()"
   ]
  },
  {
   "cell_type": "markdown",
   "metadata": {},
   "source": [
    "sum of all the 'na' values in columns"
   ]
  },
  {
   "cell_type": "code",
   "execution_count": null,
   "metadata": {},
   "outputs": [
    {
     "data": {
      "text/plain": [
       "Row ID            0\n",
       "Order ID          0\n",
       "Order Date        0\n",
       "Ship Date         0\n",
       "Ship Mode         0\n",
       "Customer ID       0\n",
       "Customer Name     0\n",
       "Segment           0\n",
       "City              0\n",
       "State             0\n",
       "Postal Code      11\n",
       "Region            0\n",
       "Product ID        0\n",
       "Category          0\n",
       "Sub-Category      0\n",
       "Product Name      0\n",
       "Sales             0\n",
       "Quantity          0\n",
       "Discount          0\n",
       "Profit            0\n",
       "dtype: int64"
      ]
     },
     "execution_count": 39,
     "metadata": {},
     "output_type": "execute_result"
    }
   ],
   "source": [
    "df.isna().sum()"
   ]
  },
  {
   "cell_type": "markdown",
   "metadata": {},
   "source": [
    "## dropna()?\n",
    "Used to drop rows with \"na\" values\n",
    "- ---------- study it's parameters \n",
    "\n"
   ]
  },
  {
   "cell_type": "code",
   "execution_count": 83,
   "metadata": {},
   "outputs": [
    {
     "data": {
      "text/html": [
       "<div>\n",
       "<style scoped>\n",
       "    .dataframe tbody tr th:only-of-type {\n",
       "        vertical-align: middle;\n",
       "    }\n",
       "\n",
       "    .dataframe tbody tr th {\n",
       "        vertical-align: top;\n",
       "    }\n",
       "\n",
       "    .dataframe thead th {\n",
       "        text-align: right;\n",
       "    }\n",
       "</style>\n",
       "<table border=\"1\" class=\"dataframe\">\n",
       "  <thead>\n",
       "    <tr style=\"text-align: right;\">\n",
       "      <th></th>\n",
       "      <th>Row ID</th>\n",
       "      <th>Order ID</th>\n",
       "      <th>Order Date</th>\n",
       "      <th>Ship Date</th>\n",
       "      <th>Ship Mode</th>\n",
       "      <th>Customer ID</th>\n",
       "      <th>Customer Name</th>\n",
       "      <th>Segment</th>\n",
       "      <th>City</th>\n",
       "      <th>State</th>\n",
       "      <th>Postal Code</th>\n",
       "      <th>Region</th>\n",
       "      <th>Product ID</th>\n",
       "      <th>Category</th>\n",
       "      <th>Sub-Category</th>\n",
       "      <th>Product Name</th>\n",
       "      <th>Sales</th>\n",
       "      <th>Quantity</th>\n",
       "      <th>Discount</th>\n",
       "      <th>Profit</th>\n",
       "    </tr>\n",
       "  </thead>\n",
       "  <tbody>\n",
       "    <tr>\n",
       "      <th>0</th>\n",
       "      <td>1</td>\n",
       "      <td>CA-2017-152156</td>\n",
       "      <td>2017-11-08</td>\n",
       "      <td>2017-11-11</td>\n",
       "      <td>Second Class</td>\n",
       "      <td>CG-12520</td>\n",
       "      <td>Claire Gute</td>\n",
       "      <td>Consumer</td>\n",
       "      <td>Henderson</td>\n",
       "      <td>Kentucky</td>\n",
       "      <td>42420.0</td>\n",
       "      <td>South</td>\n",
       "      <td>FUR-BO-10001798</td>\n",
       "      <td>Furniture</td>\n",
       "      <td>Bookcases</td>\n",
       "      <td>Bush Somerset Collection Bookcase</td>\n",
       "      <td>261.96</td>\n",
       "      <td>2</td>\n",
       "      <td>0.0</td>\n",
       "      <td>41.9136</td>\n",
       "    </tr>\n",
       "    <tr>\n",
       "      <th>1</th>\n",
       "      <td>2</td>\n",
       "      <td>CA-2017-152156</td>\n",
       "      <td>2017-11-08</td>\n",
       "      <td>2017-11-11</td>\n",
       "      <td>Second Class</td>\n",
       "      <td>CG-12520</td>\n",
       "      <td>Claire Gute</td>\n",
       "      <td>Consumer</td>\n",
       "      <td>Henderson</td>\n",
       "      <td>Kentucky</td>\n",
       "      <td>42420.0</td>\n",
       "      <td>South</td>\n",
       "      <td>FUR-CH-10000454</td>\n",
       "      <td>Furniture</td>\n",
       "      <td>Chairs</td>\n",
       "      <td>Hon Deluxe Fabric Upholstered Stacking Chairs,...</td>\n",
       "      <td>731.94</td>\n",
       "      <td>3</td>\n",
       "      <td>0.0</td>\n",
       "      <td>219.5820</td>\n",
       "    </tr>\n",
       "  </tbody>\n",
       "</table>\n",
       "</div>"
      ],
      "text/plain": [
       "   Row ID        Order ID Order Date  Ship Date     Ship Mode Customer ID  \\\n",
       "0       1  CA-2017-152156 2017-11-08 2017-11-11  Second Class    CG-12520   \n",
       "1       2  CA-2017-152156 2017-11-08 2017-11-11  Second Class    CG-12520   \n",
       "\n",
       "  Customer Name   Segment       City     State  Postal Code Region  \\\n",
       "0   Claire Gute  Consumer  Henderson  Kentucky      42420.0  South   \n",
       "1   Claire Gute  Consumer  Henderson  Kentucky      42420.0  South   \n",
       "\n",
       "        Product ID   Category Sub-Category  \\\n",
       "0  FUR-BO-10001798  Furniture    Bookcases   \n",
       "1  FUR-CH-10000454  Furniture       Chairs   \n",
       "\n",
       "                                        Product Name   Sales  Quantity  \\\n",
       "0                  Bush Somerset Collection Bookcase  261.96         2   \n",
       "1  Hon Deluxe Fabric Upholstered Stacking Chairs,...  731.94         3   \n",
       "\n",
       "   Discount    Profit  \n",
       "0       0.0   41.9136  \n",
       "1       0.0  219.5820  "
      ]
     },
     "execution_count": 83,
     "metadata": {},
     "output_type": "execute_result"
    }
   ],
   "source": [
    "df.dropna()\n",
    "df.head(2)"
   ]
  },
  {
   "cell_type": "markdown",
   "metadata": {},
   "source": []
  },
  {
   "cell_type": "code",
   "execution_count": null,
   "metadata": {},
   "outputs": [
    {
     "data": {
      "text/html": [
       "<div>\n",
       "<style scoped>\n",
       "    .dataframe tbody tr th:only-of-type {\n",
       "        vertical-align: middle;\n",
       "    }\n",
       "\n",
       "    .dataframe tbody tr th {\n",
       "        vertical-align: top;\n",
       "    }\n",
       "\n",
       "    .dataframe thead th {\n",
       "        text-align: right;\n",
       "    }\n",
       "</style>\n",
       "<table border=\"1\" class=\"dataframe\">\n",
       "  <thead>\n",
       "    <tr style=\"text-align: right;\">\n",
       "      <th></th>\n",
       "      <th>Row ID</th>\n",
       "      <th>Order ID</th>\n",
       "      <th>Order Date</th>\n",
       "      <th>Ship Date</th>\n",
       "      <th>Ship Mode</th>\n",
       "      <th>Customer ID</th>\n",
       "      <th>Customer Name</th>\n",
       "      <th>Segment</th>\n",
       "      <th>City</th>\n",
       "      <th>State</th>\n",
       "      <th>Postal Code</th>\n",
       "      <th>Region</th>\n",
       "      <th>Product ID</th>\n",
       "      <th>Category</th>\n",
       "      <th>Sub-Category</th>\n",
       "      <th>Product Name</th>\n",
       "      <th>Sales</th>\n",
       "      <th>Quantity</th>\n",
       "      <th>Discount</th>\n",
       "      <th>Profit</th>\n",
       "    </tr>\n",
       "  </thead>\n",
       "  <tbody>\n",
       "    <tr>\n",
       "      <th>0</th>\n",
       "      <td>1</td>\n",
       "      <td>CA-2017-152156</td>\n",
       "      <td>2017-11-08</td>\n",
       "      <td>2017-11-11</td>\n",
       "      <td>Second Class</td>\n",
       "      <td>CG-12520</td>\n",
       "      <td>Claire Gute</td>\n",
       "      <td>Consumer</td>\n",
       "      <td>Henderson</td>\n",
       "      <td>Kentucky</td>\n",
       "      <td>42420.0</td>\n",
       "      <td>South</td>\n",
       "      <td>FUR-BO-10001798</td>\n",
       "      <td>Furniture</td>\n",
       "      <td>Bookcases</td>\n",
       "      <td>Bush Somerset Collection Bookcase</td>\n",
       "      <td>261.96</td>\n",
       "      <td>2</td>\n",
       "      <td>0.0</td>\n",
       "      <td>41.9136</td>\n",
       "    </tr>\n",
       "    <tr>\n",
       "      <th>1</th>\n",
       "      <td>2</td>\n",
       "      <td>CA-2017-152156</td>\n",
       "      <td>2017-11-08</td>\n",
       "      <td>2017-11-11</td>\n",
       "      <td>Second Class</td>\n",
       "      <td>CG-12520</td>\n",
       "      <td>Claire Gute</td>\n",
       "      <td>Consumer</td>\n",
       "      <td>Henderson</td>\n",
       "      <td>Kentucky</td>\n",
       "      <td>42420.0</td>\n",
       "      <td>South</td>\n",
       "      <td>FUR-CH-10000454</td>\n",
       "      <td>Furniture</td>\n",
       "      <td>Chairs</td>\n",
       "      <td>Hon Deluxe Fabric Upholstered Stacking Chairs,...</td>\n",
       "      <td>731.94</td>\n",
       "      <td>3</td>\n",
       "      <td>0.0</td>\n",
       "      <td>219.5820</td>\n",
       "    </tr>\n",
       "  </tbody>\n",
       "</table>\n",
       "</div>"
      ],
      "text/plain": [
       "   Row ID        Order ID Order Date  Ship Date     Ship Mode Customer ID  \\\n",
       "0       1  CA-2017-152156 2017-11-08 2017-11-11  Second Class    CG-12520   \n",
       "1       2  CA-2017-152156 2017-11-08 2017-11-11  Second Class    CG-12520   \n",
       "\n",
       "  Customer Name   Segment       City     State  Postal Code Region  \\\n",
       "0   Claire Gute  Consumer  Henderson  Kentucky      42420.0  South   \n",
       "1   Claire Gute  Consumer  Henderson  Kentucky      42420.0  South   \n",
       "\n",
       "        Product ID   Category Sub-Category  \\\n",
       "0  FUR-BO-10001798  Furniture    Bookcases   \n",
       "1  FUR-CH-10000454  Furniture       Chairs   \n",
       "\n",
       "                                        Product Name   Sales  Quantity  \\\n",
       "0                  Bush Somerset Collection Bookcase  261.96         2   \n",
       "1  Hon Deluxe Fabric Upholstered Stacking Chairs,...  731.94         3   \n",
       "\n",
       "   Discount    Profit  \n",
       "0       0.0   41.9136  \n",
       "1       0.0  219.5820  "
      ]
     },
     "execution_count": 42,
     "metadata": {},
     "output_type": "execute_result"
    }
   ],
   "source": [
    "df.dropna(inplace=True)\n",
    "df.head(2)"
   ]
  },
  {
   "cell_type": "markdown",
   "metadata": {},
   "source": [
    "## duplicated()\n",
    "to find duplicated values"
   ]
  },
  {
   "cell_type": "code",
   "execution_count": null,
   "metadata": {},
   "outputs": [],
   "source": [
    "df.duplicated()"
   ]
  },
  {
   "cell_type": "code",
   "execution_count": null,
   "metadata": {},
   "outputs": [],
   "source": [
    "df.duplicated().sum()"
   ]
  },
  {
   "cell_type": "markdown",
   "metadata": {},
   "source": [
    "## drop()?\n",
    "drop column\n"
   ]
  },
  {
   "cell_type": "code",
   "execution_count": null,
   "metadata": {},
   "outputs": [],
   "source": [
    "# if one of the columns is to be droped just provide column name in \"\"\n",
    "# if more than 1 column to be droped provide column name in list as shown below\n",
    "# axis =1 means that we as droping column\n",
    "# axis = 0 means we droping rows\n",
    "# inplace = True \n",
    "df.drop(['Row ID', 'Order ID', 'Customer ID', 'Product ID'], axis=1, inplace= True)"
   ]
  },
  {
   "cell_type": "markdown",
   "metadata": {},
   "source": [
    "> once we use toggle **inplace = True** then it will not revert back the changes are committed to the df\n",
    "\n",
    "> **axis = 1** (column wise)    <br>    **axis = 0** (row wise)\n",
    "\n",
    "> 1 or more in all cases give column names in **list** to **drop** them"
   ]
  },
  {
   "cell_type": "code",
   "execution_count": null,
   "metadata": {},
   "outputs": [],
   "source": [
    "df.head()"
   ]
  },
  {
   "cell_type": "markdown",
   "metadata": {},
   "source": [
    "## taking out single column from df?\n",
    "it let's us apply methods we could apply on a series"
   ]
  },
  {
   "cell_type": "code",
   "execution_count": null,
   "metadata": {},
   "outputs": [
    {
     "data": {
      "text/plain": [
       "0            Claire Gute\n",
       "1            Claire Gute\n",
       "2        Darrin Van Huff\n",
       "3         Sean O'Donnell\n",
       "4         Sean O'Donnell\n",
       "              ...       \n",
       "9989    Tom Boeckenhauer\n",
       "9990         Dave Brooks\n",
       "9991         Dave Brooks\n",
       "9992         Dave Brooks\n",
       "9993        Chris Cortes\n",
       "Name: Customer Name, Length: 9983, dtype: object"
      ]
     },
     "execution_count": 43,
     "metadata": {},
     "output_type": "execute_result"
    }
   ],
   "source": [
    "df[\"Customer Name\"]"
   ]
  },
  {
   "cell_type": "code",
   "execution_count": null,
   "metadata": {},
   "outputs": [
    {
     "data": {
      "text/plain": [
       "pandas.core.series.Series"
      ]
     },
     "execution_count": 44,
     "metadata": {},
     "output_type": "execute_result"
    }
   ],
   "source": [
    "# as u may remember single column in df is Series\n",
    "type(df[\"Customer Name\"]) "
   ]
  },
  {
   "cell_type": "markdown",
   "metadata": {},
   "source": [
    "important operation on df"
   ]
  },
  {
   "cell_type": "markdown",
   "metadata": {},
   "source": [
    "## How to find only unique values?"
   ]
  },
  {
   "cell_type": "markdown",
   "metadata": {},
   "source": [
    "How many unique unique custumer names are there? "
   ]
  },
  {
   "cell_type": "code",
   "execution_count": null,
   "metadata": {},
   "outputs": [
    {
     "data": {
      "text/plain": [
       "array(['Claire Gute', 'Darrin Van Huff', \"Sean O'Donnell\",\n",
       "       'Brosina Hoffman', 'Andrew Allen', 'Irene Maddox', 'Harold Pawlan',\n",
       "       'Pete Kriz', 'Alejandro Grove', 'Zuschuss Donatelli', 'Ken Black',\n",
       "       'Sandra Flanagan', 'Emily Burns', 'Eric Hoffmann',\n",
       "       'Tracy Blumstein', 'Matt Abelman', 'Gene Hale', 'Steve Nguyen',\n",
       "       'Linda Cazamias', 'Ruben Ausman', 'Erin Smith', 'Odella Nelson',\n",
       "       \"Patrick O'Donnell\", 'Lena Hernandez', 'Darren Powers',\n",
       "       'Janet Molinari', 'Ted Butterfield', 'Kunst Miller',\n",
       "       'Paul Stevenson', 'Brendan Sweed', 'Karen Daniels',\n",
       "       'Henry MacAllister', 'Joel Eaton', 'Ken Brennan',\n",
       "       'Stewart Carmichael', 'Duane Noonan', 'Julie Creighton',\n",
       "       'Christopher Schild', 'Paul Gonzalez', 'Gary Mitchum', 'Jim Sink',\n",
       "       'Karl Braun', 'Roger Barcio', 'Parhena Norris', 'Katherine Ducich',\n",
       "       'Elpida Rittenbach', 'Rick Bensley', 'Gary Zandusky',\n",
       "       'Lena Cacioppo', 'Janet Martin', 'Pete Armstrong', 'Cynthia Voltz',\n",
       "       'Clay Ludtke', 'Ryan Crowe', 'Dave Kipp', 'Greg Guthrie',\n",
       "       'Steven Cartwright', 'Alan Dominguez', 'Philip Fox',\n",
       "       'Troy Staebel', 'Lindsay Shagiari', 'Dorothy Wardle',\n",
       "       'Lena Creighton', 'Jonathan Doherty', 'Sally Hughsby',\n",
       "       'Sandra Glassco', 'Helen Andreada', 'Maureen Gastineau',\n",
       "       'Justin Ellison', 'Tamara Willingham', 'Stephanie Phelps',\n",
       "       'Neil Knudson', 'Dave Brooks', 'Nora Paige', 'Ted Trevino',\n",
       "       'Eric Murdock', 'Ruben Dartt', 'Max Jones', 'Becky Martin',\n",
       "       'Chad Sievert', 'Jennifer Braxton', 'Shirley Jackson', 'Jim Kriz',\n",
       "       'David Kendrick', 'Robert Marley', 'Sally Knutson', 'Frank Merwin',\n",
       "       'Alice McCarthy', 'Mark Packer', 'Mary Zewe', 'Cassandra Brandow',\n",
       "       'Valerie Mitchum', 'Fred Hopkins', 'Maria Bertelson',\n",
       "       'Bruce Stewart', 'Logan Currie', 'Heather Kirkland',\n",
       "       'Laurel Elliston', 'Joseph Holt', 'Michael Stewart',\n",
       "       'Victoria Wilson', 'Jonathan Howell', 'Joni Blumstein',\n",
       "       'David Smith', 'Valerie Dominguez', 'Erin Ashbrook',\n",
       "       'David Bremer', 'Ken Lonsdale', 'Dianna Wilson',\n",
       "       'Logan Haushalter', 'Kelly Collister', 'Delfina Latchford',\n",
       "       'Dan Reichenbach', 'Craig Carreira', 'Dorris liebe',\n",
       "       'Sean Braxton', 'Roy Collins', 'Alan Hwang', 'Claudia Bergmann',\n",
       "       'Christine Abelman', 'Kristen Hastings', 'Barry Blumstein',\n",
       "       'Andrew Gjertsen', \"Jas O'Carroll\", 'Alan Haines', 'Nick Zandusky',\n",
       "       'Kelly Lampkin', 'Alan Schoenberger', 'Corey Roper',\n",
       "       'Shahid Hopkins', 'Ben Peterman', 'Thomas Seio', 'Andy Gerbode',\n",
       "       'Sung Pak', 'Nathan Mautz', 'Frank Atkinson', 'Grace Kelly',\n",
       "       'Don Jones', \"Patrick O'Brill\", 'John Lucas', 'Doug Bickford',\n",
       "       'Alyssa Crouse', 'Clay Cheatham', 'Tamara Dahlen',\n",
       "       'Adam Bellavance', 'Jeremy Lonsdale', 'Victoria Brennan',\n",
       "       'Katrina Willman', 'Julia Dunbar', 'Michael Kennedy',\n",
       "       'Guy Thornton', 'Arthur Gainer', 'Muhammed MacIntyre',\n",
       "       'Allen Rosenblatt', 'Russell Applegate', 'Alejandro Savely',\n",
       "       'Laura Armstrong', 'Denny Ordway', 'Dean Katz', 'Nathan Gelder',\n",
       "       'Mike Vittorini', 'Jack Garza', 'Bart Pistole', 'Victor Preis',\n",
       "       'Saphhira Shifley', 'Anna Gayman', 'Luke Foster',\n",
       "       'Roy Französisch', 'Keith Herrera', 'Kimberly Carter',\n",
       "       'Caroline Jumper', 'Philip Brown', 'Michael Paige',\n",
       "       'Natalie Fritzler', 'Shirley Daniels', 'Ken Heidel', 'Ross Baird',\n",
       "       'Mike Kennedy', 'Philisse Overcash', 'Brenda Bowman',\n",
       "       'Troy Blackwell', 'Raymond Buch', 'Ed Braxton', 'Sanjit Chand',\n",
       "       'Tanja Norvell', 'Joni Sundaresam', 'Maya Herman', 'Jeremy Pistek',\n",
       "       'Jeremy Ellison', 'John Grady', 'Xylona Preis', 'Erin Mull',\n",
       "       'Michelle Tran', 'Sue Ann Reed', 'Carl Weiss', 'Astrea Jones',\n",
       "       'Sonia Sunley', \"Rose O'Brian\", 'Maribeth Dona', 'Maribeth Yedwab',\n",
       "       'Christopher Martinez', 'Lynn Smith', 'Bradley Nguyen',\n",
       "       'Dean Braden', 'Matt Connell', 'Brian Dahlen', 'Patricia Hirasaki',\n",
       "       'Mike Gockenbach', 'Karen Bern', 'Jasper Cacioppo', 'Rob Lucas',\n",
       "       'Allen Armold', 'Emily Phan', 'Darren Koutras', 'Bradley Drucker',\n",
       "       'Liz MacKendrick', 'Adrian Shami', 'Bill Donatelli', 'Greg Tran',\n",
       "       'Ashley Jarboe', 'Olvera Toch', 'Liz Pelletier', 'Cynthia Arntzen',\n",
       "       'Jeremy Farry', 'Frank Preis', 'Ellis Ballard',\n",
       "       'Jennifer Ferguson', 'Sarah Foster', 'Trudy Glocke',\n",
       "       'Carlos Soltero', 'Charles Crestani', 'Dianna Vittorini',\n",
       "       'Bruce Degenhardt', 'Zuschuss Carroll', 'Melanie Seite',\n",
       "       'Lena Radford', 'Theone Pippenger', 'Chloris Kastensmidt',\n",
       "       'Alan Shonely', 'Andrew Roberts', 'Nona Balk', 'Giulietta Dortch',\n",
       "       'Clytie Kelty', 'Nat Gilpin', 'Christina Anderson',\n",
       "       'Sylvia Foulston', \"Meg O'Connel\", 'Annie Thurman', 'Fred McMath',\n",
       "       'Denny Joy', 'Max Engle', 'Justin Deggeller', 'John Lee',\n",
       "       'Sean Christensen', 'Chuck Clark', 'Anthony Rawles',\n",
       "       'Steven Roelle', 'Craig Reiter', 'Eugene Hildebrand',\n",
       "       'Sibella Parks', 'Tiffany House', 'Resi Pölking', 'Rob Beeghly',\n",
       "       'Carol Darley', 'Doug Jacobs', 'Grant Thornton', 'Michael Chen',\n",
       "       'Ralph Arnett', 'Naresj Patel', 'Alan Barnes', 'Jesus Ocampo',\n",
       "       'Jay Kimmel', 'Brad Norvell', 'David Philippe', 'Tracy Hopkins',\n",
       "       'Arthur Prichep', 'Roland Schwarz', 'Seth Vernon',\n",
       "       'Christine Kargatis', 'Ross DeVincentis', 'Mathew Reese',\n",
       "       'Steve Chapman', 'Jay Fein', 'Emily Grady', 'Darrin Sayre',\n",
       "       'Phillina Ober', 'Sung Shariari', 'Peter Bühler', 'Roland Fjeld',\n",
       "       'Yoseph Carroll', 'Debra Catini', 'Christine Phan',\n",
       "       'Barry Französisch', 'Lisa Hazard', 'Chris Selesnick',\n",
       "       'Anthony Johnson', 'Benjamin Venier', 'Dan Lawera', 'Bryan Mills',\n",
       "       'Liz Thompson', 'Joe Kamberova', 'Erica Smith', 'Rick Hansen',\n",
       "       'Carlos Daly', 'Helen Wasserman', 'Mike Caudle', 'Gary McGarr',\n",
       "       'Pauline Johnson', 'Bart Watters', 'Toby Ritter',\n",
       "       'Patrick Gardner', 'James Lanier', 'Brian Moss', 'Eudokia Martin',\n",
       "       'Art Foster', 'Guy Armstrong', 'Cyma Kinney', 'Dave Poirier',\n",
       "       'Berenike Kampe', 'Sanjit Jacobs', 'Chuck Magee', 'Anthony Jacobs',\n",
       "       'Linda Southworth', 'Guy Phonely', 'Paul Knutson',\n",
       "       'Sally Matthias', 'Anthony Garverick', 'Peter McVee',\n",
       "       'Lauren Leatherbury', 'Jill Stevenson', 'Ed Ludwig',\n",
       "       'Pamela Coakley', 'Hunter Lopez', 'Maribeth Schnelling',\n",
       "       'George Bell', 'Justin Ritter', 'Bill Eplett', 'Sample Company A',\n",
       "       'Rob Williams', 'Sanjit Engle', 'Adam Hart', 'Jessica Myrick',\n",
       "       'Joel Jenkins', 'Ralph Kennedy', 'Catherine Glotzbach',\n",
       "       'Rachel Payne', 'Karen Carlisle', 'Katherine Hughes',\n",
       "       'Greg Hansen', 'Scott Williamson', 'Joseph Airdo', 'Daniel Lacy',\n",
       "       'Lindsay Williams', 'Thomas Brumley', 'Bryan Spruell',\n",
       "       'Robert Waldorf', 'Tracy Zic', 'Ann Steele', 'Toby Swindell',\n",
       "       'Sara Luxemburg', 'Mitch Willingham', 'Rob Dowd', 'Ryan Akin',\n",
       "       'Meg Tillman', 'Vivek Gonzalez', 'John Stevenson', 'Kalyca Meade',\n",
       "       'Hallie Redmond', 'Deanra Eno', 'Allen Goldenen',\n",
       "       'Jennifer Jackson', 'Jennifer Halladay', 'Robert Dilbeck',\n",
       "       \"Mary O'Rourke\", 'Noel Staavos', 'Deirdre Greer', 'Nicole Fjeld',\n",
       "       'Matthew Grinstein', 'Theresa Swint', 'Brian DeCherney',\n",
       "       'Charles McCrossin', 'Skye Norling', 'Erica Hernandez',\n",
       "       'Frank Olsen', 'Maurice Satty', 'Chad Cunningham', 'Don Weiss',\n",
       "       'Bill Tyler', 'Craig Yedwab', 'Brad Thomas', 'Penelope Sewall',\n",
       "       'Paul Van Hugh', 'Neoma Murray', 'Dionis Lloyd',\n",
       "       'Christine Sundaresam', 'Frank Hawley', 'Nat Carroll',\n",
       "       'Alex Avila', 'Larry Tron', 'Anne Pryor', 'Paul MacIntyre',\n",
       "       'Alyssa Tate', 'Cathy Armstrong', 'Harold Ryan', 'Bradley Talbott',\n",
       "       'Larry Hughes', 'Steven Ward', 'Stefania Perrino', 'Ben Ferrer',\n",
       "       'Kean Thornton', 'Brooke Gillingham', 'Greg Matthias',\n",
       "       'Eva Jacobs', 'Nora Preis', 'Mick Hernandez', 'Jocasta Rupert',\n",
       "       'Suzanne McNair', 'Chris Cortes', 'Phillip Flathmann',\n",
       "       'Dan Campbell', 'Bryan Davis', 'Gene McClure', 'Todd Boyes',\n",
       "       'Justin Hirsh', 'Erica Bern', 'Quincy Jones', 'Tracy Collins',\n",
       "       'Chuck Sachs', 'Henry Goldwyn', 'Laurel Workman', 'Matt Collins',\n",
       "       'Liz Preis', 'Evan Bailliet', 'George Zrebassa', 'Cathy Prescott',\n",
       "       'Frank Gastineau', 'Lisa DeCherney', 'Alejandro Ballentine',\n",
       "       'Michael Nguyen', 'Jim Radford', 'Jamie Frazer', 'Chad McGuire',\n",
       "       'Aaron Smayling', 'Beth Paige', 'Natalie DeCherney',\n",
       "       'Larry Blacks', 'Kean Takahito', 'Harry Marie', 'Ann Blume',\n",
       "       'Sam Zeldin', 'Michael Granlund', 'Julie Kriz', 'Paul Prost',\n",
       "       'Yana Sorensen', 'Katherine Murray', 'Adrian Barton',\n",
       "       'Helen Abelman', 'Beth Thompson', 'Stuart Van', 'Rick Wilson',\n",
       "       'Damala Kotsonis', 'Shui Tom', 'Michael Moore', 'Pauline Webber',\n",
       "       'Shaun Chance', 'Thais Sissman', 'Mark Cousins', 'Maria Etezadi',\n",
       "       'Nicole Hansen', 'Mick Brown', 'Keith Dawkins',\n",
       "       'Katherine Nockton', 'Nora Pelletier', 'Cindy Stewart',\n",
       "       'Maxwell Schwartz', 'Corinna Mitchell', 'Corey-Lock',\n",
       "       'Todd Sumrall', 'Jane Waco', 'John Dryer', 'Pauline Chand',\n",
       "       'Andy Reiter', 'Arianne Irving', 'Tom Boeckenhauer', 'Paul Lucas',\n",
       "       'Gary Hwang', 'Mike Pelletier', 'Jim Mitchum', 'Carl Ludwig',\n",
       "       'Deborah Brumfield', 'Ivan Gibson', 'Bobby Odegard', 'Aimee Bixby',\n",
       "       'Julia West', 'Edward Becker', 'Sheri Gordon', 'Charlotte Melton',\n",
       "       'Anthony Witt', 'Mick Crebagga', 'Tonja Turnell', 'Vivek Grady',\n",
       "       'Muhammed Yedwab', 'Rick Duston', 'Dennis Pardue',\n",
       "       'Marina Lichtenstein', 'Jenna Caffey', 'James Galang',\n",
       "       'Marc Crier', 'Natalie Webber', 'Toby Braunhardt', 'Bill Stewart',\n",
       "       'Hilary Holden', 'Christina DeMoss', 'Thea Hendricks',\n",
       "       'Michelle Moray', 'Neola Schneider', 'Robert Barroso',\n",
       "       'Shaun Weien', 'Eric Barreto', 'Pamela Stobb', 'Herbert Flentye',\n",
       "       'Henia Zydlo', 'Cynthia Delaney', 'Jamie Kunitz', 'Filia McAdams',\n",
       "       'Emily Ducich', 'Dianna Arnett', 'Joni Wasserman', 'Raymond Messe',\n",
       "       'Max Ludwig', 'Craig Carroll', 'Jim Epp', 'Roy Phan',\n",
       "       'Thomas Boland', 'Brad Eason', 'Jill Fjeld', 'Phillip Breyer',\n",
       "       'Brian Thompson', 'Janet Lee', 'Cathy Hwang', 'Neil Ducich',\n",
       "       'Barbara Fisher', 'Katharine Harms', 'Giulietta Weimer',\n",
       "       'Noah Childs', 'Michelle Ellison', 'Benjamin Patterson',\n",
       "       'John Castell', 'Adam Shillingsburg', 'Amy Cox',\n",
       "       'Michael Dominguez', 'Duane Benoit', 'Erica Hackney',\n",
       "       'Edward Hooks', 'Scot Coram', 'Joe Elijah', 'Ann Chong',\n",
       "       'Joy Daniels', 'Christy Brittain', 'Joy Smith', 'Luke Weiss',\n",
       "       'Stuart Calhoun', 'Anne McFarland', 'Rick Huthwaite',\n",
       "       'Carol Triggs', 'Matt Collister', 'Corey Catlett',\n",
       "       'Kelly Andreada', 'Tamara Chand', 'Bart Folk', 'Magdelene Morse',\n",
       "       'Adrian Hane', 'Ben Wallace', 'Scot Wooten', 'Brian Stugart',\n",
       "       'Randy Ferguson', 'William Brown', 'Trudy Brown', 'Art Ferguson',\n",
       "       'Richard Bierner', 'Karen Ferguson', 'John Huston', 'Ivan Liston',\n",
       "       'Patrick Bzostek', 'Rob Haberlin', 'Arthur Wiediger',\n",
       "       'Maris LaWare', 'Dorothy Badders', 'Matt Hagelstein',\n",
       "       'Dennis Kane', 'Bobby Trafton', 'Denny Blanton', 'Toby Gnade',\n",
       "       'Barry Franz', 'Justin MacKendrick', 'Maria Zettner',\n",
       "       'Mitch Webber', 'Mark Van Huff', 'Sean Miller', 'Tom Prescott',\n",
       "       'Jim Karlsson', 'Patrick Jones', 'Ricardo Sperren',\n",
       "       'Susan Vittorini', 'Becky Castell', 'Elizabeth Moffitt',\n",
       "       'Brendan Murry', 'Kristina Nunn', 'Kelly Williams', 'Scott Cohen',\n",
       "       'Christina VanderZanden', 'Speros Goranitis', 'Tamara Manning',\n",
       "       'Eleni McCrary', 'Michelle Lonsdale', 'Clay Rozendal',\n",
       "       'Annie Zypern', 'Pierre Wener', 'Shahid Collister',\n",
       "       'Carlos Meador', 'Greg Maxwell', 'Tim Brockman', 'John Murray',\n",
       "       'Sonia Cooley', 'Luke Schmidt', 'Ralph Ritter', 'Daniel Byrd',\n",
       "       'Thomas Thornton', 'Lori Olson', 'Ken Dana', 'Nicole Brennan',\n",
       "       'Brian Derr', 'Chris McAfee', 'Edward Nazzal', 'Kean Nguyen',\n",
       "       'Bill Overfelt', 'Aleksandra Gannaway', 'Matthew Clasen',\n",
       "       'Tom Ashbrook', 'Jason Fortune-', 'Tim Taslimi', 'Sarah Bern',\n",
       "       'Craig Leslie', 'Hunter Glantz', 'Nancy Lomonaco', 'Rick Reed',\n",
       "       'Toby Carlisle', 'Stewart Visinsky', 'Bobby Elias',\n",
       "       'Steve Carroll', 'David Flashing', 'Fred Harton', 'MaryBeth Skach',\n",
       "       'Ritsa Hightower', 'George Ashbrook', 'Julie Prescott',\n",
       "       'Dean percer', 'Michael Oakman', 'Denise Leinenbach',\n",
       "       'Michelle Huthwaite', 'Daniel Raglin', 'Darrin Martin',\n",
       "       'Carol Adams', 'Anna Chung', 'Denise Monton', 'Vicky Freymann',\n",
       "       'Christopher Conant', 'Beth Fritzler', 'Harry Greene', 'Becky Pak',\n",
       "       'Eugene Moren', 'Michelle Arnett', 'Andy Yotov',\n",
       "       'Giulietta Baptist', 'Julia Barnett', 'Michael Grace',\n",
       "       'Sharelle Roach', 'Joy Bell-', 'Dario Medina', 'Tony Chapman',\n",
       "       'Sean Wendt', 'Richard Eichhorn', 'Benjamin Farhat',\n",
       "       'Katrina Bavinger', 'Jason Gross', 'Erin Creighton',\n",
       "       'Eugene Barchas', 'Jennifer Patt', 'Cari Sayre', 'Gary Hansen',\n",
       "       'Pete Takahito', 'Jack Lebron', 'Aaron Hawkins', 'Cindy Chapman',\n",
       "       'David Wiener', 'Sarah Jordon', 'Bruce Geld', 'Laurel Beltran',\n",
       "       'Candace McMahon', 'Evan Henry', 'Tony Sayre', 'Patrick Ryan',\n",
       "       'Liz Carlisle', 'Cindy Schnelling', 'Dave Hallsten',\n",
       "       \"Jack O'Briant\", 'Anna Häberlin', 'Heather Jas', 'Mark Hamilton',\n",
       "       \"Russell D'Ascenzo\", 'Sam Craven', 'Stephanie Ulpright',\n",
       "       'Fred Chung', 'Randy Bradley', 'Nick Crebassa', 'Darren Budd',\n",
       "       'Maureen Fritzler', 'Roland Murray', 'Vivian Mathis', 'Ed Jacobs',\n",
       "       'Nathan Cano', 'Lycoris Saunders', 'Katrina Edelman',\n",
       "       'Duane Huffman', 'Peter Fuller', 'Valerie Takahito',\n",
       "       'Maureen Gnade', 'Susan Pistek', 'Charles Sheldon', 'Dana Kaydos',\n",
       "       'Khloe Miller', 'Anna Andreadi', 'Dorothy Dickinson', 'Amy Hunt',\n",
       "       'Tracy Poddar', 'Eileen Kiefer', 'Cyra Reiten', 'Susan Gilcrest',\n",
       "       'Angele Hood', 'Neil Französisch', 'Bill Shonely',\n",
       "       'Stefanie Holloman', 'Roger Demir', 'Alex Grayson',\n",
       "       'Georgia Rosenberg', 'Vivek Sundaresam', 'Tony Molinari',\n",
       "       'Tom Stivers', 'Dennis Bolton', 'Nick Radford', 'Cari Schnelling',\n",
       "       'Monica Federle', 'Liz Willingham', 'Alex Russell', 'Karen Seio',\n",
       "       'Aaron Bergman', 'Lisa Ryan', 'Shahid Shariari', 'Jill Matthias',\n",
       "       'Jason Klamczynski', 'Don Miller', 'Muhammed Lee', 'Marc Harrigan',\n",
       "       'Frank Carlisle', 'Thea Hudgings', 'Juliana Krohn', 'Sarah Brown',\n",
       "       'Barry Gonzalez', 'Barry Weirich', 'Mitch Gastineau',\n",
       "       \"Doug O'Connell\", 'Barry Pond', 'Trudy Schmidt', 'Evan Minnotte',\n",
       "       \"Anthony O'Donnell\", 'Mark Haberlin', 'Shirley Schmidt',\n",
       "       'Lela Donovan', 'Victoria Pisteka', 'Theresa Coyne',\n",
       "       'Ionia McGrath', 'Anemone Ratner', 'Craig Molinari',\n",
       "       'Fred Wasserman', 'Lindsay Castell', 'Harold Engle',\n",
       "       'Brendan Dodson', 'Harold Dahlen', 'Carl Jackson', 'Roy Skaria',\n",
       "       'Sung Chung', 'Ricardo Emerson', 'Susan MacKendrick'], dtype=object)"
      ]
     },
     "execution_count": 45,
     "metadata": {},
     "output_type": "execute_result"
    }
   ],
   "source": [
    "df[\"Customer Name\"].unique()"
   ]
  },
  {
   "cell_type": "markdown",
   "metadata": {},
   "source": [
    "## How many times a value has occured?\n",
    "How many times a costumer's name came up?"
   ]
  },
  {
   "cell_type": "code",
   "execution_count": null,
   "metadata": {},
   "outputs": [
    {
     "data": {
      "text/plain": [
       "Customer Name\n",
       "William Brown        37\n",
       "John Lee             34\n",
       "Paul Prost           34\n",
       "Matt Abelman         34\n",
       "Edward Hooks         32\n",
       "                     ..\n",
       "Jocasta Rupert        1\n",
       "Lela Donovan          1\n",
       "Carl Jackson          1\n",
       "Anthony O'Donnell     1\n",
       "Ricardo Emerson       1\n",
       "Name: count, Length: 793, dtype: int64"
      ]
     },
     "execution_count": 46,
     "metadata": {},
     "output_type": "execute_result"
    }
   ],
   "source": [
    "df['Customer Name'].value_counts()"
   ]
  },
  {
   "cell_type": "code",
   "execution_count": null,
   "metadata": {},
   "outputs": [
    {
     "data": {
      "text/plain": [
       "0       261.9600\n",
       "1       731.9400\n",
       "2        14.6200\n",
       "3       957.5775\n",
       "4        22.3680\n",
       "          ...   \n",
       "9989     25.2480\n",
       "9990     91.9600\n",
       "9991    258.5760\n",
       "9992     29.6000\n",
       "9993    243.1600\n",
       "Name: Sales, Length: 9983, dtype: float64"
      ]
     },
     "execution_count": 47,
     "metadata": {},
     "output_type": "execute_result"
    }
   ],
   "source": [
    "df[\"Sales\"]"
   ]
  },
  {
   "cell_type": "code",
   "execution_count": null,
   "metadata": {},
   "outputs": [
    {
     "data": {
      "text/plain": [
       "2288271.4903"
      ]
     },
     "execution_count": 48,
     "metadata": {},
     "output_type": "execute_result"
    }
   ],
   "source": [
    "df[\"Sales\"].sum()"
   ]
  },
  {
   "cell_type": "code",
   "execution_count": null,
   "metadata": {},
   "outputs": [
    {
     "data": {
      "text/plain": [
       "229.21681761995393"
      ]
     },
     "execution_count": 49,
     "metadata": {},
     "output_type": "execute_result"
    }
   ],
   "source": [
    "df[\"Sales\"].mean()"
   ]
  },
  {
   "cell_type": "code",
   "execution_count": null,
   "metadata": {},
   "outputs": [
    {
     "data": {
      "text/plain": [
       "0.44399999999999995"
      ]
     },
     "execution_count": 50,
     "metadata": {},
     "output_type": "execute_result"
    }
   ],
   "source": [
    "df[\"Sales\"].min()"
   ]
  },
  {
   "cell_type": "code",
   "execution_count": null,
   "metadata": {},
   "outputs": [
    {
     "data": {
      "text/plain": [
       "22638.48"
      ]
     },
     "execution_count": 51,
     "metadata": {},
     "output_type": "execute_result"
    }
   ],
   "source": [
    "df[\"Sales\"].max()"
   ]
  },
  {
   "cell_type": "code",
   "execution_count": null,
   "metadata": {},
   "outputs": [
    {
     "data": {
      "text/html": [
       "<div>\n",
       "<style scoped>\n",
       "    .dataframe tbody tr th:only-of-type {\n",
       "        vertical-align: middle;\n",
       "    }\n",
       "\n",
       "    .dataframe tbody tr th {\n",
       "        vertical-align: top;\n",
       "    }\n",
       "\n",
       "    .dataframe thead th {\n",
       "        text-align: right;\n",
       "    }\n",
       "</style>\n",
       "<table border=\"1\" class=\"dataframe\">\n",
       "  <thead>\n",
       "    <tr style=\"text-align: right;\">\n",
       "      <th></th>\n",
       "      <th>City</th>\n",
       "      <th>State</th>\n",
       "      <th>Region</th>\n",
       "    </tr>\n",
       "  </thead>\n",
       "  <tbody>\n",
       "    <tr>\n",
       "      <th>0</th>\n",
       "      <td>Henderson</td>\n",
       "      <td>Kentucky</td>\n",
       "      <td>South</td>\n",
       "    </tr>\n",
       "    <tr>\n",
       "      <th>1</th>\n",
       "      <td>Henderson</td>\n",
       "      <td>Kentucky</td>\n",
       "      <td>South</td>\n",
       "    </tr>\n",
       "    <tr>\n",
       "      <th>2</th>\n",
       "      <td>Los Angeles</td>\n",
       "      <td>California</td>\n",
       "      <td>West</td>\n",
       "    </tr>\n",
       "    <tr>\n",
       "      <th>3</th>\n",
       "      <td>Fort Lauderdale</td>\n",
       "      <td>Florida</td>\n",
       "      <td>South</td>\n",
       "    </tr>\n",
       "    <tr>\n",
       "      <th>4</th>\n",
       "      <td>Fort Lauderdale</td>\n",
       "      <td>Florida</td>\n",
       "      <td>South</td>\n",
       "    </tr>\n",
       "    <tr>\n",
       "      <th>...</th>\n",
       "      <td>...</td>\n",
       "      <td>...</td>\n",
       "      <td>...</td>\n",
       "    </tr>\n",
       "    <tr>\n",
       "      <th>9989</th>\n",
       "      <td>Miami</td>\n",
       "      <td>Florida</td>\n",
       "      <td>South</td>\n",
       "    </tr>\n",
       "    <tr>\n",
       "      <th>9990</th>\n",
       "      <td>Costa Mesa</td>\n",
       "      <td>California</td>\n",
       "      <td>West</td>\n",
       "    </tr>\n",
       "    <tr>\n",
       "      <th>9991</th>\n",
       "      <td>Costa Mesa</td>\n",
       "      <td>California</td>\n",
       "      <td>West</td>\n",
       "    </tr>\n",
       "    <tr>\n",
       "      <th>9992</th>\n",
       "      <td>Costa Mesa</td>\n",
       "      <td>California</td>\n",
       "      <td>West</td>\n",
       "    </tr>\n",
       "    <tr>\n",
       "      <th>9993</th>\n",
       "      <td>Westminster</td>\n",
       "      <td>California</td>\n",
       "      <td>West</td>\n",
       "    </tr>\n",
       "  </tbody>\n",
       "</table>\n",
       "<p>9983 rows × 3 columns</p>\n",
       "</div>"
      ],
      "text/plain": [
       "                 City       State Region\n",
       "0           Henderson    Kentucky  South\n",
       "1           Henderson    Kentucky  South\n",
       "2         Los Angeles  California   West\n",
       "3     Fort Lauderdale     Florida  South\n",
       "4     Fort Lauderdale     Florida  South\n",
       "...               ...         ...    ...\n",
       "9989            Miami     Florida  South\n",
       "9990       Costa Mesa  California   West\n",
       "9991       Costa Mesa  California   West\n",
       "9992       Costa Mesa  California   West\n",
       "9993      Westminster  California   West\n",
       "\n",
       "[9983 rows x 3 columns]"
      ]
     },
     "execution_count": 52,
     "metadata": {},
     "output_type": "execute_result"
    }
   ],
   "source": [
    "df[['City','State','Region']]"
   ]
  },
  {
   "cell_type": "markdown",
   "metadata": {},
   "source": [
    "> why passing **list inside list** while calling multiple columns?\n",
    "- Using a list inside another list helps pandas differentiate between a single column and multiple columns.<br> If you were to use a single set of brackets, it would be ambiguous whether you were referring to one column or multiple columns."
   ]
  },
  {
   "cell_type": "markdown",
   "metadata": {},
   "source": [
    "## What does **values / count_values()** do?"
   ]
  },
  {
   "cell_type": "code",
   "execution_count": 76,
   "metadata": {},
   "outputs": [
    {
     "data": {
      "text/plain": [
       "array(['Second Class', 'Second Class', 'Second Class', ...,\n",
       "       'Standard Class', 'Standard Class', 'Second Class'], dtype=object)"
      ]
     },
     "execution_count": 76,
     "metadata": {},
     "output_type": "execute_result"
    }
   ],
   "source": [
    "# just for understanding\n",
    "df['Ship Mode'].values"
   ]
  },
  {
   "cell_type": "code",
   "execution_count": 77,
   "metadata": {},
   "outputs": [
    {
     "data": {
      "text/plain": [
       "Ship Mode\n",
       "Standard Class    5958\n",
       "Second Class      1944\n",
       "First Class       1538\n",
       "Same Day           543\n",
       "Name: count, dtype: int64"
      ]
     },
     "execution_count": 77,
     "metadata": {},
     "output_type": "execute_result"
    }
   ],
   "source": [
    "df['Ship Mode'].value_counts()"
   ]
  },
  {
   "cell_type": "code",
   "execution_count": 78,
   "metadata": {},
   "outputs": [
    {
     "data": {
      "text/plain": [
       "Segment\n",
       "Consumer       5186\n",
       "Corporate      3015\n",
       "Home Office    1782\n",
       "Name: count, dtype: int64"
      ]
     },
     "execution_count": 78,
     "metadata": {},
     "output_type": "execute_result"
    }
   ],
   "source": [
    "df['Segment'].value_counts()"
   ]
  },
  {
   "cell_type": "code",
   "execution_count": 79,
   "metadata": {},
   "outputs": [
    {
     "data": {
      "text/plain": [
       "array([5186, 3015, 1782], dtype=int64)"
      ]
     },
     "execution_count": 79,
     "metadata": {},
     "output_type": "execute_result"
    }
   ],
   "source": [
    "df['Segment'].value_counts().values"
   ]
  },
  {
   "cell_type": "code",
   "execution_count": 80,
   "metadata": {},
   "outputs": [
    {
     "data": {
      "text/plain": [
       "Index(['Consumer', 'Corporate', 'Home Office'], dtype='object', name='Segment')"
      ]
     },
     "execution_count": 80,
     "metadata": {},
     "output_type": "execute_result"
    }
   ],
   "source": [
    "df['Segment'].value_counts().index"
   ]
  },
  {
   "cell_type": "code",
   "execution_count": 81,
   "metadata": {},
   "outputs": [
    {
     "data": {
      "text/plain": [
       "'Segment'"
      ]
     },
     "execution_count": 81,
     "metadata": {},
     "output_type": "execute_result"
    }
   ],
   "source": [
    "df['Segment'].name"
   ]
  },
  {
   "cell_type": "markdown",
   "metadata": {},
   "source": [
    "> \"Segment\" is name of this \"Series\"\n",
    "\n",
    "> Series can be renamed if needed"
   ]
  },
  {
   "cell_type": "code",
   "execution_count": 82,
   "metadata": {},
   "outputs": [
    {
     "data": {
      "text/plain": [
       "'count'"
      ]
     },
     "execution_count": 82,
     "metadata": {},
     "output_type": "execute_result"
    }
   ],
   "source": [
    "df['Segment'].value_counts().name\n"
   ]
  },
  {
   "cell_type": "markdown",
   "metadata": {},
   "source": [
    ">check .value_count() cell above for reference\n",
    "\n",
    ">\"count\" is name of the values(numbers) displayed"
   ]
  },
  {
   "cell_type": "markdown",
   "metadata": {},
   "source": [
    "## sort_values()?"
   ]
  },
  {
   "cell_type": "markdown",
   "metadata": {},
   "source": [
    "Acending"
   ]
  },
  {
   "cell_type": "code",
   "execution_count": 86,
   "metadata": {},
   "outputs": [
    {
     "data": {
      "text/plain": [
       "4101        0.444\n",
       "9292        0.556\n",
       "8658        0.836\n",
       "4711        0.852\n",
       "2106        0.876\n",
       "          ...    \n",
       "4190    10499.970\n",
       "2623    11199.968\n",
       "8153    13999.960\n",
       "6826    17499.950\n",
       "2697    22638.480\n",
       "Name: Sales, Length: 9983, dtype: float64"
      ]
     },
     "execution_count": 86,
     "metadata": {},
     "output_type": "execute_result"
    }
   ],
   "source": [
    "df['Sales'].sort_values()"
   ]
  },
  {
   "cell_type": "markdown",
   "metadata": {},
   "source": [
    "Decending"
   ]
  },
  {
   "cell_type": "code",
   "execution_count": 87,
   "metadata": {},
   "outputs": [
    {
     "data": {
      "text/plain": [
       "2697    22638.480\n",
       "6826    17499.950\n",
       "8153    13999.960\n",
       "2623    11199.968\n",
       "4190    10499.970\n",
       "          ...    \n",
       "2106        0.876\n",
       "4711        0.852\n",
       "8658        0.836\n",
       "9292        0.556\n",
       "4101        0.444\n",
       "Name: Sales, Length: 9983, dtype: float64"
      ]
     },
     "execution_count": 87,
     "metadata": {},
     "output_type": "execute_result"
    }
   ],
   "source": [
    "df['Sales'].sort_values(ascending=False)"
   ]
  },
  {
   "cell_type": "markdown",
   "metadata": {},
   "source": [
    "## Why sometimes we use functions with () and sometimes we don't?\n",
    "example below:\n",
    "- .value_count()  \n",
    "    - it's a **function** being accessed\n",
    "- .value_count().values\n",
    "    - it's a **variable** being accessed\n"
   ]
  },
  {
   "cell_type": "markdown",
   "metadata": {},
   "source": [
    "## .reset_index()?\n",
    "reset index\n",
    "\n",
    "drop True\n",
    "\n",
    "inplace True\n",
    "\n",
    "even when we drop certain rows in a df the **index will be same** if we check df.info() so we use .reset_index() <br> \n",
    "and then the index is corrected!\n",
    "> when we do this the previous index is added as column in df"
   ]
  },
  {
   "cell_type": "code",
   "execution_count": null,
   "metadata": {},
   "outputs": [],
   "source": [
    "df.reset_index()"
   ]
  },
  {
   "cell_type": "markdown",
   "metadata": {},
   "source": [
    "> to not add previous index to df as column there is a parameter **\"drop=True\"** as shown below\n",
    "\n",
    "> Then we use **inplace = True** to commit it to memory"
   ]
  },
  {
   "cell_type": "code",
   "execution_count": null,
   "metadata": {},
   "outputs": [],
   "source": [
    "df.reset_index(drop=True, inplace=True)"
   ]
  },
  {
   "cell_type": "markdown",
   "metadata": {},
   "source": [
    "## replace()?\n",
    "replace values in columns of df?"
   ]
  },
  {
   "cell_type": "code",
   "execution_count": null,
   "metadata": {},
   "outputs": [],
   "source": [
    "# Changing 'Second Class' to 'Second'\n",
    "df['Ship Mode'].replace(\"Second Class\",'Second')"
   ]
  },
  {
   "cell_type": "markdown",
   "metadata": {},
   "source": [
    "In above case we will have to run code thrice for each class\n",
    "so we will try to remove 'class' from all values in 'Ship Mode'\n",
    "\n",
    "Removing certain keyword \n"
   ]
  },
  {
   "cell_type": "code",
   "execution_count": null,
   "metadata": {},
   "outputs": [],
   "source": [
    "df['Ship Mode'].str.replace(\"Class\",\"\")"
   ]
  },
  {
   "cell_type": "markdown",
   "metadata": {},
   "source": [
    "> in above code :\n",
    ">    - we converted \"Ship Mode\" Series values into \"str\" and then we replaced segment of the str \"Class\" to \"\"(empty space)."
   ]
  },
  {
   "cell_type": "markdown",
   "metadata": {},
   "source": [
    "## **Without using inplace = True** we can commit to memory by like this?"
   ]
  },
  {
   "cell_type": "code",
   "execution_count": null,
   "metadata": {},
   "outputs": [],
   "source": [
    "df['Ship Mode'] = df['Ship Mode'].str.replace(\"Class\",\"\")"
   ]
  },
  {
   "cell_type": "markdown",
   "metadata": {},
   "source": [
    "## **groupby()?**\n",
    "##### By which \"Ship Mode\" (way of shipping) do we get most sales?"
   ]
  },
  {
   "cell_type": "code",
   "execution_count": null,
   "metadata": {},
   "outputs": [],
   "source": [
    "round(df.groupby(\"Ship Mode\")['Sales'].sum())"
   ]
  },
  {
   "cell_type": "code",
   "execution_count": null,
   "metadata": {},
   "outputs": [],
   "source": [
    "round(df.groupby(\"Ship Mode\")['Sales'].mean())"
   ]
  },
  {
   "cell_type": "code",
   "execution_count": null,
   "metadata": {},
   "outputs": [],
   "source": [
    "round(df.groupby(\"Ship Mode\")['Sales'].median())"
   ]
  },
  {
   "cell_type": "code",
   "execution_count": null,
   "metadata": {},
   "outputs": [],
   "source": [
    "round(df.groupby(\"Ship Mode\")[['Sales','Quantity','Profit']].sum())"
   ]
  },
  {
   "cell_type": "markdown",
   "metadata": {},
   "source": [
    "## **crosstab()?**\n",
    "analyzing segment data against Region data?"
   ]
  },
  {
   "cell_type": "code",
   "execution_count": null,
   "metadata": {},
   "outputs": [],
   "source": [
    "pd.crosstab(df['Segment'],df['Region'])"
   ]
  },
  {
   "cell_type": "code",
   "execution_count": null,
   "metadata": {},
   "outputs": [],
   "source": [
    "pd.crosstab(df['Segment'],df['Region']).sum()"
   ]
  },
  {
   "cell_type": "code",
   "execution_count": null,
   "metadata": {},
   "outputs": [],
   "source": [
    "pd.crosstab(df['Segment'],df['Region']).sum().sum()"
   ]
  },
  {
   "cell_type": "markdown",
   "metadata": {},
   "source": [
    "## **pivot_table()?**\n",
    "\n",
    "pd.**pivot_table**(**data**, **values**=None, **index**=None, **columns**=None,<br>\n",
    " **aggfunc**='mean',**fill_value**=None, **margins**=False, **dropna**=True,<br>\n",
    "  **margins_name**='All')\n",
    "\n",
    "- **data**: The DataFrame to pivot.\n",
    "- **values**: Column(s) to aggregate.\n",
    "- **index**: Column(s) to set as index.\n",
    "- **columns**: Column(s) to pivot.\n",
    "- **aggfunc**: Function to aggregate the data (e.g., 'mean', 'sum', 'count').\n",
    "- **fill_value**: Value to replace missing values.\n",
    "- **margins**: Add all rows/columns.\n",
    "- **dropna**: Do not include columns whose entries are all NaN.\n",
    "- **margins_name**: Name of the row/column that will contain the totals when margins is True."
   ]
  },
  {
   "cell_type": "code",
   "execution_count": null,
   "metadata": {},
   "outputs": [],
   "source": [
    "pd.pivot_table(df,index='Category',columns='Segment', values='Sales', aggfunc='sum')"
   ]
  },
  {
   "cell_type": "code",
   "execution_count": null,
   "metadata": {},
   "outputs": [],
   "source": [
    "pd.pivot_table(df,index='Category',columns='Segment', values='Sales', aggfunc='mean')"
   ]
  },
  {
   "cell_type": "markdown",
   "metadata": {},
   "source": []
  },
  {
   "cell_type": "code",
   "execution_count": null,
   "metadata": {},
   "outputs": [],
   "source": [
    "# Show sorted total profit according to sub-category\n",
    "df.groupby(\"Sub-Category\")['Profit'].sum().sort_values(ascending=False)"
   ]
  },
  {
   "cell_type": "markdown",
   "metadata": {},
   "source": [
    "## GroupBy vs Pivot table vs Cross table?"
   ]
  },
  {
   "cell_type": "markdown",
   "metadata": {},
   "source": [
    "**GroupBy**\n",
    "\n",
    "**Purpose**:\n",
    "- Used on numerical data!\n",
    "- Focusing on subsets of data!\n",
    "- Big data sets\n",
    "\n",
    "The groupby method is used to split the data into groups based on some criteria, apply a function to each group independently, and then combine the results.\n",
    "\n",
    "**Use Cases:**\n",
    "\n",
    "Aggregating data by one or more keys.\n",
    "Applying custom aggregation functions.\n",
    "Performing group-wise operations like transformations or filtering.\n",
    "\n",
    "\n",
    "Example:"
   ]
  },
  {
   "cell_type": "code",
   "execution_count": null,
   "metadata": {},
   "outputs": [],
   "source": [
    "data = {\n",
    "    'Date': ['2023-01-01', '2023-01-01', '2023-01-02', '2023-01-02'],\n",
    "    'City': ['New York', 'Los Angeles', 'New York', 'Los Angeles'],\n",
    "    'Sales': [200, 150, 300, 250]\n",
    "}\n",
    "\n",
    "df = pd.DataFrame(data)\n",
    "\n",
    "# Group by 'City' and calculate the sum of 'Sales'\n",
    "grouped = df.groupby('City')['Sales'].sum()\n",
    "print(grouped)"
   ]
  },
  {
   "cell_type": "markdown",
   "metadata": {},
   "source": [
    "**Pivot Table**\n",
    "**Purpose:**\n",
    "- Used on numerical data!\n",
    "- For large datasets\n",
    "- Summarizing large data\n",
    "\n",
    "Pivot tables are used to reshape and summarize data. They can aggregate multiple columns and display the results in a tabular format with rows and columns.\n",
    "\n",
    "**Use Cases:**\n",
    "\n",
    "Creating summary tables with multiple aggregations.\n",
    "Handling both numeric and categorical data.\n",
    "Generating multi-dimensional summaries.\n",
    "\n",
    "**Example:**"
   ]
  },
  {
   "cell_type": "code",
   "execution_count": null,
   "metadata": {},
   "outputs": [],
   "source": [
    "# Creating a pivot table\n",
    "pivot_table = pd.pivot_table(df, values='Sales', index='Date', columns='City', aggfunc='sum')\n",
    "print(pivot_table)\n"
   ]
  },
  {
   "cell_type": "markdown",
   "metadata": {},
   "source": [
    "**Cross Table (Crosstab)**\n",
    "\n",
    "**Purpose:**\n",
    "- Used on categorical data!\n",
    "- For Small datasets \n",
    "- Analysing relationships and data frequencies in categories\n",
    "\n",
    "Cross tables, or crosstabs, are used to compute simple cross-tabulations of two (or more) factors. They are especially useful for analyzing categorical data and their frequency distributions.\n",
    "\n",
    "**Use Cases:**\n",
    "\n",
    "Counting occurrences of combinations of categories.\n",
    "Aggregating data with a specific focus on the frequency of categories.\n",
    "Comparing categorical data across different groups.\n",
    "\n",
    "**Example:**"
   ]
  },
  {
   "cell_type": "code",
   "execution_count": null,
   "metadata": {},
   "outputs": [],
   "source": [
    "# Create a cross table to count the occurrences of each 'City' on each 'Date'\n",
    "cross_tab = pd.crosstab(df['Date'], df['City'])\n",
    "print(cross_tab)\n"
   ]
  },
  {
   "cell_type": "markdown",
   "metadata": {},
   "source": [
    "### Choosing Between Pivot table and Cross table?\n",
    "\n",
    "Use pivot tables when you need interactive and dynamic analysis of data with the ability to explore multiple dimensions and customize reports.\n",
    "Use cross tables when you need to analyze categorical data, examine relationships, or prepare data for statistical testing."
   ]
  },
  {
   "cell_type": "markdown",
   "metadata": {},
   "source": [
    "## How do I select a subset of the dataframe?"
   ]
  },
  {
   "cell_type": "markdown",
   "metadata": {},
   "source": [
    "> using **.loc()** and **iloc()** is faster than normal pandas"
   ]
  },
  {
   "cell_type": "markdown",
   "metadata": {},
   "source": [
    "Selecting or filtering specific rows and/or columns? Filtering the data on a condition? Methods for slicing, selecting, and extracting the data you need are available in pandas.\n",
    "![image.png](data:image/png;base64,iVBORw0KGgoAAAANSUhEUgAAA6cAAADsCAYAAACIa9BCAAAAAXNSR0IArs4c6QAAAERlWElmTU0AKgAAAAgAAYdpAAQAAAABAAAAGgAAAAAAA6ABAAMAAAABAAEAAKACAAQAAAABAAADp6ADAAQAAAABAAAA7AAAAADw+w3oAAAgs0lEQVR4Ae3da4xc1X0A8DOzLy/7cvHaawOGEAdDwUBeUIhNaNSopKgCxbSVIlXtB5RPqao2D1WtmmeVVGqUpB+CEjVplA9V1DRqVBqhJBItKeWVClwZQg2YJAaytrExNn6AvWs8PXd2x571DsbenZ25597flY7mPuae8///zp31/ufOjkOwECBAgAABAgQIECBAgAABAgQIECBAgAABAgQIECBAgAABAgQIECBAgAABAgQIECBAgAABAgQIECBAgAABAgQIECBAgAABAgQIECBAgAABAgQIECBAgAABAgQIECBAgAABAgQIECBAgAABAgQIECBAgAABAgQIECBAgAABAgQIECBAgAABAgQIECBAgAABAgQIECBAgAABAgQIECBAgAABAgQIECBAgAABAgQIECBAgAABAl0WqHR5fMMvoUCtVrskdn/pEg6RatdrYuC7Ug1+CeNeHfvevYT9p9o1l9Yzd6hSqTzW+pC9BAgQIECAAIFzF+g991OckZDAH8dYP5tQvJ0K9UQcqNqpwRIa52iMdVlC8XYq1CNxoKFODZbQOFtirO9KKF6hEiBAgAABAjkXUJzmfIIWGV6tfv6xn4cw9atFdlWQ00duzhKpF6aHDx0KR49m9ZhlfOXKDKF+vRw8eDBMHTtWepRqtRrOX7HipEt49fEQXt9fepdQie9fDP/GKRciBAgQIECAAIE2CShO2wSZ025mPrb94l0hvPiVnIbY4bDe9WosTQfrd063P/10eG7Hjg4HkL/h4kczw+133JEFVr9ennryybBzcjJ/gXY4ov7+/nDrbbeddAkvfCyEg/d2OIocDjewLoRrnj3lksMQhUSAAAECBAikKeCjjWnOm6gJECBAgAABAgQIECBQKAHFaaGmUzIECBAgQIAAAQIECBBIU0Bxmua8iZoAAQIECBAgQIAAAQKFElCcFmo6JUOAAAECBAgQIECAAIE0BRSnac6bqAkQIECAAAECBAgQIFAoAcVpoaZTMgQIECBAgAABAgQIEEhTQHGa5ryJmgABAgQIECBAgAABAoUSUJwWajolQ4AAAQIECBAgQIAAgTQFFKdpzpuoCRAgQIAAAQIECBAgUCgBxWmhplMyBAgQIECAAAECBAgQSFNAcZrmvImaAAECBAgQIECAAAEChRJQnBZqOiVDgAABAgQIECBAgACBNAUUp2nOm6gJECBAgAABAgQIECBQKAHFaaGmUzIECBAgQIAAAQIECBBIU0Bxmua8iZoAAQIECBAgQIAAAQKFElCcFmo6JUOAAAECBAgQIECAAIE0BRSnac6bqAkQIECAAAECBAgQIFAoAcVpoaZTMgQIECBAgAABAgQIEEhTQHGa5ryJmgABAgQIECBAgAABAoUSUJwWajolQ4AAAQIECBAgQIAAgTQFFKdpzpuoCRAgQIAAAQIECBAgUCgBxWmhplMyBAgQIECAAAECBAgQSFNAcZrmvImaAAECBAgQIECAAAEChRJQnBZqOiVDgAABAgQIECBAgACBNAUUp2nOm6gJECBAgAABAgQIECBQKAHFaaGmUzIECBAgQIAAAQIECBBIU0Bxmua8iZoAAQIECBAgQIAAAQKFElCcFmo6JUOAAAECBAgQIECAAIE0BRSnac6bqAkQIECAAAECBAgQIFAoAcVpoaZTMgQIECBAgAABAgQIEEhToDfNsEV9lgK1+vMmPhLCr91+lqcU/GnVwSzB+psyl11+eVh7ySUFT/ic0qtfL1dcdVV469vedk4nFvHJ1erJ9+5mXkdrvxTC6/uLmOq55VRZ1nj+jEtjyyMBAgQIECBAYJECitNFAub89Eo9voF1IWTN0hA4EVeqwyMjIWuWkwL162V0dPTkDit1gZnX0XnX4JgrMOMyd58tAgQIECBAgMCCBfxysWC6/J9Yq9Wy24KX5j/Sjke4Jo64q+Oj5n/A1THE3fkPs+MRcmlNfqhSqTzW+pC9BAgQIECAAAECBAgQIECAAAECBAgQIEAgQYFk75zGu4Jro/edCZp3IuRvxTsaz0ejm+Ng7+vEgImNkd1N/mViMXci3OxO+3OdGCixMS6O8T6fWMydCHdn/DnzD50YyBgECBAgQIBAOQRS/pvT7BfGT5djms45y3vjGdkv01lxymg+X/1vTufvLv2eo1Hg5LfdlF7jFMCRuDp0atParMCW+Kg4dTkQIECAAAECbRNIuTjNCozw8r594f9+9rO2gaTc0ZUbNoTzV6xoTqGWbezbt+++XZOT/jYsWmy45pqPx4f617Du3bv3Ry/u2lX6iyfe/apedfXVH40u9eslmtwdbbbH7VIv/f39g+uvuCJ+1fWMy+Tk5Pf279tX+jvLg0NDY+vWrftww6XUF4nkCRAgQIAAgbYKpFyc1guMqamp8NLevW1FSbWzzOK0pZJtHz16dM8zzzzz9GnHSrkZi7CpWIxl1331yJEju7mE0FOt9kSX7HqoXy8HDx/eySWE0ZGR4VicnnQ5cODAC1xCmJiYWBmL05Mu2YqFAAECBAgQINAOgXqB146O9EGAAAECBAgQIECAAAECBBYqoDhdqJzzCBAgQIAAAQIECBAgQKBtAorTtlHqiAABAgQIECBAgAABAgQWKqA4Xaic8wgQIECAAAECBAgQIECgbQKK07ZR6ogAAQIECBAgQIAAAQIEFiqgOF2onPMIECBAgAABAgQIECBAoG0CitO2UeqIAAECBAgQIECAAAECBBYqoDhdqJzzCBAgQIAAAQIECBAgQKBtAorTtlHqiAABAgQIECBAgAABAgQWKqA4Xaic8wgQIECAAAECBAgQIECgbQKK07ZR6ogAAQIECBAgQIAAAQIEFirQu9ATnUeAAAECBAgQIECAwNIK1Gq1a+IIW5d2FL0XTGBjpVJ5KMWc3DlNcdbETIAAAQIECBAgQIAAgYIJuHNasAmVDgECBAgQIECAQAEFDt0fwlM3FzCxBaS07jshnP+hmRMP/CCE7bctoJMCnrL+nhDGbk06MXdOk54+wRMgQIAAAQIECBAgQKAYAorTYsyjLAgQIECAAAECBAgQIJC0gOI06ekTPAECBAgQIECAAAECBIohoDgtxjzKggABAgQIECBAgAABAkkLKE6Tnj7BEyBAgAABAgQIECBAoBgCitNizKMsCBAgQIAAAQIECBAgkLSA4jTp6RM8AQIECBAgQIAAAQIEiiGgOC3GPMqCAAECBAgQIECAAAECSQsoTpOePsETIECAAAECBAgQIECgGAKK02LMoywIECBAgAABAgQIECCQtIDiNOnpEzwBAgQIECBAgAABAgSKIaA4LcY8yoIAAQIECBAgQIAAAQJJCyhOk54+wRMgQIAAAQIECBAgQKAYAorTYsyjLAgQIECAAAECBAgQIJC0gOI06ekTPAECBAgQIECAAAECBIohoDgtxjzKggABAgQIECBAgAABAkkLVFKNvlarbYyxP5Bq/Esc902VSuWBaPSpOM5nl3isFLs/EYP2xsz8mTsady2bv7v0e45EgaHSK8wH2BJ/zrxr/m57CBAgQKCdAvH3uWtif1vDoftDeOrmdnadbl/rvhPC+R+aif/AD0LYflu6ubQz8vX3hDB2a9bjxvhv9EPt7LpTffV2aqAlGGc89nlgCfotQperZpO4kFHL6cwKjYMtj5R752BM32tq/jWQFexc5rtk14uFAAECBAgQINA2gZSL05eiwvK2SRSroz2z6Uwyajmx2Z1T1858muzOKZf5LtmdUy7zXX4xf5c9BAgQIECAAIGFC6RcnGYFRgiHHwlh8i8XLlCkMy/8fAjD72nOqFbfOPzIfWH/9x9rPlDa9bV/9/GYe/0jvXv37v3Ri7t2/ay0FrOJx499VK+6+uqPxs369RJN7o4228vu0t/fP7j+iis+0nAJB77/vXDokefK7hIGLh4Lq/7kwyddSg8CgAABAgQIEGiXQMrF6czfDB7fFz+g+ZN2eaTdz8TLp8c/8zfF05N7wq4vPn36wVJur/3bqRB6suu+euTIkd3PPPNM6V16qtWeWJxml0P9ejl4+PBOLiGMjowMx+L0pEs4suUFr6PIsfzWlbE4PeWSrVkIECBAgAABAm0Q8KUwbUDUBQECBAgQIECAAAECBAgsTkBxujg/ZxMgQIAAAQIECBAgQIBAGwQUp21A1AUBAgQIECBAgAABAgQILE5Acbo4P2cTIECAAAECBAgQIECAQBsEFKdtQNQFAQIECBAgQIAAAQIECCxOQHG6OD9nEyBAgAABAgQIECBAgEAbBBSnbUDUBQECBAgQIECAAAECBAgsTkBxujg/ZxMgQIAAAQIECBAgQIBAGwQUp21A1AUBAgQIECBAgAABAgQILE6gd3GnO5sAAQIECBAgQIAAgSUX6L8khAs+s+TDJDHA4NWnwlx2OZeGxsBljbVkHxWnyU6dwAkQIECAAAECBEojMBCL0ws/XZp0zzrRZeu5nDVW/p+oOM3/HImQAAECBAgQIECgvAIvxtQ/W9703zDzsXikJ7aX3/AZ5T3wQqqpK05TnTlxEyBAgAABAgQIFF6gUqlkxelnCp+oBAlEAcWpy4AAAQIECBAgQKBrArVabWMcvK9rAeR34BdiYfrz6DMUQ7wuv2F2LbLMJbtzerBrEeR34C3x2knSRXGa34tKZAQIECBAgACBMgjcHZNcUYZEzzHHL8Xnfzy2dbHdd47nenq5BbI3fB5KkUBxmuKsiZkAAQIECBAgUDSBQ/fHjGpFy+rc8+lbHUL2DbSnlhmU2tRrYerFZP+W8FQ6bVjrG18TqoMj9Z5qxw6HqT0729Br+l30r7owVAayO8rJvpAUp+lfhjIgQIAAAQIECKQv8NRvxRyOp5/HYjMYvzOES7/Z3EulvjG954Ww9eIvNh8o7fqGJz4czttwfT3/qed/Hrau/2ppLZoTv/bZPw0D67L/Z2fmmmk+lsh6NZE4hUmAAAECBAgQIECAAAECBRZQnBZ4cqVGgAABAgQIECBAgACBVAQUp6nMlDgJECBAgAABAgQIECBQYAHFaYEnV2oECBAgQIAAAQIECBBIRUBxmspMiZMAAQIECBAgQIAAAQIFFlCcFnhypUaAAAECBAgsWiD75ksLAQIECHRAQHHaAWRDECBAgAABAkkK3Byjfjy2X8b2F7Gtic1CgAABAkskoDhdIljdEiBAgAABAskL/HfMYFtsF8X2qdheiO2/YvvD2AZisxAgQIBAGwUUp23E1BUBAgQIECBQKIETMZuPxXYktvNi64ntvbF9Lbb9sX0rtvfEZiFAgACBNggoTtuAqAsCBAgQIECgsAI/jJntOC274bg9GNsfxXZvbJOxfTK2C2KzECBAgMACBRSnC4RzGgECBAgQIFAagbtiptMtss3upGZFalaU/lVsO2J7OLasaM32WwgQIEDgHAQUp+eA5akECBAgQIBAKQWyL0XKPsZ7pmVZPNgX2w2xZcVs9vzvxPa+2CqxWQgQIEDgTQR63+R4ng+fqAfXuyKE0d/Mc5ydi633/NPHqtV39F24Kqz5xOWnHyzndk9/I++hoaHV69evL71LpVJpvElVv15Gh4cviC7Z31eVeunv72/c9Zh5HQ29c218Hc383CmzzMDFY7Ppz7iU2eKNc78zHsq+MMdSHIHs5+S8f2TPkF72sd9s+VBsm2N7NbbPxfb3sVkIECBA4A0EUi5OZ36hHo5vUF5+3xukV/rdM+/UDt/wvpA1S0MgKzCqK1eu/EDWGjs9zryzP7Fmze2x4TglMPM6Wr7598Py7HdMy6yAO0EuBQJnJ3AsPu1obNldVQsBAgQInEEg5eJ0POZ14Ay5lfnQqtnkL2TU8jLIvnExexfbMlcgu1PoNTXXJNvKPqrHZb5L487y/CP2/GMkyJqlOALvjqn8OLazvXt6OD43K0a/H9s3YvtJbD5tEBEsBAgQOJNAysXpSzGx5WdKrsTH9szmnn17IKP5F0J255TLfJfsnX0u812yjzhzme/yi/m77CFQWIENMbPRN8ku+xmafUHSY7Fl/9XM92J7LTYLAQIECJylQMrFaT3F3bt2hUcefPAs0y32027YuDGsbvFxzMnJye/+9OGHs6+6L/3ywTvuuCv+jWX9ut+xY8e3tzz6aOkvnp5qtef2zZu/3rg4tm/f/rUntm7d0tgu6+PoyMjw+2+55SuN/J988skvP71t27bGdlkfJyYmVm686aYvlDV/eZdW4M9i5q1+Z3o97p+K7eXYsp+j34ptZ2wWAgQIEFiAQKsftAvoxikECBAgQIAAgUIK3BKzuvK0zLKP7WbfffHPsX0ztuy/j7EQIECAwCIFFKeLBHQ6AQIECBAgUFiB7Iu/vhpb9vej2XcVDMT2QGzZx3b/Lbbsy44sBAgQINAmAcVpmyB1Q4AAAQIECBRO4OaY0dti2xFb9n+X/lNsu2OzECBAgMASCChOlwBVlwQIECBAgEAhBO6PWVwb2+OFyEYSBAgQyLnAzP8VmvMghUeAAAECBAgQ6IJA9u3uCtMuwBuSAIFyCihOyznvsiZAgAABAgQIECBAgECuBBSnuZoOwRAgQIAAAQIECBAgQKCcAorTcs67rAkQIECAAAECBAgQIJArAcVprqZDMAQIECBAgAABAgQIECingOK0nPMuawIECBAgQIAAAQIECORKQHGaq+kQDAECBAgQIECAAAECBMopoDgt57zLmgABAgQIECBAgAABArkSUJzmajoEQ4AAAQIECBAgQIAAgXIK9JYzbVkTIECAAAECBAjkSuCK/4jh1HIVUleC6Vt9+rAzKH2r1oZrn//E6QdLud03vuZk3v0Xr+Myq9G/6sLZtWRfSIrTk1e2FQIECBAgQIAAgS4IDNbHHHlvF4bO9ZBvmY1uvP5Y6R8MA2vX5zribgRXGRjmMg9+Yt6eRHb4WG8iEyVMAgQIECBAgEBBBV4raF6LTWvHbAf7FtuR80snsCfVjN05TXXmxE2AAAECBAgQKJLAzr+Jn+o9UaSMFpbL0DtCWH7b/HNPHNoXDj740PwDJdwzct07Q8+KmY+wvn7gxXDokf8pocL8lEduvD70jCV71zRLSHE6f1rtIUCAAAECBAgQ6LTA5OfiiMc7PWr+xhu/s3VxevyVfeGZ3/n3/AXchYg2PDERzpstTo/v3c1ldg6uffYtqRenPtbbhdeTIQkQIECAAAECBAgQIEBgroDidK6HLQIECBAgQIAAAQIECBDogoDitAvohiRAgAABAgQIECBAgACBuQKK07ketggQIECAAAECBAgQIECgCwKK0y6gG5IAAQIECBAgQIAAAQIE5gooTud62CJAgAABAgQIECBAgACBLggoTruAbkgCBAgQIECAAAECBAgQmCugOJ3rYYsAAQIECBAgQIAAAQIEuiCgOO0CuiEJECBAgAABAgQIECBAYK6A4nSuhy0CBAgQIECAAAECBAgQ6IKA4rQL6IYkQIAAAQIECBAgQIAAgbkCitO5HrYIECBAgAABAgQIECBAoAsCvV0Ys11D1rKOhkdGwhVXXtmuPpPuZ3h4uGX8y5cv37Bx06bzWh4s2c5KpdLfSHnl+Pjbo8uKxnZpHyPKbO7119TExMR1o5s2XVRaj9nEqz09jWul7rL2ootuHF+x4rKyu/T29TV+ltRdyu4hfwIECBAgQKB9AikXp/VfqLOCTHF65gtiaGjoqqyd+VmlOnoiZlsdGh5+e9ZKlfmZk62/pkZHR98d25mfWa6jMy5jYzeOjo2VK/MzZ9t4U+PMz3KUAAECBAgQIHCWAil/rHfVWeZYxqc1bC4pY/JnkbNfqlsj9bXeXfq9A6UXaA0w3nq3vQQIECBAgACBhQmkXJzuWVjKpTirYfNcKbI99yR9HLG12XTr3aXfe6z0Aq0BXmq9214CBAgQIECAwMIEUv5Y70zGB+4JYfvvLiz7op112Q9CWN7CYv+/fjds/717i5bugvK5/vhdIfTUr/sdO3Z8e8ujjz64oH4KdFJPtdpz++bNX2+ktH379q89sXXrlsZ2WR9HR0aG33/LLV85mf/kX385TH5+28ntsq4sv3VlWH/PF8qavrwJECBAgACBpRNI+c7p0qnomQABAgQIECBAgAABAgQ6KqA47Si3wQgQIECAAAECBAgQIECglYDitJWKfQQIECBAgAABAgQIECDQUQHFaUe5DUaAAAECBAgQIECAAAECrQQUp61U7CNAgAABAgQIECBAgACBjgooTjvKbTACBAgQIECAAAECBAgQaCWgOG2lYh8BAgQIECBAgAABAgQIdFRAcdpRboMRIECAAAECBAgQIECAQCsBxWkrFfsIECBAgAABAgQIECBAoKMCitOOchuMAAECBAgQIECAAAECBFoJKE5bqdhHgAABAgQIECBAgAABAh0VUJx2lNtgBAgQIECAAAECBAgQINBKQHHaSsU+AgQIECBAgAABAgQIEOioQG9HRzMYAQIECBAgQIAAgVYC10232mtfQ6D/ovXh+to3GpseZwUGLruWS3GuBndOizOXMiFAgAABAgQIECBAgECyAu6cJjt1AidAgAABAgQIpC9QqVTG089i6TKIPo/H3itLN4KeCeRHwJ3T/MyFSAgQIECAAAECBAgQIFBaAcVpaade4gQIECBAgAABAgQIEMiPgOI0P3MhEgIECBAgQIAAAQIECJRWQHFa2qmXOAECBAgQIECAAAECBPIjoDjNz1yIhAABAgQIECBAgAABAqUVUJyWduolToAAAQIECBAgQIAAgfwIKE7zMxciIUCAAAECBAgQIECAQGkFFKelnXqJEyBAgAABAgQIECBAID8CitP8zIVICBAgQIAAAQIECBAgUFoBxWlpp17iBAgQIECAAAECBAgQyI+A4jQ/cyESAgQIECBAgAABAgQIlFZAcVraqZc4AQIECBAgQIAAAQIE8iOgOM3PXIiEAAECBAgQIECAAAECpRVQnJZ26iVOgAABAgQIECBAgACB/Aj05ieUc46kVj9j2foQLvjMOZ9cyBMyi1bLee/YENb/8LxWh8q3r6e/kfPK8fG3b9y0aUVju7SPlUplNvf6a2piYuK60U2bLiqtx2zi1Z6T18rMz5rz/+DGMLTpsrK7hN7Rxs+SGZfSgwAgQIAAAQIE2iXQ+KW0Xf11rJ9arfbbcbAfd2zAtAb6QKw3fhyNvhzD/vO0Qu9ItCfiKD41MJ96Ou7qm7+79HuORYGB0ivMB3gq/pz59fm77SFAgAABAgQILEwg5V/QvWv/5nPOqLVRsm/KtE7HXgIECBAgQIAAAQLpC6T8sd7DGf/U1FQ4+Mor6c9EGzIYHRsL/f31T60eme3uQPY4PT299/jU1P42DJF8F4NDQ9lnn+vFabx2dr8+PX0w+aQWm0C1GgYHBzOX47H1HTt2bOeJ48frr6/Fdp30+dVqT3RZF3PI7igPRJdfRZdXk86pDcHHjzv3Dixb9tbYVePnTBt61QUBAgQIECBAIISUi9P6Xd+X9+0Ljzz4oLmMAjds3BhWr1nTbFEvwvbs2fOfP3344XubD5R1/YN33HFX/Chidt1Xd+7c+aMtjz5a+ounJxZht2/e/PVoUr9enn/++buf2Lp1S1mvkUbeoyMjw++/5ZavNFyeffbZf3l627ZtjeNlfYx/k7xy4003faHhUlYHeRMgQIAAAQLtF0j5Y73t19AjAQIECBAgQIAAAQIECHRFQHHaFXaDEiBAgAABAgQIECBAgECzgOK0WcM6AQIECBAgQIAAAQIECHRFQHHaFXaDEiBAgAABAgQIECBAgECzgOK0WcM6AQIECBAgQIAAAQIECHRFQHHaFXaDEiBAgAABAgQIECBAgECzgOK0WcM6AQIECBAgQIAAAQIECHRFQHHaFXaDEiBAgAABAgQIECBAgECzgOK0WcM6AQIECBAgQIAAAQIECHRFQHHaFXaDEiBAgAABAgQIECBAgECzgOK0WcM6AQIECBAgQIAAAQIECHRFQHHaFXaDEiBAgAABAgQIECBAgECzgOK0WcM6AQIECBAgQIAAAQIECHRFQHHaFXaDEiBAgAABAgQIECBAgECzgOK0WcM6AQIECBAgQIAAAQIECHRFQHHaFXaDEiBAgAABAgQIECBAgECzgOK0WcM6AQIECBAgQIAAAQIECHRFQHHaFXaDEiBAgAABAgQIECBAgECzgOK0WcM6AQIECBAgQIAAAQIECHRFQHHaFXaDEiBAgAABAgQIECBAgECzgOK0WcM6AQIECBAgQIAAAQIECHRFQHHaFXaDEiBAgAABAgQIECBAgECzgOK0WcM6AQIECBAgQIAAAQIECHRFQHHaFXaDEiBAgAABAgQIECBAgECzgOK0WcM6AQIECBAgQIAAAQIECHRFQHHaFXaDEiBAgAABAgQIECBAgECzgOK0WcM6AQIECBAgQIAAAQIECHRFQHHaFXaDEiBAgAABAgQIECBAgECzgOK0WcM6AQIECBAgQIAAAQIECHRFQHHaFXaDEiBAgAABAgQIECBAgECzQKV5I6X1Wq12Y4z3oampqXDwlVdSCn3JYh0dGwv9/f1Z/zdVKpUHotEn4/rnpqen9x6fmtq/ZAMn1PHg0ND6Rrjx2tn9+vT0wcZ2aR+r1TA4OJi5vBbb4LFjx3aeOH78cGk9GolXqz3RZV3czCyGo8uvosurjcNlfaz29PQOLFv21pj/Y/HnzLvL6iBvAgQIECBAoP0Cve3vsmM91u/6ZsXY+MqVHRs0sYHqbz709fWtzFpisS9luCdi59V47ayO1fzqpRwosb7r18vAwMAFYWAgsdCXNNyGy0Vc5jgn++bmnCxsECBAgAABArkRSPaXi3hXcDQqvjM3kvkK5H/jHY1XotElMaxL8xVaLqJZE6PYlYtI8hVEVqjvzldIuYiGS+tpOBR/zjzW+pC9BAgQIECAAAECBAgQIECAAAECBAgQIECAAAECBAgQIECAAAECBAgQIECAAAECBAgQIECAAAECBAgQIECAAAECBAgQIECAAAECBAgQIECAAAECBAgQIECAAAECBAgQIECAAAECBAgQIECAAAECBAgQIECAAAECBAgQIECAAAECBAgQIECAAAECBAgQIECAAAECBAgQIECAAAECBAgQIECAAAECBAgQIECAAAECBAgQIECAAAECBAgQIECAQIIC/w9IXvxwRnp8/gAAAABJRU5ErkJggg==)"
   ]
  },
  {
   "cell_type": "code",
   "execution_count": null,
   "metadata": {},
   "outputs": [],
   "source": [
    "titanic = sns.load_dataset(\"titanic\")\n",
    "titanic.head(1)"
   ]
  },
  {
   "cell_type": "code",
   "execution_count": null,
   "metadata": {},
   "outputs": [],
   "source": [
    "# To select a single column, use square brackets [] with the column name of the column of interest.\n",
    "ages = titanic[\"age\"]\n",
    "ages.head()"
   ]
  },
  {
   "cell_type": "markdown",
   "metadata": {},
   "source": [
    "> To select multiple columns, use a list of column names within the selection brackets []."
   ]
  },
  {
   "cell_type": "code",
   "execution_count": null,
   "metadata": {},
   "outputs": [],
   "source": [
    "age_sex = titanic[[\"age\", \"sex\"]]\n",
    "age_sex"
   ]
  },
  {
   "cell_type": "code",
   "execution_count": null,
   "metadata": {},
   "outputs": [],
   "source": [
    "type(titanic[[\"age\", \"sex\"]])"
   ]
  },
  {
   "cell_type": "code",
   "execution_count": null,
   "metadata": {},
   "outputs": [],
   "source": [
    "titanic[[\"age\", \"sex\"]].shape"
   ]
  },
  {
   "cell_type": "markdown",
   "metadata": {},
   "source": [
    "## How do I filter specific rows from a DataFrame?\n",
    "\n",
    "> To select rows based on a conditional expression, use a condition inside the selection brackets []."
   ]
  },
  {
   "cell_type": "code",
   "execution_count": null,
   "metadata": {},
   "outputs": [],
   "source": [
    "titanic[\"age\"] >= 35"
   ]
  },
  {
   "cell_type": "code",
   "execution_count": null,
   "metadata": {},
   "outputs": [],
   "source": [
    "# print whole table where age is more than 35 years\n",
    "titanic[titanic[\"age\"] >= 35]"
   ]
  },
  {
   "cell_type": "code",
   "execution_count": null,
   "metadata": {},
   "outputs": [],
   "source": [
    "# making changes to df\n",
    "above_35 =titanic[titanic[\"age\"] >= 35]"
   ]
  },
  {
   "cell_type": "markdown",
   "metadata": {},
   "source": [
    "## How do I select specific rows and columns from a DataFrame?"
   ]
  },
  {
   "cell_type": "code",
   "execution_count": null,
   "metadata": {},
   "outputs": [],
   "source": [
    "titanic[titanic[\"age\"] > 18][[\"sex\", \"pclass\", \"age\"]]"
   ]
  },
  {
   "cell_type": "code",
   "execution_count": null,
   "metadata": {},
   "outputs": [],
   "source": [
    "# column names to list\n",
    "titanic.columns.tolist()"
   ]
  },
  {
   "cell_type": "code",
   "execution_count": null,
   "metadata": {},
   "outputs": [],
   "source": [
    "# where pclass is 2 or 3 return True\n",
    "titanic[\"pclass\"].isin([2,3])"
   ]
  },
  {
   "cell_type": "code",
   "execution_count": null,
   "metadata": {},
   "outputs": [],
   "source": [
    "above_35_class_23 = titanic[(titanic[\"pclass\"].isin([2,3])) & (titanic[\"age\"] > 35)]\n",
    "above_35_class_23.head()"
   ]
  },
  {
   "cell_type": "code",
   "execution_count": null,
   "metadata": {},
   "outputs": [],
   "source": [
    "age_no_na = titanic[titanic[\"age\"].notna()]\n",
    "age_no_na.head()"
   ]
  },
  {
   "cell_type": "markdown",
   "metadata": {},
   "source": [
    "## How do I select specific rows and columns from a DataFrame?"
   ]
  },
  {
   "cell_type": "code",
   "execution_count": null,
   "metadata": {},
   "outputs": [],
   "source": [
    "adult_names_cond = titanic.loc[titanic[\"age\"] > 18, [len(x) < 5 for x in titanic.columns.tolist()]]\n",
    "adult_names_cond.head()"
   ]
  },
  {
   "cell_type": "code",
   "execution_count": null,
   "metadata": {},
   "outputs": [],
   "source": [
    "# BETTER WAY - MORE EFFICIENT\n",
    "adult_names_list = titanic.loc[titanic[\"age\"] > 18, [\"sex\", \"age\", \"fare\"]]\n",
    "adult_names_list.head()"
   ]
  },
  {
   "cell_type": "code",
   "execution_count": null,
   "metadata": {},
   "outputs": [],
   "source": []
  },
  {
   "cell_type": "markdown",
   "metadata": {},
   "source": [
    "## What are the `loc` and `iloc` operators? what are they? why are they?\n",
    "The loc/iloc operators are required in front of the selection brackets []. When using loc/iloc, the part before the comma is the rows you want, and the part after the comma is the columns you want to select."
   ]
  },
  {
   "cell_type": "markdown",
   "metadata": {},
   "source": [
    "**loc** is how we index Series and Dataframes\n",
    "\n",
    "loc is more frequently used than iloc"
   ]
  },
  {
   "cell_type": "code",
   "execution_count": null,
   "metadata": {},
   "outputs": [],
   "source": [
    "titanic.iloc[10:20, 2:5] # inclusive start : exclusive end"
   ]
  },
  {
   "cell_type": "code",
   "execution_count": null,
   "metadata": {},
   "outputs": [],
   "source": [
    "titanic.iloc[0:3, 3] = \"anonymous\"\n",
    "titanic.head()"
   ]
  },
  {
   "cell_type": "markdown",
   "metadata": {},
   "source": []
  },
  {
   "cell_type": "markdown",
   "metadata": {},
   "source": [
    "## Creating new columns derived from existing columns?\n",
    "\n",
    "![image.png](data:image/png;base64,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)"
   ]
  },
  {
   "cell_type": "code",
   "execution_count": null,
   "metadata": {},
   "outputs": [],
   "source": [
    "titanic = sns.load_dataset('Titanic')\n",
    "titanic.head(2)"
   ]
  },
  {
   "cell_type": "code",
   "execution_count": null,
   "metadata": {},
   "outputs": [],
   "source": [
    "titanic['halfAge'] = titanic['age']*2\n",
    "titanic"
   ]
  },
  {
   "cell_type": "markdown",
   "metadata": {},
   "source": [
    "## How can I rename the columns?"
   ]
  },
  {
   "cell_type": "code",
   "execution_count": null,
   "metadata": {},
   "outputs": [],
   "source": [
    "newtitanic = titanic.rename(\n",
    "    columns={\n",
    "        'survived':'bachgaye',\n",
    "        'age':'umar'\n",
    "    }\n",
    ")\n",
    "newtitanic.head()"
   ]
  },
  {
   "cell_type": "markdown",
   "metadata": {},
   "source": [
    "## How can I aggregate by groups?\n",
    "\n",
    "\n",
    "![image.png](data:image/png;base64,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)"
   ]
  },
  {
   "cell_type": "markdown",
   "metadata": {},
   "source": [
    "## Concatenate two tables?"
   ]
  },
  {
   "cell_type": "code",
   "execution_count": null,
   "metadata": {},
   "outputs": [],
   "source": []
  },
  {
   "cell_type": "markdown",
   "metadata": {},
   "source": [
    "## sort Dataframe?"
   ]
  },
  {
   "cell_type": "code",
   "execution_count": null,
   "metadata": {},
   "outputs": [],
   "source": []
  },
  {
   "cell_type": "markdown",
   "metadata": {},
   "source": [
    "## Joining Tables with common identifier?"
   ]
  },
  {
   "cell_type": "code",
   "execution_count": null,
   "metadata": {},
   "outputs": [],
   "source": []
  },
  {
   "cell_type": "markdown",
   "metadata": {},
   "source": []
  },
  {
   "cell_type": "code",
   "execution_count": null,
   "metadata": {},
   "outputs": [],
   "source": []
  },
  {
   "cell_type": "code",
   "execution_count": null,
   "metadata": {},
   "outputs": [],
   "source": []
  },
  {
   "cell_type": "code",
   "execution_count": null,
   "metadata": {},
   "outputs": [],
   "source": []
  },
  {
   "cell_type": "markdown",
   "metadata": {},
   "source": [
    "### How to create **Bar plot** ?\n"
   ]
  },
  {
   "cell_type": "markdown",
   "metadata": {},
   "source": [
    "# Add DataFrames?\n",
    "# concat dataframes?\n",
    "\n"
   ]
  },
  {
   "cell_type": "markdown",
   "metadata": {},
   "source": [
    "# Different Types of Joins in Pandas?"
   ]
  },
  {
   "cell_type": "markdown",
   "metadata": {},
   "source": [
    "## inner join\n",
    "![alt](Images/innerJoin.png)"
   ]
  },
  {
   "cell_type": "code",
   "execution_count": null,
   "metadata": {},
   "outputs": [],
   "source": [
    "\n",
    "# Creating dataframe a\n",
    "a = pd.DataFrame()\n",
    " \n",
    "# Creating Dictionary\n",
    "d = {'id': [1, 2, 10, 12],\n",
    "     'val1': ['a', 'b', 'c', 'd']}\n",
    " \n",
    "a = pd.DataFrame(d)\n",
    " \n",
    "# Creating dataframe b\n",
    "b = pd.DataFrame()\n",
    " \n",
    "# Creating dictionary\n",
    "d = {'id': [1, 2, 9, 8],\n",
    "     'val1': ['p', 'q', 'r', 's']}\n",
    "b = pd.DataFrame(d)\n",
    " \n",
    "# inner join\n",
    "df = pd.merge(a, b, on='id', how='inner')\n",
    " \n",
    "# display dataframe\n",
    "df\n"
   ]
  },
  {
   "cell_type": "markdown",
   "metadata": {},
   "source": [
    "## Left join\n",
    "![left join](Images/left-join.png)"
   ]
  },
  {
   "cell_type": "code",
   "execution_count": null,
   "metadata": {},
   "outputs": [],
   "source": [
    "# Creating dataframe a\n",
    "a = pd.DataFrame()\n",
    " \n",
    "# Creating Dictionary\n",
    "d = {'id': [1, 2, 10, 12],\n",
    "     'val1': ['a', 'b', 'c', 'd']}\n",
    " \n",
    "a = pd.DataFrame(d)\n",
    " \n",
    "# Creating dataframe b\n",
    "b = pd.DataFrame()\n",
    " \n",
    "# Creating dictionary\n",
    "d = {'id': [1, 2, 9, 8],\n",
    "     'val1': ['p', 'q', 'r', 's']}\n",
    "b = pd.DataFrame(d)\n",
    " \n",
    "# left outer join\n",
    "df = pd.merge(a, b, on='id', how='left')\n",
    " \n",
    "# display dataframe\n",
    "df"
   ]
  },
  {
   "cell_type": "markdown",
   "metadata": {},
   "source": [
    "## Right Join\n",
    "![alt](Images/rightJoin.png)"
   ]
  },
  {
   "cell_type": "code",
   "execution_count": null,
   "metadata": {},
   "outputs": [],
   "source": [
    "# Creating dataframe a\n",
    "a = pd.DataFrame()\n",
    " \n",
    "# Creating Dictionary\n",
    "d = {'id': [1, 2, 10, 12],\n",
    "     'val1': ['a', 'b', 'c', 'd']}\n",
    " \n",
    "a = pd.DataFrame(d)\n",
    " \n",
    "# Creating dataframe b\n",
    "b = pd.DataFrame()\n",
    " \n",
    "# Creating dictionary\n",
    "d = {'id': [1, 2, 9, 8],\n",
    "     'val1': ['p', 'q', 'r', 's']}\n",
    "b = pd.DataFrame(d)\n",
    " \n",
    "# right outer join\n",
    "df = pd.merge(a, b, on='id', how='right')\n",
    " \n",
    "# display dataframe\n",
    "df"
   ]
  },
  {
   "cell_type": "markdown",
   "metadata": {},
   "source": [
    "## Outer Join\n",
    "![alt](Images/OutterJoin.png)"
   ]
  },
  {
   "cell_type": "code",
   "execution_count": null,
   "metadata": {},
   "outputs": [],
   "source": [
    "# Creating dataframe a\n",
    "a = pd.DataFrame()\n",
    " \n",
    "# Creating Dictionary\n",
    "d = {'id': [1, 2, 10, 12],\n",
    "     'val1': ['a', 'b', 'c', 'd']}\n",
    " \n",
    "a = pd.DataFrame(d)\n",
    " \n",
    "# Creating dataframe b\n",
    "b = pd.DataFrame()\n",
    " \n",
    "# Creating dictionary\n",
    "d = {'id': [1, 2, 9, 8],\n",
    "     'val1': ['p', 'q', 'r', 's']}\n",
    "b = pd.DataFrame(d)\n",
    " \n",
    "# full outer join\n",
    "df = pd.merge(a, b, on='id', how='outer')\n",
    " \n",
    "# display dataframe\n",
    "df"
   ]
  },
  {
   "cell_type": "markdown",
   "metadata": {},
   "source": [
    "## Index Join\n",
    "To merge the Dataframe on indices pass the left_index and right_index arguments as True i.e. both the Dataframes are merged on an index using default Inner Join."
   ]
  },
  {
   "cell_type": "code",
   "execution_count": null,
   "metadata": {},
   "outputs": [],
   "source": [
    "# Creating dataframe a\n",
    "a = pd.DataFrame()\n",
    " \n",
    "# Creating Dictionary\n",
    "d = {'id': [1, 2, 10, 12],\n",
    "     'val1': ['a', 'b', 'c', 'd']}\n",
    " \n",
    "a = pd.DataFrame(d)\n",
    " \n",
    "# Creating dataframe b\n",
    "b = pd.DataFrame()\n",
    " \n",
    "# Creating dictionary\n",
    "d = {'id': [1, 2, 9, 8],\n",
    "     'val1': ['p', 'q', 'r', 's']}\n",
    "b = pd.DataFrame(d)\n",
    " \n",
    "# index join\n",
    "df = pd.merge(a, b, left_index=True, right_index=True)\n",
    " \n",
    "# display dataframe\n",
    "df"
   ]
  },
  {
   "cell_type": "markdown",
   "metadata": {},
   "source": [
    "# New batch classes"
   ]
  },
  {
   "cell_type": "code",
   "execution_count": 160,
   "metadata": {},
   "outputs": [],
   "source": [
    "import pandas as pd\n",
    "import numpy as np\n",
    "\n",
    "import warnings\n",
    "warnings.filterwarnings(\"ignore\")"
   ]
  },
  {
   "cell_type": "markdown",
   "metadata": {},
   "source": [
    "# Sample Super Store Data"
   ]
  },
  {
   "cell_type": "code",
   "execution_count": 161,
   "metadata": {},
   "outputs": [
    {
     "data": {
      "text/html": [
       "<div>\n",
       "<style scoped>\n",
       "    .dataframe tbody tr th:only-of-type {\n",
       "        vertical-align: middle;\n",
       "    }\n",
       "\n",
       "    .dataframe tbody tr th {\n",
       "        vertical-align: top;\n",
       "    }\n",
       "\n",
       "    .dataframe thead th {\n",
       "        text-align: right;\n",
       "    }\n",
       "</style>\n",
       "<table border=\"1\" class=\"dataframe\">\n",
       "  <thead>\n",
       "    <tr style=\"text-align: right;\">\n",
       "      <th></th>\n",
       "      <th>Row ID</th>\n",
       "      <th>Order ID</th>\n",
       "      <th>Order Date</th>\n",
       "      <th>Ship Date</th>\n",
       "      <th>Ship Mode</th>\n",
       "      <th>Customer ID</th>\n",
       "      <th>Customer Name</th>\n",
       "      <th>Segment</th>\n",
       "      <th>City</th>\n",
       "      <th>State</th>\n",
       "      <th>Postal Code</th>\n",
       "      <th>Region</th>\n",
       "      <th>Product ID</th>\n",
       "      <th>Category</th>\n",
       "      <th>Sub-Category</th>\n",
       "      <th>Product Name</th>\n",
       "      <th>Sales</th>\n",
       "      <th>Quantity</th>\n",
       "      <th>Discount</th>\n",
       "      <th>Profit</th>\n",
       "    </tr>\n",
       "  </thead>\n",
       "  <tbody>\n",
       "    <tr>\n",
       "      <th>0</th>\n",
       "      <td>1</td>\n",
       "      <td>CA-2017-152156</td>\n",
       "      <td>2017-11-08</td>\n",
       "      <td>2017-11-11</td>\n",
       "      <td>Second Class</td>\n",
       "      <td>CG-12520</td>\n",
       "      <td>Claire Gute</td>\n",
       "      <td>Consumer</td>\n",
       "      <td>Henderson</td>\n",
       "      <td>Kentucky</td>\n",
       "      <td>42420.0</td>\n",
       "      <td>South</td>\n",
       "      <td>FUR-BO-10001798</td>\n",
       "      <td>Furniture</td>\n",
       "      <td>Bookcases</td>\n",
       "      <td>Bush Somerset Collection Bookcase</td>\n",
       "      <td>261.9600</td>\n",
       "      <td>2</td>\n",
       "      <td>0.00</td>\n",
       "      <td>41.9136</td>\n",
       "    </tr>\n",
       "    <tr>\n",
       "      <th>1</th>\n",
       "      <td>2</td>\n",
       "      <td>CA-2017-152156</td>\n",
       "      <td>2017-11-08</td>\n",
       "      <td>2017-11-11</td>\n",
       "      <td>Second Class</td>\n",
       "      <td>CG-12520</td>\n",
       "      <td>Claire Gute</td>\n",
       "      <td>Consumer</td>\n",
       "      <td>Henderson</td>\n",
       "      <td>Kentucky</td>\n",
       "      <td>42420.0</td>\n",
       "      <td>South</td>\n",
       "      <td>FUR-CH-10000454</td>\n",
       "      <td>Furniture</td>\n",
       "      <td>Chairs</td>\n",
       "      <td>Hon Deluxe Fabric Upholstered Stacking Chairs,...</td>\n",
       "      <td>731.9400</td>\n",
       "      <td>3</td>\n",
       "      <td>0.00</td>\n",
       "      <td>219.5820</td>\n",
       "    </tr>\n",
       "    <tr>\n",
       "      <th>2</th>\n",
       "      <td>3</td>\n",
       "      <td>CA-2017-138688</td>\n",
       "      <td>2017-06-12</td>\n",
       "      <td>2017-06-16</td>\n",
       "      <td>Second Class</td>\n",
       "      <td>DV-13045</td>\n",
       "      <td>Darrin Van Huff</td>\n",
       "      <td>Corporate</td>\n",
       "      <td>Los Angeles</td>\n",
       "      <td>California</td>\n",
       "      <td>90036.0</td>\n",
       "      <td>West</td>\n",
       "      <td>OFF-LA-10000240</td>\n",
       "      <td>Office Supplies</td>\n",
       "      <td>Labels</td>\n",
       "      <td>Self-Adhesive Address Labels for Typewriters b...</td>\n",
       "      <td>14.6200</td>\n",
       "      <td>2</td>\n",
       "      <td>0.00</td>\n",
       "      <td>6.8714</td>\n",
       "    </tr>\n",
       "    <tr>\n",
       "      <th>3</th>\n",
       "      <td>4</td>\n",
       "      <td>US-2016-108966</td>\n",
       "      <td>2016-10-11</td>\n",
       "      <td>2016-10-18</td>\n",
       "      <td>Standard Class</td>\n",
       "      <td>SO-20335</td>\n",
       "      <td>Sean O'Donnell</td>\n",
       "      <td>Consumer</td>\n",
       "      <td>Fort Lauderdale</td>\n",
       "      <td>Florida</td>\n",
       "      <td>33311.0</td>\n",
       "      <td>South</td>\n",
       "      <td>FUR-TA-10000577</td>\n",
       "      <td>Furniture</td>\n",
       "      <td>Tables</td>\n",
       "      <td>Bretford CR4500 Series Slim Rectangular Table</td>\n",
       "      <td>957.5775</td>\n",
       "      <td>5</td>\n",
       "      <td>0.45</td>\n",
       "      <td>-383.0310</td>\n",
       "    </tr>\n",
       "    <tr>\n",
       "      <th>4</th>\n",
       "      <td>5</td>\n",
       "      <td>US-2016-108966</td>\n",
       "      <td>2016-10-11</td>\n",
       "      <td>2016-10-18</td>\n",
       "      <td>Standard Class</td>\n",
       "      <td>SO-20335</td>\n",
       "      <td>Sean O'Donnell</td>\n",
       "      <td>Consumer</td>\n",
       "      <td>Fort Lauderdale</td>\n",
       "      <td>Florida</td>\n",
       "      <td>33311.0</td>\n",
       "      <td>South</td>\n",
       "      <td>OFF-ST-10000760</td>\n",
       "      <td>Office Supplies</td>\n",
       "      <td>Storage</td>\n",
       "      <td>Eldon Fold 'N Roll Cart System</td>\n",
       "      <td>22.3680</td>\n",
       "      <td>2</td>\n",
       "      <td>0.20</td>\n",
       "      <td>2.5164</td>\n",
       "    </tr>\n",
       "  </tbody>\n",
       "</table>\n",
       "</div>"
      ],
      "text/plain": [
       "   Row ID        Order ID Order Date  Ship Date       Ship Mode Customer ID  \\\n",
       "0       1  CA-2017-152156 2017-11-08 2017-11-11    Second Class    CG-12520   \n",
       "1       2  CA-2017-152156 2017-11-08 2017-11-11    Second Class    CG-12520   \n",
       "2       3  CA-2017-138688 2017-06-12 2017-06-16    Second Class    DV-13045   \n",
       "3       4  US-2016-108966 2016-10-11 2016-10-18  Standard Class    SO-20335   \n",
       "4       5  US-2016-108966 2016-10-11 2016-10-18  Standard Class    SO-20335   \n",
       "\n",
       "     Customer Name    Segment             City       State  Postal Code  \\\n",
       "0      Claire Gute   Consumer        Henderson    Kentucky      42420.0   \n",
       "1      Claire Gute   Consumer        Henderson    Kentucky      42420.0   \n",
       "2  Darrin Van Huff  Corporate      Los Angeles  California      90036.0   \n",
       "3   Sean O'Donnell   Consumer  Fort Lauderdale     Florida      33311.0   \n",
       "4   Sean O'Donnell   Consumer  Fort Lauderdale     Florida      33311.0   \n",
       "\n",
       "  Region       Product ID         Category Sub-Category  \\\n",
       "0  South  FUR-BO-10001798        Furniture    Bookcases   \n",
       "1  South  FUR-CH-10000454        Furniture       Chairs   \n",
       "2   West  OFF-LA-10000240  Office Supplies       Labels   \n",
       "3  South  FUR-TA-10000577        Furniture       Tables   \n",
       "4  South  OFF-ST-10000760  Office Supplies      Storage   \n",
       "\n",
       "                                        Product Name     Sales  Quantity  \\\n",
       "0                  Bush Somerset Collection Bookcase  261.9600         2   \n",
       "1  Hon Deluxe Fabric Upholstered Stacking Chairs,...  731.9400         3   \n",
       "2  Self-Adhesive Address Labels for Typewriters b...   14.6200         2   \n",
       "3      Bretford CR4500 Series Slim Rectangular Table  957.5775         5   \n",
       "4                     Eldon Fold 'N Roll Cart System   22.3680         2   \n",
       "\n",
       "   Discount    Profit  \n",
       "0      0.00   41.9136  \n",
       "1      0.00  219.5820  \n",
       "2      0.00    6.8714  \n",
       "3      0.45 -383.0310  \n",
       "4      0.20    2.5164  "
      ]
     },
     "execution_count": 161,
     "metadata": {},
     "output_type": "execute_result"
    }
   ],
   "source": [
    "# data \n",
    "df =pd.read_excel(\"Images/SampleSuperstore.xlsx\")\n",
    "df.head()"
   ]
  },
  {
   "cell_type": "code",
   "execution_count": 162,
   "metadata": {},
   "outputs": [
    {
     "name": "stdout",
     "output_type": "stream",
     "text": [
      "<class 'pandas.core.frame.DataFrame'>\n",
      "RangeIndex: 9994 entries, 0 to 9993\n",
      "Data columns (total 20 columns):\n",
      " #   Column         Non-Null Count  Dtype         \n",
      "---  ------         --------------  -----         \n",
      " 0   Row ID         9994 non-null   int64         \n",
      " 1   Order ID       9994 non-null   object        \n",
      " 2   Order Date     9994 non-null   datetime64[ns]\n",
      " 3   Ship Date      9994 non-null   datetime64[ns]\n",
      " 4   Ship Mode      9994 non-null   object        \n",
      " 5   Customer ID    9994 non-null   object        \n",
      " 6   Customer Name  9994 non-null   object        \n",
      " 7   Segment        9994 non-null   object        \n",
      " 8   City           9994 non-null   object        \n",
      " 9   State          9994 non-null   object        \n",
      " 10  Postal Code    9983 non-null   float64       \n",
      " 11  Region         9994 non-null   object        \n",
      " 12  Product ID     9994 non-null   object        \n",
      " 13  Category       9994 non-null   object        \n",
      " 14  Sub-Category   9994 non-null   object        \n",
      " 15  Product Name   9994 non-null   object        \n",
      " 16  Sales          9994 non-null   float64       \n",
      " 17  Quantity       9994 non-null   int64         \n",
      " 18  Discount       9994 non-null   float64       \n",
      " 19  Profit         9994 non-null   float64       \n",
      "dtypes: datetime64[ns](2), float64(4), int64(2), object(12)\n",
      "memory usage: 1.5+ MB\n"
     ]
    }
   ],
   "source": [
    "df.info()"
   ]
  },
  {
   "cell_type": "markdown",
   "metadata": {},
   "source": [
    "## Searching for particular values in columns ?\n",
    "searching value in column\n",
    "\n",
    "\n"
   ]
  },
  {
   "cell_type": "markdown",
   "metadata": {},
   "source": [
    "\n",
    "Let us assume we have to find all the rows with value 'ABC'\n",
    "\n",
    "if there will be any such values they will show up below"
   ]
  },
  {
   "cell_type": "code",
   "execution_count": 163,
   "metadata": {},
   "outputs": [
    {
     "data": {
      "text/html": [
       "<div>\n",
       "<style scoped>\n",
       "    .dataframe tbody tr th:only-of-type {\n",
       "        vertical-align: middle;\n",
       "    }\n",
       "\n",
       "    .dataframe tbody tr th {\n",
       "        vertical-align: top;\n",
       "    }\n",
       "\n",
       "    .dataframe thead th {\n",
       "        text-align: right;\n",
       "    }\n",
       "</style>\n",
       "<table border=\"1\" class=\"dataframe\">\n",
       "  <thead>\n",
       "    <tr style=\"text-align: right;\">\n",
       "      <th></th>\n",
       "      <th>Row ID</th>\n",
       "      <th>Order ID</th>\n",
       "      <th>Order Date</th>\n",
       "      <th>Ship Date</th>\n",
       "      <th>Ship Mode</th>\n",
       "      <th>Customer ID</th>\n",
       "      <th>Customer Name</th>\n",
       "      <th>Segment</th>\n",
       "      <th>City</th>\n",
       "      <th>State</th>\n",
       "      <th>Postal Code</th>\n",
       "      <th>Region</th>\n",
       "      <th>Product ID</th>\n",
       "      <th>Category</th>\n",
       "      <th>Sub-Category</th>\n",
       "      <th>Product Name</th>\n",
       "      <th>Sales</th>\n",
       "      <th>Quantity</th>\n",
       "      <th>Discount</th>\n",
       "      <th>Profit</th>\n",
       "    </tr>\n",
       "  </thead>\n",
       "  <tbody>\n",
       "  </tbody>\n",
       "</table>\n",
       "</div>"
      ],
      "text/plain": [
       "Empty DataFrame\n",
       "Columns: [Row ID, Order ID, Order Date, Ship Date, Ship Mode, Customer ID, Customer Name, Segment, City, State, Postal Code, Region, Product ID, Category, Sub-Category, Product Name, Sales, Quantity, Discount, Profit]\n",
       "Index: []"
      ]
     },
     "execution_count": 163,
     "metadata": {},
     "output_type": "execute_result"
    }
   ],
   "source": [
    "df[df['Order Date']=='ABC']"
   ]
  },
  {
   "cell_type": "markdown",
   "metadata": {},
   "source": [
    "let us assume we have to keep only the rows that do not have 'ABC'\n",
    "\n",
    "**Understand that \"~\" means !NOT i.e, negetion** \n",
    "\n",
    "It will invert the effect of any operation"
   ]
  },
  {
   "cell_type": "markdown",
   "metadata": {},
   "source": [
    "So the below operation is now choosing all the rows that do not have \"ABC\" in them."
   ]
  },
  {
   "cell_type": "code",
   "execution_count": 164,
   "metadata": {},
   "outputs": [
    {
     "data": {
      "text/html": [
       "<div>\n",
       "<style scoped>\n",
       "    .dataframe tbody tr th:only-of-type {\n",
       "        vertical-align: middle;\n",
       "    }\n",
       "\n",
       "    .dataframe tbody tr th {\n",
       "        vertical-align: top;\n",
       "    }\n",
       "\n",
       "    .dataframe thead th {\n",
       "        text-align: right;\n",
       "    }\n",
       "</style>\n",
       "<table border=\"1\" class=\"dataframe\">\n",
       "  <thead>\n",
       "    <tr style=\"text-align: right;\">\n",
       "      <th></th>\n",
       "      <th>Row ID</th>\n",
       "      <th>Order ID</th>\n",
       "      <th>Order Date</th>\n",
       "      <th>Ship Date</th>\n",
       "      <th>Ship Mode</th>\n",
       "      <th>Customer ID</th>\n",
       "      <th>Customer Name</th>\n",
       "      <th>Segment</th>\n",
       "      <th>City</th>\n",
       "      <th>State</th>\n",
       "      <th>Postal Code</th>\n",
       "      <th>Region</th>\n",
       "      <th>Product ID</th>\n",
       "      <th>Category</th>\n",
       "      <th>Sub-Category</th>\n",
       "      <th>Product Name</th>\n",
       "      <th>Sales</th>\n",
       "      <th>Quantity</th>\n",
       "      <th>Discount</th>\n",
       "      <th>Profit</th>\n",
       "    </tr>\n",
       "  </thead>\n",
       "  <tbody>\n",
       "    <tr>\n",
       "      <th>0</th>\n",
       "      <td>1</td>\n",
       "      <td>CA-2017-152156</td>\n",
       "      <td>2017-11-08</td>\n",
       "      <td>2017-11-11</td>\n",
       "      <td>Second Class</td>\n",
       "      <td>CG-12520</td>\n",
       "      <td>Claire Gute</td>\n",
       "      <td>Consumer</td>\n",
       "      <td>Henderson</td>\n",
       "      <td>Kentucky</td>\n",
       "      <td>42420.0</td>\n",
       "      <td>South</td>\n",
       "      <td>FUR-BO-10001798</td>\n",
       "      <td>Furniture</td>\n",
       "      <td>Bookcases</td>\n",
       "      <td>Bush Somerset Collection Bookcase</td>\n",
       "      <td>261.9600</td>\n",
       "      <td>2</td>\n",
       "      <td>0.00</td>\n",
       "      <td>41.9136</td>\n",
       "    </tr>\n",
       "    <tr>\n",
       "      <th>1</th>\n",
       "      <td>2</td>\n",
       "      <td>CA-2017-152156</td>\n",
       "      <td>2017-11-08</td>\n",
       "      <td>2017-11-11</td>\n",
       "      <td>Second Class</td>\n",
       "      <td>CG-12520</td>\n",
       "      <td>Claire Gute</td>\n",
       "      <td>Consumer</td>\n",
       "      <td>Henderson</td>\n",
       "      <td>Kentucky</td>\n",
       "      <td>42420.0</td>\n",
       "      <td>South</td>\n",
       "      <td>FUR-CH-10000454</td>\n",
       "      <td>Furniture</td>\n",
       "      <td>Chairs</td>\n",
       "      <td>Hon Deluxe Fabric Upholstered Stacking Chairs,...</td>\n",
       "      <td>731.9400</td>\n",
       "      <td>3</td>\n",
       "      <td>0.00</td>\n",
       "      <td>219.5820</td>\n",
       "    </tr>\n",
       "    <tr>\n",
       "      <th>2</th>\n",
       "      <td>3</td>\n",
       "      <td>CA-2017-138688</td>\n",
       "      <td>2017-06-12</td>\n",
       "      <td>2017-06-16</td>\n",
       "      <td>Second Class</td>\n",
       "      <td>DV-13045</td>\n",
       "      <td>Darrin Van Huff</td>\n",
       "      <td>Corporate</td>\n",
       "      <td>Los Angeles</td>\n",
       "      <td>California</td>\n",
       "      <td>90036.0</td>\n",
       "      <td>West</td>\n",
       "      <td>OFF-LA-10000240</td>\n",
       "      <td>Office Supplies</td>\n",
       "      <td>Labels</td>\n",
       "      <td>Self-Adhesive Address Labels for Typewriters b...</td>\n",
       "      <td>14.6200</td>\n",
       "      <td>2</td>\n",
       "      <td>0.00</td>\n",
       "      <td>6.8714</td>\n",
       "    </tr>\n",
       "    <tr>\n",
       "      <th>3</th>\n",
       "      <td>4</td>\n",
       "      <td>US-2016-108966</td>\n",
       "      <td>2016-10-11</td>\n",
       "      <td>2016-10-18</td>\n",
       "      <td>Standard Class</td>\n",
       "      <td>SO-20335</td>\n",
       "      <td>Sean O'Donnell</td>\n",
       "      <td>Consumer</td>\n",
       "      <td>Fort Lauderdale</td>\n",
       "      <td>Florida</td>\n",
       "      <td>33311.0</td>\n",
       "      <td>South</td>\n",
       "      <td>FUR-TA-10000577</td>\n",
       "      <td>Furniture</td>\n",
       "      <td>Tables</td>\n",
       "      <td>Bretford CR4500 Series Slim Rectangular Table</td>\n",
       "      <td>957.5775</td>\n",
       "      <td>5</td>\n",
       "      <td>0.45</td>\n",
       "      <td>-383.0310</td>\n",
       "    </tr>\n",
       "    <tr>\n",
       "      <th>4</th>\n",
       "      <td>5</td>\n",
       "      <td>US-2016-108966</td>\n",
       "      <td>2016-10-11</td>\n",
       "      <td>2016-10-18</td>\n",
       "      <td>Standard Class</td>\n",
       "      <td>SO-20335</td>\n",
       "      <td>Sean O'Donnell</td>\n",
       "      <td>Consumer</td>\n",
       "      <td>Fort Lauderdale</td>\n",
       "      <td>Florida</td>\n",
       "      <td>33311.0</td>\n",
       "      <td>South</td>\n",
       "      <td>OFF-ST-10000760</td>\n",
       "      <td>Office Supplies</td>\n",
       "      <td>Storage</td>\n",
       "      <td>Eldon Fold 'N Roll Cart System</td>\n",
       "      <td>22.3680</td>\n",
       "      <td>2</td>\n",
       "      <td>0.20</td>\n",
       "      <td>2.5164</td>\n",
       "    </tr>\n",
       "  </tbody>\n",
       "</table>\n",
       "</div>"
      ],
      "text/plain": [
       "   Row ID        Order ID Order Date  Ship Date       Ship Mode Customer ID  \\\n",
       "0       1  CA-2017-152156 2017-11-08 2017-11-11    Second Class    CG-12520   \n",
       "1       2  CA-2017-152156 2017-11-08 2017-11-11    Second Class    CG-12520   \n",
       "2       3  CA-2017-138688 2017-06-12 2017-06-16    Second Class    DV-13045   \n",
       "3       4  US-2016-108966 2016-10-11 2016-10-18  Standard Class    SO-20335   \n",
       "4       5  US-2016-108966 2016-10-11 2016-10-18  Standard Class    SO-20335   \n",
       "\n",
       "     Customer Name    Segment             City       State  Postal Code  \\\n",
       "0      Claire Gute   Consumer        Henderson    Kentucky      42420.0   \n",
       "1      Claire Gute   Consumer        Henderson    Kentucky      42420.0   \n",
       "2  Darrin Van Huff  Corporate      Los Angeles  California      90036.0   \n",
       "3   Sean O'Donnell   Consumer  Fort Lauderdale     Florida      33311.0   \n",
       "4   Sean O'Donnell   Consumer  Fort Lauderdale     Florida      33311.0   \n",
       "\n",
       "  Region       Product ID         Category Sub-Category  \\\n",
       "0  South  FUR-BO-10001798        Furniture    Bookcases   \n",
       "1  South  FUR-CH-10000454        Furniture       Chairs   \n",
       "2   West  OFF-LA-10000240  Office Supplies       Labels   \n",
       "3  South  FUR-TA-10000577        Furniture       Tables   \n",
       "4  South  OFF-ST-10000760  Office Supplies      Storage   \n",
       "\n",
       "                                        Product Name     Sales  Quantity  \\\n",
       "0                  Bush Somerset Collection Bookcase  261.9600         2   \n",
       "1  Hon Deluxe Fabric Upholstered Stacking Chairs,...  731.9400         3   \n",
       "2  Self-Adhesive Address Labels for Typewriters b...   14.6200         2   \n",
       "3      Bretford CR4500 Series Slim Rectangular Table  957.5775         5   \n",
       "4                     Eldon Fold 'N Roll Cart System   22.3680         2   \n",
       "\n",
       "   Discount    Profit  \n",
       "0      0.00   41.9136  \n",
       "1      0.00  219.5820  \n",
       "2      0.00    6.8714  \n",
       "3      0.45 -383.0310  \n",
       "4      0.20    2.5164  "
      ]
     },
     "execution_count": 164,
     "metadata": {},
     "output_type": "execute_result"
    }
   ],
   "source": [
    "df[~(df['Order Date']=='ABC')].head()"
   ]
  },
  {
   "cell_type": "markdown",
   "metadata": {},
   "source": [
    "now we add it to the real df"
   ]
  },
  {
   "cell_type": "code",
   "execution_count": 165,
   "metadata": {},
   "outputs": [],
   "source": [
    "df = df[~(df['Order Date']=='ABC')]"
   ]
  },
  {
   "cell_type": "code",
   "execution_count": null,
   "metadata": {},
   "outputs": [],
   "source": [
    "# Series already in datetime format hence the error\n",
    "# the code works fine\n",
    "# df[\"Order Date\"]=pd.to_datetime(df[\"Order Data\"])"
   ]
  },
  {
   "cell_type": "markdown",
   "metadata": {},
   "source": [
    "## What is the time taken to ship order?"
   ]
  },
  {
   "cell_type": "code",
   "execution_count": 167,
   "metadata": {},
   "outputs": [
    {
     "data": {
      "text/plain": [
       "0      3 days\n",
       "1      3 days\n",
       "2      4 days\n",
       "3      7 days\n",
       "4      7 days\n",
       "        ...  \n",
       "9989   2 days\n",
       "9990   5 days\n",
       "9991   5 days\n",
       "9992   5 days\n",
       "9993   5 days\n",
       "Length: 9994, dtype: timedelta64[ns]"
      ]
     },
     "execution_count": 167,
     "metadata": {},
     "output_type": "execute_result"
    }
   ],
   "source": [
    "df[\"Ship Date\"]-df[\"Order Date\"]"
   ]
  },
  {
   "cell_type": "code",
   "execution_count": 168,
   "metadata": {},
   "outputs": [
    {
     "data": {
      "text/plain": [
       "Timedelta('3 days 23:00:12.247348409')"
      ]
     },
     "execution_count": 168,
     "metadata": {},
     "output_type": "execute_result"
    }
   ],
   "source": [
    "(df[\"Ship Date\"]-df[\"Order Date\"]).mean()"
   ]
  },
  {
   "cell_type": "code",
   "execution_count": 169,
   "metadata": {},
   "outputs": [
    {
     "data": {
      "text/plain": [
       "Timedelta('4 days 00:00:00')"
      ]
     },
     "execution_count": 169,
     "metadata": {},
     "output_type": "execute_result"
    }
   ],
   "source": [
    "(df[\"Ship Date\"]-df[\"Order Date\"]).median()"
   ]
  },
  {
   "cell_type": "markdown",
   "metadata": {},
   "source": [
    "Understanding **Ship Mode**"
   ]
  },
  {
   "cell_type": "code",
   "execution_count": 170,
   "metadata": {},
   "outputs": [
    {
     "data": {
      "text/plain": [
       "Ship Mode\n",
       "Standard Class    5968\n",
       "Second Class      1945\n",
       "First Class       1538\n",
       "Same Day           543\n",
       "Name: count, dtype: int64"
      ]
     },
     "execution_count": 170,
     "metadata": {},
     "output_type": "execute_result"
    }
   ],
   "source": [
    "df[\"Ship Mode\"].value_counts()"
   ]
  },
  {
   "cell_type": "markdown",
   "metadata": {},
   "source": [
    "shipping time by **Ship Mode**"
   ]
  },
  {
   "cell_type": "code",
   "execution_count": 172,
   "metadata": {},
   "outputs": [],
   "source": [
    "df[\"Shipping Time\"] = df[\"Ship Date\"] - df[\"Order Date\"]"
   ]
  },
  {
   "cell_type": "code",
   "execution_count": 173,
   "metadata": {},
   "outputs": [
    {
     "data": {
      "text/plain": [
       "0   3 days\n",
       "1   3 days\n",
       "2   4 days\n",
       "3   7 days\n",
       "4   7 days\n",
       "Name: Shipping Time, dtype: timedelta64[ns]"
      ]
     },
     "execution_count": 173,
     "metadata": {},
     "output_type": "execute_result"
    }
   ],
   "source": [
    "df['Shipping Time'].head()"
   ]
  },
  {
   "cell_type": "code",
   "execution_count": 178,
   "metadata": {},
   "outputs": [
    {
     "data": {
      "text/plain": [
       "Ship Mode\n",
       "First Class      2 days 04:22:09.518855656\n",
       "Same Day         0 days 01:03:38.784530386\n",
       "Second Class     3 days 05:42:47.197943444\n",
       "Standard Class   5 days 00:10:22.520107238\n",
       "Name: Shipping Time, dtype: timedelta64[ns]"
      ]
     },
     "execution_count": 178,
     "metadata": {},
     "output_type": "execute_result"
    }
   ],
   "source": [
    "df.groupby(\"Ship Mode\")[\"Shipping Time\"].mean()"
   ]
  },
  {
   "cell_type": "code",
   "execution_count": 179,
   "metadata": {},
   "outputs": [
    {
     "data": {
      "text/plain": [
       "Ship Mode\n",
       "First Class      2 days\n",
       "Same Day         0 days\n",
       "Second Class     3 days\n",
       "Standard Class   5 days\n",
       "Name: Shipping Time, dtype: timedelta64[ns]"
      ]
     },
     "execution_count": 179,
     "metadata": {},
     "output_type": "execute_result"
    }
   ],
   "source": [
    "df.groupby(\"Ship Mode\")[\"Shipping Time\"].median()"
   ]
  },
  {
   "cell_type": "markdown",
   "metadata": {},
   "source": [
    "sort **Order ID** by top 5 orders \n",
    "\n",
    "Find the top5 highest billilng Order"
   ]
  },
  {
   "cell_type": "code",
   "execution_count": 188,
   "metadata": {},
   "outputs": [
    {
     "data": {
      "text/plain": [
       "Order ID\n",
       "CA-2015-145317    23661.228\n",
       "CA-2017-118689    18336.740\n",
       "CA-2018-140151    14052.480\n",
       "CA-2018-127180    13716.458\n",
       "CA-2015-139892    10539.896\n",
       "Name: Sales, dtype: float64"
      ]
     },
     "execution_count": 188,
     "metadata": {},
     "output_type": "execute_result"
    }
   ],
   "source": [
    "top5_orders_sales = df.groupby(\"Order ID\")[\"Sales\"].sum().sort_values(ascending=False).head()\n",
    "top5_orders_sales"
   ]
  },
  {
   "cell_type": "markdown",
   "metadata": {},
   "source": [
    "What are top5 profitable Orders ID making most money?"
   ]
  },
  {
   "cell_type": "code",
   "execution_count": 189,
   "metadata": {},
   "outputs": [
    {
     "data": {
      "text/plain": [
       "Order ID\n",
       "CA-2017-118689    8762.3891\n",
       "CA-2018-140151    6734.4720\n",
       "CA-2018-166709    5039.9856\n",
       "CA-2017-117121    4946.3700\n",
       "CA-2015-116904    4668.6935\n",
       "Name: Profit, dtype: float64"
      ]
     },
     "execution_count": 189,
     "metadata": {},
     "output_type": "execute_result"
    }
   ],
   "source": [
    "top5_orders_profit = df.groupby(\"Order ID\")[\"Profit\"].sum().sort_values(ascending=False).head()\n",
    "top5_orders_profit"
   ]
  },
  {
   "cell_type": "markdown",
   "metadata": {},
   "source": [
    "Top 5 Order billings are not the Top 5 most profitable order billings"
   ]
  },
  {
   "cell_type": "markdown",
   "metadata": {},
   "source": [
    "How much discount was given to 5 high billing Order ID?"
   ]
  },
  {
   "cell_type": "markdown",
   "metadata": {},
   "source": [
    "finding top5 Order ID below"
   ]
  },
  {
   "cell_type": "code",
   "execution_count": 199,
   "metadata": {},
   "outputs": [
    {
     "data": {
      "text/plain": [
       "Index(['CA-2015-145317', 'CA-2017-118689', 'CA-2018-140151', 'CA-2018-127180',\n",
       "       'CA-2015-139892'],\n",
       "      dtype='object', name='Order ID')"
      ]
     },
     "execution_count": 199,
     "metadata": {},
     "output_type": "execute_result"
    }
   ],
   "source": [
    "top5_orders_sales.index"
   ]
  },
  {
   "cell_type": "markdown",
   "metadata": {},
   "source": [
    "**Order** data of **top 5 profitable Orders ID**"
   ]
  },
  {
   "cell_type": "code",
   "execution_count": 203,
   "metadata": {},
   "outputs": [
    {
     "data": {
      "text/html": [
       "<div>\n",
       "<style scoped>\n",
       "    .dataframe tbody tr th:only-of-type {\n",
       "        vertical-align: middle;\n",
       "    }\n",
       "\n",
       "    .dataframe tbody tr th {\n",
       "        vertical-align: top;\n",
       "    }\n",
       "\n",
       "    .dataframe thead th {\n",
       "        text-align: right;\n",
       "    }\n",
       "</style>\n",
       "<table border=\"1\" class=\"dataframe\">\n",
       "  <thead>\n",
       "    <tr style=\"text-align: right;\">\n",
       "      <th></th>\n",
       "      <th>Row ID</th>\n",
       "      <th>Order ID</th>\n",
       "      <th>Order Date</th>\n",
       "      <th>Ship Date</th>\n",
       "      <th>Ship Mode</th>\n",
       "      <th>Customer ID</th>\n",
       "      <th>Customer Name</th>\n",
       "      <th>Segment</th>\n",
       "      <th>City</th>\n",
       "      <th>State</th>\n",
       "      <th>...</th>\n",
       "      <th>Region</th>\n",
       "      <th>Product ID</th>\n",
       "      <th>Category</th>\n",
       "      <th>Sub-Category</th>\n",
       "      <th>Product Name</th>\n",
       "      <th>Sales</th>\n",
       "      <th>Quantity</th>\n",
       "      <th>Discount</th>\n",
       "      <th>Profit</th>\n",
       "      <th>Shipping Time</th>\n",
       "    </tr>\n",
       "  </thead>\n",
       "  <tbody>\n",
       "    <tr>\n",
       "      <th>164</th>\n",
       "      <td>165</td>\n",
       "      <td>CA-2015-139892</td>\n",
       "      <td>2015-09-08</td>\n",
       "      <td>2015-09-12</td>\n",
       "      <td>Standard Class</td>\n",
       "      <td>BM-11140</td>\n",
       "      <td>Becky Martin</td>\n",
       "      <td>Consumer</td>\n",
       "      <td>San Antonio</td>\n",
       "      <td>Texas</td>\n",
       "      <td>...</td>\n",
       "      <td>Central</td>\n",
       "      <td>OFF-AR-10004441</td>\n",
       "      <td>Office Supplies</td>\n",
       "      <td>Art</td>\n",
       "      <td>BIC Brite Liner Highlighters</td>\n",
       "      <td>9.936</td>\n",
       "      <td>3</td>\n",
       "      <td>0.2</td>\n",
       "      <td>2.7324</td>\n",
       "      <td>4 days</td>\n",
       "    </tr>\n",
       "    <tr>\n",
       "      <th>165</th>\n",
       "      <td>166</td>\n",
       "      <td>CA-2015-139892</td>\n",
       "      <td>2015-09-08</td>\n",
       "      <td>2015-09-12</td>\n",
       "      <td>Standard Class</td>\n",
       "      <td>BM-11140</td>\n",
       "      <td>Becky Martin</td>\n",
       "      <td>Consumer</td>\n",
       "      <td>San Antonio</td>\n",
       "      <td>Texas</td>\n",
       "      <td>...</td>\n",
       "      <td>Central</td>\n",
       "      <td>TEC-MA-10000822</td>\n",
       "      <td>Technology</td>\n",
       "      <td>Machines</td>\n",
       "      <td>Lexmark MX611dhe Monochrome Laser Printer</td>\n",
       "      <td>8159.952</td>\n",
       "      <td>8</td>\n",
       "      <td>0.4</td>\n",
       "      <td>-1359.9920</td>\n",
       "      <td>4 days</td>\n",
       "    </tr>\n",
       "    <tr>\n",
       "      <th>166</th>\n",
       "      <td>167</td>\n",
       "      <td>CA-2015-139892</td>\n",
       "      <td>2015-09-08</td>\n",
       "      <td>2015-09-12</td>\n",
       "      <td>Standard Class</td>\n",
       "      <td>BM-11140</td>\n",
       "      <td>Becky Martin</td>\n",
       "      <td>Consumer</td>\n",
       "      <td>San Antonio</td>\n",
       "      <td>Texas</td>\n",
       "      <td>...</td>\n",
       "      <td>Central</td>\n",
       "      <td>OFF-ST-10000991</td>\n",
       "      <td>Office Supplies</td>\n",
       "      <td>Storage</td>\n",
       "      <td>Space Solutions HD Industrial Steel Shelving.</td>\n",
       "      <td>275.928</td>\n",
       "      <td>3</td>\n",
       "      <td>0.2</td>\n",
       "      <td>-58.6347</td>\n",
       "      <td>4 days</td>\n",
       "    </tr>\n",
       "    <tr>\n",
       "      <th>167</th>\n",
       "      <td>168</td>\n",
       "      <td>CA-2015-139892</td>\n",
       "      <td>2015-09-08</td>\n",
       "      <td>2015-09-12</td>\n",
       "      <td>Standard Class</td>\n",
       "      <td>BM-11140</td>\n",
       "      <td>Becky Martin</td>\n",
       "      <td>Consumer</td>\n",
       "      <td>San Antonio</td>\n",
       "      <td>Texas</td>\n",
       "      <td>...</td>\n",
       "      <td>Central</td>\n",
       "      <td>FUR-CH-10004287</td>\n",
       "      <td>Furniture</td>\n",
       "      <td>Chairs</td>\n",
       "      <td>SAFCO Arco Folding Chair</td>\n",
       "      <td>1740.060</td>\n",
       "      <td>9</td>\n",
       "      <td>0.3</td>\n",
       "      <td>-24.8580</td>\n",
       "      <td>4 days</td>\n",
       "    </tr>\n",
       "    <tr>\n",
       "      <th>168</th>\n",
       "      <td>169</td>\n",
       "      <td>CA-2015-139892</td>\n",
       "      <td>2015-09-08</td>\n",
       "      <td>2015-09-12</td>\n",
       "      <td>Standard Class</td>\n",
       "      <td>BM-11140</td>\n",
       "      <td>Becky Martin</td>\n",
       "      <td>Consumer</td>\n",
       "      <td>San Antonio</td>\n",
       "      <td>Texas</td>\n",
       "      <td>...</td>\n",
       "      <td>Central</td>\n",
       "      <td>OFF-AR-10002656</td>\n",
       "      <td>Office Supplies</td>\n",
       "      <td>Art</td>\n",
       "      <td>Sanford Liquid Accent Highlighters</td>\n",
       "      <td>32.064</td>\n",
       "      <td>6</td>\n",
       "      <td>0.2</td>\n",
       "      <td>6.8136</td>\n",
       "      <td>4 days</td>\n",
       "    </tr>\n",
       "  </tbody>\n",
       "</table>\n",
       "<p>5 rows × 21 columns</p>\n",
       "</div>"
      ],
      "text/plain": [
       "     Row ID        Order ID Order Date  Ship Date       Ship Mode Customer ID  \\\n",
       "164     165  CA-2015-139892 2015-09-08 2015-09-12  Standard Class    BM-11140   \n",
       "165     166  CA-2015-139892 2015-09-08 2015-09-12  Standard Class    BM-11140   \n",
       "166     167  CA-2015-139892 2015-09-08 2015-09-12  Standard Class    BM-11140   \n",
       "167     168  CA-2015-139892 2015-09-08 2015-09-12  Standard Class    BM-11140   \n",
       "168     169  CA-2015-139892 2015-09-08 2015-09-12  Standard Class    BM-11140   \n",
       "\n",
       "    Customer Name   Segment         City  State  ...   Region  \\\n",
       "164  Becky Martin  Consumer  San Antonio  Texas  ...  Central   \n",
       "165  Becky Martin  Consumer  San Antonio  Texas  ...  Central   \n",
       "166  Becky Martin  Consumer  San Antonio  Texas  ...  Central   \n",
       "167  Becky Martin  Consumer  San Antonio  Texas  ...  Central   \n",
       "168  Becky Martin  Consumer  San Antonio  Texas  ...  Central   \n",
       "\n",
       "          Product ID         Category Sub-Category  \\\n",
       "164  OFF-AR-10004441  Office Supplies          Art   \n",
       "165  TEC-MA-10000822       Technology     Machines   \n",
       "166  OFF-ST-10000991  Office Supplies      Storage   \n",
       "167  FUR-CH-10004287        Furniture       Chairs   \n",
       "168  OFF-AR-10002656  Office Supplies          Art   \n",
       "\n",
       "                                      Product Name     Sales  Quantity  \\\n",
       "164                   BIC Brite Liner Highlighters     9.936         3   \n",
       "165      Lexmark MX611dhe Monochrome Laser Printer  8159.952         8   \n",
       "166  Space Solutions HD Industrial Steel Shelving.   275.928         3   \n",
       "167                       SAFCO Arco Folding Chair  1740.060         9   \n",
       "168             Sanford Liquid Accent Highlighters    32.064         6   \n",
       "\n",
       "     Discount     Profit  Shipping Time  \n",
       "164       0.2     2.7324         4 days  \n",
       "165       0.4 -1359.9920         4 days  \n",
       "166       0.2   -58.6347         4 days  \n",
       "167       0.3   -24.8580         4 days  \n",
       "168       0.2     6.8136         4 days  \n",
       "\n",
       "[5 rows x 21 columns]"
      ]
     },
     "execution_count": 203,
     "metadata": {},
     "output_type": "execute_result"
    }
   ],
   "source": [
    "df[df[\"Order ID\"].isin(top5_orders_sales.index)].head(5)"
   ]
  },
  {
   "cell_type": "markdown",
   "metadata": {},
   "source": [
    "**Discount** data of **top 5 profitable orders**"
   ]
  },
  {
   "cell_type": "code",
   "execution_count": 207,
   "metadata": {},
   "outputs": [
    {
     "data": {
      "text/plain": [
       "164     0.2\n",
       "165     0.4\n",
       "166     0.2\n",
       "167     0.3\n",
       "168     0.2\n",
       "169     0.8\n",
       "170     0.2\n",
       "2623    0.2\n",
       "2624    0.0\n",
       "2625    0.0\n",
       "2626    0.0\n",
       "2696    0.5\n",
       "2697    0.5\n",
       "2698    0.2\n",
       "2699    0.2\n",
       "2700    0.2\n",
       "2701    0.2\n",
       "2702    0.2\n",
       "6825    0.0\n",
       "6826    0.0\n",
       "6827    0.0\n",
       "6828    0.0\n",
       "6829    0.0\n",
       "8151    0.0\n",
       "8152    0.0\n",
       "8153    0.0\n",
       "Name: Discount, dtype: float64"
      ]
     },
     "execution_count": 207,
     "metadata": {},
     "output_type": "execute_result"
    }
   ],
   "source": [
    "df[df[\"Order ID\"].isin(top5_orders_sales.index)][\"Discount\"]"
   ]
  },
  {
   "cell_type": "markdown",
   "metadata": {},
   "source": [
    "We find data on discount given to top 5 Profitable Order ID"
   ]
  },
  {
   "cell_type": "code",
   "execution_count": 209,
   "metadata": {},
   "outputs": [
    {
     "data": {
      "text/plain": [
       "Order ID\n",
       "CA-2015-139892    32.857143\n",
       "CA-2015-145317    28.571429\n",
       "CA-2017-118689     0.000000\n",
       "CA-2018-127180     5.000000\n",
       "CA-2018-140151     0.000000\n",
       "Name: Discount, dtype: float64"
      ]
     },
     "execution_count": 209,
     "metadata": {},
     "output_type": "execute_result"
    }
   ],
   "source": [
    "df[df[\"Order ID\"].isin(top5_orders_sales.index)].groupby(\"Order ID\")[\"Discount\"].mean()*100"
   ]
  },
  {
   "cell_type": "markdown",
   "metadata": {},
   "source": [
    "Finding more insight about Ship Mode\n",
    "comparing sales profit and quantity from the perspective of Ship Mode"
   ]
  },
  {
   "cell_type": "code",
   "execution_count": 215,
   "metadata": {},
   "outputs": [
    {
     "data": {
      "text/html": [
       "<div>\n",
       "<style scoped>\n",
       "    .dataframe tbody tr th:only-of-type {\n",
       "        vertical-align: middle;\n",
       "    }\n",
       "\n",
       "    .dataframe tbody tr th {\n",
       "        vertical-align: top;\n",
       "    }\n",
       "\n",
       "    .dataframe thead th {\n",
       "        text-align: right;\n",
       "    }\n",
       "</style>\n",
       "<table border=\"1\" class=\"dataframe\">\n",
       "  <thead>\n",
       "    <tr style=\"text-align: right;\">\n",
       "      <th></th>\n",
       "      <th>Sales</th>\n",
       "      <th>Profit</th>\n",
       "      <th>Quantity</th>\n",
       "    </tr>\n",
       "    <tr>\n",
       "      <th>Ship Mode</th>\n",
       "      <th></th>\n",
       "      <th></th>\n",
       "      <th></th>\n",
       "    </tr>\n",
       "  </thead>\n",
       "  <tbody>\n",
       "    <tr>\n",
       "      <th>First Class</th>\n",
       "      <td>351428.42</td>\n",
       "      <td>48969.84</td>\n",
       "      <td>5693</td>\n",
       "    </tr>\n",
       "    <tr>\n",
       "      <th>Same Day</th>\n",
       "      <td>128363.12</td>\n",
       "      <td>15891.76</td>\n",
       "      <td>1960</td>\n",
       "    </tr>\n",
       "    <tr>\n",
       "      <th>Second Class</th>\n",
       "      <td>459193.57</td>\n",
       "      <td>57446.64</td>\n",
       "      <td>7423</td>\n",
       "    </tr>\n",
       "    <tr>\n",
       "      <th>Standard Class</th>\n",
       "      <td>1358215.74</td>\n",
       "      <td>164088.79</td>\n",
       "      <td>22797</td>\n",
       "    </tr>\n",
       "  </tbody>\n",
       "</table>\n",
       "</div>"
      ],
      "text/plain": [
       "                     Sales     Profit  Quantity\n",
       "Ship Mode                                      \n",
       "First Class      351428.42   48969.84      5693\n",
       "Same Day         128363.12   15891.76      1960\n",
       "Second Class     459193.57   57446.64      7423\n",
       "Standard Class  1358215.74  164088.79     22797"
      ]
     },
     "execution_count": 215,
     "metadata": {},
     "output_type": "execute_result"
    }
   ],
   "source": [
    "# using round() as \n",
    "np.round(df.groupby(\"Ship Mode\")[[\"Sales\",'Profit','Quantity']].sum(), decimals=2)"
   ]
  },
  {
   "cell_type": "code",
   "execution_count": 217,
   "metadata": {},
   "outputs": [
    {
     "data": {
      "text/html": [
       "<div>\n",
       "<style scoped>\n",
       "    .dataframe tbody tr th:only-of-type {\n",
       "        vertical-align: middle;\n",
       "    }\n",
       "\n",
       "    .dataframe tbody tr th {\n",
       "        vertical-align: top;\n",
       "    }\n",
       "\n",
       "    .dataframe thead th {\n",
       "        text-align: right;\n",
       "    }\n",
       "</style>\n",
       "<table border=\"1\" class=\"dataframe\">\n",
       "  <thead>\n",
       "    <tr style=\"text-align: right;\">\n",
       "      <th></th>\n",
       "      <th>Row ID</th>\n",
       "      <th>Order ID</th>\n",
       "      <th>Order Date</th>\n",
       "      <th>Ship Date</th>\n",
       "      <th>Customer ID</th>\n",
       "      <th>Customer Name</th>\n",
       "      <th>Segment</th>\n",
       "      <th>City</th>\n",
       "      <th>State</th>\n",
       "      <th>Postal Code</th>\n",
       "      <th>Region</th>\n",
       "      <th>Product ID</th>\n",
       "      <th>Category</th>\n",
       "      <th>Sub-Category</th>\n",
       "      <th>Product Name</th>\n",
       "      <th>Sales</th>\n",
       "      <th>Quantity</th>\n",
       "      <th>Discount</th>\n",
       "      <th>Profit</th>\n",
       "      <th>Shipping Time</th>\n",
       "    </tr>\n",
       "  </thead>\n",
       "  <tbody>\n",
       "    <tr>\n",
       "      <th>0</th>\n",
       "      <td>1</td>\n",
       "      <td>CA-2017-152156</td>\n",
       "      <td>2017-11-08</td>\n",
       "      <td>2017-11-11</td>\n",
       "      <td>CG-12520</td>\n",
       "      <td>Claire Gute</td>\n",
       "      <td>Consumer</td>\n",
       "      <td>Henderson</td>\n",
       "      <td>Kentucky</td>\n",
       "      <td>42420.0</td>\n",
       "      <td>South</td>\n",
       "      <td>FUR-BO-10001798</td>\n",
       "      <td>Furniture</td>\n",
       "      <td>Bookcases</td>\n",
       "      <td>Bush Somerset Collection Bookcase</td>\n",
       "      <td>261.9600</td>\n",
       "      <td>2</td>\n",
       "      <td>0.00</td>\n",
       "      <td>41.9136</td>\n",
       "      <td>3 days</td>\n",
       "    </tr>\n",
       "    <tr>\n",
       "      <th>1</th>\n",
       "      <td>2</td>\n",
       "      <td>CA-2017-152156</td>\n",
       "      <td>2017-11-08</td>\n",
       "      <td>2017-11-11</td>\n",
       "      <td>CG-12520</td>\n",
       "      <td>Claire Gute</td>\n",
       "      <td>Consumer</td>\n",
       "      <td>Henderson</td>\n",
       "      <td>Kentucky</td>\n",
       "      <td>42420.0</td>\n",
       "      <td>South</td>\n",
       "      <td>FUR-CH-10000454</td>\n",
       "      <td>Furniture</td>\n",
       "      <td>Chairs</td>\n",
       "      <td>Hon Deluxe Fabric Upholstered Stacking Chairs,...</td>\n",
       "      <td>731.9400</td>\n",
       "      <td>3</td>\n",
       "      <td>0.00</td>\n",
       "      <td>219.5820</td>\n",
       "      <td>3 days</td>\n",
       "    </tr>\n",
       "    <tr>\n",
       "      <th>2</th>\n",
       "      <td>3</td>\n",
       "      <td>CA-2017-138688</td>\n",
       "      <td>2017-06-12</td>\n",
       "      <td>2017-06-16</td>\n",
       "      <td>DV-13045</td>\n",
       "      <td>Darrin Van Huff</td>\n",
       "      <td>Corporate</td>\n",
       "      <td>Los Angeles</td>\n",
       "      <td>California</td>\n",
       "      <td>90036.0</td>\n",
       "      <td>West</td>\n",
       "      <td>OFF-LA-10000240</td>\n",
       "      <td>Office Supplies</td>\n",
       "      <td>Labels</td>\n",
       "      <td>Self-Adhesive Address Labels for Typewriters b...</td>\n",
       "      <td>14.6200</td>\n",
       "      <td>2</td>\n",
       "      <td>0.00</td>\n",
       "      <td>6.8714</td>\n",
       "      <td>4 days</td>\n",
       "    </tr>\n",
       "    <tr>\n",
       "      <th>3</th>\n",
       "      <td>4</td>\n",
       "      <td>US-2016-108966</td>\n",
       "      <td>2016-10-11</td>\n",
       "      <td>2016-10-18</td>\n",
       "      <td>SO-20335</td>\n",
       "      <td>Sean O'Donnell</td>\n",
       "      <td>Consumer</td>\n",
       "      <td>Fort Lauderdale</td>\n",
       "      <td>Florida</td>\n",
       "      <td>33311.0</td>\n",
       "      <td>South</td>\n",
       "      <td>FUR-TA-10000577</td>\n",
       "      <td>Furniture</td>\n",
       "      <td>Tables</td>\n",
       "      <td>Bretford CR4500 Series Slim Rectangular Table</td>\n",
       "      <td>957.5775</td>\n",
       "      <td>5</td>\n",
       "      <td>0.45</td>\n",
       "      <td>-383.0310</td>\n",
       "      <td>7 days</td>\n",
       "    </tr>\n",
       "    <tr>\n",
       "      <th>4</th>\n",
       "      <td>5</td>\n",
       "      <td>US-2016-108966</td>\n",
       "      <td>2016-10-11</td>\n",
       "      <td>2016-10-18</td>\n",
       "      <td>SO-20335</td>\n",
       "      <td>Sean O'Donnell</td>\n",
       "      <td>Consumer</td>\n",
       "      <td>Fort Lauderdale</td>\n",
       "      <td>Florida</td>\n",
       "      <td>33311.0</td>\n",
       "      <td>South</td>\n",
       "      <td>OFF-ST-10000760</td>\n",
       "      <td>Office Supplies</td>\n",
       "      <td>Storage</td>\n",
       "      <td>Eldon Fold 'N Roll Cart System</td>\n",
       "      <td>22.3680</td>\n",
       "      <td>2</td>\n",
       "      <td>0.20</td>\n",
       "      <td>2.5164</td>\n",
       "      <td>7 days</td>\n",
       "    </tr>\n",
       "  </tbody>\n",
       "</table>\n",
       "</div>"
      ],
      "text/plain": [
       "   Row ID        Order ID Order Date  Ship Date Customer ID    Customer Name  \\\n",
       "0       1  CA-2017-152156 2017-11-08 2017-11-11    CG-12520      Claire Gute   \n",
       "1       2  CA-2017-152156 2017-11-08 2017-11-11    CG-12520      Claire Gute   \n",
       "2       3  CA-2017-138688 2017-06-12 2017-06-16    DV-13045  Darrin Van Huff   \n",
       "3       4  US-2016-108966 2016-10-11 2016-10-18    SO-20335   Sean O'Donnell   \n",
       "4       5  US-2016-108966 2016-10-11 2016-10-18    SO-20335   Sean O'Donnell   \n",
       "\n",
       "     Segment             City       State  Postal Code Region  \\\n",
       "0   Consumer        Henderson    Kentucky      42420.0  South   \n",
       "1   Consumer        Henderson    Kentucky      42420.0  South   \n",
       "2  Corporate      Los Angeles  California      90036.0   West   \n",
       "3   Consumer  Fort Lauderdale     Florida      33311.0  South   \n",
       "4   Consumer  Fort Lauderdale     Florida      33311.0  South   \n",
       "\n",
       "        Product ID         Category Sub-Category  \\\n",
       "0  FUR-BO-10001798        Furniture    Bookcases   \n",
       "1  FUR-CH-10000454        Furniture       Chairs   \n",
       "2  OFF-LA-10000240  Office Supplies       Labels   \n",
       "3  FUR-TA-10000577        Furniture       Tables   \n",
       "4  OFF-ST-10000760  Office Supplies      Storage   \n",
       "\n",
       "                                        Product Name     Sales  Quantity  \\\n",
       "0                  Bush Somerset Collection Bookcase  261.9600         2   \n",
       "1  Hon Deluxe Fabric Upholstered Stacking Chairs,...  731.9400         3   \n",
       "2  Self-Adhesive Address Labels for Typewriters b...   14.6200         2   \n",
       "3      Bretford CR4500 Series Slim Rectangular Table  957.5775         5   \n",
       "4                     Eldon Fold 'N Roll Cart System   22.3680         2   \n",
       "\n",
       "   Discount    Profit Shipping Time  \n",
       "0      0.00   41.9136        3 days  \n",
       "1      0.00  219.5820        3 days  \n",
       "2      0.00    6.8714        4 days  \n",
       "3      0.45 -383.0310        7 days  \n",
       "4      0.20    2.5164        7 days  "
      ]
     },
     "execution_count": 217,
     "metadata": {},
     "output_type": "execute_result"
    }
   ],
   "source": [
    "df.drop(\"Ship Mode\", axis=1).head()"
   ]
  },
  {
   "cell_type": "code",
   "execution_count": 218,
   "metadata": {},
   "outputs": [
    {
     "data": {
      "text/plain": [
       "0                       Bush Somerset Collection Bookcase\n",
       "1       Hon Deluxe Fabric Upholstered Stacking Chairs,...\n",
       "2       Self-Adhesive Address Labels for Typewriters b...\n",
       "3           Bretford CR4500 Series Slim Rectangular Table\n",
       "4                          Eldon Fold 'N Roll Cart System\n",
       "                              ...                        \n",
       "9989                               Ultra Door Pull Handle\n",
       "9990    Tenex B1-RE Series Chair Mats for Low Pile Car...\n",
       "9991                                Aastra 57i VoIP phone\n",
       "9992    It's Hot Message Books with Stickers, 2 3/4\" x 5\"\n",
       "9993    Acco 7-Outlet Masterpiece Power Center, Wihtou...\n",
       "Name: Product Name, Length: 9994, dtype: object"
      ]
     },
     "execution_count": 218,
     "metadata": {},
     "output_type": "execute_result"
    }
   ],
   "source": [
    "df['Product Name']"
   ]
  },
  {
   "cell_type": "code",
   "execution_count": 219,
   "metadata": {},
   "outputs": [
    {
     "data": {
      "text/plain": [
       "0       CG-12520\n",
       "1       CG-12520\n",
       "2       DV-13045\n",
       "3       SO-20335\n",
       "4       SO-20335\n",
       "          ...   \n",
       "9989    TB-21400\n",
       "9990    DB-13060\n",
       "9991    DB-13060\n",
       "9992    DB-13060\n",
       "9993    CC-12220\n",
       "Name: Customer ID, Length: 9994, dtype: object"
      ]
     },
     "execution_count": 219,
     "metadata": {},
     "output_type": "execute_result"
    }
   ],
   "source": [
    "df['Customer ID']"
   ]
  },
  {
   "cell_type": "markdown",
   "metadata": {},
   "source": [
    "data about a particular customer ID"
   ]
  },
  {
   "cell_type": "code",
   "execution_count": 225,
   "metadata": {},
   "outputs": [
    {
     "data": {
      "text/html": [
       "<div>\n",
       "<style scoped>\n",
       "    .dataframe tbody tr th:only-of-type {\n",
       "        vertical-align: middle;\n",
       "    }\n",
       "\n",
       "    .dataframe tbody tr th {\n",
       "        vertical-align: top;\n",
       "    }\n",
       "\n",
       "    .dataframe thead th {\n",
       "        text-align: right;\n",
       "    }\n",
       "</style>\n",
       "<table border=\"1\" class=\"dataframe\">\n",
       "  <thead>\n",
       "    <tr style=\"text-align: right;\">\n",
       "      <th></th>\n",
       "      <th>Row ID</th>\n",
       "      <th>Order ID</th>\n",
       "      <th>Order Date</th>\n",
       "      <th>Ship Date</th>\n",
       "      <th>Ship Mode</th>\n",
       "      <th>Customer ID</th>\n",
       "      <th>Customer Name</th>\n",
       "      <th>Segment</th>\n",
       "      <th>City</th>\n",
       "      <th>State</th>\n",
       "      <th>...</th>\n",
       "      <th>Region</th>\n",
       "      <th>Product ID</th>\n",
       "      <th>Category</th>\n",
       "      <th>Sub-Category</th>\n",
       "      <th>Product Name</th>\n",
       "      <th>Sales</th>\n",
       "      <th>Quantity</th>\n",
       "      <th>Discount</th>\n",
       "      <th>Profit</th>\n",
       "      <th>Shipping Time</th>\n",
       "    </tr>\n",
       "  </thead>\n",
       "  <tbody>\n",
       "    <tr>\n",
       "      <th>0</th>\n",
       "      <td>1</td>\n",
       "      <td>CA-2017-152156</td>\n",
       "      <td>2017-11-08</td>\n",
       "      <td>2017-11-11</td>\n",
       "      <td>Second Class</td>\n",
       "      <td>CG-12520</td>\n",
       "      <td>Claire Gute</td>\n",
       "      <td>Consumer</td>\n",
       "      <td>Henderson</td>\n",
       "      <td>Kentucky</td>\n",
       "      <td>...</td>\n",
       "      <td>South</td>\n",
       "      <td>FUR-BO-10001798</td>\n",
       "      <td>Furniture</td>\n",
       "      <td>Bookcases</td>\n",
       "      <td>Bush Somerset Collection Bookcase</td>\n",
       "      <td>261.960</td>\n",
       "      <td>2</td>\n",
       "      <td>0.0</td>\n",
       "      <td>41.9136</td>\n",
       "      <td>3 days</td>\n",
       "    </tr>\n",
       "    <tr>\n",
       "      <th>1</th>\n",
       "      <td>2</td>\n",
       "      <td>CA-2017-152156</td>\n",
       "      <td>2017-11-08</td>\n",
       "      <td>2017-11-11</td>\n",
       "      <td>Second Class</td>\n",
       "      <td>CG-12520</td>\n",
       "      <td>Claire Gute</td>\n",
       "      <td>Consumer</td>\n",
       "      <td>Henderson</td>\n",
       "      <td>Kentucky</td>\n",
       "      <td>...</td>\n",
       "      <td>South</td>\n",
       "      <td>FUR-CH-10000454</td>\n",
       "      <td>Furniture</td>\n",
       "      <td>Chairs</td>\n",
       "      <td>Hon Deluxe Fabric Upholstered Stacking Chairs,...</td>\n",
       "      <td>731.940</td>\n",
       "      <td>3</td>\n",
       "      <td>0.0</td>\n",
       "      <td>219.5820</td>\n",
       "      <td>3 days</td>\n",
       "    </tr>\n",
       "    <tr>\n",
       "      <th>5491</th>\n",
       "      <td>5492</td>\n",
       "      <td>CA-2018-164098</td>\n",
       "      <td>2018-01-26</td>\n",
       "      <td>2018-01-27</td>\n",
       "      <td>First Class</td>\n",
       "      <td>CG-12520</td>\n",
       "      <td>Claire Gute</td>\n",
       "      <td>Consumer</td>\n",
       "      <td>Houston</td>\n",
       "      <td>Texas</td>\n",
       "      <td>...</td>\n",
       "      <td>Central</td>\n",
       "      <td>OFF-ST-10000615</td>\n",
       "      <td>Office Supplies</td>\n",
       "      <td>Storage</td>\n",
       "      <td>SimpliFile Personal File, Black Granite, 15w x...</td>\n",
       "      <td>18.160</td>\n",
       "      <td>2</td>\n",
       "      <td>0.2</td>\n",
       "      <td>1.8160</td>\n",
       "      <td>1 days</td>\n",
       "    </tr>\n",
       "    <tr>\n",
       "      <th>6877</th>\n",
       "      <td>6878</td>\n",
       "      <td>US-2016-123918</td>\n",
       "      <td>2016-10-15</td>\n",
       "      <td>2016-10-15</td>\n",
       "      <td>Same Day</td>\n",
       "      <td>CG-12520</td>\n",
       "      <td>Claire Gute</td>\n",
       "      <td>Consumer</td>\n",
       "      <td>Dallas</td>\n",
       "      <td>Texas</td>\n",
       "      <td>...</td>\n",
       "      <td>Central</td>\n",
       "      <td>FUR-FU-10004952</td>\n",
       "      <td>Furniture</td>\n",
       "      <td>Furnishings</td>\n",
       "      <td>C-Line Cubicle Keepers Polyproplyene Holder w/...</td>\n",
       "      <td>131.376</td>\n",
       "      <td>6</td>\n",
       "      <td>0.6</td>\n",
       "      <td>-95.2476</td>\n",
       "      <td>0 days</td>\n",
       "    </tr>\n",
       "    <tr>\n",
       "      <th>6878</th>\n",
       "      <td>6879</td>\n",
       "      <td>US-2016-123918</td>\n",
       "      <td>2016-10-15</td>\n",
       "      <td>2016-10-15</td>\n",
       "      <td>Same Day</td>\n",
       "      <td>CG-12520</td>\n",
       "      <td>Claire Gute</td>\n",
       "      <td>Consumer</td>\n",
       "      <td>Dallas</td>\n",
       "      <td>Texas</td>\n",
       "      <td>...</td>\n",
       "      <td>Central</td>\n",
       "      <td>OFF-PA-10003001</td>\n",
       "      <td>Office Supplies</td>\n",
       "      <td>Paper</td>\n",
       "      <td>Xerox 1986</td>\n",
       "      <td>5.344</td>\n",
       "      <td>1</td>\n",
       "      <td>0.2</td>\n",
       "      <td>1.8704</td>\n",
       "      <td>0 days</td>\n",
       "    </tr>\n",
       "  </tbody>\n",
       "</table>\n",
       "<p>5 rows × 21 columns</p>\n",
       "</div>"
      ],
      "text/plain": [
       "      Row ID        Order ID Order Date  Ship Date     Ship Mode Customer ID  \\\n",
       "0          1  CA-2017-152156 2017-11-08 2017-11-11  Second Class    CG-12520   \n",
       "1          2  CA-2017-152156 2017-11-08 2017-11-11  Second Class    CG-12520   \n",
       "5491    5492  CA-2018-164098 2018-01-26 2018-01-27   First Class    CG-12520   \n",
       "6877    6878  US-2016-123918 2016-10-15 2016-10-15      Same Day    CG-12520   \n",
       "6878    6879  US-2016-123918 2016-10-15 2016-10-15      Same Day    CG-12520   \n",
       "\n",
       "     Customer Name   Segment       City     State  ...   Region  \\\n",
       "0      Claire Gute  Consumer  Henderson  Kentucky  ...    South   \n",
       "1      Claire Gute  Consumer  Henderson  Kentucky  ...    South   \n",
       "5491   Claire Gute  Consumer    Houston     Texas  ...  Central   \n",
       "6877   Claire Gute  Consumer     Dallas     Texas  ...  Central   \n",
       "6878   Claire Gute  Consumer     Dallas     Texas  ...  Central   \n",
       "\n",
       "           Product ID         Category Sub-Category  \\\n",
       "0     FUR-BO-10001798        Furniture    Bookcases   \n",
       "1     FUR-CH-10000454        Furniture       Chairs   \n",
       "5491  OFF-ST-10000615  Office Supplies      Storage   \n",
       "6877  FUR-FU-10004952        Furniture  Furnishings   \n",
       "6878  OFF-PA-10003001  Office Supplies        Paper   \n",
       "\n",
       "                                           Product Name    Sales  Quantity  \\\n",
       "0                     Bush Somerset Collection Bookcase  261.960         2   \n",
       "1     Hon Deluxe Fabric Upholstered Stacking Chairs,...  731.940         3   \n",
       "5491  SimpliFile Personal File, Black Granite, 15w x...   18.160         2   \n",
       "6877  C-Line Cubicle Keepers Polyproplyene Holder w/...  131.376         6   \n",
       "6878                                         Xerox 1986    5.344         1   \n",
       "\n",
       "      Discount    Profit  Shipping Time  \n",
       "0          0.0   41.9136         3 days  \n",
       "1          0.0  219.5820         3 days  \n",
       "5491       0.2    1.8160         1 days  \n",
       "6877       0.6  -95.2476         0 days  \n",
       "6878       0.2    1.8704         0 days  \n",
       "\n",
       "[5 rows x 21 columns]"
      ]
     },
     "execution_count": 225,
     "metadata": {},
     "output_type": "execute_result"
    }
   ],
   "source": [
    "df[df['Customer ID']=='CG-12520']"
   ]
  },
  {
   "cell_type": "code",
   "execution_count": 231,
   "metadata": {},
   "outputs": [
    {
     "ename": "KeyError",
     "evalue": "'Customer ID'",
     "output_type": "error",
     "traceback": [
      "\u001b[1;31m---------------------------------------------------------------------------\u001b[0m",
      "\u001b[1;31mKeyError\u001b[0m                                  Traceback (most recent call last)",
      "File \u001b[1;32m~\\AppData\\Local\\Packages\\PythonSoftwareFoundation.Python.3.12_qbz5n2kfra8p0\\LocalCache\\local-packages\\Python312\\site-packages\\pandas\\core\\indexes\\base.py:3805\u001b[0m, in \u001b[0;36mIndex.get_loc\u001b[1;34m(self, key)\u001b[0m\n\u001b[0;32m   3804\u001b[0m \u001b[38;5;28;01mtry\u001b[39;00m:\n\u001b[1;32m-> 3805\u001b[0m     \u001b[38;5;28;01mreturn\u001b[39;00m \u001b[38;5;28;43mself\u001b[39;49m\u001b[38;5;241;43m.\u001b[39;49m\u001b[43m_engine\u001b[49m\u001b[38;5;241;43m.\u001b[39;49m\u001b[43mget_loc\u001b[49m\u001b[43m(\u001b[49m\u001b[43mcasted_key\u001b[49m\u001b[43m)\u001b[49m\n\u001b[0;32m   3806\u001b[0m \u001b[38;5;28;01mexcept\u001b[39;00m \u001b[38;5;167;01mKeyError\u001b[39;00m \u001b[38;5;28;01mas\u001b[39;00m err:\n",
      "File \u001b[1;32mindex.pyx:167\u001b[0m, in \u001b[0;36mpandas._libs.index.IndexEngine.get_loc\u001b[1;34m()\u001b[0m\n",
      "File \u001b[1;32mindex.pyx:196\u001b[0m, in \u001b[0;36mpandas._libs.index.IndexEngine.get_loc\u001b[1;34m()\u001b[0m\n",
      "File \u001b[1;32mpandas\\\\_libs\\\\hashtable_class_helper.pxi:7081\u001b[0m, in \u001b[0;36mpandas._libs.hashtable.PyObjectHashTable.get_item\u001b[1;34m()\u001b[0m\n",
      "File \u001b[1;32mpandas\\\\_libs\\\\hashtable_class_helper.pxi:7089\u001b[0m, in \u001b[0;36mpandas._libs.hashtable.PyObjectHashTable.get_item\u001b[1;34m()\u001b[0m\n",
      "\u001b[1;31mKeyError\u001b[0m: 'Customer ID'",
      "\nThe above exception was the direct cause of the following exception:\n",
      "\u001b[1;31mKeyError\u001b[0m                                  Traceback (most recent call last)",
      "Cell \u001b[1;32mIn[231], line 1\u001b[0m\n\u001b[1;32m----> 1\u001b[0m \u001b[43mdf\u001b[49m\u001b[43m[\u001b[49m\u001b[38;5;124;43m'\u001b[39;49m\u001b[38;5;124;43mCustomer ID\u001b[39;49m\u001b[38;5;124;43m'\u001b[39;49m\u001b[43m]\u001b[49m\u001b[38;5;241m==\u001b[39m\u001b[38;5;124m\"\u001b[39m\u001b[38;5;124mCG-12520\u001b[39m\u001b[38;5;124m\"\u001b[39m\n",
      "File \u001b[1;32m~\\AppData\\Local\\Packages\\PythonSoftwareFoundation.Python.3.12_qbz5n2kfra8p0\\LocalCache\\local-packages\\Python312\\site-packages\\pandas\\core\\frame.py:4102\u001b[0m, in \u001b[0;36mDataFrame.__getitem__\u001b[1;34m(self, key)\u001b[0m\n\u001b[0;32m   4100\u001b[0m \u001b[38;5;28;01mif\u001b[39;00m \u001b[38;5;28mself\u001b[39m\u001b[38;5;241m.\u001b[39mcolumns\u001b[38;5;241m.\u001b[39mnlevels \u001b[38;5;241m>\u001b[39m \u001b[38;5;241m1\u001b[39m:\n\u001b[0;32m   4101\u001b[0m     \u001b[38;5;28;01mreturn\u001b[39;00m \u001b[38;5;28mself\u001b[39m\u001b[38;5;241m.\u001b[39m_getitem_multilevel(key)\n\u001b[1;32m-> 4102\u001b[0m indexer \u001b[38;5;241m=\u001b[39m \u001b[38;5;28;43mself\u001b[39;49m\u001b[38;5;241;43m.\u001b[39;49m\u001b[43mcolumns\u001b[49m\u001b[38;5;241;43m.\u001b[39;49m\u001b[43mget_loc\u001b[49m\u001b[43m(\u001b[49m\u001b[43mkey\u001b[49m\u001b[43m)\u001b[49m\n\u001b[0;32m   4103\u001b[0m \u001b[38;5;28;01mif\u001b[39;00m is_integer(indexer):\n\u001b[0;32m   4104\u001b[0m     indexer \u001b[38;5;241m=\u001b[39m [indexer]\n",
      "File \u001b[1;32m~\\AppData\\Local\\Packages\\PythonSoftwareFoundation.Python.3.12_qbz5n2kfra8p0\\LocalCache\\local-packages\\Python312\\site-packages\\pandas\\core\\indexes\\base.py:3812\u001b[0m, in \u001b[0;36mIndex.get_loc\u001b[1;34m(self, key)\u001b[0m\n\u001b[0;32m   3807\u001b[0m     \u001b[38;5;28;01mif\u001b[39;00m \u001b[38;5;28misinstance\u001b[39m(casted_key, \u001b[38;5;28mslice\u001b[39m) \u001b[38;5;129;01mor\u001b[39;00m (\n\u001b[0;32m   3808\u001b[0m         \u001b[38;5;28misinstance\u001b[39m(casted_key, abc\u001b[38;5;241m.\u001b[39mIterable)\n\u001b[0;32m   3809\u001b[0m         \u001b[38;5;129;01mand\u001b[39;00m \u001b[38;5;28many\u001b[39m(\u001b[38;5;28misinstance\u001b[39m(x, \u001b[38;5;28mslice\u001b[39m) \u001b[38;5;28;01mfor\u001b[39;00m x \u001b[38;5;129;01min\u001b[39;00m casted_key)\n\u001b[0;32m   3810\u001b[0m     ):\n\u001b[0;32m   3811\u001b[0m         \u001b[38;5;28;01mraise\u001b[39;00m InvalidIndexError(key)\n\u001b[1;32m-> 3812\u001b[0m     \u001b[38;5;28;01mraise\u001b[39;00m \u001b[38;5;167;01mKeyError\u001b[39;00m(key) \u001b[38;5;28;01mfrom\u001b[39;00m \u001b[38;5;21;01merr\u001b[39;00m\n\u001b[0;32m   3813\u001b[0m \u001b[38;5;28;01mexcept\u001b[39;00m \u001b[38;5;167;01mTypeError\u001b[39;00m:\n\u001b[0;32m   3814\u001b[0m     \u001b[38;5;66;03m# If we have a listlike key, _check_indexing_error will raise\u001b[39;00m\n\u001b[0;32m   3815\u001b[0m     \u001b[38;5;66;03m#  InvalidIndexError. Otherwise we fall through and re-raise\u001b[39;00m\n\u001b[0;32m   3816\u001b[0m     \u001b[38;5;66;03m#  the TypeError.\u001b[39;00m\n\u001b[0;32m   3817\u001b[0m     \u001b[38;5;28mself\u001b[39m\u001b[38;5;241m.\u001b[39m_check_indexing_error(key)\n",
      "\u001b[1;31mKeyError\u001b[0m: 'Customer ID'"
     ]
    }
   ],
   "source": [
    "df['Customer ID']==\"CG-12520\""
   ]
  },
  {
   "cell_type": "markdown",
   "metadata": {},
   "source": [
    "## Dropping  unnecessary columns"
   ]
  },
  {
   "cell_type": "code",
   "execution_count": 232,
   "metadata": {},
   "outputs": [
    {
     "ename": "KeyError",
     "evalue": "\"['Customer ID', 'Postal Code', 'Product ID'] not found in axis\"",
     "output_type": "error",
     "traceback": [
      "\u001b[1;31m---------------------------------------------------------------------------\u001b[0m",
      "\u001b[1;31mKeyError\u001b[0m                                  Traceback (most recent call last)",
      "Cell \u001b[1;32mIn[232], line 1\u001b[0m\n\u001b[1;32m----> 1\u001b[0m \u001b[43mdf\u001b[49m\u001b[38;5;241;43m.\u001b[39;49m\u001b[43mdrop\u001b[49m\u001b[43m(\u001b[49m\u001b[43m[\u001b[49m\u001b[38;5;124;43m'\u001b[39;49m\u001b[38;5;124;43mCustomer ID\u001b[39;49m\u001b[38;5;124;43m'\u001b[39;49m\u001b[43m,\u001b[49m\u001b[38;5;124;43m'\u001b[39;49m\u001b[38;5;124;43mPostal Code\u001b[39;49m\u001b[38;5;124;43m'\u001b[39;49m\u001b[43m,\u001b[49m\u001b[38;5;124;43m'\u001b[39;49m\u001b[38;5;124;43mProduct ID\u001b[39;49m\u001b[38;5;124;43m'\u001b[39;49m\u001b[43m]\u001b[49m\u001b[43m,\u001b[49m\u001b[43maxis\u001b[49m\u001b[38;5;241;43m=\u001b[39;49m\u001b[38;5;241;43m1\u001b[39;49m\u001b[43m,\u001b[49m\u001b[43minplace\u001b[49m\u001b[38;5;241;43m=\u001b[39;49m\u001b[38;5;28;43;01mTrue\u001b[39;49;00m\u001b[43m)\u001b[49m\n\u001b[0;32m      2\u001b[0m df\u001b[38;5;241m.\u001b[39mhead(\u001b[38;5;241m2\u001b[39m)\n",
      "File \u001b[1;32m~\\AppData\\Local\\Packages\\PythonSoftwareFoundation.Python.3.12_qbz5n2kfra8p0\\LocalCache\\local-packages\\Python312\\site-packages\\pandas\\core\\frame.py:5581\u001b[0m, in \u001b[0;36mDataFrame.drop\u001b[1;34m(self, labels, axis, index, columns, level, inplace, errors)\u001b[0m\n\u001b[0;32m   5433\u001b[0m \u001b[38;5;28;01mdef\u001b[39;00m \u001b[38;5;21mdrop\u001b[39m(\n\u001b[0;32m   5434\u001b[0m     \u001b[38;5;28mself\u001b[39m,\n\u001b[0;32m   5435\u001b[0m     labels: IndexLabel \u001b[38;5;241m|\u001b[39m \u001b[38;5;28;01mNone\u001b[39;00m \u001b[38;5;241m=\u001b[39m \u001b[38;5;28;01mNone\u001b[39;00m,\n\u001b[1;32m   (...)\u001b[0m\n\u001b[0;32m   5442\u001b[0m     errors: IgnoreRaise \u001b[38;5;241m=\u001b[39m \u001b[38;5;124m\"\u001b[39m\u001b[38;5;124mraise\u001b[39m\u001b[38;5;124m\"\u001b[39m,\n\u001b[0;32m   5443\u001b[0m ) \u001b[38;5;241m-\u001b[39m\u001b[38;5;241m>\u001b[39m DataFrame \u001b[38;5;241m|\u001b[39m \u001b[38;5;28;01mNone\u001b[39;00m:\n\u001b[0;32m   5444\u001b[0m \u001b[38;5;250m    \u001b[39m\u001b[38;5;124;03m\"\"\"\u001b[39;00m\n\u001b[0;32m   5445\u001b[0m \u001b[38;5;124;03m    Drop specified labels from rows or columns.\u001b[39;00m\n\u001b[0;32m   5446\u001b[0m \n\u001b[1;32m   (...)\u001b[0m\n\u001b[0;32m   5579\u001b[0m \u001b[38;5;124;03m            weight  1.0     0.8\u001b[39;00m\n\u001b[0;32m   5580\u001b[0m \u001b[38;5;124;03m    \"\"\"\u001b[39;00m\n\u001b[1;32m-> 5581\u001b[0m     \u001b[38;5;28;01mreturn\u001b[39;00m \u001b[38;5;28;43msuper\u001b[39;49m\u001b[43m(\u001b[49m\u001b[43m)\u001b[49m\u001b[38;5;241;43m.\u001b[39;49m\u001b[43mdrop\u001b[49m\u001b[43m(\u001b[49m\n\u001b[0;32m   5582\u001b[0m \u001b[43m        \u001b[49m\u001b[43mlabels\u001b[49m\u001b[38;5;241;43m=\u001b[39;49m\u001b[43mlabels\u001b[49m\u001b[43m,\u001b[49m\n\u001b[0;32m   5583\u001b[0m \u001b[43m        \u001b[49m\u001b[43maxis\u001b[49m\u001b[38;5;241;43m=\u001b[39;49m\u001b[43maxis\u001b[49m\u001b[43m,\u001b[49m\n\u001b[0;32m   5584\u001b[0m \u001b[43m        \u001b[49m\u001b[43mindex\u001b[49m\u001b[38;5;241;43m=\u001b[39;49m\u001b[43mindex\u001b[49m\u001b[43m,\u001b[49m\n\u001b[0;32m   5585\u001b[0m \u001b[43m        \u001b[49m\u001b[43mcolumns\u001b[49m\u001b[38;5;241;43m=\u001b[39;49m\u001b[43mcolumns\u001b[49m\u001b[43m,\u001b[49m\n\u001b[0;32m   5586\u001b[0m \u001b[43m        \u001b[49m\u001b[43mlevel\u001b[49m\u001b[38;5;241;43m=\u001b[39;49m\u001b[43mlevel\u001b[49m\u001b[43m,\u001b[49m\n\u001b[0;32m   5587\u001b[0m \u001b[43m        \u001b[49m\u001b[43minplace\u001b[49m\u001b[38;5;241;43m=\u001b[39;49m\u001b[43minplace\u001b[49m\u001b[43m,\u001b[49m\n\u001b[0;32m   5588\u001b[0m \u001b[43m        \u001b[49m\u001b[43merrors\u001b[49m\u001b[38;5;241;43m=\u001b[39;49m\u001b[43merrors\u001b[49m\u001b[43m,\u001b[49m\n\u001b[0;32m   5589\u001b[0m \u001b[43m    \u001b[49m\u001b[43m)\u001b[49m\n",
      "File \u001b[1;32m~\\AppData\\Local\\Packages\\PythonSoftwareFoundation.Python.3.12_qbz5n2kfra8p0\\LocalCache\\local-packages\\Python312\\site-packages\\pandas\\core\\generic.py:4788\u001b[0m, in \u001b[0;36mNDFrame.drop\u001b[1;34m(self, labels, axis, index, columns, level, inplace, errors)\u001b[0m\n\u001b[0;32m   4786\u001b[0m \u001b[38;5;28;01mfor\u001b[39;00m axis, labels \u001b[38;5;129;01min\u001b[39;00m axes\u001b[38;5;241m.\u001b[39mitems():\n\u001b[0;32m   4787\u001b[0m     \u001b[38;5;28;01mif\u001b[39;00m labels \u001b[38;5;129;01mis\u001b[39;00m \u001b[38;5;129;01mnot\u001b[39;00m \u001b[38;5;28;01mNone\u001b[39;00m:\n\u001b[1;32m-> 4788\u001b[0m         obj \u001b[38;5;241m=\u001b[39m \u001b[43mobj\u001b[49m\u001b[38;5;241;43m.\u001b[39;49m\u001b[43m_drop_axis\u001b[49m\u001b[43m(\u001b[49m\u001b[43mlabels\u001b[49m\u001b[43m,\u001b[49m\u001b[43m \u001b[49m\u001b[43maxis\u001b[49m\u001b[43m,\u001b[49m\u001b[43m \u001b[49m\u001b[43mlevel\u001b[49m\u001b[38;5;241;43m=\u001b[39;49m\u001b[43mlevel\u001b[49m\u001b[43m,\u001b[49m\u001b[43m \u001b[49m\u001b[43merrors\u001b[49m\u001b[38;5;241;43m=\u001b[39;49m\u001b[43merrors\u001b[49m\u001b[43m)\u001b[49m\n\u001b[0;32m   4790\u001b[0m \u001b[38;5;28;01mif\u001b[39;00m inplace:\n\u001b[0;32m   4791\u001b[0m     \u001b[38;5;28mself\u001b[39m\u001b[38;5;241m.\u001b[39m_update_inplace(obj)\n",
      "File \u001b[1;32m~\\AppData\\Local\\Packages\\PythonSoftwareFoundation.Python.3.12_qbz5n2kfra8p0\\LocalCache\\local-packages\\Python312\\site-packages\\pandas\\core\\generic.py:4830\u001b[0m, in \u001b[0;36mNDFrame._drop_axis\u001b[1;34m(self, labels, axis, level, errors, only_slice)\u001b[0m\n\u001b[0;32m   4828\u001b[0m         new_axis \u001b[38;5;241m=\u001b[39m axis\u001b[38;5;241m.\u001b[39mdrop(labels, level\u001b[38;5;241m=\u001b[39mlevel, errors\u001b[38;5;241m=\u001b[39merrors)\n\u001b[0;32m   4829\u001b[0m     \u001b[38;5;28;01melse\u001b[39;00m:\n\u001b[1;32m-> 4830\u001b[0m         new_axis \u001b[38;5;241m=\u001b[39m \u001b[43maxis\u001b[49m\u001b[38;5;241;43m.\u001b[39;49m\u001b[43mdrop\u001b[49m\u001b[43m(\u001b[49m\u001b[43mlabels\u001b[49m\u001b[43m,\u001b[49m\u001b[43m \u001b[49m\u001b[43merrors\u001b[49m\u001b[38;5;241;43m=\u001b[39;49m\u001b[43merrors\u001b[49m\u001b[43m)\u001b[49m\n\u001b[0;32m   4831\u001b[0m     indexer \u001b[38;5;241m=\u001b[39m axis\u001b[38;5;241m.\u001b[39mget_indexer(new_axis)\n\u001b[0;32m   4833\u001b[0m \u001b[38;5;66;03m# Case for non-unique axis\u001b[39;00m\n\u001b[0;32m   4834\u001b[0m \u001b[38;5;28;01melse\u001b[39;00m:\n",
      "File \u001b[1;32m~\\AppData\\Local\\Packages\\PythonSoftwareFoundation.Python.3.12_qbz5n2kfra8p0\\LocalCache\\local-packages\\Python312\\site-packages\\pandas\\core\\indexes\\base.py:7070\u001b[0m, in \u001b[0;36mIndex.drop\u001b[1;34m(self, labels, errors)\u001b[0m\n\u001b[0;32m   7068\u001b[0m \u001b[38;5;28;01mif\u001b[39;00m mask\u001b[38;5;241m.\u001b[39many():\n\u001b[0;32m   7069\u001b[0m     \u001b[38;5;28;01mif\u001b[39;00m errors \u001b[38;5;241m!=\u001b[39m \u001b[38;5;124m\"\u001b[39m\u001b[38;5;124mignore\u001b[39m\u001b[38;5;124m\"\u001b[39m:\n\u001b[1;32m-> 7070\u001b[0m         \u001b[38;5;28;01mraise\u001b[39;00m \u001b[38;5;167;01mKeyError\u001b[39;00m(\u001b[38;5;124mf\u001b[39m\u001b[38;5;124m\"\u001b[39m\u001b[38;5;132;01m{\u001b[39;00mlabels[mask]\u001b[38;5;241m.\u001b[39mtolist()\u001b[38;5;132;01m}\u001b[39;00m\u001b[38;5;124m not found in axis\u001b[39m\u001b[38;5;124m\"\u001b[39m)\n\u001b[0;32m   7071\u001b[0m     indexer \u001b[38;5;241m=\u001b[39m indexer[\u001b[38;5;241m~\u001b[39mmask]\n\u001b[0;32m   7072\u001b[0m \u001b[38;5;28;01mreturn\u001b[39;00m \u001b[38;5;28mself\u001b[39m\u001b[38;5;241m.\u001b[39mdelete(indexer)\n",
      "\u001b[1;31mKeyError\u001b[0m: \"['Customer ID', 'Postal Code', 'Product ID'] not found in axis\""
     ]
    }
   ],
   "source": [
    "df.drop(['Customer ID','Postal Code','Product ID'],axis=1,inplace=True)\n",
    "df.head(2)"
   ]
  },
  {
   "cell_type": "code",
   "execution_count": 233,
   "metadata": {},
   "outputs": [
    {
     "data": {
      "text/plain": [
       "0       CA-2017-152156\n",
       "1       CA-2017-152156\n",
       "2       CA-2017-138688\n",
       "3       US-2016-108966\n",
       "4       US-2016-108966\n",
       "             ...      \n",
       "9989    CA-2015-110422\n",
       "9990    CA-2018-121258\n",
       "9991    CA-2018-121258\n",
       "9992    CA-2018-121258\n",
       "9993    CA-2018-119914\n",
       "Name: Order ID, Length: 9994, dtype: object"
      ]
     },
     "execution_count": 233,
     "metadata": {},
     "output_type": "execute_result"
    }
   ],
   "source": [
    "df['Order ID']"
   ]
  },
  {
   "cell_type": "code",
   "execution_count": 238,
   "metadata": {},
   "outputs": [
    {
     "data": {
      "text/plain": [
       "Order ID\n",
       "CA-2018-100111    0.001401\n",
       "CA-2018-157987    0.001201\n",
       "CA-2017-165330    0.001101\n",
       "US-2017-108504    0.001101\n",
       "CA-2016-131338    0.001001\n",
       "                    ...   \n",
       "CA-2017-157259    0.000100\n",
       "CA-2018-107986    0.000100\n",
       "US-2016-112508    0.000100\n",
       "US-2017-126844    0.000100\n",
       "CA-2018-119914    0.000100\n",
       "Name: proportion, Length: 5009, dtype: float64"
      ]
     },
     "execution_count": 238,
     "metadata": {},
     "output_type": "execute_result"
    }
   ],
   "source": [
    "df['Order ID'].value_counts()"
   ]
  },
  {
   "cell_type": "code",
   "execution_count": 244,
   "metadata": {},
   "outputs": [
    {
     "data": {
      "text/plain": [
       "Order ID\n",
       "CA-2015-100006     377.970\n",
       "CA-2015-100090     699.192\n",
       "CA-2015-100293      91.056\n",
       "CA-2015-100328       3.928\n",
       "CA-2015-100363      21.376\n",
       "                    ...   \n",
       "US-2018-168802      18.368\n",
       "US-2018-169320     171.430\n",
       "US-2018-169488      56.860\n",
       "US-2018-169502     113.410\n",
       "US-2018-169551    1344.838\n",
       "Name: Sales, Length: 5009, dtype: float64"
      ]
     },
     "execution_count": 244,
     "metadata": {},
     "output_type": "execute_result"
    }
   ],
   "source": [
    "sales_by_order_id=df.groupby('Order ID')['Sales'].sum()\n",
    "sales_by_order_id"
   ]
  },
  {
   "cell_type": "code",
   "execution_count": 246,
   "metadata": {},
   "outputs": [
    {
     "data": {
      "text/plain": [
       "Order ID\n",
       "CA-2015-145317    23661.228\n",
       "CA-2017-118689    18336.740\n",
       "CA-2018-140151    14052.480\n",
       "CA-2018-127180    13716.458\n",
       "CA-2015-139892    10539.896\n",
       "                    ...    \n",
       "US-2018-100209        1.080\n",
       "US-2015-152723        0.876\n",
       "CA-2015-112403        0.852\n",
       "CA-2017-168361        0.836\n",
       "CA-2018-124114        0.556\n",
       "Name: Sales, Length: 5009, dtype: float64"
      ]
     },
     "execution_count": 246,
     "metadata": {},
     "output_type": "execute_result"
    }
   ],
   "source": [
    "sales_by_order_id.sort_values(ascending=False)"
   ]
  },
  {
   "cell_type": "code",
   "execution_count": 249,
   "metadata": {},
   "outputs": [
    {
     "data": {
      "text/plain": [
       "Order ID\n",
       "CA-2015-100006    109.6113\n",
       "CA-2015-100090    -19.0890\n",
       "CA-2015-100293     31.8696\n",
       "CA-2015-100328      1.3257\n",
       "CA-2015-100363      7.7192\n",
       "Name: Profit, dtype: float64"
      ]
     },
     "execution_count": 249,
     "metadata": {},
     "output_type": "execute_result"
    }
   ],
   "source": [
    "profit_by_order_id=df.groupby('Order ID')['Profit'].sum()\n"
   ]
  },
  {
   "cell_type": "code",
   "execution_count": 250,
   "metadata": {},
   "outputs": [
    {
     "data": {
      "text/plain": [
       "Order ID\n",
       "CA-2017-118689    8762.3891\n",
       "CA-2018-140151    6734.4720\n",
       "CA-2018-166709    5039.9856\n",
       "CA-2017-117121    4946.3700\n",
       "CA-2015-116904    4668.6935\n",
       "Name: Profit, dtype: float64"
      ]
     },
     "execution_count": 250,
     "metadata": {},
     "output_type": "execute_result"
    }
   ],
   "source": [
    "profit_by_order_id.sort_values(ascending=False).head()"
   ]
  },
  {
   "cell_type": "code",
   "execution_count": 251,
   "metadata": {},
   "outputs": [
    {
     "data": {
      "text/plain": [
       "Order ID\n",
       "CA-2018-100111    52\n",
       "CA-2018-117457    46\n",
       "CA-2017-105732    46\n",
       "CA-2015-106439    45\n",
       "CA-2017-165330    43\n",
       "Name: Quantity, dtype: int64"
      ]
     },
     "execution_count": 251,
     "metadata": {},
     "output_type": "execute_result"
    }
   ],
   "source": [
    "df.groupby('Order ID')['Quantity'].sum().sort_values(ascending=False).head()"
   ]
  },
  {
   "cell_type": "markdown",
   "metadata": {},
   "source": [
    "# Very importrant to understand"
   ]
  },
  {
   "cell_type": "code",
   "execution_count": 255,
   "metadata": {},
   "outputs": [
    {
     "data": {
      "text/html": [
       "<div>\n",
       "<style scoped>\n",
       "    .dataframe tbody tr th:only-of-type {\n",
       "        vertical-align: middle;\n",
       "    }\n",
       "\n",
       "    .dataframe tbody tr th {\n",
       "        vertical-align: top;\n",
       "    }\n",
       "\n",
       "    .dataframe thead th {\n",
       "        text-align: right;\n",
       "    }\n",
       "</style>\n",
       "<table border=\"1\" class=\"dataframe\">\n",
       "  <thead>\n",
       "    <tr style=\"text-align: right;\">\n",
       "      <th></th>\n",
       "      <th>Row ID</th>\n",
       "      <th>Order ID</th>\n",
       "      <th>Order Date</th>\n",
       "      <th>Ship Date</th>\n",
       "      <th>Ship Mode</th>\n",
       "      <th>Customer Name</th>\n",
       "      <th>Segment</th>\n",
       "      <th>City</th>\n",
       "      <th>State</th>\n",
       "      <th>Region</th>\n",
       "      <th>Category</th>\n",
       "      <th>Sub-Category</th>\n",
       "      <th>Product Name</th>\n",
       "      <th>Sales</th>\n",
       "      <th>Quantity</th>\n",
       "      <th>Discount</th>\n",
       "      <th>Profit</th>\n",
       "      <th>Shipping Time</th>\n",
       "    </tr>\n",
       "  </thead>\n",
       "  <tbody>\n",
       "    <tr>\n",
       "      <th>0</th>\n",
       "      <td>1</td>\n",
       "      <td>CA-2017-152156</td>\n",
       "      <td>2017-11-08</td>\n",
       "      <td>2017-11-11</td>\n",
       "      <td>Second Class</td>\n",
       "      <td>Claire Gute</td>\n",
       "      <td>Consumer</td>\n",
       "      <td>Henderson</td>\n",
       "      <td>Kentucky</td>\n",
       "      <td>South</td>\n",
       "      <td>Furniture</td>\n",
       "      <td>Bookcases</td>\n",
       "      <td>Bush Somerset Collection Bookcase</td>\n",
       "      <td>261.960</td>\n",
       "      <td>2</td>\n",
       "      <td>0.0</td>\n",
       "      <td>41.9136</td>\n",
       "      <td>3 days</td>\n",
       "    </tr>\n",
       "    <tr>\n",
       "      <th>1</th>\n",
       "      <td>2</td>\n",
       "      <td>CA-2017-152156</td>\n",
       "      <td>2017-11-08</td>\n",
       "      <td>2017-11-11</td>\n",
       "      <td>Second Class</td>\n",
       "      <td>Claire Gute</td>\n",
       "      <td>Consumer</td>\n",
       "      <td>Henderson</td>\n",
       "      <td>Kentucky</td>\n",
       "      <td>South</td>\n",
       "      <td>Furniture</td>\n",
       "      <td>Chairs</td>\n",
       "      <td>Hon Deluxe Fabric Upholstered Stacking Chairs,...</td>\n",
       "      <td>731.940</td>\n",
       "      <td>3</td>\n",
       "      <td>0.0</td>\n",
       "      <td>219.5820</td>\n",
       "      <td>3 days</td>\n",
       "    </tr>\n",
       "    <tr>\n",
       "      <th>17</th>\n",
       "      <td>18</td>\n",
       "      <td>CA-2015-167164</td>\n",
       "      <td>2015-05-13</td>\n",
       "      <td>2015-05-15</td>\n",
       "      <td>Second Class</td>\n",
       "      <td>Alejandro Grove</td>\n",
       "      <td>Consumer</td>\n",
       "      <td>West Jordan</td>\n",
       "      <td>Utah</td>\n",
       "      <td>West</td>\n",
       "      <td>Office Supplies</td>\n",
       "      <td>Storage</td>\n",
       "      <td>Fellowes Super Stor/Drawer</td>\n",
       "      <td>55.500</td>\n",
       "      <td>2</td>\n",
       "      <td>0.0</td>\n",
       "      <td>9.9900</td>\n",
       "      <td>2 days</td>\n",
       "    </tr>\n",
       "    <tr>\n",
       "      <th>18</th>\n",
       "      <td>19</td>\n",
       "      <td>CA-2015-143336</td>\n",
       "      <td>2015-08-27</td>\n",
       "      <td>2015-09-01</td>\n",
       "      <td>Second Class</td>\n",
       "      <td>Zuschuss Donatelli</td>\n",
       "      <td>Consumer</td>\n",
       "      <td>San Francisco</td>\n",
       "      <td>California</td>\n",
       "      <td>West</td>\n",
       "      <td>Office Supplies</td>\n",
       "      <td>Art</td>\n",
       "      <td>Newell 341</td>\n",
       "      <td>8.560</td>\n",
       "      <td>2</td>\n",
       "      <td>0.0</td>\n",
       "      <td>2.4824</td>\n",
       "      <td>5 days</td>\n",
       "    </tr>\n",
       "    <tr>\n",
       "      <th>19</th>\n",
       "      <td>20</td>\n",
       "      <td>CA-2015-143336</td>\n",
       "      <td>2015-08-27</td>\n",
       "      <td>2015-09-01</td>\n",
       "      <td>Second Class</td>\n",
       "      <td>Zuschuss Donatelli</td>\n",
       "      <td>Consumer</td>\n",
       "      <td>San Francisco</td>\n",
       "      <td>California</td>\n",
       "      <td>West</td>\n",
       "      <td>Technology</td>\n",
       "      <td>Phones</td>\n",
       "      <td>Cisco SPA 501G IP Phone</td>\n",
       "      <td>213.480</td>\n",
       "      <td>3</td>\n",
       "      <td>0.2</td>\n",
       "      <td>16.0110</td>\n",
       "      <td>5 days</td>\n",
       "    </tr>\n",
       "    <tr>\n",
       "      <th>...</th>\n",
       "      <td>...</td>\n",
       "      <td>...</td>\n",
       "      <td>...</td>\n",
       "      <td>...</td>\n",
       "      <td>...</td>\n",
       "      <td>...</td>\n",
       "      <td>...</td>\n",
       "      <td>...</td>\n",
       "      <td>...</td>\n",
       "      <td>...</td>\n",
       "      <td>...</td>\n",
       "      <td>...</td>\n",
       "      <td>...</td>\n",
       "      <td>...</td>\n",
       "      <td>...</td>\n",
       "      <td>...</td>\n",
       "      <td>...</td>\n",
       "      <td>...</td>\n",
       "    </tr>\n",
       "    <tr>\n",
       "      <th>9916</th>\n",
       "      <td>9917</td>\n",
       "      <td>CA-2018-160927</td>\n",
       "      <td>2018-01-29</td>\n",
       "      <td>2018-01-31</td>\n",
       "      <td>Second Class</td>\n",
       "      <td>Tamara Manning</td>\n",
       "      <td>Consumer</td>\n",
       "      <td>Marion</td>\n",
       "      <td>Iowa</td>\n",
       "      <td>Central</td>\n",
       "      <td>Office Supplies</td>\n",
       "      <td>Storage</td>\n",
       "      <td>Tenex Personal Project File with Scoop Front D...</td>\n",
       "      <td>13.480</td>\n",
       "      <td>1</td>\n",
       "      <td>0.0</td>\n",
       "      <td>3.5048</td>\n",
       "      <td>2 days</td>\n",
       "    </tr>\n",
       "    <tr>\n",
       "      <th>9917</th>\n",
       "      <td>9918</td>\n",
       "      <td>CA-2018-160927</td>\n",
       "      <td>2018-01-29</td>\n",
       "      <td>2018-01-31</td>\n",
       "      <td>Second Class</td>\n",
       "      <td>Tamara Manning</td>\n",
       "      <td>Consumer</td>\n",
       "      <td>Marion</td>\n",
       "      <td>Iowa</td>\n",
       "      <td>Central</td>\n",
       "      <td>Furniture</td>\n",
       "      <td>Furnishings</td>\n",
       "      <td>DAX Value U-Channel Document Frames, Easel Back</td>\n",
       "      <td>14.910</td>\n",
       "      <td>3</td>\n",
       "      <td>0.0</td>\n",
       "      <td>4.6221</td>\n",
       "      <td>2 days</td>\n",
       "    </tr>\n",
       "    <tr>\n",
       "      <th>9980</th>\n",
       "      <td>9981</td>\n",
       "      <td>US-2016-151435</td>\n",
       "      <td>2016-09-06</td>\n",
       "      <td>2016-09-09</td>\n",
       "      <td>Second Class</td>\n",
       "      <td>Shaun Weien</td>\n",
       "      <td>Consumer</td>\n",
       "      <td>Lafayette</td>\n",
       "      <td>Louisiana</td>\n",
       "      <td>South</td>\n",
       "      <td>Furniture</td>\n",
       "      <td>Tables</td>\n",
       "      <td>KI Adjustable-Height Table</td>\n",
       "      <td>85.980</td>\n",
       "      <td>1</td>\n",
       "      <td>0.0</td>\n",
       "      <td>22.3548</td>\n",
       "      <td>3 days</td>\n",
       "    </tr>\n",
       "    <tr>\n",
       "      <th>9989</th>\n",
       "      <td>9990</td>\n",
       "      <td>CA-2015-110422</td>\n",
       "      <td>2015-01-21</td>\n",
       "      <td>2015-01-23</td>\n",
       "      <td>Second Class</td>\n",
       "      <td>Tom Boeckenhauer</td>\n",
       "      <td>Consumer</td>\n",
       "      <td>Miami</td>\n",
       "      <td>Florida</td>\n",
       "      <td>South</td>\n",
       "      <td>Furniture</td>\n",
       "      <td>Furnishings</td>\n",
       "      <td>Ultra Door Pull Handle</td>\n",
       "      <td>25.248</td>\n",
       "      <td>3</td>\n",
       "      <td>0.2</td>\n",
       "      <td>4.1028</td>\n",
       "      <td>2 days</td>\n",
       "    </tr>\n",
       "    <tr>\n",
       "      <th>9993</th>\n",
       "      <td>9994</td>\n",
       "      <td>CA-2018-119914</td>\n",
       "      <td>2018-05-04</td>\n",
       "      <td>2018-05-09</td>\n",
       "      <td>Second Class</td>\n",
       "      <td>Chris Cortes</td>\n",
       "      <td>Consumer</td>\n",
       "      <td>Westminster</td>\n",
       "      <td>California</td>\n",
       "      <td>West</td>\n",
       "      <td>Office Supplies</td>\n",
       "      <td>Appliances</td>\n",
       "      <td>Acco 7-Outlet Masterpiece Power Center, Wihtou...</td>\n",
       "      <td>243.160</td>\n",
       "      <td>2</td>\n",
       "      <td>0.0</td>\n",
       "      <td>72.9480</td>\n",
       "      <td>5 days</td>\n",
       "    </tr>\n",
       "  </tbody>\n",
       "</table>\n",
       "<p>1020 rows × 18 columns</p>\n",
       "</div>"
      ],
      "text/plain": [
       "      Row ID        Order ID Order Date  Ship Date     Ship Mode  \\\n",
       "0          1  CA-2017-152156 2017-11-08 2017-11-11  Second Class   \n",
       "1          2  CA-2017-152156 2017-11-08 2017-11-11  Second Class   \n",
       "17        18  CA-2015-167164 2015-05-13 2015-05-15  Second Class   \n",
       "18        19  CA-2015-143336 2015-08-27 2015-09-01  Second Class   \n",
       "19        20  CA-2015-143336 2015-08-27 2015-09-01  Second Class   \n",
       "...      ...             ...        ...        ...           ...   \n",
       "9916    9917  CA-2018-160927 2018-01-29 2018-01-31  Second Class   \n",
       "9917    9918  CA-2018-160927 2018-01-29 2018-01-31  Second Class   \n",
       "9980    9981  US-2016-151435 2016-09-06 2016-09-09  Second Class   \n",
       "9989    9990  CA-2015-110422 2015-01-21 2015-01-23  Second Class   \n",
       "9993    9994  CA-2018-119914 2018-05-04 2018-05-09  Second Class   \n",
       "\n",
       "           Customer Name   Segment           City       State   Region  \\\n",
       "0            Claire Gute  Consumer      Henderson    Kentucky    South   \n",
       "1            Claire Gute  Consumer      Henderson    Kentucky    South   \n",
       "17       Alejandro Grove  Consumer    West Jordan        Utah     West   \n",
       "18    Zuschuss Donatelli  Consumer  San Francisco  California     West   \n",
       "19    Zuschuss Donatelli  Consumer  San Francisco  California     West   \n",
       "...                  ...       ...            ...         ...      ...   \n",
       "9916      Tamara Manning  Consumer         Marion        Iowa  Central   \n",
       "9917      Tamara Manning  Consumer         Marion        Iowa  Central   \n",
       "9980         Shaun Weien  Consumer      Lafayette   Louisiana    South   \n",
       "9989    Tom Boeckenhauer  Consumer          Miami     Florida    South   \n",
       "9993        Chris Cortes  Consumer    Westminster  California     West   \n",
       "\n",
       "             Category Sub-Category  \\\n",
       "0           Furniture    Bookcases   \n",
       "1           Furniture       Chairs   \n",
       "17    Office Supplies      Storage   \n",
       "18    Office Supplies          Art   \n",
       "19         Technology       Phones   \n",
       "...               ...          ...   \n",
       "9916  Office Supplies      Storage   \n",
       "9917        Furniture  Furnishings   \n",
       "9980        Furniture       Tables   \n",
       "9989        Furniture  Furnishings   \n",
       "9993  Office Supplies   Appliances   \n",
       "\n",
       "                                           Product Name    Sales  Quantity  \\\n",
       "0                     Bush Somerset Collection Bookcase  261.960         2   \n",
       "1     Hon Deluxe Fabric Upholstered Stacking Chairs,...  731.940         3   \n",
       "17                           Fellowes Super Stor/Drawer   55.500         2   \n",
       "18                                           Newell 341    8.560         2   \n",
       "19                              Cisco SPA 501G IP Phone  213.480         3   \n",
       "...                                                 ...      ...       ...   \n",
       "9916  Tenex Personal Project File with Scoop Front D...   13.480         1   \n",
       "9917    DAX Value U-Channel Document Frames, Easel Back   14.910         3   \n",
       "9980                         KI Adjustable-Height Table   85.980         1   \n",
       "9989                             Ultra Door Pull Handle   25.248         3   \n",
       "9993  Acco 7-Outlet Masterpiece Power Center, Wihtou...  243.160         2   \n",
       "\n",
       "      Discount    Profit Shipping Time  \n",
       "0          0.0   41.9136        3 days  \n",
       "1          0.0  219.5820        3 days  \n",
       "17         0.0    9.9900        2 days  \n",
       "18         0.0    2.4824        5 days  \n",
       "19         0.2   16.0110        5 days  \n",
       "...        ...       ...           ...  \n",
       "9916       0.0    3.5048        2 days  \n",
       "9917       0.0    4.6221        2 days  \n",
       "9980       0.0   22.3548        3 days  \n",
       "9989       0.2    4.1028        2 days  \n",
       "9993       0.0   72.9480        5 days  \n",
       "\n",
       "[1020 rows x 18 columns]"
      ]
     },
     "execution_count": 255,
     "metadata": {},
     "output_type": "execute_result"
    }
   ],
   "source": [
    "df[(df['Ship Mode']=='Second Class')&(df['Segment']==\"Consumer\")]"
   ]
  },
  {
   "cell_type": "code",
   "execution_count": 256,
   "metadata": {},
   "outputs": [
    {
     "data": {
      "text/html": [
       "<div>\n",
       "<style scoped>\n",
       "    .dataframe tbody tr th:only-of-type {\n",
       "        vertical-align: middle;\n",
       "    }\n",
       "\n",
       "    .dataframe tbody tr th {\n",
       "        vertical-align: top;\n",
       "    }\n",
       "\n",
       "    .dataframe thead th {\n",
       "        text-align: right;\n",
       "    }\n",
       "</style>\n",
       "<table border=\"1\" class=\"dataframe\">\n",
       "  <thead>\n",
       "    <tr style=\"text-align: right;\">\n",
       "      <th></th>\n",
       "      <th>Row ID</th>\n",
       "      <th>Order ID</th>\n",
       "      <th>Order Date</th>\n",
       "      <th>Ship Date</th>\n",
       "      <th>Ship Mode</th>\n",
       "      <th>Customer Name</th>\n",
       "      <th>Segment</th>\n",
       "      <th>City</th>\n",
       "      <th>State</th>\n",
       "      <th>Region</th>\n",
       "      <th>Category</th>\n",
       "      <th>Sub-Category</th>\n",
       "      <th>Product Name</th>\n",
       "      <th>Sales</th>\n",
       "      <th>Quantity</th>\n",
       "      <th>Discount</th>\n",
       "      <th>Profit</th>\n",
       "      <th>Shipping Time</th>\n",
       "    </tr>\n",
       "  </thead>\n",
       "  <tbody>\n",
       "    <tr>\n",
       "      <th>0</th>\n",
       "      <td>1</td>\n",
       "      <td>CA-2017-152156</td>\n",
       "      <td>2017-11-08</td>\n",
       "      <td>2017-11-11</td>\n",
       "      <td>Second Class</td>\n",
       "      <td>Claire Gute</td>\n",
       "      <td>Consumer</td>\n",
       "      <td>Henderson</td>\n",
       "      <td>Kentucky</td>\n",
       "      <td>South</td>\n",
       "      <td>Furniture</td>\n",
       "      <td>Bookcases</td>\n",
       "      <td>Bush Somerset Collection Bookcase</td>\n",
       "      <td>261.9600</td>\n",
       "      <td>2</td>\n",
       "      <td>0.00</td>\n",
       "      <td>41.9136</td>\n",
       "      <td>3 days</td>\n",
       "    </tr>\n",
       "    <tr>\n",
       "      <th>1</th>\n",
       "      <td>2</td>\n",
       "      <td>CA-2017-152156</td>\n",
       "      <td>2017-11-08</td>\n",
       "      <td>2017-11-11</td>\n",
       "      <td>Second Class</td>\n",
       "      <td>Claire Gute</td>\n",
       "      <td>Consumer</td>\n",
       "      <td>Henderson</td>\n",
       "      <td>Kentucky</td>\n",
       "      <td>South</td>\n",
       "      <td>Furniture</td>\n",
       "      <td>Chairs</td>\n",
       "      <td>Hon Deluxe Fabric Upholstered Stacking Chairs,...</td>\n",
       "      <td>731.9400</td>\n",
       "      <td>3</td>\n",
       "      <td>0.00</td>\n",
       "      <td>219.5820</td>\n",
       "      <td>3 days</td>\n",
       "    </tr>\n",
       "    <tr>\n",
       "      <th>85</th>\n",
       "      <td>86</td>\n",
       "      <td>CA-2018-140088</td>\n",
       "      <td>2018-05-28</td>\n",
       "      <td>2018-05-30</td>\n",
       "      <td>Second Class</td>\n",
       "      <td>Patrick O'Donnell</td>\n",
       "      <td>Consumer</td>\n",
       "      <td>Columbia</td>\n",
       "      <td>South Carolina</td>\n",
       "      <td>South</td>\n",
       "      <td>Furniture</td>\n",
       "      <td>Chairs</td>\n",
       "      <td>Novimex Swivel Fabric Task Chair</td>\n",
       "      <td>301.9600</td>\n",
       "      <td>2</td>\n",
       "      <td>0.00</td>\n",
       "      <td>33.2156</td>\n",
       "      <td>2 days</td>\n",
       "    </tr>\n",
       "    <tr>\n",
       "      <th>424</th>\n",
       "      <td>425</td>\n",
       "      <td>CA-2018-155705</td>\n",
       "      <td>2018-08-21</td>\n",
       "      <td>2018-08-23</td>\n",
       "      <td>Second Class</td>\n",
       "      <td>Natalie Fritzler</td>\n",
       "      <td>Consumer</td>\n",
       "      <td>Jackson</td>\n",
       "      <td>Mississippi</td>\n",
       "      <td>South</td>\n",
       "      <td>Furniture</td>\n",
       "      <td>Chairs</td>\n",
       "      <td>Hon Multipurpose Stacking Arm Chairs</td>\n",
       "      <td>866.4000</td>\n",
       "      <td>4</td>\n",
       "      <td>0.00</td>\n",
       "      <td>225.2640</td>\n",
       "      <td>2 days</td>\n",
       "    </tr>\n",
       "    <tr>\n",
       "      <th>494</th>\n",
       "      <td>495</td>\n",
       "      <td>US-2017-120929</td>\n",
       "      <td>2017-03-18</td>\n",
       "      <td>2017-03-21</td>\n",
       "      <td>Second Class</td>\n",
       "      <td>Rose O'Brian</td>\n",
       "      <td>Consumer</td>\n",
       "      <td>Memphis</td>\n",
       "      <td>Tennessee</td>\n",
       "      <td>South</td>\n",
       "      <td>Furniture</td>\n",
       "      <td>Tables</td>\n",
       "      <td>Balt Solid Wood Rectangular Table</td>\n",
       "      <td>189.8820</td>\n",
       "      <td>3</td>\n",
       "      <td>0.40</td>\n",
       "      <td>-94.9410</td>\n",
       "      <td>3 days</td>\n",
       "    </tr>\n",
       "    <tr>\n",
       "      <th>562</th>\n",
       "      <td>563</td>\n",
       "      <td>CA-2015-145576</td>\n",
       "      <td>2015-09-14</td>\n",
       "      <td>2015-09-18</td>\n",
       "      <td>Second Class</td>\n",
       "      <td>Cynthia Arntzen</td>\n",
       "      <td>Consumer</td>\n",
       "      <td>Tampa</td>\n",
       "      <td>Florida</td>\n",
       "      <td>South</td>\n",
       "      <td>Furniture</td>\n",
       "      <td>Furnishings</td>\n",
       "      <td>Advantus Panel Wall Acrylic Frame</td>\n",
       "      <td>13.1280</td>\n",
       "      <td>3</td>\n",
       "      <td>0.20</td>\n",
       "      <td>3.7743</td>\n",
       "      <td>4 days</td>\n",
       "    </tr>\n",
       "    <tr>\n",
       "      <th>689</th>\n",
       "      <td>690</td>\n",
       "      <td>US-2015-117135</td>\n",
       "      <td>2015-06-21</td>\n",
       "      <td>2015-06-23</td>\n",
       "      <td>Second Class</td>\n",
       "      <td>Naresj Patel</td>\n",
       "      <td>Consumer</td>\n",
       "      <td>Waynesboro</td>\n",
       "      <td>Virginia</td>\n",
       "      <td>South</td>\n",
       "      <td>Furniture</td>\n",
       "      <td>Furnishings</td>\n",
       "      <td>Luxo Professional Magnifying Clamp-On Fluoresc...</td>\n",
       "      <td>104.0100</td>\n",
       "      <td>1</td>\n",
       "      <td>0.00</td>\n",
       "      <td>14.5614</td>\n",
       "      <td>2 days</td>\n",
       "    </tr>\n",
       "    <tr>\n",
       "      <th>829</th>\n",
       "      <td>830</td>\n",
       "      <td>CA-2018-129462</td>\n",
       "      <td>2018-06-16</td>\n",
       "      <td>2018-06-21</td>\n",
       "      <td>Second Class</td>\n",
       "      <td>Joel Eaton</td>\n",
       "      <td>Consumer</td>\n",
       "      <td>Florence</td>\n",
       "      <td>Kentucky</td>\n",
       "      <td>South</td>\n",
       "      <td>Furniture</td>\n",
       "      <td>Chairs</td>\n",
       "      <td>Global Airflow Leather Mesh Back Chair, Black</td>\n",
       "      <td>301.9600</td>\n",
       "      <td>2</td>\n",
       "      <td>0.00</td>\n",
       "      <td>90.5880</td>\n",
       "      <td>5 days</td>\n",
       "    </tr>\n",
       "    <tr>\n",
       "      <th>1300</th>\n",
       "      <td>1301</td>\n",
       "      <td>CA-2017-137043</td>\n",
       "      <td>2017-12-23</td>\n",
       "      <td>2017-12-25</td>\n",
       "      <td>Second Class</td>\n",
       "      <td>Logan Currie</td>\n",
       "      <td>Consumer</td>\n",
       "      <td>Springfield</td>\n",
       "      <td>Virginia</td>\n",
       "      <td>South</td>\n",
       "      <td>Furniture</td>\n",
       "      <td>Furnishings</td>\n",
       "      <td>Electrix Architect's Clamp-On Swing Arm Lamp, ...</td>\n",
       "      <td>572.7600</td>\n",
       "      <td>6</td>\n",
       "      <td>0.00</td>\n",
       "      <td>166.1004</td>\n",
       "      <td>2 days</td>\n",
       "    </tr>\n",
       "    <tr>\n",
       "      <th>1301</th>\n",
       "      <td>1302</td>\n",
       "      <td>CA-2017-137043</td>\n",
       "      <td>2017-12-23</td>\n",
       "      <td>2017-12-25</td>\n",
       "      <td>Second Class</td>\n",
       "      <td>Logan Currie</td>\n",
       "      <td>Consumer</td>\n",
       "      <td>Springfield</td>\n",
       "      <td>Virginia</td>\n",
       "      <td>South</td>\n",
       "      <td>Furniture</td>\n",
       "      <td>Furnishings</td>\n",
       "      <td>Electrix Architect's Clamp-On Swing Arm Lamp, ...</td>\n",
       "      <td>286.3800</td>\n",
       "      <td>3</td>\n",
       "      <td>0.00</td>\n",
       "      <td>83.0502</td>\n",
       "      <td>2 days</td>\n",
       "    </tr>\n",
       "    <tr>\n",
       "      <th>1433</th>\n",
       "      <td>1434</td>\n",
       "      <td>CA-2015-120768</td>\n",
       "      <td>2015-12-19</td>\n",
       "      <td>2015-12-21</td>\n",
       "      <td>Second Class</td>\n",
       "      <td>Irene Maddox</td>\n",
       "      <td>Consumer</td>\n",
       "      <td>Florence</td>\n",
       "      <td>Alabama</td>\n",
       "      <td>South</td>\n",
       "      <td>Furniture</td>\n",
       "      <td>Chairs</td>\n",
       "      <td>High-Back Leather Manager's Chair</td>\n",
       "      <td>1819.8600</td>\n",
       "      <td>14</td>\n",
       "      <td>0.00</td>\n",
       "      <td>163.7874</td>\n",
       "      <td>2 days</td>\n",
       "    </tr>\n",
       "    <tr>\n",
       "      <th>1811</th>\n",
       "      <td>1812</td>\n",
       "      <td>CA-2015-132612</td>\n",
       "      <td>2015-06-09</td>\n",
       "      <td>2015-06-11</td>\n",
       "      <td>Second Class</td>\n",
       "      <td>Frank Olsen</td>\n",
       "      <td>Consumer</td>\n",
       "      <td>Harrisonburg</td>\n",
       "      <td>Virginia</td>\n",
       "      <td>South</td>\n",
       "      <td>Furniture</td>\n",
       "      <td>Tables</td>\n",
       "      <td>Bevis 44 x 96 Conference Tables</td>\n",
       "      <td>1441.3000</td>\n",
       "      <td>7</td>\n",
       "      <td>0.00</td>\n",
       "      <td>245.0210</td>\n",
       "      <td>2 days</td>\n",
       "    </tr>\n",
       "    <tr>\n",
       "      <th>1899</th>\n",
       "      <td>1900</td>\n",
       "      <td>CA-2015-169775</td>\n",
       "      <td>2015-08-29</td>\n",
       "      <td>2015-09-02</td>\n",
       "      <td>Second Class</td>\n",
       "      <td>Ryan Akin</td>\n",
       "      <td>Consumer</td>\n",
       "      <td>Miami</td>\n",
       "      <td>Florida</td>\n",
       "      <td>South</td>\n",
       "      <td>Furniture</td>\n",
       "      <td>Tables</td>\n",
       "      <td>Balt Solid Wood Rectangular Table</td>\n",
       "      <td>174.0585</td>\n",
       "      <td>3</td>\n",
       "      <td>0.45</td>\n",
       "      <td>-110.7645</td>\n",
       "      <td>4 days</td>\n",
       "    </tr>\n",
       "    <tr>\n",
       "      <th>1932</th>\n",
       "      <td>1933</td>\n",
       "      <td>CA-2018-161200</td>\n",
       "      <td>2018-08-06</td>\n",
       "      <td>2018-08-10</td>\n",
       "      <td>Second Class</td>\n",
       "      <td>Seth Vernon</td>\n",
       "      <td>Consumer</td>\n",
       "      <td>Lafayette</td>\n",
       "      <td>Louisiana</td>\n",
       "      <td>South</td>\n",
       "      <td>Furniture</td>\n",
       "      <td>Bookcases</td>\n",
       "      <td>O'Sullivan 2-Shelf Heavy-Duty Bookcases</td>\n",
       "      <td>145.7400</td>\n",
       "      <td>3</td>\n",
       "      <td>0.00</td>\n",
       "      <td>23.3184</td>\n",
       "      <td>4 days</td>\n",
       "    </tr>\n",
       "    <tr>\n",
       "      <th>1933</th>\n",
       "      <td>1934</td>\n",
       "      <td>CA-2018-161200</td>\n",
       "      <td>2018-08-06</td>\n",
       "      <td>2018-08-10</td>\n",
       "      <td>Second Class</td>\n",
       "      <td>Seth Vernon</td>\n",
       "      <td>Consumer</td>\n",
       "      <td>Lafayette</td>\n",
       "      <td>Louisiana</td>\n",
       "      <td>South</td>\n",
       "      <td>Furniture</td>\n",
       "      <td>Furnishings</td>\n",
       "      <td>Longer-Life Soft White Bulbs</td>\n",
       "      <td>15.4000</td>\n",
       "      <td>5</td>\n",
       "      <td>0.00</td>\n",
       "      <td>7.3920</td>\n",
       "      <td>4 days</td>\n",
       "    </tr>\n",
       "    <tr>\n",
       "      <th>2003</th>\n",
       "      <td>2004</td>\n",
       "      <td>CA-2018-163510</td>\n",
       "      <td>2018-12-25</td>\n",
       "      <td>2018-12-28</td>\n",
       "      <td>Second Class</td>\n",
       "      <td>Joni Wasserman</td>\n",
       "      <td>Consumer</td>\n",
       "      <td>Louisville</td>\n",
       "      <td>Kentucky</td>\n",
       "      <td>South</td>\n",
       "      <td>Furniture</td>\n",
       "      <td>Chairs</td>\n",
       "      <td>Global Value Mid-Back Manager's Chair, Gray</td>\n",
       "      <td>304.4500</td>\n",
       "      <td>5</td>\n",
       "      <td>0.00</td>\n",
       "      <td>76.1125</td>\n",
       "      <td>3 days</td>\n",
       "    </tr>\n",
       "    <tr>\n",
       "      <th>2857</th>\n",
       "      <td>2858</td>\n",
       "      <td>CA-2017-154690</td>\n",
       "      <td>2017-08-15</td>\n",
       "      <td>2017-08-17</td>\n",
       "      <td>Second Class</td>\n",
       "      <td>Christopher Conant</td>\n",
       "      <td>Consumer</td>\n",
       "      <td>Fayetteville</td>\n",
       "      <td>North Carolina</td>\n",
       "      <td>South</td>\n",
       "      <td>Furniture</td>\n",
       "      <td>Chairs</td>\n",
       "      <td>Hon Olson Stacker Stools</td>\n",
       "      <td>225.2960</td>\n",
       "      <td>2</td>\n",
       "      <td>0.20</td>\n",
       "      <td>22.5296</td>\n",
       "      <td>2 days</td>\n",
       "    </tr>\n",
       "    <tr>\n",
       "      <th>2890</th>\n",
       "      <td>2891</td>\n",
       "      <td>CA-2015-142727</td>\n",
       "      <td>2015-04-29</td>\n",
       "      <td>2015-05-01</td>\n",
       "      <td>Second Class</td>\n",
       "      <td>Harry Greene</td>\n",
       "      <td>Consumer</td>\n",
       "      <td>Lake Charles</td>\n",
       "      <td>Louisiana</td>\n",
       "      <td>South</td>\n",
       "      <td>Furniture</td>\n",
       "      <td>Chairs</td>\n",
       "      <td>Global Stack Chair without Arms, Black</td>\n",
       "      <td>51.9600</td>\n",
       "      <td>2</td>\n",
       "      <td>0.00</td>\n",
       "      <td>12.9900</td>\n",
       "      <td>2 days</td>\n",
       "    </tr>\n",
       "    <tr>\n",
       "      <th>2926</th>\n",
       "      <td>2927</td>\n",
       "      <td>CA-2018-128629</td>\n",
       "      <td>2018-07-10</td>\n",
       "      <td>2018-07-14</td>\n",
       "      <td>Second Class</td>\n",
       "      <td>Becky Pak</td>\n",
       "      <td>Consumer</td>\n",
       "      <td>Columbus</td>\n",
       "      <td>Georgia</td>\n",
       "      <td>South</td>\n",
       "      <td>Furniture</td>\n",
       "      <td>Furnishings</td>\n",
       "      <td>Eldon 200 Class Desk Accessories, Smoke</td>\n",
       "      <td>18.8400</td>\n",
       "      <td>3</td>\n",
       "      <td>0.00</td>\n",
       "      <td>7.9128</td>\n",
       "      <td>4 days</td>\n",
       "    </tr>\n",
       "    <tr>\n",
       "      <th>2971</th>\n",
       "      <td>2972</td>\n",
       "      <td>CA-2018-167941</td>\n",
       "      <td>2018-11-06</td>\n",
       "      <td>2018-11-09</td>\n",
       "      <td>Second Class</td>\n",
       "      <td>Jill Fjeld</td>\n",
       "      <td>Consumer</td>\n",
       "      <td>Fayetteville</td>\n",
       "      <td>North Carolina</td>\n",
       "      <td>South</td>\n",
       "      <td>Furniture</td>\n",
       "      <td>Furnishings</td>\n",
       "      <td>Executive Impressions 12\" Wall Clock</td>\n",
       "      <td>28.2720</td>\n",
       "      <td>2</td>\n",
       "      <td>0.20</td>\n",
       "      <td>6.3612</td>\n",
       "      <td>3 days</td>\n",
       "    </tr>\n",
       "    <tr>\n",
       "      <th>2978</th>\n",
       "      <td>2979</td>\n",
       "      <td>CA-2015-109232</td>\n",
       "      <td>2015-01-13</td>\n",
       "      <td>2015-01-16</td>\n",
       "      <td>Second Class</td>\n",
       "      <td>Natalie DeCherney</td>\n",
       "      <td>Consumer</td>\n",
       "      <td>Mount Pleasant</td>\n",
       "      <td>South Carolina</td>\n",
       "      <td>South</td>\n",
       "      <td>Furniture</td>\n",
       "      <td>Chairs</td>\n",
       "      <td>Global Highback Leather Tilter in Burgundy</td>\n",
       "      <td>545.9400</td>\n",
       "      <td>6</td>\n",
       "      <td>0.00</td>\n",
       "      <td>87.3504</td>\n",
       "      <td>3 days</td>\n",
       "    </tr>\n",
       "    <tr>\n",
       "      <th>3746</th>\n",
       "      <td>3747</td>\n",
       "      <td>CA-2017-149979</td>\n",
       "      <td>2017-09-23</td>\n",
       "      <td>2017-09-28</td>\n",
       "      <td>Second Class</td>\n",
       "      <td>Russell Applegate</td>\n",
       "      <td>Consumer</td>\n",
       "      <td>Columbus</td>\n",
       "      <td>Georgia</td>\n",
       "      <td>South</td>\n",
       "      <td>Furniture</td>\n",
       "      <td>Chairs</td>\n",
       "      <td>Hon Mobius Operator's Chair</td>\n",
       "      <td>368.9700</td>\n",
       "      <td>3</td>\n",
       "      <td>0.00</td>\n",
       "      <td>81.1734</td>\n",
       "      <td>5 days</td>\n",
       "    </tr>\n",
       "    <tr>\n",
       "      <th>4125</th>\n",
       "      <td>4126</td>\n",
       "      <td>CA-2018-123239</td>\n",
       "      <td>2018-07-27</td>\n",
       "      <td>2018-07-31</td>\n",
       "      <td>Second Class</td>\n",
       "      <td>Mike Gockenbach</td>\n",
       "      <td>Consumer</td>\n",
       "      <td>Jacksonville</td>\n",
       "      <td>Florida</td>\n",
       "      <td>South</td>\n",
       "      <td>Furniture</td>\n",
       "      <td>Furnishings</td>\n",
       "      <td>Eldon Delta Triangular Chair Mat, 52\" x 58\", C...</td>\n",
       "      <td>91.0320</td>\n",
       "      <td>3</td>\n",
       "      <td>0.20</td>\n",
       "      <td>-2.2758</td>\n",
       "      <td>4 days</td>\n",
       "    </tr>\n",
       "    <tr>\n",
       "      <th>4300</th>\n",
       "      <td>4301</td>\n",
       "      <td>CA-2018-129021</td>\n",
       "      <td>2018-08-23</td>\n",
       "      <td>2018-08-26</td>\n",
       "      <td>Second Class</td>\n",
       "      <td>Patrick O'Brill</td>\n",
       "      <td>Consumer</td>\n",
       "      <td>Tallahassee</td>\n",
       "      <td>Florida</td>\n",
       "      <td>South</td>\n",
       "      <td>Furniture</td>\n",
       "      <td>Furnishings</td>\n",
       "      <td>Eldon Regeneration Recycled Desk Accessories, ...</td>\n",
       "      <td>2.7840</td>\n",
       "      <td>2</td>\n",
       "      <td>0.20</td>\n",
       "      <td>0.4176</td>\n",
       "      <td>3 days</td>\n",
       "    </tr>\n",
       "    <tr>\n",
       "      <th>4432</th>\n",
       "      <td>4433</td>\n",
       "      <td>CA-2017-168893</td>\n",
       "      <td>2017-11-03</td>\n",
       "      <td>2017-11-08</td>\n",
       "      <td>Second Class</td>\n",
       "      <td>Arthur Prichep</td>\n",
       "      <td>Consumer</td>\n",
       "      <td>Henderson</td>\n",
       "      <td>Kentucky</td>\n",
       "      <td>South</td>\n",
       "      <td>Furniture</td>\n",
       "      <td>Furnishings</td>\n",
       "      <td>Magna Visual Magnetic Picture Hangers</td>\n",
       "      <td>24.1000</td>\n",
       "      <td>5</td>\n",
       "      <td>0.00</td>\n",
       "      <td>9.1580</td>\n",
       "      <td>5 days</td>\n",
       "    </tr>\n",
       "    <tr>\n",
       "      <th>4434</th>\n",
       "      <td>4435</td>\n",
       "      <td>CA-2017-168893</td>\n",
       "      <td>2017-11-03</td>\n",
       "      <td>2017-11-08</td>\n",
       "      <td>Second Class</td>\n",
       "      <td>Arthur Prichep</td>\n",
       "      <td>Consumer</td>\n",
       "      <td>Henderson</td>\n",
       "      <td>Kentucky</td>\n",
       "      <td>South</td>\n",
       "      <td>Furniture</td>\n",
       "      <td>Tables</td>\n",
       "      <td>Global Adaptabilities Conference Tables</td>\n",
       "      <td>842.9400</td>\n",
       "      <td>3</td>\n",
       "      <td>0.00</td>\n",
       "      <td>160.1586</td>\n",
       "      <td>5 days</td>\n",
       "    </tr>\n",
       "    <tr>\n",
       "      <th>4514</th>\n",
       "      <td>4515</td>\n",
       "      <td>CA-2017-120873</td>\n",
       "      <td>2017-10-27</td>\n",
       "      <td>2017-11-01</td>\n",
       "      <td>Second Class</td>\n",
       "      <td>Ben Wallace</td>\n",
       "      <td>Consumer</td>\n",
       "      <td>Hampton</td>\n",
       "      <td>Virginia</td>\n",
       "      <td>South</td>\n",
       "      <td>Furniture</td>\n",
       "      <td>Chairs</td>\n",
       "      <td>Global Executive Mid-Back Manager's Chair</td>\n",
       "      <td>290.9800</td>\n",
       "      <td>1</td>\n",
       "      <td>0.00</td>\n",
       "      <td>75.6548</td>\n",
       "      <td>5 days</td>\n",
       "    </tr>\n",
       "    <tr>\n",
       "      <th>6992</th>\n",
       "      <td>6993</td>\n",
       "      <td>CA-2016-109386</td>\n",
       "      <td>2016-11-08</td>\n",
       "      <td>2016-11-13</td>\n",
       "      <td>Second Class</td>\n",
       "      <td>Rob Haberlin</td>\n",
       "      <td>Consumer</td>\n",
       "      <td>Hampton</td>\n",
       "      <td>Virginia</td>\n",
       "      <td>South</td>\n",
       "      <td>Furniture</td>\n",
       "      <td>Furnishings</td>\n",
       "      <td>Deflect-o Glass Clear Studded Chair Mats</td>\n",
       "      <td>186.5400</td>\n",
       "      <td>3</td>\n",
       "      <td>0.00</td>\n",
       "      <td>41.0388</td>\n",
       "      <td>5 days</td>\n",
       "    </tr>\n",
       "    <tr>\n",
       "      <th>7154</th>\n",
       "      <td>7155</td>\n",
       "      <td>US-2016-136749</td>\n",
       "      <td>2016-12-25</td>\n",
       "      <td>2016-12-27</td>\n",
       "      <td>Second Class</td>\n",
       "      <td>Lena Hernandez</td>\n",
       "      <td>Consumer</td>\n",
       "      <td>Columbus</td>\n",
       "      <td>Georgia</td>\n",
       "      <td>South</td>\n",
       "      <td>Furniture</td>\n",
       "      <td>Furnishings</td>\n",
       "      <td>Tenex B1-RE Series Chair Mats for Low Pile Car...</td>\n",
       "      <td>275.8800</td>\n",
       "      <td>6</td>\n",
       "      <td>0.00</td>\n",
       "      <td>46.8996</td>\n",
       "      <td>2 days</td>\n",
       "    </tr>\n",
       "    <tr>\n",
       "      <th>7632</th>\n",
       "      <td>7633</td>\n",
       "      <td>US-2018-158526</td>\n",
       "      <td>2018-12-29</td>\n",
       "      <td>2019-01-01</td>\n",
       "      <td>Second Class</td>\n",
       "      <td>Katherine Hughes</td>\n",
       "      <td>Consumer</td>\n",
       "      <td>Louisville</td>\n",
       "      <td>Kentucky</td>\n",
       "      <td>South</td>\n",
       "      <td>Furniture</td>\n",
       "      <td>Chairs</td>\n",
       "      <td>DMI Arturo Collection Mission-style Design Woo...</td>\n",
       "      <td>1207.8400</td>\n",
       "      <td>8</td>\n",
       "      <td>0.00</td>\n",
       "      <td>314.0384</td>\n",
       "      <td>3 days</td>\n",
       "    </tr>\n",
       "    <tr>\n",
       "      <th>7635</th>\n",
       "      <td>7636</td>\n",
       "      <td>US-2018-158526</td>\n",
       "      <td>2018-12-29</td>\n",
       "      <td>2019-01-01</td>\n",
       "      <td>Second Class</td>\n",
       "      <td>Katherine Hughes</td>\n",
       "      <td>Consumer</td>\n",
       "      <td>Louisville</td>\n",
       "      <td>Kentucky</td>\n",
       "      <td>South</td>\n",
       "      <td>Furniture</td>\n",
       "      <td>Chairs</td>\n",
       "      <td>Global Leather and Oak Executive Chair, Black</td>\n",
       "      <td>300.9800</td>\n",
       "      <td>1</td>\n",
       "      <td>0.00</td>\n",
       "      <td>87.2842</td>\n",
       "      <td>3 days</td>\n",
       "    </tr>\n",
       "    <tr>\n",
       "      <th>7636</th>\n",
       "      <td>7637</td>\n",
       "      <td>US-2018-158526</td>\n",
       "      <td>2018-12-29</td>\n",
       "      <td>2019-01-01</td>\n",
       "      <td>Second Class</td>\n",
       "      <td>Katherine Hughes</td>\n",
       "      <td>Consumer</td>\n",
       "      <td>Louisville</td>\n",
       "      <td>Kentucky</td>\n",
       "      <td>South</td>\n",
       "      <td>Furniture</td>\n",
       "      <td>Chairs</td>\n",
       "      <td>Harbour Creations Steel Folding Chair</td>\n",
       "      <td>258.7500</td>\n",
       "      <td>3</td>\n",
       "      <td>0.00</td>\n",
       "      <td>77.6250</td>\n",
       "      <td>3 days</td>\n",
       "    </tr>\n",
       "    <tr>\n",
       "      <th>7711</th>\n",
       "      <td>7712</td>\n",
       "      <td>CA-2018-139353</td>\n",
       "      <td>2018-10-28</td>\n",
       "      <td>2018-10-30</td>\n",
       "      <td>Second Class</td>\n",
       "      <td>Janet Martin</td>\n",
       "      <td>Consumer</td>\n",
       "      <td>Fayetteville</td>\n",
       "      <td>North Carolina</td>\n",
       "      <td>South</td>\n",
       "      <td>Furniture</td>\n",
       "      <td>Furnishings</td>\n",
       "      <td>Computer Room Manger, 14\"</td>\n",
       "      <td>77.9520</td>\n",
       "      <td>3</td>\n",
       "      <td>0.20</td>\n",
       "      <td>15.5904</td>\n",
       "      <td>2 days</td>\n",
       "    </tr>\n",
       "    <tr>\n",
       "      <th>8231</th>\n",
       "      <td>8232</td>\n",
       "      <td>CA-2017-162355</td>\n",
       "      <td>2017-06-30</td>\n",
       "      <td>2017-07-02</td>\n",
       "      <td>Second Class</td>\n",
       "      <td>Philip Fox</td>\n",
       "      <td>Consumer</td>\n",
       "      <td>Sandy Springs</td>\n",
       "      <td>Georgia</td>\n",
       "      <td>South</td>\n",
       "      <td>Furniture</td>\n",
       "      <td>Bookcases</td>\n",
       "      <td>O'Sullivan 2-Door Barrister Bookcase in Odessa...</td>\n",
       "      <td>1266.8600</td>\n",
       "      <td>7</td>\n",
       "      <td>0.00</td>\n",
       "      <td>291.3778</td>\n",
       "      <td>2 days</td>\n",
       "    </tr>\n",
       "    <tr>\n",
       "      <th>8490</th>\n",
       "      <td>8491</td>\n",
       "      <td>CA-2017-158841</td>\n",
       "      <td>2017-02-02</td>\n",
       "      <td>2017-02-04</td>\n",
       "      <td>Second Class</td>\n",
       "      <td>Sanjit Engle</td>\n",
       "      <td>Consumer</td>\n",
       "      <td>Arlington</td>\n",
       "      <td>Virginia</td>\n",
       "      <td>South</td>\n",
       "      <td>Furniture</td>\n",
       "      <td>Furnishings</td>\n",
       "      <td>Acrylic Self-Standing Desk Frames</td>\n",
       "      <td>18.6900</td>\n",
       "      <td>7</td>\n",
       "      <td>0.00</td>\n",
       "      <td>7.1022</td>\n",
       "      <td>2 days</td>\n",
       "    </tr>\n",
       "    <tr>\n",
       "      <th>8954</th>\n",
       "      <td>8955</td>\n",
       "      <td>CA-2015-156790</td>\n",
       "      <td>2015-08-08</td>\n",
       "      <td>2015-08-10</td>\n",
       "      <td>Second Class</td>\n",
       "      <td>Vivek Gonzalez</td>\n",
       "      <td>Consumer</td>\n",
       "      <td>Jacksonville</td>\n",
       "      <td>Florida</td>\n",
       "      <td>South</td>\n",
       "      <td>Furniture</td>\n",
       "      <td>Bookcases</td>\n",
       "      <td>O'Sullivan 2-Shelf Heavy-Duty Bookcases</td>\n",
       "      <td>155.4560</td>\n",
       "      <td>4</td>\n",
       "      <td>0.20</td>\n",
       "      <td>-7.7728</td>\n",
       "      <td>2 days</td>\n",
       "    </tr>\n",
       "    <tr>\n",
       "      <th>9020</th>\n",
       "      <td>9021</td>\n",
       "      <td>CA-2015-100706</td>\n",
       "      <td>2015-12-16</td>\n",
       "      <td>2015-12-18</td>\n",
       "      <td>Second Class</td>\n",
       "      <td>Laurel Elliston</td>\n",
       "      <td>Consumer</td>\n",
       "      <td>Springfield</td>\n",
       "      <td>Virginia</td>\n",
       "      <td>South</td>\n",
       "      <td>Furniture</td>\n",
       "      <td>Furnishings</td>\n",
       "      <td>Ultra Door Push Plate</td>\n",
       "      <td>29.4600</td>\n",
       "      <td>6</td>\n",
       "      <td>0.00</td>\n",
       "      <td>9.7218</td>\n",
       "      <td>2 days</td>\n",
       "    </tr>\n",
       "    <tr>\n",
       "      <th>9380</th>\n",
       "      <td>9381</td>\n",
       "      <td>CA-2015-154158</td>\n",
       "      <td>2015-12-23</td>\n",
       "      <td>2015-12-27</td>\n",
       "      <td>Second Class</td>\n",
       "      <td>Craig Carreira</td>\n",
       "      <td>Consumer</td>\n",
       "      <td>Tampa</td>\n",
       "      <td>Florida</td>\n",
       "      <td>South</td>\n",
       "      <td>Furniture</td>\n",
       "      <td>Chairs</td>\n",
       "      <td>Padded Folding Chairs, Black, 4/Carton</td>\n",
       "      <td>64.7840</td>\n",
       "      <td>1</td>\n",
       "      <td>0.20</td>\n",
       "      <td>6.4784</td>\n",
       "      <td>4 days</td>\n",
       "    </tr>\n",
       "    <tr>\n",
       "      <th>9639</th>\n",
       "      <td>9640</td>\n",
       "      <td>CA-2016-116638</td>\n",
       "      <td>2016-01-28</td>\n",
       "      <td>2016-01-31</td>\n",
       "      <td>Second Class</td>\n",
       "      <td>Joseph Holt</td>\n",
       "      <td>Consumer</td>\n",
       "      <td>Concord</td>\n",
       "      <td>North Carolina</td>\n",
       "      <td>South</td>\n",
       "      <td>Furniture</td>\n",
       "      <td>Tables</td>\n",
       "      <td>Chromcraft Bull-Nose Wood Oval Conference Tabl...</td>\n",
       "      <td>4297.6440</td>\n",
       "      <td>13</td>\n",
       "      <td>0.40</td>\n",
       "      <td>-1862.3124</td>\n",
       "      <td>3 days</td>\n",
       "    </tr>\n",
       "    <tr>\n",
       "      <th>9756</th>\n",
       "      <td>9757</td>\n",
       "      <td>CA-2018-113705</td>\n",
       "      <td>2018-03-27</td>\n",
       "      <td>2018-03-29</td>\n",
       "      <td>Second Class</td>\n",
       "      <td>Lena Cacioppo</td>\n",
       "      <td>Consumer</td>\n",
       "      <td>Richmond</td>\n",
       "      <td>Virginia</td>\n",
       "      <td>South</td>\n",
       "      <td>Furniture</td>\n",
       "      <td>Tables</td>\n",
       "      <td>BPI Conference Tables</td>\n",
       "      <td>292.1000</td>\n",
       "      <td>2</td>\n",
       "      <td>0.00</td>\n",
       "      <td>58.4200</td>\n",
       "      <td>2 days</td>\n",
       "    </tr>\n",
       "    <tr>\n",
       "      <th>9807</th>\n",
       "      <td>9808</td>\n",
       "      <td>CA-2018-107209</td>\n",
       "      <td>2018-07-27</td>\n",
       "      <td>2018-08-01</td>\n",
       "      <td>Second Class</td>\n",
       "      <td>Joni Wasserman</td>\n",
       "      <td>Consumer</td>\n",
       "      <td>Raleigh</td>\n",
       "      <td>North Carolina</td>\n",
       "      <td>South</td>\n",
       "      <td>Furniture</td>\n",
       "      <td>Chairs</td>\n",
       "      <td>Global Value Mid-Back Manager's Chair, Gray</td>\n",
       "      <td>194.8480</td>\n",
       "      <td>4</td>\n",
       "      <td>0.20</td>\n",
       "      <td>12.1780</td>\n",
       "      <td>5 days</td>\n",
       "    </tr>\n",
       "    <tr>\n",
       "      <th>9980</th>\n",
       "      <td>9981</td>\n",
       "      <td>US-2016-151435</td>\n",
       "      <td>2016-09-06</td>\n",
       "      <td>2016-09-09</td>\n",
       "      <td>Second Class</td>\n",
       "      <td>Shaun Weien</td>\n",
       "      <td>Consumer</td>\n",
       "      <td>Lafayette</td>\n",
       "      <td>Louisiana</td>\n",
       "      <td>South</td>\n",
       "      <td>Furniture</td>\n",
       "      <td>Tables</td>\n",
       "      <td>KI Adjustable-Height Table</td>\n",
       "      <td>85.9800</td>\n",
       "      <td>1</td>\n",
       "      <td>0.00</td>\n",
       "      <td>22.3548</td>\n",
       "      <td>3 days</td>\n",
       "    </tr>\n",
       "    <tr>\n",
       "      <th>9989</th>\n",
       "      <td>9990</td>\n",
       "      <td>CA-2015-110422</td>\n",
       "      <td>2015-01-21</td>\n",
       "      <td>2015-01-23</td>\n",
       "      <td>Second Class</td>\n",
       "      <td>Tom Boeckenhauer</td>\n",
       "      <td>Consumer</td>\n",
       "      <td>Miami</td>\n",
       "      <td>Florida</td>\n",
       "      <td>South</td>\n",
       "      <td>Furniture</td>\n",
       "      <td>Furnishings</td>\n",
       "      <td>Ultra Door Pull Handle</td>\n",
       "      <td>25.2480</td>\n",
       "      <td>3</td>\n",
       "      <td>0.20</td>\n",
       "      <td>4.1028</td>\n",
       "      <td>2 days</td>\n",
       "    </tr>\n",
       "  </tbody>\n",
       "</table>\n",
       "</div>"
      ],
      "text/plain": [
       "      Row ID        Order ID Order Date  Ship Date     Ship Mode  \\\n",
       "0          1  CA-2017-152156 2017-11-08 2017-11-11  Second Class   \n",
       "1          2  CA-2017-152156 2017-11-08 2017-11-11  Second Class   \n",
       "85        86  CA-2018-140088 2018-05-28 2018-05-30  Second Class   \n",
       "424      425  CA-2018-155705 2018-08-21 2018-08-23  Second Class   \n",
       "494      495  US-2017-120929 2017-03-18 2017-03-21  Second Class   \n",
       "562      563  CA-2015-145576 2015-09-14 2015-09-18  Second Class   \n",
       "689      690  US-2015-117135 2015-06-21 2015-06-23  Second Class   \n",
       "829      830  CA-2018-129462 2018-06-16 2018-06-21  Second Class   \n",
       "1300    1301  CA-2017-137043 2017-12-23 2017-12-25  Second Class   \n",
       "1301    1302  CA-2017-137043 2017-12-23 2017-12-25  Second Class   \n",
       "1433    1434  CA-2015-120768 2015-12-19 2015-12-21  Second Class   \n",
       "1811    1812  CA-2015-132612 2015-06-09 2015-06-11  Second Class   \n",
       "1899    1900  CA-2015-169775 2015-08-29 2015-09-02  Second Class   \n",
       "1932    1933  CA-2018-161200 2018-08-06 2018-08-10  Second Class   \n",
       "1933    1934  CA-2018-161200 2018-08-06 2018-08-10  Second Class   \n",
       "2003    2004  CA-2018-163510 2018-12-25 2018-12-28  Second Class   \n",
       "2857    2858  CA-2017-154690 2017-08-15 2017-08-17  Second Class   \n",
       "2890    2891  CA-2015-142727 2015-04-29 2015-05-01  Second Class   \n",
       "2926    2927  CA-2018-128629 2018-07-10 2018-07-14  Second Class   \n",
       "2971    2972  CA-2018-167941 2018-11-06 2018-11-09  Second Class   \n",
       "2978    2979  CA-2015-109232 2015-01-13 2015-01-16  Second Class   \n",
       "3746    3747  CA-2017-149979 2017-09-23 2017-09-28  Second Class   \n",
       "4125    4126  CA-2018-123239 2018-07-27 2018-07-31  Second Class   \n",
       "4300    4301  CA-2018-129021 2018-08-23 2018-08-26  Second Class   \n",
       "4432    4433  CA-2017-168893 2017-11-03 2017-11-08  Second Class   \n",
       "4434    4435  CA-2017-168893 2017-11-03 2017-11-08  Second Class   \n",
       "4514    4515  CA-2017-120873 2017-10-27 2017-11-01  Second Class   \n",
       "6992    6993  CA-2016-109386 2016-11-08 2016-11-13  Second Class   \n",
       "7154    7155  US-2016-136749 2016-12-25 2016-12-27  Second Class   \n",
       "7632    7633  US-2018-158526 2018-12-29 2019-01-01  Second Class   \n",
       "7635    7636  US-2018-158526 2018-12-29 2019-01-01  Second Class   \n",
       "7636    7637  US-2018-158526 2018-12-29 2019-01-01  Second Class   \n",
       "7711    7712  CA-2018-139353 2018-10-28 2018-10-30  Second Class   \n",
       "8231    8232  CA-2017-162355 2017-06-30 2017-07-02  Second Class   \n",
       "8490    8491  CA-2017-158841 2017-02-02 2017-02-04  Second Class   \n",
       "8954    8955  CA-2015-156790 2015-08-08 2015-08-10  Second Class   \n",
       "9020    9021  CA-2015-100706 2015-12-16 2015-12-18  Second Class   \n",
       "9380    9381  CA-2015-154158 2015-12-23 2015-12-27  Second Class   \n",
       "9639    9640  CA-2016-116638 2016-01-28 2016-01-31  Second Class   \n",
       "9756    9757  CA-2018-113705 2018-03-27 2018-03-29  Second Class   \n",
       "9807    9808  CA-2018-107209 2018-07-27 2018-08-01  Second Class   \n",
       "9980    9981  US-2016-151435 2016-09-06 2016-09-09  Second Class   \n",
       "9989    9990  CA-2015-110422 2015-01-21 2015-01-23  Second Class   \n",
       "\n",
       "           Customer Name   Segment            City           State Region  \\\n",
       "0            Claire Gute  Consumer       Henderson        Kentucky  South   \n",
       "1            Claire Gute  Consumer       Henderson        Kentucky  South   \n",
       "85     Patrick O'Donnell  Consumer        Columbia  South Carolina  South   \n",
       "424     Natalie Fritzler  Consumer         Jackson     Mississippi  South   \n",
       "494         Rose O'Brian  Consumer         Memphis       Tennessee  South   \n",
       "562      Cynthia Arntzen  Consumer           Tampa         Florida  South   \n",
       "689         Naresj Patel  Consumer      Waynesboro        Virginia  South   \n",
       "829           Joel Eaton  Consumer        Florence        Kentucky  South   \n",
       "1300        Logan Currie  Consumer     Springfield        Virginia  South   \n",
       "1301        Logan Currie  Consumer     Springfield        Virginia  South   \n",
       "1433        Irene Maddox  Consumer        Florence         Alabama  South   \n",
       "1811         Frank Olsen  Consumer    Harrisonburg        Virginia  South   \n",
       "1899           Ryan Akin  Consumer           Miami         Florida  South   \n",
       "1932         Seth Vernon  Consumer       Lafayette       Louisiana  South   \n",
       "1933         Seth Vernon  Consumer       Lafayette       Louisiana  South   \n",
       "2003      Joni Wasserman  Consumer      Louisville        Kentucky  South   \n",
       "2857  Christopher Conant  Consumer    Fayetteville  North Carolina  South   \n",
       "2890        Harry Greene  Consumer    Lake Charles       Louisiana  South   \n",
       "2926           Becky Pak  Consumer        Columbus         Georgia  South   \n",
       "2971          Jill Fjeld  Consumer    Fayetteville  North Carolina  South   \n",
       "2978   Natalie DeCherney  Consumer  Mount Pleasant  South Carolina  South   \n",
       "3746   Russell Applegate  Consumer        Columbus         Georgia  South   \n",
       "4125     Mike Gockenbach  Consumer    Jacksonville         Florida  South   \n",
       "4300     Patrick O'Brill  Consumer     Tallahassee         Florida  South   \n",
       "4432      Arthur Prichep  Consumer       Henderson        Kentucky  South   \n",
       "4434      Arthur Prichep  Consumer       Henderson        Kentucky  South   \n",
       "4514         Ben Wallace  Consumer         Hampton        Virginia  South   \n",
       "6992        Rob Haberlin  Consumer         Hampton        Virginia  South   \n",
       "7154      Lena Hernandez  Consumer        Columbus         Georgia  South   \n",
       "7632    Katherine Hughes  Consumer      Louisville        Kentucky  South   \n",
       "7635    Katherine Hughes  Consumer      Louisville        Kentucky  South   \n",
       "7636    Katherine Hughes  Consumer      Louisville        Kentucky  South   \n",
       "7711        Janet Martin  Consumer    Fayetteville  North Carolina  South   \n",
       "8231          Philip Fox  Consumer   Sandy Springs         Georgia  South   \n",
       "8490        Sanjit Engle  Consumer       Arlington        Virginia  South   \n",
       "8954      Vivek Gonzalez  Consumer    Jacksonville         Florida  South   \n",
       "9020     Laurel Elliston  Consumer     Springfield        Virginia  South   \n",
       "9380      Craig Carreira  Consumer           Tampa         Florida  South   \n",
       "9639         Joseph Holt  Consumer         Concord  North Carolina  South   \n",
       "9756       Lena Cacioppo  Consumer        Richmond        Virginia  South   \n",
       "9807      Joni Wasserman  Consumer         Raleigh  North Carolina  South   \n",
       "9980         Shaun Weien  Consumer       Lafayette       Louisiana  South   \n",
       "9989    Tom Boeckenhauer  Consumer           Miami         Florida  South   \n",
       "\n",
       "       Category Sub-Category  \\\n",
       "0     Furniture    Bookcases   \n",
       "1     Furniture       Chairs   \n",
       "85    Furniture       Chairs   \n",
       "424   Furniture       Chairs   \n",
       "494   Furniture       Tables   \n",
       "562   Furniture  Furnishings   \n",
       "689   Furniture  Furnishings   \n",
       "829   Furniture       Chairs   \n",
       "1300  Furniture  Furnishings   \n",
       "1301  Furniture  Furnishings   \n",
       "1433  Furniture       Chairs   \n",
       "1811  Furniture       Tables   \n",
       "1899  Furniture       Tables   \n",
       "1932  Furniture    Bookcases   \n",
       "1933  Furniture  Furnishings   \n",
       "2003  Furniture       Chairs   \n",
       "2857  Furniture       Chairs   \n",
       "2890  Furniture       Chairs   \n",
       "2926  Furniture  Furnishings   \n",
       "2971  Furniture  Furnishings   \n",
       "2978  Furniture       Chairs   \n",
       "3746  Furniture       Chairs   \n",
       "4125  Furniture  Furnishings   \n",
       "4300  Furniture  Furnishings   \n",
       "4432  Furniture  Furnishings   \n",
       "4434  Furniture       Tables   \n",
       "4514  Furniture       Chairs   \n",
       "6992  Furniture  Furnishings   \n",
       "7154  Furniture  Furnishings   \n",
       "7632  Furniture       Chairs   \n",
       "7635  Furniture       Chairs   \n",
       "7636  Furniture       Chairs   \n",
       "7711  Furniture  Furnishings   \n",
       "8231  Furniture    Bookcases   \n",
       "8490  Furniture  Furnishings   \n",
       "8954  Furniture    Bookcases   \n",
       "9020  Furniture  Furnishings   \n",
       "9380  Furniture       Chairs   \n",
       "9639  Furniture       Tables   \n",
       "9756  Furniture       Tables   \n",
       "9807  Furniture       Chairs   \n",
       "9980  Furniture       Tables   \n",
       "9989  Furniture  Furnishings   \n",
       "\n",
       "                                           Product Name      Sales  Quantity  \\\n",
       "0                     Bush Somerset Collection Bookcase   261.9600         2   \n",
       "1     Hon Deluxe Fabric Upholstered Stacking Chairs,...   731.9400         3   \n",
       "85                     Novimex Swivel Fabric Task Chair   301.9600         2   \n",
       "424                Hon Multipurpose Stacking Arm Chairs   866.4000         4   \n",
       "494                   Balt Solid Wood Rectangular Table   189.8820         3   \n",
       "562                   Advantus Panel Wall Acrylic Frame    13.1280         3   \n",
       "689   Luxo Professional Magnifying Clamp-On Fluoresc...   104.0100         1   \n",
       "829       Global Airflow Leather Mesh Back Chair, Black   301.9600         2   \n",
       "1300  Electrix Architect's Clamp-On Swing Arm Lamp, ...   572.7600         6   \n",
       "1301  Electrix Architect's Clamp-On Swing Arm Lamp, ...   286.3800         3   \n",
       "1433                  High-Back Leather Manager's Chair  1819.8600        14   \n",
       "1811                    Bevis 44 x 96 Conference Tables  1441.3000         7   \n",
       "1899                  Balt Solid Wood Rectangular Table   174.0585         3   \n",
       "1932            O'Sullivan 2-Shelf Heavy-Duty Bookcases   145.7400         3   \n",
       "1933                       Longer-Life Soft White Bulbs    15.4000         5   \n",
       "2003        Global Value Mid-Back Manager's Chair, Gray   304.4500         5   \n",
       "2857                           Hon Olson Stacker Stools   225.2960         2   \n",
       "2890             Global Stack Chair without Arms, Black    51.9600         2   \n",
       "2926            Eldon 200 Class Desk Accessories, Smoke    18.8400         3   \n",
       "2971               Executive Impressions 12\" Wall Clock    28.2720         2   \n",
       "2978         Global Highback Leather Tilter in Burgundy   545.9400         6   \n",
       "3746                        Hon Mobius Operator's Chair   368.9700         3   \n",
       "4125  Eldon Delta Triangular Chair Mat, 52\" x 58\", C...    91.0320         3   \n",
       "4300  Eldon Regeneration Recycled Desk Accessories, ...     2.7840         2   \n",
       "4432              Magna Visual Magnetic Picture Hangers    24.1000         5   \n",
       "4434            Global Adaptabilities Conference Tables   842.9400         3   \n",
       "4514          Global Executive Mid-Back Manager's Chair   290.9800         1   \n",
       "6992           Deflect-o Glass Clear Studded Chair Mats   186.5400         3   \n",
       "7154  Tenex B1-RE Series Chair Mats for Low Pile Car...   275.8800         6   \n",
       "7632  DMI Arturo Collection Mission-style Design Woo...  1207.8400         8   \n",
       "7635      Global Leather and Oak Executive Chair, Black   300.9800         1   \n",
       "7636              Harbour Creations Steel Folding Chair   258.7500         3   \n",
       "7711                          Computer Room Manger, 14\"    77.9520         3   \n",
       "8231  O'Sullivan 2-Door Barrister Bookcase in Odessa...  1266.8600         7   \n",
       "8490                  Acrylic Self-Standing Desk Frames    18.6900         7   \n",
       "8954            O'Sullivan 2-Shelf Heavy-Duty Bookcases   155.4560         4   \n",
       "9020                              Ultra Door Push Plate    29.4600         6   \n",
       "9380             Padded Folding Chairs, Black, 4/Carton    64.7840         1   \n",
       "9639  Chromcraft Bull-Nose Wood Oval Conference Tabl...  4297.6440        13   \n",
       "9756                              BPI Conference Tables   292.1000         2   \n",
       "9807        Global Value Mid-Back Manager's Chair, Gray   194.8480         4   \n",
       "9980                         KI Adjustable-Height Table    85.9800         1   \n",
       "9989                             Ultra Door Pull Handle    25.2480         3   \n",
       "\n",
       "      Discount     Profit Shipping Time  \n",
       "0         0.00    41.9136        3 days  \n",
       "1         0.00   219.5820        3 days  \n",
       "85        0.00    33.2156        2 days  \n",
       "424       0.00   225.2640        2 days  \n",
       "494       0.40   -94.9410        3 days  \n",
       "562       0.20     3.7743        4 days  \n",
       "689       0.00    14.5614        2 days  \n",
       "829       0.00    90.5880        5 days  \n",
       "1300      0.00   166.1004        2 days  \n",
       "1301      0.00    83.0502        2 days  \n",
       "1433      0.00   163.7874        2 days  \n",
       "1811      0.00   245.0210        2 days  \n",
       "1899      0.45  -110.7645        4 days  \n",
       "1932      0.00    23.3184        4 days  \n",
       "1933      0.00     7.3920        4 days  \n",
       "2003      0.00    76.1125        3 days  \n",
       "2857      0.20    22.5296        2 days  \n",
       "2890      0.00    12.9900        2 days  \n",
       "2926      0.00     7.9128        4 days  \n",
       "2971      0.20     6.3612        3 days  \n",
       "2978      0.00    87.3504        3 days  \n",
       "3746      0.00    81.1734        5 days  \n",
       "4125      0.20    -2.2758        4 days  \n",
       "4300      0.20     0.4176        3 days  \n",
       "4432      0.00     9.1580        5 days  \n",
       "4434      0.00   160.1586        5 days  \n",
       "4514      0.00    75.6548        5 days  \n",
       "6992      0.00    41.0388        5 days  \n",
       "7154      0.00    46.8996        2 days  \n",
       "7632      0.00   314.0384        3 days  \n",
       "7635      0.00    87.2842        3 days  \n",
       "7636      0.00    77.6250        3 days  \n",
       "7711      0.20    15.5904        2 days  \n",
       "8231      0.00   291.3778        2 days  \n",
       "8490      0.00     7.1022        2 days  \n",
       "8954      0.20    -7.7728        2 days  \n",
       "9020      0.00     9.7218        2 days  \n",
       "9380      0.20     6.4784        4 days  \n",
       "9639      0.40 -1862.3124        3 days  \n",
       "9756      0.00    58.4200        2 days  \n",
       "9807      0.20    12.1780        5 days  \n",
       "9980      0.00    22.3548        3 days  \n",
       "9989      0.20     4.1028        2 days  "
      ]
     },
     "execution_count": 256,
     "metadata": {},
     "output_type": "execute_result"
    }
   ],
   "source": [
    "df[(df['Ship Mode']=='Second Class')&(df['Segment']==\"Consumer\")&(df['Region']=='South')&(df['Category']==\"Furniture\")]"
   ]
  },
  {
   "cell_type": "code",
   "execution_count": 258,
   "metadata": {},
   "outputs": [
    {
     "data": {
      "text/html": [
       "<div>\n",
       "<style scoped>\n",
       "    .dataframe tbody tr th:only-of-type {\n",
       "        vertical-align: middle;\n",
       "    }\n",
       "\n",
       "    .dataframe tbody tr th {\n",
       "        vertical-align: top;\n",
       "    }\n",
       "\n",
       "    .dataframe thead th {\n",
       "        text-align: right;\n",
       "    }\n",
       "</style>\n",
       "<table border=\"1\" class=\"dataframe\">\n",
       "  <thead>\n",
       "    <tr style=\"text-align: right;\">\n",
       "      <th>Region</th>\n",
       "      <th>Central</th>\n",
       "      <th>East</th>\n",
       "      <th>South</th>\n",
       "      <th>West</th>\n",
       "    </tr>\n",
       "    <tr>\n",
       "      <th>Category</th>\n",
       "      <th></th>\n",
       "      <th></th>\n",
       "      <th></th>\n",
       "      <th></th>\n",
       "    </tr>\n",
       "  </thead>\n",
       "  <tbody>\n",
       "    <tr>\n",
       "      <th>Furniture</th>\n",
       "      <td>481</td>\n",
       "      <td>601</td>\n",
       "      <td>332</td>\n",
       "      <td>707</td>\n",
       "    </tr>\n",
       "    <tr>\n",
       "      <th>Office Supplies</th>\n",
       "      <td>1422</td>\n",
       "      <td>1712</td>\n",
       "      <td>995</td>\n",
       "      <td>1897</td>\n",
       "    </tr>\n",
       "    <tr>\n",
       "      <th>Technology</th>\n",
       "      <td>420</td>\n",
       "      <td>535</td>\n",
       "      <td>293</td>\n",
       "      <td>599</td>\n",
       "    </tr>\n",
       "  </tbody>\n",
       "</table>\n",
       "</div>"
      ],
      "text/plain": [
       "Region           Central  East  South  West\n",
       "Category                                   \n",
       "Furniture            481   601    332   707\n",
       "Office Supplies     1422  1712    995  1897\n",
       "Technology           420   535    293   599"
      ]
     },
     "execution_count": 258,
     "metadata": {},
     "output_type": "execute_result"
    }
   ],
   "source": [
    "pd.crosstab(df['Category'],df['Region'])"
   ]
  },
  {
   "cell_type": "code",
   "execution_count": 265,
   "metadata": {},
   "outputs": [
    {
     "data": {
      "text/plain": [
       "<Axes: ylabel='Category'>"
      ]
     },
     "execution_count": 265,
     "metadata": {},
     "output_type": "execute_result"
    },
    {
     "data": {
      "image/png": "[encoded data removed]",
      "text/plain": [
       "<Figure size 640x480 with 1 Axes>"
      ]
     },
     "metadata": {},
     "output_type": "display_data"
    }
   ],
   "source": [
    "pd.crosstab(df['Category'],df['Region']).plot.barh()"
   ]
  },
  {
   "cell_type": "code",
   "execution_count": 266,
   "metadata": {},
   "outputs": [
    {
     "data": {
      "text/plain": [
       "<Axes: ylabel='Region'>"
      ]
     },
     "execution_count": 266,
     "metadata": {},
     "output_type": "execute_result"
    },
    {
     "data": {
      "image/png": "[encoded data removed]",
      "text/plain": [
       "<Figure size 640x480 with 1 Axes>"
      ]
     },
     "metadata": {},
     "output_type": "display_data"
    }
   ],
   "source": [
    "pd.crosstab(df['Region'],df['Category']).plot.barh()"
   ]
  },
  {
   "cell_type": "code",
   "execution_count": 259,
   "metadata": {},
   "outputs": [
    {
     "data": {
      "text/html": [
       "<div>\n",
       "<style scoped>\n",
       "    .dataframe tbody tr th:only-of-type {\n",
       "        vertical-align: middle;\n",
       "    }\n",
       "\n",
       "    .dataframe tbody tr th {\n",
       "        vertical-align: top;\n",
       "    }\n",
       "\n",
       "    .dataframe thead th {\n",
       "        text-align: right;\n",
       "    }\n",
       "</style>\n",
       "<table border=\"1\" class=\"dataframe\">\n",
       "  <thead>\n",
       "    <tr style=\"text-align: right;\">\n",
       "      <th>Segment</th>\n",
       "      <th>Consumer</th>\n",
       "      <th>Corporate</th>\n",
       "      <th>Home Office</th>\n",
       "    </tr>\n",
       "    <tr>\n",
       "      <th>State</th>\n",
       "      <th></th>\n",
       "      <th></th>\n",
       "      <th></th>\n",
       "    </tr>\n",
       "  </thead>\n",
       "  <tbody>\n",
       "    <tr>\n",
       "      <th>Alabama</th>\n",
       "      <td>25</td>\n",
       "      <td>28</td>\n",
       "      <td>8</td>\n",
       "    </tr>\n",
       "    <tr>\n",
       "      <th>Arizona</th>\n",
       "      <td>110</td>\n",
       "      <td>69</td>\n",
       "      <td>45</td>\n",
       "    </tr>\n",
       "    <tr>\n",
       "      <th>Arkansas</th>\n",
       "      <td>37</td>\n",
       "      <td>14</td>\n",
       "      <td>9</td>\n",
       "    </tr>\n",
       "    <tr>\n",
       "      <th>California</th>\n",
       "      <td>1048</td>\n",
       "      <td>618</td>\n",
       "      <td>335</td>\n",
       "    </tr>\n",
       "    <tr>\n",
       "      <th>Colorado</th>\n",
       "      <td>95</td>\n",
       "      <td>57</td>\n",
       "      <td>30</td>\n",
       "    </tr>\n",
       "    <tr>\n",
       "      <th>Connecticut</th>\n",
       "      <td>43</td>\n",
       "      <td>27</td>\n",
       "      <td>12</td>\n",
       "    </tr>\n",
       "    <tr>\n",
       "      <th>Delaware</th>\n",
       "      <td>49</td>\n",
       "      <td>36</td>\n",
       "      <td>11</td>\n",
       "    </tr>\n",
       "    <tr>\n",
       "      <th>District of Columbia</th>\n",
       "      <td>7</td>\n",
       "      <td>0</td>\n",
       "      <td>3</td>\n",
       "    </tr>\n",
       "    <tr>\n",
       "      <th>Florida</th>\n",
       "      <td>180</td>\n",
       "      <td>136</td>\n",
       "      <td>67</td>\n",
       "    </tr>\n",
       "    <tr>\n",
       "      <th>Georgia</th>\n",
       "      <td>85</td>\n",
       "      <td>59</td>\n",
       "      <td>40</td>\n",
       "    </tr>\n",
       "    <tr>\n",
       "      <th>Idaho</th>\n",
       "      <td>9</td>\n",
       "      <td>9</td>\n",
       "      <td>3</td>\n",
       "    </tr>\n",
       "    <tr>\n",
       "      <th>Illinois</th>\n",
       "      <td>276</td>\n",
       "      <td>120</td>\n",
       "      <td>96</td>\n",
       "    </tr>\n",
       "    <tr>\n",
       "      <th>Indiana</th>\n",
       "      <td>73</td>\n",
       "      <td>41</td>\n",
       "      <td>35</td>\n",
       "    </tr>\n",
       "    <tr>\n",
       "      <th>Iowa</th>\n",
       "      <td>14</td>\n",
       "      <td>10</td>\n",
       "      <td>6</td>\n",
       "    </tr>\n",
       "    <tr>\n",
       "      <th>Kansas</th>\n",
       "      <td>8</td>\n",
       "      <td>8</td>\n",
       "      <td>8</td>\n",
       "    </tr>\n",
       "    <tr>\n",
       "      <th>Kentucky</th>\n",
       "      <td>76</td>\n",
       "      <td>35</td>\n",
       "      <td>28</td>\n",
       "    </tr>\n",
       "    <tr>\n",
       "      <th>Louisiana</th>\n",
       "      <td>26</td>\n",
       "      <td>12</td>\n",
       "      <td>4</td>\n",
       "    </tr>\n",
       "    <tr>\n",
       "      <th>Maine</th>\n",
       "      <td>0</td>\n",
       "      <td>5</td>\n",
       "      <td>3</td>\n",
       "    </tr>\n",
       "    <tr>\n",
       "      <th>Maryland</th>\n",
       "      <td>46</td>\n",
       "      <td>44</td>\n",
       "      <td>15</td>\n",
       "    </tr>\n",
       "    <tr>\n",
       "      <th>Massachusetts</th>\n",
       "      <td>58</td>\n",
       "      <td>40</td>\n",
       "      <td>37</td>\n",
       "    </tr>\n",
       "    <tr>\n",
       "      <th>Michigan</th>\n",
       "      <td>132</td>\n",
       "      <td>70</td>\n",
       "      <td>53</td>\n",
       "    </tr>\n",
       "    <tr>\n",
       "      <th>Minnesota</th>\n",
       "      <td>51</td>\n",
       "      <td>16</td>\n",
       "      <td>22</td>\n",
       "    </tr>\n",
       "    <tr>\n",
       "      <th>Mississippi</th>\n",
       "      <td>28</td>\n",
       "      <td>14</td>\n",
       "      <td>11</td>\n",
       "    </tr>\n",
       "    <tr>\n",
       "      <th>Missouri</th>\n",
       "      <td>38</td>\n",
       "      <td>15</td>\n",
       "      <td>13</td>\n",
       "    </tr>\n",
       "    <tr>\n",
       "      <th>Montana</th>\n",
       "      <td>4</td>\n",
       "      <td>2</td>\n",
       "      <td>9</td>\n",
       "    </tr>\n",
       "    <tr>\n",
       "      <th>Nebraska</th>\n",
       "      <td>19</td>\n",
       "      <td>13</td>\n",
       "      <td>6</td>\n",
       "    </tr>\n",
       "    <tr>\n",
       "      <th>Nevada</th>\n",
       "      <td>18</td>\n",
       "      <td>13</td>\n",
       "      <td>8</td>\n",
       "    </tr>\n",
       "    <tr>\n",
       "      <th>New Hampshire</th>\n",
       "      <td>6</td>\n",
       "      <td>9</td>\n",
       "      <td>12</td>\n",
       "    </tr>\n",
       "    <tr>\n",
       "      <th>New Jersey</th>\n",
       "      <td>57</td>\n",
       "      <td>50</td>\n",
       "      <td>23</td>\n",
       "    </tr>\n",
       "    <tr>\n",
       "      <th>New Mexico</th>\n",
       "      <td>15</td>\n",
       "      <td>11</td>\n",
       "      <td>11</td>\n",
       "    </tr>\n",
       "    <tr>\n",
       "      <th>New York</th>\n",
       "      <td>643</td>\n",
       "      <td>321</td>\n",
       "      <td>164</td>\n",
       "    </tr>\n",
       "    <tr>\n",
       "      <th>North Carolina</th>\n",
       "      <td>142</td>\n",
       "      <td>75</td>\n",
       "      <td>32</td>\n",
       "    </tr>\n",
       "    <tr>\n",
       "      <th>North Dakota</th>\n",
       "      <td>5</td>\n",
       "      <td>0</td>\n",
       "      <td>2</td>\n",
       "    </tr>\n",
       "    <tr>\n",
       "      <th>Ohio</th>\n",
       "      <td>255</td>\n",
       "      <td>123</td>\n",
       "      <td>91</td>\n",
       "    </tr>\n",
       "    <tr>\n",
       "      <th>Oklahoma</th>\n",
       "      <td>35</td>\n",
       "      <td>11</td>\n",
       "      <td>20</td>\n",
       "    </tr>\n",
       "    <tr>\n",
       "      <th>Oregon</th>\n",
       "      <td>67</td>\n",
       "      <td>38</td>\n",
       "      <td>19</td>\n",
       "    </tr>\n",
       "    <tr>\n",
       "      <th>Pennsylvania</th>\n",
       "      <td>284</td>\n",
       "      <td>196</td>\n",
       "      <td>107</td>\n",
       "    </tr>\n",
       "    <tr>\n",
       "      <th>Rhode Island</th>\n",
       "      <td>15</td>\n",
       "      <td>21</td>\n",
       "      <td>20</td>\n",
       "    </tr>\n",
       "    <tr>\n",
       "      <th>South Carolina</th>\n",
       "      <td>22</td>\n",
       "      <td>19</td>\n",
       "      <td>1</td>\n",
       "    </tr>\n",
       "    <tr>\n",
       "      <th>South Dakota</th>\n",
       "      <td>2</td>\n",
       "      <td>10</td>\n",
       "      <td>0</td>\n",
       "    </tr>\n",
       "    <tr>\n",
       "      <th>Tennessee</th>\n",
       "      <td>100</td>\n",
       "      <td>56</td>\n",
       "      <td>27</td>\n",
       "    </tr>\n",
       "    <tr>\n",
       "      <th>Texas</th>\n",
       "      <td>524</td>\n",
       "      <td>312</td>\n",
       "      <td>149</td>\n",
       "    </tr>\n",
       "    <tr>\n",
       "      <th>Utah</th>\n",
       "      <td>31</td>\n",
       "      <td>12</td>\n",
       "      <td>10</td>\n",
       "    </tr>\n",
       "    <tr>\n",
       "      <th>Vermont</th>\n",
       "      <td>5</td>\n",
       "      <td>5</td>\n",
       "      <td>1</td>\n",
       "    </tr>\n",
       "    <tr>\n",
       "      <th>Virginia</th>\n",
       "      <td>117</td>\n",
       "      <td>62</td>\n",
       "      <td>45</td>\n",
       "    </tr>\n",
       "    <tr>\n",
       "      <th>Washington</th>\n",
       "      <td>275</td>\n",
       "      <td>131</td>\n",
       "      <td>100</td>\n",
       "    </tr>\n",
       "    <tr>\n",
       "      <th>West Virginia</th>\n",
       "      <td>1</td>\n",
       "      <td>0</td>\n",
       "      <td>3</td>\n",
       "    </tr>\n",
       "    <tr>\n",
       "      <th>Wisconsin</th>\n",
       "      <td>35</td>\n",
       "      <td>47</td>\n",
       "      <td>28</td>\n",
       "    </tr>\n",
       "    <tr>\n",
       "      <th>Wyoming</th>\n",
       "      <td>0</td>\n",
       "      <td>0</td>\n",
       "      <td>1</td>\n",
       "    </tr>\n",
       "  </tbody>\n",
       "</table>\n",
       "</div>"
      ],
      "text/plain": [
       "Segment               Consumer  Corporate  Home Office\n",
       "State                                                 \n",
       "Alabama                     25         28            8\n",
       "Arizona                    110         69           45\n",
       "Arkansas                    37         14            9\n",
       "California                1048        618          335\n",
       "Colorado                    95         57           30\n",
       "Connecticut                 43         27           12\n",
       "Delaware                    49         36           11\n",
       "District of Columbia         7          0            3\n",
       "Florida                    180        136           67\n",
       "Georgia                     85         59           40\n",
       "Idaho                        9          9            3\n",
       "Illinois                   276        120           96\n",
       "Indiana                     73         41           35\n",
       "Iowa                        14         10            6\n",
       "Kansas                       8          8            8\n",
       "Kentucky                    76         35           28\n",
       "Louisiana                   26         12            4\n",
       "Maine                        0          5            3\n",
       "Maryland                    46         44           15\n",
       "Massachusetts               58         40           37\n",
       "Michigan                   132         70           53\n",
       "Minnesota                   51         16           22\n",
       "Mississippi                 28         14           11\n",
       "Missouri                    38         15           13\n",
       "Montana                      4          2            9\n",
       "Nebraska                    19         13            6\n",
       "Nevada                      18         13            8\n",
       "New Hampshire                6          9           12\n",
       "New Jersey                  57         50           23\n",
       "New Mexico                  15         11           11\n",
       "New York                   643        321          164\n",
       "North Carolina             142         75           32\n",
       "North Dakota                 5          0            2\n",
       "Ohio                       255        123           91\n",
       "Oklahoma                    35         11           20\n",
       "Oregon                      67         38           19\n",
       "Pennsylvania               284        196          107\n",
       "Rhode Island                15         21           20\n",
       "South Carolina              22         19            1\n",
       "South Dakota                 2         10            0\n",
       "Tennessee                  100         56           27\n",
       "Texas                      524        312          149\n",
       "Utah                        31         12           10\n",
       "Vermont                      5          5            1\n",
       "Virginia                   117         62           45\n",
       "Washington                 275        131          100\n",
       "West Virginia                1          0            3\n",
       "Wisconsin                   35         47           28\n",
       "Wyoming                      0          0            1"
      ]
     },
     "execution_count": 259,
     "metadata": {},
     "output_type": "execute_result"
    }
   ],
   "source": [
    "pd.crosstab(df['State'],df['Segment'])"
   ]
  },
  {
   "cell_type": "code",
   "execution_count": 260,
   "metadata": {},
   "outputs": [
    {
     "data": {
      "text/html": [
       "<div>\n",
       "<style scoped>\n",
       "    .dataframe tbody tr th:only-of-type {\n",
       "        vertical-align: middle;\n",
       "    }\n",
       "\n",
       "    .dataframe tbody tr th {\n",
       "        vertical-align: top;\n",
       "    }\n",
       "\n",
       "    .dataframe thead th {\n",
       "        text-align: right;\n",
       "    }\n",
       "</style>\n",
       "<table border=\"1\" class=\"dataframe\">\n",
       "  <thead>\n",
       "    <tr style=\"text-align: right;\">\n",
       "      <th>Region</th>\n",
       "      <th>Central</th>\n",
       "      <th>East</th>\n",
       "      <th>South</th>\n",
       "      <th>West</th>\n",
       "    </tr>\n",
       "    <tr>\n",
       "      <th>Category</th>\n",
       "      <th></th>\n",
       "      <th></th>\n",
       "      <th></th>\n",
       "      <th></th>\n",
       "    </tr>\n",
       "  </thead>\n",
       "  <tbody>\n",
       "    <tr>\n",
       "      <th>Furniture</th>\n",
       "      <td>340.534644</td>\n",
       "      <td>346.574383</td>\n",
       "      <td>353.309289</td>\n",
       "      <td>357.302325</td>\n",
       "    </tr>\n",
       "    <tr>\n",
       "      <th>Office Supplies</th>\n",
       "      <td>117.458801</td>\n",
       "      <td>120.044425</td>\n",
       "      <td>126.282727</td>\n",
       "      <td>116.422377</td>\n",
       "    </tr>\n",
       "    <tr>\n",
       "      <th>Technology</th>\n",
       "      <td>405.753124</td>\n",
       "      <td>495.278469</td>\n",
       "      <td>507.753952</td>\n",
       "      <td>420.687533</td>\n",
       "    </tr>\n",
       "  </tbody>\n",
       "</table>\n",
       "</div>"
      ],
      "text/plain": [
       "Region              Central        East       South        West\n",
       "Category                                                       \n",
       "Furniture        340.534644  346.574383  353.309289  357.302325\n",
       "Office Supplies  117.458801  120.044425  126.282727  116.422377\n",
       "Technology       405.753124  495.278469  507.753952  420.687533"
      ]
     },
     "execution_count": 260,
     "metadata": {},
     "output_type": "execute_result"
    }
   ],
   "source": [
    "pd.pivot_table(df,index=\"Category\", columns=\"Region\", values=\"Sales\",aggfunc=\"mean\")"
   ]
  },
  {
   "cell_type": "code",
   "execution_count": 264,
   "metadata": {},
   "outputs": [
    {
     "data": {
      "text/plain": [
       "<Axes: ylabel='Category'>"
      ]
     },
     "execution_count": 264,
     "metadata": {},
     "output_type": "execute_result"
    },
    {
     "data": {
      "image/png": "[encoded data removed]",
      "text/plain": [
       "<Figure size 640x480 with 1 Axes>"
      ]
     },
     "metadata": {},
     "output_type": "display_data"
    }
   ],
   "source": [
    "pd.pivot_table(df,index=\"Category\", columns=\"Region\", values=\"Sales\",aggfunc=\"mean\").plot.barh()"
   ]
  },
  {
   "cell_type": "markdown",
   "metadata": {},
   "source": [
    "How to get data of only south region?"
   ]
  },
  {
   "cell_type": "code",
   "execution_count": 268,
   "metadata": {},
   "outputs": [
    {
     "data": {
      "text/html": [
       "<div>\n",
       "<style scoped>\n",
       "    .dataframe tbody tr th:only-of-type {\n",
       "        vertical-align: middle;\n",
       "    }\n",
       "\n",
       "    .dataframe tbody tr th {\n",
       "        vertical-align: top;\n",
       "    }\n",
       "\n",
       "    .dataframe thead th {\n",
       "        text-align: right;\n",
       "    }\n",
       "</style>\n",
       "<table border=\"1\" class=\"dataframe\">\n",
       "  <thead>\n",
       "    <tr style=\"text-align: right;\">\n",
       "      <th></th>\n",
       "      <th>Row ID</th>\n",
       "      <th>Order ID</th>\n",
       "      <th>Order Date</th>\n",
       "      <th>Ship Date</th>\n",
       "      <th>Ship Mode</th>\n",
       "      <th>Customer Name</th>\n",
       "      <th>Segment</th>\n",
       "      <th>City</th>\n",
       "      <th>State</th>\n",
       "      <th>Region</th>\n",
       "      <th>Category</th>\n",
       "      <th>Sub-Category</th>\n",
       "      <th>Product Name</th>\n",
       "      <th>Sales</th>\n",
       "      <th>Quantity</th>\n",
       "      <th>Discount</th>\n",
       "      <th>Profit</th>\n",
       "      <th>Shipping Time</th>\n",
       "    </tr>\n",
       "  </thead>\n",
       "  <tbody>\n",
       "    <tr>\n",
       "      <th>0</th>\n",
       "      <td>1</td>\n",
       "      <td>CA-2017-152156</td>\n",
       "      <td>2017-11-08</td>\n",
       "      <td>2017-11-11</td>\n",
       "      <td>Second Class</td>\n",
       "      <td>Claire Gute</td>\n",
       "      <td>Consumer</td>\n",
       "      <td>Henderson</td>\n",
       "      <td>Kentucky</td>\n",
       "      <td>South</td>\n",
       "      <td>Furniture</td>\n",
       "      <td>Bookcases</td>\n",
       "      <td>Bush Somerset Collection Bookcase</td>\n",
       "      <td>261.9600</td>\n",
       "      <td>2</td>\n",
       "      <td>0.00</td>\n",
       "      <td>41.9136</td>\n",
       "      <td>3 days</td>\n",
       "    </tr>\n",
       "    <tr>\n",
       "      <th>1</th>\n",
       "      <td>2</td>\n",
       "      <td>CA-2017-152156</td>\n",
       "      <td>2017-11-08</td>\n",
       "      <td>2017-11-11</td>\n",
       "      <td>Second Class</td>\n",
       "      <td>Claire Gute</td>\n",
       "      <td>Consumer</td>\n",
       "      <td>Henderson</td>\n",
       "      <td>Kentucky</td>\n",
       "      <td>South</td>\n",
       "      <td>Furniture</td>\n",
       "      <td>Chairs</td>\n",
       "      <td>Hon Deluxe Fabric Upholstered Stacking Chairs,...</td>\n",
       "      <td>731.9400</td>\n",
       "      <td>3</td>\n",
       "      <td>0.00</td>\n",
       "      <td>219.5820</td>\n",
       "      <td>3 days</td>\n",
       "    </tr>\n",
       "    <tr>\n",
       "      <th>3</th>\n",
       "      <td>4</td>\n",
       "      <td>US-2016-108966</td>\n",
       "      <td>2016-10-11</td>\n",
       "      <td>2016-10-18</td>\n",
       "      <td>Standard Class</td>\n",
       "      <td>Sean O'Donnell</td>\n",
       "      <td>Consumer</td>\n",
       "      <td>Fort Lauderdale</td>\n",
       "      <td>Florida</td>\n",
       "      <td>South</td>\n",
       "      <td>Furniture</td>\n",
       "      <td>Tables</td>\n",
       "      <td>Bretford CR4500 Series Slim Rectangular Table</td>\n",
       "      <td>957.5775</td>\n",
       "      <td>5</td>\n",
       "      <td>0.45</td>\n",
       "      <td>-383.0310</td>\n",
       "      <td>7 days</td>\n",
       "    </tr>\n",
       "    <tr>\n",
       "      <th>4</th>\n",
       "      <td>5</td>\n",
       "      <td>US-2016-108966</td>\n",
       "      <td>2016-10-11</td>\n",
       "      <td>2016-10-18</td>\n",
       "      <td>Standard Class</td>\n",
       "      <td>Sean O'Donnell</td>\n",
       "      <td>Consumer</td>\n",
       "      <td>Fort Lauderdale</td>\n",
       "      <td>Florida</td>\n",
       "      <td>South</td>\n",
       "      <td>Office Supplies</td>\n",
       "      <td>Storage</td>\n",
       "      <td>Eldon Fold 'N Roll Cart System</td>\n",
       "      <td>22.3680</td>\n",
       "      <td>2</td>\n",
       "      <td>0.20</td>\n",
       "      <td>2.5164</td>\n",
       "      <td>7 days</td>\n",
       "    </tr>\n",
       "    <tr>\n",
       "      <th>12</th>\n",
       "      <td>13</td>\n",
       "      <td>CA-2018-114412</td>\n",
       "      <td>2018-04-15</td>\n",
       "      <td>2018-04-20</td>\n",
       "      <td>Standard Class</td>\n",
       "      <td>Andrew Allen</td>\n",
       "      <td>Consumer</td>\n",
       "      <td>Concord</td>\n",
       "      <td>North Carolina</td>\n",
       "      <td>South</td>\n",
       "      <td>Office Supplies</td>\n",
       "      <td>Paper</td>\n",
       "      <td>Xerox 1967</td>\n",
       "      <td>15.5520</td>\n",
       "      <td>3</td>\n",
       "      <td>0.20</td>\n",
       "      <td>5.4432</td>\n",
       "      <td>5 days</td>\n",
       "    </tr>\n",
       "    <tr>\n",
       "      <th>...</th>\n",
       "      <td>...</td>\n",
       "      <td>...</td>\n",
       "      <td>...</td>\n",
       "      <td>...</td>\n",
       "      <td>...</td>\n",
       "      <td>...</td>\n",
       "      <td>...</td>\n",
       "      <td>...</td>\n",
       "      <td>...</td>\n",
       "      <td>...</td>\n",
       "      <td>...</td>\n",
       "      <td>...</td>\n",
       "      <td>...</td>\n",
       "      <td>...</td>\n",
       "      <td>...</td>\n",
       "      <td>...</td>\n",
       "      <td>...</td>\n",
       "      <td>...</td>\n",
       "    </tr>\n",
       "    <tr>\n",
       "      <th>9971</th>\n",
       "      <td>9972</td>\n",
       "      <td>CA-2016-103772</td>\n",
       "      <td>2016-06-28</td>\n",
       "      <td>2016-07-02</td>\n",
       "      <td>Standard Class</td>\n",
       "      <td>Mark Packer</td>\n",
       "      <td>Home Office</td>\n",
       "      <td>Smyrna</td>\n",
       "      <td>Georgia</td>\n",
       "      <td>South</td>\n",
       "      <td>Office Supplies</td>\n",
       "      <td>Art</td>\n",
       "      <td>Boston Model 1800 Electric Pencil Sharpener, Gray</td>\n",
       "      <td>140.7500</td>\n",
       "      <td>5</td>\n",
       "      <td>0.00</td>\n",
       "      <td>42.2250</td>\n",
       "      <td>4 days</td>\n",
       "    </tr>\n",
       "    <tr>\n",
       "      <th>9980</th>\n",
       "      <td>9981</td>\n",
       "      <td>US-2016-151435</td>\n",
       "      <td>2016-09-06</td>\n",
       "      <td>2016-09-09</td>\n",
       "      <td>Second Class</td>\n",
       "      <td>Shaun Weien</td>\n",
       "      <td>Consumer</td>\n",
       "      <td>Lafayette</td>\n",
       "      <td>Louisiana</td>\n",
       "      <td>South</td>\n",
       "      <td>Furniture</td>\n",
       "      <td>Tables</td>\n",
       "      <td>KI Adjustable-Height Table</td>\n",
       "      <td>85.9800</td>\n",
       "      <td>1</td>\n",
       "      <td>0.00</td>\n",
       "      <td>22.3548</td>\n",
       "      <td>3 days</td>\n",
       "    </tr>\n",
       "    <tr>\n",
       "      <th>9987</th>\n",
       "      <td>9988</td>\n",
       "      <td>CA-2018-163629</td>\n",
       "      <td>2018-11-17</td>\n",
       "      <td>2018-11-21</td>\n",
       "      <td>Standard Class</td>\n",
       "      <td>Ruben Ausman</td>\n",
       "      <td>Corporate</td>\n",
       "      <td>Athens</td>\n",
       "      <td>Georgia</td>\n",
       "      <td>South</td>\n",
       "      <td>Technology</td>\n",
       "      <td>Accessories</td>\n",
       "      <td>Logitech G430 Surround Sound Gaming Headset wi...</td>\n",
       "      <td>79.9900</td>\n",
       "      <td>1</td>\n",
       "      <td>0.00</td>\n",
       "      <td>28.7964</td>\n",
       "      <td>4 days</td>\n",
       "    </tr>\n",
       "    <tr>\n",
       "      <th>9988</th>\n",
       "      <td>9989</td>\n",
       "      <td>CA-2018-163629</td>\n",
       "      <td>2018-11-17</td>\n",
       "      <td>2018-11-21</td>\n",
       "      <td>Standard Class</td>\n",
       "      <td>Ruben Ausman</td>\n",
       "      <td>Corporate</td>\n",
       "      <td>Athens</td>\n",
       "      <td>Georgia</td>\n",
       "      <td>South</td>\n",
       "      <td>Technology</td>\n",
       "      <td>Phones</td>\n",
       "      <td>Panasonic KX - TS880B Telephone</td>\n",
       "      <td>206.1000</td>\n",
       "      <td>5</td>\n",
       "      <td>0.00</td>\n",
       "      <td>55.6470</td>\n",
       "      <td>4 days</td>\n",
       "    </tr>\n",
       "    <tr>\n",
       "      <th>9989</th>\n",
       "      <td>9990</td>\n",
       "      <td>CA-2015-110422</td>\n",
       "      <td>2015-01-21</td>\n",
       "      <td>2015-01-23</td>\n",
       "      <td>Second Class</td>\n",
       "      <td>Tom Boeckenhauer</td>\n",
       "      <td>Consumer</td>\n",
       "      <td>Miami</td>\n",
       "      <td>Florida</td>\n",
       "      <td>South</td>\n",
       "      <td>Furniture</td>\n",
       "      <td>Furnishings</td>\n",
       "      <td>Ultra Door Pull Handle</td>\n",
       "      <td>25.2480</td>\n",
       "      <td>3</td>\n",
       "      <td>0.20</td>\n",
       "      <td>4.1028</td>\n",
       "      <td>2 days</td>\n",
       "    </tr>\n",
       "  </tbody>\n",
       "</table>\n",
       "<p>1620 rows × 18 columns</p>\n",
       "</div>"
      ],
      "text/plain": [
       "      Row ID        Order ID Order Date  Ship Date       Ship Mode  \\\n",
       "0          1  CA-2017-152156 2017-11-08 2017-11-11    Second Class   \n",
       "1          2  CA-2017-152156 2017-11-08 2017-11-11    Second Class   \n",
       "3          4  US-2016-108966 2016-10-11 2016-10-18  Standard Class   \n",
       "4          5  US-2016-108966 2016-10-11 2016-10-18  Standard Class   \n",
       "12        13  CA-2018-114412 2018-04-15 2018-04-20  Standard Class   \n",
       "...      ...             ...        ...        ...             ...   \n",
       "9971    9972  CA-2016-103772 2016-06-28 2016-07-02  Standard Class   \n",
       "9980    9981  US-2016-151435 2016-09-06 2016-09-09    Second Class   \n",
       "9987    9988  CA-2018-163629 2018-11-17 2018-11-21  Standard Class   \n",
       "9988    9989  CA-2018-163629 2018-11-17 2018-11-21  Standard Class   \n",
       "9989    9990  CA-2015-110422 2015-01-21 2015-01-23    Second Class   \n",
       "\n",
       "         Customer Name      Segment             City           State Region  \\\n",
       "0          Claire Gute     Consumer        Henderson        Kentucky  South   \n",
       "1          Claire Gute     Consumer        Henderson        Kentucky  South   \n",
       "3       Sean O'Donnell     Consumer  Fort Lauderdale         Florida  South   \n",
       "4       Sean O'Donnell     Consumer  Fort Lauderdale         Florida  South   \n",
       "12        Andrew Allen     Consumer          Concord  North Carolina  South   \n",
       "...                ...          ...              ...             ...    ...   \n",
       "9971       Mark Packer  Home Office           Smyrna         Georgia  South   \n",
       "9980       Shaun Weien     Consumer        Lafayette       Louisiana  South   \n",
       "9987      Ruben Ausman    Corporate           Athens         Georgia  South   \n",
       "9988      Ruben Ausman    Corporate           Athens         Georgia  South   \n",
       "9989  Tom Boeckenhauer     Consumer            Miami         Florida  South   \n",
       "\n",
       "             Category Sub-Category  \\\n",
       "0           Furniture    Bookcases   \n",
       "1           Furniture       Chairs   \n",
       "3           Furniture       Tables   \n",
       "4     Office Supplies      Storage   \n",
       "12    Office Supplies        Paper   \n",
       "...               ...          ...   \n",
       "9971  Office Supplies          Art   \n",
       "9980        Furniture       Tables   \n",
       "9987       Technology  Accessories   \n",
       "9988       Technology       Phones   \n",
       "9989        Furniture  Furnishings   \n",
       "\n",
       "                                           Product Name     Sales  Quantity  \\\n",
       "0                     Bush Somerset Collection Bookcase  261.9600         2   \n",
       "1     Hon Deluxe Fabric Upholstered Stacking Chairs,...  731.9400         3   \n",
       "3         Bretford CR4500 Series Slim Rectangular Table  957.5775         5   \n",
       "4                        Eldon Fold 'N Roll Cart System   22.3680         2   \n",
       "12                                           Xerox 1967   15.5520         3   \n",
       "...                                                 ...       ...       ...   \n",
       "9971  Boston Model 1800 Electric Pencil Sharpener, Gray  140.7500         5   \n",
       "9980                         KI Adjustable-Height Table   85.9800         1   \n",
       "9987  Logitech G430 Surround Sound Gaming Headset wi...   79.9900         1   \n",
       "9988                    Panasonic KX - TS880B Telephone  206.1000         5   \n",
       "9989                             Ultra Door Pull Handle   25.2480         3   \n",
       "\n",
       "      Discount    Profit Shipping Time  \n",
       "0         0.00   41.9136        3 days  \n",
       "1         0.00  219.5820        3 days  \n",
       "3         0.45 -383.0310        7 days  \n",
       "4         0.20    2.5164        7 days  \n",
       "12        0.20    5.4432        5 days  \n",
       "...        ...       ...           ...  \n",
       "9971      0.00   42.2250        4 days  \n",
       "9980      0.00   22.3548        3 days  \n",
       "9987      0.00   28.7964        4 days  \n",
       "9988      0.00   55.6470        4 days  \n",
       "9989      0.20    4.1028        2 days  \n",
       "\n",
       "[1620 rows x 18 columns]"
      ]
     },
     "execution_count": 268,
     "metadata": {},
     "output_type": "execute_result"
    }
   ],
   "source": [
    "df.query(\"Region=='South'\")"
   ]
  },
  {
   "cell_type": "markdown",
   "metadata": {},
   "source": [
    "### How to write sql Querry in pandas()"
   ]
  },
  {
   "cell_type": "code",
   "execution_count": 269,
   "metadata": {},
   "outputs": [
    {
     "data": {
      "text/html": [
       "<div>\n",
       "<style scoped>\n",
       "    .dataframe tbody tr th:only-of-type {\n",
       "        vertical-align: middle;\n",
       "    }\n",
       "\n",
       "    .dataframe tbody tr th {\n",
       "        vertical-align: top;\n",
       "    }\n",
       "\n",
       "    .dataframe thead th {\n",
       "        text-align: right;\n",
       "    }\n",
       "</style>\n",
       "<table border=\"1\" class=\"dataframe\">\n",
       "  <thead>\n",
       "    <tr style=\"text-align: right;\">\n",
       "      <th></th>\n",
       "      <th>Row ID</th>\n",
       "      <th>Order ID</th>\n",
       "      <th>Order Date</th>\n",
       "      <th>Ship Date</th>\n",
       "      <th>Ship Mode</th>\n",
       "      <th>Customer Name</th>\n",
       "      <th>Segment</th>\n",
       "      <th>City</th>\n",
       "      <th>State</th>\n",
       "      <th>Region</th>\n",
       "      <th>Category</th>\n",
       "      <th>Sub-Category</th>\n",
       "      <th>Product Name</th>\n",
       "      <th>Sales</th>\n",
       "      <th>Quantity</th>\n",
       "      <th>Discount</th>\n",
       "      <th>Profit</th>\n",
       "      <th>Shipping Time</th>\n",
       "    </tr>\n",
       "  </thead>\n",
       "  <tbody>\n",
       "    <tr>\n",
       "      <th>0</th>\n",
       "      <td>1</td>\n",
       "      <td>CA-2017-152156</td>\n",
       "      <td>2017-11-08</td>\n",
       "      <td>2017-11-11</td>\n",
       "      <td>Second Class</td>\n",
       "      <td>Claire Gute</td>\n",
       "      <td>Consumer</td>\n",
       "      <td>Henderson</td>\n",
       "      <td>Kentucky</td>\n",
       "      <td>South</td>\n",
       "      <td>Furniture</td>\n",
       "      <td>Bookcases</td>\n",
       "      <td>Bush Somerset Collection Bookcase</td>\n",
       "      <td>261.9600</td>\n",
       "      <td>2</td>\n",
       "      <td>0.00</td>\n",
       "      <td>41.9136</td>\n",
       "      <td>3 days</td>\n",
       "    </tr>\n",
       "    <tr>\n",
       "      <th>1</th>\n",
       "      <td>2</td>\n",
       "      <td>CA-2017-152156</td>\n",
       "      <td>2017-11-08</td>\n",
       "      <td>2017-11-11</td>\n",
       "      <td>Second Class</td>\n",
       "      <td>Claire Gute</td>\n",
       "      <td>Consumer</td>\n",
       "      <td>Henderson</td>\n",
       "      <td>Kentucky</td>\n",
       "      <td>South</td>\n",
       "      <td>Furniture</td>\n",
       "      <td>Chairs</td>\n",
       "      <td>Hon Deluxe Fabric Upholstered Stacking Chairs,...</td>\n",
       "      <td>731.9400</td>\n",
       "      <td>3</td>\n",
       "      <td>0.00</td>\n",
       "      <td>219.5820</td>\n",
       "      <td>3 days</td>\n",
       "    </tr>\n",
       "    <tr>\n",
       "      <th>3</th>\n",
       "      <td>4</td>\n",
       "      <td>US-2016-108966</td>\n",
       "      <td>2016-10-11</td>\n",
       "      <td>2016-10-18</td>\n",
       "      <td>Standard Class</td>\n",
       "      <td>Sean O'Donnell</td>\n",
       "      <td>Consumer</td>\n",
       "      <td>Fort Lauderdale</td>\n",
       "      <td>Florida</td>\n",
       "      <td>South</td>\n",
       "      <td>Furniture</td>\n",
       "      <td>Tables</td>\n",
       "      <td>Bretford CR4500 Series Slim Rectangular Table</td>\n",
       "      <td>957.5775</td>\n",
       "      <td>5</td>\n",
       "      <td>0.45</td>\n",
       "      <td>-383.0310</td>\n",
       "      <td>7 days</td>\n",
       "    </tr>\n",
       "    <tr>\n",
       "      <th>72</th>\n",
       "      <td>73</td>\n",
       "      <td>US-2016-134026</td>\n",
       "      <td>2016-04-26</td>\n",
       "      <td>2016-05-02</td>\n",
       "      <td>Standard Class</td>\n",
       "      <td>Joel Eaton</td>\n",
       "      <td>Consumer</td>\n",
       "      <td>Memphis</td>\n",
       "      <td>Tennessee</td>\n",
       "      <td>South</td>\n",
       "      <td>Furniture</td>\n",
       "      <td>Chairs</td>\n",
       "      <td>High-Back Leather Manager's Chair</td>\n",
       "      <td>831.9360</td>\n",
       "      <td>8</td>\n",
       "      <td>0.20</td>\n",
       "      <td>-114.3912</td>\n",
       "      <td>6 days</td>\n",
       "    </tr>\n",
       "    <tr>\n",
       "      <th>73</th>\n",
       "      <td>74</td>\n",
       "      <td>US-2016-134026</td>\n",
       "      <td>2016-04-26</td>\n",
       "      <td>2016-05-02</td>\n",
       "      <td>Standard Class</td>\n",
       "      <td>Joel Eaton</td>\n",
       "      <td>Consumer</td>\n",
       "      <td>Memphis</td>\n",
       "      <td>Tennessee</td>\n",
       "      <td>South</td>\n",
       "      <td>Furniture</td>\n",
       "      <td>Furnishings</td>\n",
       "      <td>Tenex Traditional Chairmats for Medium Pile Ca...</td>\n",
       "      <td>97.0400</td>\n",
       "      <td>2</td>\n",
       "      <td>0.20</td>\n",
       "      <td>1.2130</td>\n",
       "      <td>6 days</td>\n",
       "    </tr>\n",
       "    <tr>\n",
       "      <th>...</th>\n",
       "      <td>...</td>\n",
       "      <td>...</td>\n",
       "      <td>...</td>\n",
       "      <td>...</td>\n",
       "      <td>...</td>\n",
       "      <td>...</td>\n",
       "      <td>...</td>\n",
       "      <td>...</td>\n",
       "      <td>...</td>\n",
       "      <td>...</td>\n",
       "      <td>...</td>\n",
       "      <td>...</td>\n",
       "      <td>...</td>\n",
       "      <td>...</td>\n",
       "      <td>...</td>\n",
       "      <td>...</td>\n",
       "      <td>...</td>\n",
       "      <td>...</td>\n",
       "    </tr>\n",
       "    <tr>\n",
       "      <th>9807</th>\n",
       "      <td>9808</td>\n",
       "      <td>CA-2018-107209</td>\n",
       "      <td>2018-07-27</td>\n",
       "      <td>2018-08-01</td>\n",
       "      <td>Second Class</td>\n",
       "      <td>Joni Wasserman</td>\n",
       "      <td>Consumer</td>\n",
       "      <td>Raleigh</td>\n",
       "      <td>North Carolina</td>\n",
       "      <td>South</td>\n",
       "      <td>Furniture</td>\n",
       "      <td>Chairs</td>\n",
       "      <td>Global Value Mid-Back Manager's Chair, Gray</td>\n",
       "      <td>194.8480</td>\n",
       "      <td>4</td>\n",
       "      <td>0.20</td>\n",
       "      <td>12.1780</td>\n",
       "      <td>5 days</td>\n",
       "    </tr>\n",
       "    <tr>\n",
       "      <th>9817</th>\n",
       "      <td>9818</td>\n",
       "      <td>CA-2016-162201</td>\n",
       "      <td>2016-06-08</td>\n",
       "      <td>2016-06-12</td>\n",
       "      <td>Standard Class</td>\n",
       "      <td>Andrew Gjertsen</td>\n",
       "      <td>Corporate</td>\n",
       "      <td>Saint Petersburg</td>\n",
       "      <td>Florida</td>\n",
       "      <td>South</td>\n",
       "      <td>Furniture</td>\n",
       "      <td>Furnishings</td>\n",
       "      <td>Advantus Employee of the Month Certificate Fra...</td>\n",
       "      <td>173.2080</td>\n",
       "      <td>7</td>\n",
       "      <td>0.20</td>\n",
       "      <td>45.4671</td>\n",
       "      <td>4 days</td>\n",
       "    </tr>\n",
       "    <tr>\n",
       "      <th>9829</th>\n",
       "      <td>9830</td>\n",
       "      <td>US-2018-152842</td>\n",
       "      <td>2018-07-16</td>\n",
       "      <td>2018-07-23</td>\n",
       "      <td>Standard Class</td>\n",
       "      <td>Natalie Fritzler</td>\n",
       "      <td>Consumer</td>\n",
       "      <td>Charlotte</td>\n",
       "      <td>North Carolina</td>\n",
       "      <td>South</td>\n",
       "      <td>Furniture</td>\n",
       "      <td>Chairs</td>\n",
       "      <td>Global Fabric Manager's Chair, Dark Gray</td>\n",
       "      <td>242.3520</td>\n",
       "      <td>3</td>\n",
       "      <td>0.20</td>\n",
       "      <td>15.1470</td>\n",
       "      <td>7 days</td>\n",
       "    </tr>\n",
       "    <tr>\n",
       "      <th>9980</th>\n",
       "      <td>9981</td>\n",
       "      <td>US-2016-151435</td>\n",
       "      <td>2016-09-06</td>\n",
       "      <td>2016-09-09</td>\n",
       "      <td>Second Class</td>\n",
       "      <td>Shaun Weien</td>\n",
       "      <td>Consumer</td>\n",
       "      <td>Lafayette</td>\n",
       "      <td>Louisiana</td>\n",
       "      <td>South</td>\n",
       "      <td>Furniture</td>\n",
       "      <td>Tables</td>\n",
       "      <td>KI Adjustable-Height Table</td>\n",
       "      <td>85.9800</td>\n",
       "      <td>1</td>\n",
       "      <td>0.00</td>\n",
       "      <td>22.3548</td>\n",
       "      <td>3 days</td>\n",
       "    </tr>\n",
       "    <tr>\n",
       "      <th>9989</th>\n",
       "      <td>9990</td>\n",
       "      <td>CA-2015-110422</td>\n",
       "      <td>2015-01-21</td>\n",
       "      <td>2015-01-23</td>\n",
       "      <td>Second Class</td>\n",
       "      <td>Tom Boeckenhauer</td>\n",
       "      <td>Consumer</td>\n",
       "      <td>Miami</td>\n",
       "      <td>Florida</td>\n",
       "      <td>South</td>\n",
       "      <td>Furniture</td>\n",
       "      <td>Furnishings</td>\n",
       "      <td>Ultra Door Pull Handle</td>\n",
       "      <td>25.2480</td>\n",
       "      <td>3</td>\n",
       "      <td>0.20</td>\n",
       "      <td>4.1028</td>\n",
       "      <td>2 days</td>\n",
       "    </tr>\n",
       "  </tbody>\n",
       "</table>\n",
       "<p>332 rows × 18 columns</p>\n",
       "</div>"
      ],
      "text/plain": [
       "      Row ID        Order ID Order Date  Ship Date       Ship Mode  \\\n",
       "0          1  CA-2017-152156 2017-11-08 2017-11-11    Second Class   \n",
       "1          2  CA-2017-152156 2017-11-08 2017-11-11    Second Class   \n",
       "3          4  US-2016-108966 2016-10-11 2016-10-18  Standard Class   \n",
       "72        73  US-2016-134026 2016-04-26 2016-05-02  Standard Class   \n",
       "73        74  US-2016-134026 2016-04-26 2016-05-02  Standard Class   \n",
       "...      ...             ...        ...        ...             ...   \n",
       "9807    9808  CA-2018-107209 2018-07-27 2018-08-01    Second Class   \n",
       "9817    9818  CA-2016-162201 2016-06-08 2016-06-12  Standard Class   \n",
       "9829    9830  US-2018-152842 2018-07-16 2018-07-23  Standard Class   \n",
       "9980    9981  US-2016-151435 2016-09-06 2016-09-09    Second Class   \n",
       "9989    9990  CA-2015-110422 2015-01-21 2015-01-23    Second Class   \n",
       "\n",
       "         Customer Name    Segment              City           State Region  \\\n",
       "0          Claire Gute   Consumer         Henderson        Kentucky  South   \n",
       "1          Claire Gute   Consumer         Henderson        Kentucky  South   \n",
       "3       Sean O'Donnell   Consumer   Fort Lauderdale         Florida  South   \n",
       "72          Joel Eaton   Consumer           Memphis       Tennessee  South   \n",
       "73          Joel Eaton   Consumer           Memphis       Tennessee  South   \n",
       "...                ...        ...               ...             ...    ...   \n",
       "9807    Joni Wasserman   Consumer           Raleigh  North Carolina  South   \n",
       "9817   Andrew Gjertsen  Corporate  Saint Petersburg         Florida  South   \n",
       "9829  Natalie Fritzler   Consumer         Charlotte  North Carolina  South   \n",
       "9980       Shaun Weien   Consumer         Lafayette       Louisiana  South   \n",
       "9989  Tom Boeckenhauer   Consumer             Miami         Florida  South   \n",
       "\n",
       "       Category Sub-Category  \\\n",
       "0     Furniture    Bookcases   \n",
       "1     Furniture       Chairs   \n",
       "3     Furniture       Tables   \n",
       "72    Furniture       Chairs   \n",
       "73    Furniture  Furnishings   \n",
       "...         ...          ...   \n",
       "9807  Furniture       Chairs   \n",
       "9817  Furniture  Furnishings   \n",
       "9829  Furniture       Chairs   \n",
       "9980  Furniture       Tables   \n",
       "9989  Furniture  Furnishings   \n",
       "\n",
       "                                           Product Name     Sales  Quantity  \\\n",
       "0                     Bush Somerset Collection Bookcase  261.9600         2   \n",
       "1     Hon Deluxe Fabric Upholstered Stacking Chairs,...  731.9400         3   \n",
       "3         Bretford CR4500 Series Slim Rectangular Table  957.5775         5   \n",
       "72                    High-Back Leather Manager's Chair  831.9360         8   \n",
       "73    Tenex Traditional Chairmats for Medium Pile Ca...   97.0400         2   \n",
       "...                                                 ...       ...       ...   \n",
       "9807        Global Value Mid-Back Manager's Chair, Gray  194.8480         4   \n",
       "9817  Advantus Employee of the Month Certificate Fra...  173.2080         7   \n",
       "9829           Global Fabric Manager's Chair, Dark Gray  242.3520         3   \n",
       "9980                         KI Adjustable-Height Table   85.9800         1   \n",
       "9989                             Ultra Door Pull Handle   25.2480         3   \n",
       "\n",
       "      Discount    Profit Shipping Time  \n",
       "0         0.00   41.9136        3 days  \n",
       "1         0.00  219.5820        3 days  \n",
       "3         0.45 -383.0310        7 days  \n",
       "72        0.20 -114.3912        6 days  \n",
       "73        0.20    1.2130        6 days  \n",
       "...        ...       ...           ...  \n",
       "9807      0.20   12.1780        5 days  \n",
       "9817      0.20   45.4671        4 days  \n",
       "9829      0.20   15.1470        7 days  \n",
       "9980      0.00   22.3548        3 days  \n",
       "9989      0.20    4.1028        2 days  \n",
       "\n",
       "[332 rows x 18 columns]"
      ]
     },
     "execution_count": 269,
     "metadata": {},
     "output_type": "execute_result"
    }
   ],
   "source": [
    "df.query(\"Region=='South' and Category=='Furniture'\")"
   ]
  },
  {
   "cell_type": "markdown",
   "metadata": {},
   "source": [
    "Find all the sales above 15000?"
   ]
  },
  {
   "cell_type": "code",
   "execution_count": 273,
   "metadata": {},
   "outputs": [
    {
     "data": {
      "text/plain": [
       "2697    22638.48\n",
       "6826    17499.95\n",
       "Name: Sales, dtype: float64"
      ]
     },
     "execution_count": 273,
     "metadata": {},
     "output_type": "execute_result"
    }
   ],
   "source": [
    "df.query(\"Sales>15000\")['Sales']"
   ]
  },
  {
   "cell_type": "markdown",
   "metadata": {},
   "source": [
    "Find sum of all sales above 10000?"
   ]
  },
  {
   "cell_type": "code",
   "execution_count": 274,
   "metadata": {},
   "outputs": [
    {
     "data": {
      "text/plain": [
       "75838.32800000001"
      ]
     },
     "execution_count": 274,
     "metadata": {},
     "output_type": "execute_result"
    }
   ],
   "source": [
    "df.query(\"Sales>10000\")['Sales'].sum()"
   ]
  },
  {
   "cell_type": "markdown",
   "metadata": {},
   "source": [
    "### find total sales, total profit, total quantity of data filtered by \n",
    "- sales>5000  profit>300 quantity <5?"
   ]
  },
  {
   "cell_type": "code",
   "execution_count": 293,
   "metadata": {},
   "outputs": [
    {
     "data": {
      "text/plain": [
       "Sales       61743.7540\n",
       "Profit      22896.1504\n",
       "Quantity       27.0000\n",
       "dtype: float64"
      ]
     },
     "execution_count": 293,
     "metadata": {},
     "output_type": "execute_result"
    }
   ],
   "source": [
    "df.query(\"Sales>5000 and Profit>300 and Quantity<5\")[['Sales','Profit','Quantity']].sum()"
   ]
  },
  {
   "cell_type": "markdown",
   "metadata": {},
   "source": [
    "# Bank Data"
   ]
  },
  {
   "cell_type": "code",
   "execution_count": 294,
   "metadata": {},
   "outputs": [],
   "source": [
    "user = pd.read_excel(\"Images/Bank Data.xlsx\",sheet_name='User_Details')\n",
    "loan = pd.read_excel(\"Images/Bank Data.xlsx\",sheet_name='Loan_Details')\n",
    "home = pd.read_excel(\"Images/Bank Data.xlsx\",sheet_name='Home_Loan')\n",
    "car = pd.read_excel(\"Images/Bank Data.xlsx\",sheet_name='Car_Loan')\n",
    "bike = pd.read_excel(\"Images/Bank Data.xlsx\",sheet_name='Bike_Loan')"
   ]
  },
  {
   "cell_type": "code",
   "execution_count": 295,
   "metadata": {},
   "outputs": [
    {
     "data": {
      "text/html": [
       "<div>\n",
       "<style scoped>\n",
       "    .dataframe tbody tr th:only-of-type {\n",
       "        vertical-align: middle;\n",
       "    }\n",
       "\n",
       "    .dataframe tbody tr th {\n",
       "        vertical-align: top;\n",
       "    }\n",
       "\n",
       "    .dataframe thead th {\n",
       "        text-align: right;\n",
       "    }\n",
       "</style>\n",
       "<table border=\"1\" class=\"dataframe\">\n",
       "  <thead>\n",
       "    <tr style=\"text-align: right;\">\n",
       "      <th></th>\n",
       "      <th>User ID</th>\n",
       "      <th>User Name</th>\n",
       "    </tr>\n",
       "  </thead>\n",
       "  <tbody>\n",
       "    <tr>\n",
       "      <th>0</th>\n",
       "      <td>1</td>\n",
       "      <td>Ram</td>\n",
       "    </tr>\n",
       "    <tr>\n",
       "      <th>1</th>\n",
       "      <td>2</td>\n",
       "      <td>Sham</td>\n",
       "    </tr>\n",
       "    <tr>\n",
       "      <th>2</th>\n",
       "      <td>3</td>\n",
       "      <td>Sita</td>\n",
       "    </tr>\n",
       "    <tr>\n",
       "      <th>3</th>\n",
       "      <td>4</td>\n",
       "      <td>Gita</td>\n",
       "    </tr>\n",
       "    <tr>\n",
       "      <th>4</th>\n",
       "      <td>5</td>\n",
       "      <td>Suresh</td>\n",
       "    </tr>\n",
       "    <tr>\n",
       "      <th>5</th>\n",
       "      <td>6</td>\n",
       "      <td>Ramesh</td>\n",
       "    </tr>\n",
       "  </tbody>\n",
       "</table>\n",
       "</div>"
      ],
      "text/plain": [
       "   User ID User Name\n",
       "0        1       Ram\n",
       "1        2      Sham\n",
       "2        3      Sita\n",
       "3        4      Gita\n",
       "4        5    Suresh\n",
       "5        6    Ramesh"
      ]
     },
     "execution_count": 295,
     "metadata": {},
     "output_type": "execute_result"
    }
   ],
   "source": [
    "user"
   ]
  },
  {
   "cell_type": "code",
   "execution_count": 296,
   "metadata": {},
   "outputs": [
    {
     "data": {
      "text/html": [
       "<div>\n",
       "<style scoped>\n",
       "    .dataframe tbody tr th:only-of-type {\n",
       "        vertical-align: middle;\n",
       "    }\n",
       "\n",
       "    .dataframe tbody tr th {\n",
       "        vertical-align: top;\n",
       "    }\n",
       "\n",
       "    .dataframe thead th {\n",
       "        text-align: right;\n",
       "    }\n",
       "</style>\n",
       "<table border=\"1\" class=\"dataframe\">\n",
       "  <thead>\n",
       "    <tr style=\"text-align: right;\">\n",
       "      <th></th>\n",
       "      <th>User ID</th>\n",
       "      <th>Loan ID</th>\n",
       "    </tr>\n",
       "  </thead>\n",
       "  <tbody>\n",
       "    <tr>\n",
       "      <th>0</th>\n",
       "      <td>1</td>\n",
       "      <td>101</td>\n",
       "    </tr>\n",
       "    <tr>\n",
       "      <th>1</th>\n",
       "      <td>1</td>\n",
       "      <td>201</td>\n",
       "    </tr>\n",
       "    <tr>\n",
       "      <th>2</th>\n",
       "      <td>1</td>\n",
       "      <td>301</td>\n",
       "    </tr>\n",
       "    <tr>\n",
       "      <th>3</th>\n",
       "      <td>2</td>\n",
       "      <td>202</td>\n",
       "    </tr>\n",
       "    <tr>\n",
       "      <th>4</th>\n",
       "      <td>2</td>\n",
       "      <td>302</td>\n",
       "    </tr>\n",
       "    <tr>\n",
       "      <th>5</th>\n",
       "      <td>3</td>\n",
       "      <td>102</td>\n",
       "    </tr>\n",
       "    <tr>\n",
       "      <th>6</th>\n",
       "      <td>3</td>\n",
       "      <td>203</td>\n",
       "    </tr>\n",
       "    <tr>\n",
       "      <th>7</th>\n",
       "      <td>3</td>\n",
       "      <td>303</td>\n",
       "    </tr>\n",
       "    <tr>\n",
       "      <th>8</th>\n",
       "      <td>4</td>\n",
       "      <td>103</td>\n",
       "    </tr>\n",
       "    <tr>\n",
       "      <th>9</th>\n",
       "      <td>5</td>\n",
       "      <td>104</td>\n",
       "    </tr>\n",
       "    <tr>\n",
       "      <th>10</th>\n",
       "      <td>5</td>\n",
       "      <td>204</td>\n",
       "    </tr>\n",
       "    <tr>\n",
       "      <th>11</th>\n",
       "      <td>5</td>\n",
       "      <td>304</td>\n",
       "    </tr>\n",
       "    <tr>\n",
       "      <th>12</th>\n",
       "      <td>6</td>\n",
       "      <td>205</td>\n",
       "    </tr>\n",
       "    <tr>\n",
       "      <th>13</th>\n",
       "      <td>6</td>\n",
       "      <td>305</td>\n",
       "    </tr>\n",
       "  </tbody>\n",
       "</table>\n",
       "</div>"
      ],
      "text/plain": [
       "    User ID  Loan ID\n",
       "0         1      101\n",
       "1         1      201\n",
       "2         1      301\n",
       "3         2      202\n",
       "4         2      302\n",
       "5         3      102\n",
       "6         3      203\n",
       "7         3      303\n",
       "8         4      103\n",
       "9         5      104\n",
       "10        5      204\n",
       "11        5      304\n",
       "12        6      205\n",
       "13        6      305"
      ]
     },
     "execution_count": 296,
     "metadata": {},
     "output_type": "execute_result"
    }
   ],
   "source": [
    "loan"
   ]
  },
  {
   "cell_type": "code",
   "execution_count": 297,
   "metadata": {},
   "outputs": [
    {
     "data": {
      "text/html": [
       "<div>\n",
       "<style scoped>\n",
       "    .dataframe tbody tr th:only-of-type {\n",
       "        vertical-align: middle;\n",
       "    }\n",
       "\n",
       "    .dataframe tbody tr th {\n",
       "        vertical-align: top;\n",
       "    }\n",
       "\n",
       "    .dataframe thead th {\n",
       "        text-align: right;\n",
       "    }\n",
       "</style>\n",
       "<table border=\"1\" class=\"dataframe\">\n",
       "  <thead>\n",
       "    <tr style=\"text-align: right;\">\n",
       "      <th></th>\n",
       "      <th>Loan ID</th>\n",
       "      <th>Amount</th>\n",
       "    </tr>\n",
       "  </thead>\n",
       "  <tbody>\n",
       "    <tr>\n",
       "      <th>0</th>\n",
       "      <td>301</td>\n",
       "      <td>6700</td>\n",
       "    </tr>\n",
       "    <tr>\n",
       "      <th>1</th>\n",
       "      <td>302</td>\n",
       "      <td>6500</td>\n",
       "    </tr>\n",
       "    <tr>\n",
       "      <th>2</th>\n",
       "      <td>303</td>\n",
       "      <td>5900</td>\n",
       "    </tr>\n",
       "    <tr>\n",
       "      <th>3</th>\n",
       "      <td>304</td>\n",
       "      <td>6000</td>\n",
       "    </tr>\n",
       "    <tr>\n",
       "      <th>4</th>\n",
       "      <td>305</td>\n",
       "      <td>6200</td>\n",
       "    </tr>\n",
       "  </tbody>\n",
       "</table>\n",
       "</div>"
      ],
      "text/plain": [
       "   Loan ID  Amount\n",
       "0      301    6700\n",
       "1      302    6500\n",
       "2      303    5900\n",
       "3      304    6000\n",
       "4      305    6200"
      ]
     },
     "execution_count": 297,
     "metadata": {},
     "output_type": "execute_result"
    }
   ],
   "source": [
    "home"
   ]
  },
  {
   "cell_type": "code",
   "execution_count": 298,
   "metadata": {},
   "outputs": [
    {
     "data": {
      "text/html": [
       "<div>\n",
       "<style scoped>\n",
       "    .dataframe tbody tr th:only-of-type {\n",
       "        vertical-align: middle;\n",
       "    }\n",
       "\n",
       "    .dataframe tbody tr th {\n",
       "        vertical-align: top;\n",
       "    }\n",
       "\n",
       "    .dataframe thead th {\n",
       "        text-align: right;\n",
       "    }\n",
       "</style>\n",
       "<table border=\"1\" class=\"dataframe\">\n",
       "  <thead>\n",
       "    <tr style=\"text-align: right;\">\n",
       "      <th></th>\n",
       "      <th>Loan ID</th>\n",
       "      <th>Amount</th>\n",
       "    </tr>\n",
       "  </thead>\n",
       "  <tbody>\n",
       "    <tr>\n",
       "      <th>0</th>\n",
       "      <td>201</td>\n",
       "      <td>3900</td>\n",
       "    </tr>\n",
       "    <tr>\n",
       "      <th>1</th>\n",
       "      <td>202</td>\n",
       "      <td>1900</td>\n",
       "    </tr>\n",
       "    <tr>\n",
       "      <th>2</th>\n",
       "      <td>203</td>\n",
       "      <td>2900</td>\n",
       "    </tr>\n",
       "    <tr>\n",
       "      <th>3</th>\n",
       "      <td>204</td>\n",
       "      <td>3300</td>\n",
       "    </tr>\n",
       "    <tr>\n",
       "      <th>4</th>\n",
       "      <td>205</td>\n",
       "      <td>2300</td>\n",
       "    </tr>\n",
       "  </tbody>\n",
       "</table>\n",
       "</div>"
      ],
      "text/plain": [
       "   Loan ID  Amount\n",
       "0      201    3900\n",
       "1      202    1900\n",
       "2      203    2900\n",
       "3      204    3300\n",
       "4      205    2300"
      ]
     },
     "execution_count": 298,
     "metadata": {},
     "output_type": "execute_result"
    }
   ],
   "source": [
    "car"
   ]
  },
  {
   "cell_type": "code",
   "execution_count": 299,
   "metadata": {},
   "outputs": [
    {
     "data": {
      "text/html": [
       "<div>\n",
       "<style scoped>\n",
       "    .dataframe tbody tr th:only-of-type {\n",
       "        vertical-align: middle;\n",
       "    }\n",
       "\n",
       "    .dataframe tbody tr th {\n",
       "        vertical-align: top;\n",
       "    }\n",
       "\n",
       "    .dataframe thead th {\n",
       "        text-align: right;\n",
       "    }\n",
       "</style>\n",
       "<table border=\"1\" class=\"dataframe\">\n",
       "  <thead>\n",
       "    <tr style=\"text-align: right;\">\n",
       "      <th></th>\n",
       "      <th>Loan ID</th>\n",
       "      <th>Amount</th>\n",
       "    </tr>\n",
       "  </thead>\n",
       "  <tbody>\n",
       "    <tr>\n",
       "      <th>0</th>\n",
       "      <td>101</td>\n",
       "      <td>1200</td>\n",
       "    </tr>\n",
       "    <tr>\n",
       "      <th>1</th>\n",
       "      <td>102</td>\n",
       "      <td>3300</td>\n",
       "    </tr>\n",
       "    <tr>\n",
       "      <th>2</th>\n",
       "      <td>103</td>\n",
       "      <td>2700</td>\n",
       "    </tr>\n",
       "    <tr>\n",
       "      <th>3</th>\n",
       "      <td>104</td>\n",
       "      <td>2900</td>\n",
       "    </tr>\n",
       "  </tbody>\n",
       "</table>\n",
       "</div>"
      ],
      "text/plain": [
       "   Loan ID  Amount\n",
       "0      101    1200\n",
       "1      102    3300\n",
       "2      103    2700\n",
       "3      104    2900"
      ]
     },
     "execution_count": 299,
     "metadata": {},
     "output_type": "execute_result"
    }
   ],
   "source": [
    "bike"
   ]
  },
  {
   "cell_type": "code",
   "execution_count": 303,
   "metadata": {},
   "outputs": [],
   "source": [
    "user_loan_details = user.merge(loan, how = 'inner')"
   ]
  },
  {
   "cell_type": "code",
   "execution_count": 304,
   "metadata": {},
   "outputs": [
    {
     "data": {
      "text/html": [
       "<div>\n",
       "<style scoped>\n",
       "    .dataframe tbody tr th:only-of-type {\n",
       "        vertical-align: middle;\n",
       "    }\n",
       "\n",
       "    .dataframe tbody tr th {\n",
       "        vertical-align: top;\n",
       "    }\n",
       "\n",
       "    .dataframe thead th {\n",
       "        text-align: right;\n",
       "    }\n",
       "</style>\n",
       "<table border=\"1\" class=\"dataframe\">\n",
       "  <thead>\n",
       "    <tr style=\"text-align: right;\">\n",
       "      <th></th>\n",
       "      <th>User ID</th>\n",
       "      <th>User Name</th>\n",
       "      <th>Loan ID</th>\n",
       "    </tr>\n",
       "  </thead>\n",
       "  <tbody>\n",
       "    <tr>\n",
       "      <th>0</th>\n",
       "      <td>1</td>\n",
       "      <td>Ram</td>\n",
       "      <td>101</td>\n",
       "    </tr>\n",
       "    <tr>\n",
       "      <th>1</th>\n",
       "      <td>1</td>\n",
       "      <td>Ram</td>\n",
       "      <td>201</td>\n",
       "    </tr>\n",
       "    <tr>\n",
       "      <th>2</th>\n",
       "      <td>1</td>\n",
       "      <td>Ram</td>\n",
       "      <td>301</td>\n",
       "    </tr>\n",
       "    <tr>\n",
       "      <th>3</th>\n",
       "      <td>2</td>\n",
       "      <td>Sham</td>\n",
       "      <td>202</td>\n",
       "    </tr>\n",
       "    <tr>\n",
       "      <th>4</th>\n",
       "      <td>2</td>\n",
       "      <td>Sham</td>\n",
       "      <td>302</td>\n",
       "    </tr>\n",
       "    <tr>\n",
       "      <th>5</th>\n",
       "      <td>3</td>\n",
       "      <td>Sita</td>\n",
       "      <td>102</td>\n",
       "    </tr>\n",
       "    <tr>\n",
       "      <th>6</th>\n",
       "      <td>3</td>\n",
       "      <td>Sita</td>\n",
       "      <td>203</td>\n",
       "    </tr>\n",
       "    <tr>\n",
       "      <th>7</th>\n",
       "      <td>3</td>\n",
       "      <td>Sita</td>\n",
       "      <td>303</td>\n",
       "    </tr>\n",
       "    <tr>\n",
       "      <th>8</th>\n",
       "      <td>4</td>\n",
       "      <td>Gita</td>\n",
       "      <td>103</td>\n",
       "    </tr>\n",
       "    <tr>\n",
       "      <th>9</th>\n",
       "      <td>5</td>\n",
       "      <td>Suresh</td>\n",
       "      <td>104</td>\n",
       "    </tr>\n",
       "    <tr>\n",
       "      <th>10</th>\n",
       "      <td>5</td>\n",
       "      <td>Suresh</td>\n",
       "      <td>204</td>\n",
       "    </tr>\n",
       "    <tr>\n",
       "      <th>11</th>\n",
       "      <td>5</td>\n",
       "      <td>Suresh</td>\n",
       "      <td>304</td>\n",
       "    </tr>\n",
       "    <tr>\n",
       "      <th>12</th>\n",
       "      <td>6</td>\n",
       "      <td>Ramesh</td>\n",
       "      <td>205</td>\n",
       "    </tr>\n",
       "    <tr>\n",
       "      <th>13</th>\n",
       "      <td>6</td>\n",
       "      <td>Ramesh</td>\n",
       "      <td>305</td>\n",
       "    </tr>\n",
       "  </tbody>\n",
       "</table>\n",
       "</div>"
      ],
      "text/plain": [
       "    User ID User Name  Loan ID\n",
       "0         1       Ram      101\n",
       "1         1       Ram      201\n",
       "2         1       Ram      301\n",
       "3         2      Sham      202\n",
       "4         2      Sham      302\n",
       "5         3      Sita      102\n",
       "6         3      Sita      203\n",
       "7         3      Sita      303\n",
       "8         4      Gita      103\n",
       "9         5    Suresh      104\n",
       "10        5    Suresh      204\n",
       "11        5    Suresh      304\n",
       "12        6    Ramesh      205\n",
       "13        6    Ramesh      305"
      ]
     },
     "execution_count": 304,
     "metadata": {},
     "output_type": "execute_result"
    }
   ],
   "source": [
    "user_loan_details"
   ]
  },
  {
   "cell_type": "code",
   "execution_count": 307,
   "metadata": {},
   "outputs": [],
   "source": [
    "user_loan_details.merge(bike,how=\"inner\").to_csv(\"Images/Bike loan details.csv\")"
   ]
  },
  {
   "cell_type": "code",
   "execution_count": 309,
   "metadata": {},
   "outputs": [
    {
     "data": {
      "text/html": [
       "<div>\n",
       "<style scoped>\n",
       "    .dataframe tbody tr th:only-of-type {\n",
       "        vertical-align: middle;\n",
       "    }\n",
       "\n",
       "    .dataframe tbody tr th {\n",
       "        vertical-align: top;\n",
       "    }\n",
       "\n",
       "    .dataframe thead th {\n",
       "        text-align: right;\n",
       "    }\n",
       "</style>\n",
       "<table border=\"1\" class=\"dataframe\">\n",
       "  <thead>\n",
       "    <tr style=\"text-align: right;\">\n",
       "      <th></th>\n",
       "      <th>User ID</th>\n",
       "      <th>User Name</th>\n",
       "      <th>Loan ID</th>\n",
       "      <th>Amount</th>\n",
       "    </tr>\n",
       "  </thead>\n",
       "  <tbody>\n",
       "    <tr>\n",
       "      <th>0</th>\n",
       "      <td>1</td>\n",
       "      <td>Ram</td>\n",
       "      <td>101</td>\n",
       "      <td>1200</td>\n",
       "    </tr>\n",
       "    <tr>\n",
       "      <th>1</th>\n",
       "      <td>3</td>\n",
       "      <td>Sita</td>\n",
       "      <td>102</td>\n",
       "      <td>3300</td>\n",
       "    </tr>\n",
       "    <tr>\n",
       "      <th>2</th>\n",
       "      <td>4</td>\n",
       "      <td>Gita</td>\n",
       "      <td>103</td>\n",
       "      <td>2700</td>\n",
       "    </tr>\n",
       "    <tr>\n",
       "      <th>3</th>\n",
       "      <td>5</td>\n",
       "      <td>Suresh</td>\n",
       "      <td>104</td>\n",
       "      <td>2900</td>\n",
       "    </tr>\n",
       "  </tbody>\n",
       "</table>\n",
       "</div>"
      ],
      "text/plain": [
       "   User ID User Name  Loan ID  Amount\n",
       "0        1       Ram      101    1200\n",
       "1        3      Sita      102    3300\n",
       "2        4      Gita      103    2700\n",
       "3        5    Suresh      104    2900"
      ]
     },
     "execution_count": 309,
     "metadata": {},
     "output_type": "execute_result"
    }
   ],
   "source": [
    "user_loan_details.merge(bike,how=\"inner\")"
   ]
  },
  {
   "cell_type": "code",
   "execution_count": 310,
   "metadata": {},
   "outputs": [
    {
     "data": {
      "text/html": [
       "<div>\n",
       "<style scoped>\n",
       "    .dataframe tbody tr th:only-of-type {\n",
       "        vertical-align: middle;\n",
       "    }\n",
       "\n",
       "    .dataframe tbody tr th {\n",
       "        vertical-align: top;\n",
       "    }\n",
       "\n",
       "    .dataframe thead th {\n",
       "        text-align: right;\n",
       "    }\n",
       "</style>\n",
       "<table border=\"1\" class=\"dataframe\">\n",
       "  <thead>\n",
       "    <tr style=\"text-align: right;\">\n",
       "      <th></th>\n",
       "      <th>Loan ID</th>\n",
       "      <th>Amount</th>\n",
       "    </tr>\n",
       "  </thead>\n",
       "  <tbody>\n",
       "    <tr>\n",
       "      <th>0</th>\n",
       "      <td>101</td>\n",
       "      <td>1200</td>\n",
       "    </tr>\n",
       "    <tr>\n",
       "      <th>1</th>\n",
       "      <td>102</td>\n",
       "      <td>3300</td>\n",
       "    </tr>\n",
       "    <tr>\n",
       "      <th>2</th>\n",
       "      <td>103</td>\n",
       "      <td>2700</td>\n",
       "    </tr>\n",
       "    <tr>\n",
       "      <th>3</th>\n",
       "      <td>104</td>\n",
       "      <td>2900</td>\n",
       "    </tr>\n",
       "    <tr>\n",
       "      <th>0</th>\n",
       "      <td>201</td>\n",
       "      <td>3900</td>\n",
       "    </tr>\n",
       "    <tr>\n",
       "      <th>1</th>\n",
       "      <td>202</td>\n",
       "      <td>1900</td>\n",
       "    </tr>\n",
       "    <tr>\n",
       "      <th>2</th>\n",
       "      <td>203</td>\n",
       "      <td>2900</td>\n",
       "    </tr>\n",
       "    <tr>\n",
       "      <th>3</th>\n",
       "      <td>204</td>\n",
       "      <td>3300</td>\n",
       "    </tr>\n",
       "    <tr>\n",
       "      <th>4</th>\n",
       "      <td>205</td>\n",
       "      <td>2300</td>\n",
       "    </tr>\n",
       "    <tr>\n",
       "      <th>0</th>\n",
       "      <td>301</td>\n",
       "      <td>6700</td>\n",
       "    </tr>\n",
       "    <tr>\n",
       "      <th>1</th>\n",
       "      <td>302</td>\n",
       "      <td>6500</td>\n",
       "    </tr>\n",
       "    <tr>\n",
       "      <th>2</th>\n",
       "      <td>303</td>\n",
       "      <td>5900</td>\n",
       "    </tr>\n",
       "    <tr>\n",
       "      <th>3</th>\n",
       "      <td>304</td>\n",
       "      <td>6000</td>\n",
       "    </tr>\n",
       "    <tr>\n",
       "      <th>4</th>\n",
       "      <td>305</td>\n",
       "      <td>6200</td>\n",
       "    </tr>\n",
       "  </tbody>\n",
       "</table>\n",
       "</div>"
      ],
      "text/plain": [
       "   Loan ID  Amount\n",
       "0      101    1200\n",
       "1      102    3300\n",
       "2      103    2700\n",
       "3      104    2900\n",
       "0      201    3900\n",
       "1      202    1900\n",
       "2      203    2900\n",
       "3      204    3300\n",
       "4      205    2300\n",
       "0      301    6700\n",
       "1      302    6500\n",
       "2      303    5900\n",
       "3      304    6000\n",
       "4      305    6200"
      ]
     },
     "execution_count": 310,
     "metadata": {},
     "output_type": "execute_result"
    }
   ],
   "source": [
    "pd.concat([bike,car,home])"
   ]
  },
  {
   "cell_type": "code",
   "execution_count": null,
   "metadata": {},
   "outputs": [],
   "source": []
  }
 ],
 "metadata": {
  "kernelspec": {
   "display_name": "Python 3",
   "language": "python",
   "name": "python3"
  },
  "language_info": {
   "codemirror_mode": {
    "name": "ipython",
    "version": 3
   },
   "file_extension": ".py",
   "mimetype": "text/x-python",
   "name": "python",
   "nbconvert_exporter": "python",
   "pygments_lexer": "ipython3",
   "version": "3.12.3"
  }
 },
 "nbformat": 4,
 "nbformat_minor": 2
}
