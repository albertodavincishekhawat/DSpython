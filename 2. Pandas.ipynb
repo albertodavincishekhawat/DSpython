{
 "cells": [
  {
   "cell_type": "markdown",
   "metadata": {},
   "source": [
    "# **20.06.2024 Class 11**"
   ]
  },
  {
   "cell_type": "markdown",
   "metadata": {},
   "source": [
    "# **PANDAS**\n",
    "- **Problems**\n",
    "    - [101 Pandas Problems - machinelearningplus](https://www.machinelearningplus.com/python/101-pandas-exercises-python/)\n",
    "\n",
    "## What does Pandas do?\n",
    "\n",
    "It's Data Manipulatin Library, it preprocessosing and analyzing data.\n"
   ]
  },
  {
   "cell_type": "code",
   "execution_count": 25,
   "metadata": {},
   "outputs": [],
   "source": [
    "# to install Pandas write it in terminal\n",
    "# pip install pandas \n",
    "\n",
    "# to import pandas\n",
    "import pandas as pd\n",
    "\n",
    "# importing numpy\n",
    "import numpy as np\n",
    "\n",
    "# importing sns\n",
    "import seaborn as sns"
   ]
  },
  {
   "cell_type": "markdown",
   "metadata": {},
   "source": [
    "## Preprocessing Data?\n",
    "- Cleaning\n",
    "- Finding Duplicates\n",
    "- Changing data types : Columns\n",
    "- Adding and removing columns\n",
    "- Ploting charts\n"
   ]
  },
  {
   "cell_type": "markdown",
   "metadata": {},
   "source": [
    "\n",
    "## Analyzing Data?\n",
    "- Finding Central Tendencies\n",
    "- Grouping  the data\n",
    "- Finding Distribution\n",
    "- Describing Data\n",
    "- Pivoting the Data\n",
    "- Finding correlation between columns.\n"
   ]
  },
  {
   "cell_type": "markdown",
   "metadata": {},
   "source": [
    "## Types of data structuress in Pandas?\n",
    "***Series*** (always **1D** array) and ***Dataframes*** (always **2D** nd array)\n"
   ]
  },
  {
   "cell_type": "markdown",
   "metadata": {},
   "source": [
    "\n",
    "> **String** in pandas are operated as **object data type**.\n",
    "- str is a subset of object.\n",
    "\n",
    "Look at the data type in below cell you will get it!"
   ]
  },
  {
   "cell_type": "code",
   "execution_count": 26,
   "metadata": {},
   "outputs": [
    {
     "data": {
      "text/plain": [
       "0    npArr\n",
       "dtype: object"
      ]
     },
     "execution_count": 26,
     "metadata": {},
     "output_type": "execute_result"
    }
   ],
   "source": [
    "npToseries = pd.Series(\"npArr\")\n",
    "npToseries"
   ]
  },
  {
   "cell_type": "markdown",
   "metadata": {},
   "source": [
    "\n",
    "### **Array vs Series?** Series is named list which is indecies are keys.\n"
   ]
  },
  {
   "cell_type": "markdown",
   "metadata": {},
   "source": [
    "- Series is a column in a dataframe\n",
    "    - Series is like a list of pandas.\n",
    "    - Series = named list (list of key-values pairs where index is the key of Serise) "
   ]
  },
  {
   "cell_type": "markdown",
   "metadata": {},
   "source": [
    "> Below we have a Series(list of pandas) with name \"Age\"\n",
    "\n",
    "> Inside that list all elements have a name called 0,1,2 respectively i.e, Index (of Series)"
   ]
  },
  {
   "cell_type": "code",
   "execution_count": 27,
   "metadata": {},
   "outputs": [
    {
     "name": "stdout",
     "output_type": "stream",
     "text": [
      "[22, 35, 58]\n"
     ]
    }
   ],
   "source": [
    "ageLs = [22, 35, 58]\n",
    "print(ageLs)"
   ]
  },
  {
   "cell_type": "code",
   "execution_count": 28,
   "metadata": {},
   "outputs": [
    {
     "data": {
      "text/plain": [
       "0    22\n",
       "1    35\n",
       "2    58\n",
       "Name: Age, dtype: int64"
      ]
     },
     "execution_count": 28,
     "metadata": {},
     "output_type": "execute_result"
    }
   ],
   "source": [
    "ages = pd.Series(ageLs, name=\"Age\")\n",
    "ages"
   ]
  },
  {
   "cell_type": "markdown",
   "metadata": {},
   "source": [
    "## Creating Series ?"
   ]
  },
  {
   "cell_type": "code",
   "execution_count": 29,
   "metadata": {},
   "outputs": [
    {
     "data": {
      "text/plain": [
       "0    Jan\n",
       "1    Feb\n",
       "2    Mar\n",
       "3    Apr\n",
       "4    May\n",
       "dtype: object"
      ]
     },
     "execution_count": 29,
     "metadata": {},
     "output_type": "execute_result"
    }
   ],
   "source": [
    "months = ['Jan', 'Feb', 'Mar', 'Apr', \"May\"]\n",
    "s2 = pd.Series(months)\n",
    "s2"
   ]
  },
  {
   "cell_type": "markdown",
   "metadata": {},
   "source": [
    "with defined index?"
   ]
  },
  {
   "cell_type": "code",
   "execution_count": 30,
   "metadata": {},
   "outputs": [
    {
     "data": {
      "text/plain": [
       "Jan    31\n",
       "Feb    28\n",
       "Mar    31\n",
       "Apr    30\n",
       "May    31\n",
       "dtype: int64"
      ]
     },
     "execution_count": 30,
     "metadata": {},
     "output_type": "execute_result"
    }
   ],
   "source": [
    "dateOfMonths = pd.Series([31,28,31,30,31], index = ['Jan', 'Feb', 'Mar', 'Apr', \"May\"])\n",
    "dateOfMonths"
   ]
  },
  {
   "cell_type": "code",
   "execution_count": 31,
   "metadata": {},
   "outputs": [
    {
     "data": {
      "text/plain": [
       "Index(['Jan', 'Feb', 'Mar', 'Apr', 'May'], dtype='object')"
      ]
     },
     "execution_count": 31,
     "metadata": {},
     "output_type": "execute_result"
    }
   ],
   "source": [
    "dateOfMonths.index"
   ]
  },
  {
   "cell_type": "code",
   "execution_count": 32,
   "metadata": {},
   "outputs": [
    {
     "data": {
      "text/plain": [
       "array([31, 28, 31, 30, 31], dtype=int64)"
      ]
     },
     "execution_count": 32,
     "metadata": {},
     "output_type": "execute_result"
    }
   ],
   "source": [
    "dateOfMonths.values"
   ]
  },
  {
   "cell_type": "code",
   "execution_count": 33,
   "metadata": {},
   "outputs": [
    {
     "data": {
      "text/plain": [
       "0    1\n",
       "1    2\n",
       "2    3\n",
       "3    4\n",
       "4    5\n",
       "5    6\n",
       "dtype: int64"
      ]
     },
     "execution_count": 33,
     "metadata": {},
     "output_type": "execute_result"
    }
   ],
   "source": [
    "s3 = pd.Series([1,2,3,4,5,6])\n",
    "s3"
   ]
  },
  {
   "cell_type": "code",
   "execution_count": 34,
   "metadata": {},
   "outputs": [
    {
     "data": {
      "text/plain": [
       "A    1\n",
       "B    2\n",
       "C    3\n",
       "D    4\n",
       "E    5\n",
       "F    6\n",
       "dtype: int64"
      ]
     },
     "execution_count": 34,
     "metadata": {},
     "output_type": "execute_result"
    }
   ],
   "source": [
    "s3.index = [\"A\",\"B\",\"C\",\"D\",\"E\",\"F\"]  #type:ignore\n",
    "s3"
   ]
  },
  {
   "cell_type": "markdown",
   "metadata": {},
   "source": [
    "## How to create series from numpy arrays?"
   ]
  },
  {
   "cell_type": "code",
   "execution_count": 35,
   "metadata": {},
   "outputs": [
    {
     "data": {
      "text/plain": [
       "200     104\n",
       "400     101\n",
       "2500    104\n",
       "6544    102\n",
       "1567    104\n",
       "5646    104\n",
       "4654    101\n",
       "6544    103\n",
       "8778    104\n",
       "6312    101\n",
       "dtype: int32"
      ]
     },
     "execution_count": 35,
     "metadata": {},
     "output_type": "execute_result"
    }
   ],
   "source": [
    "npToseries = pd.Series(np.random.randint(101,105,10), index = [200,400,2500,6544,1567,5646,4654,6544,8778,6312])\n",
    "npToseries"
   ]
  },
  {
   "cell_type": "markdown",
   "metadata": {},
   "source": [
    "Analysing it with mean median mode max and min"
   ]
  },
  {
   "cell_type": "code",
   "execution_count": 36,
   "metadata": {},
   "outputs": [
    {
     "data": {
      "text/plain": [
       "102.8"
      ]
     },
     "execution_count": 36,
     "metadata": {},
     "output_type": "execute_result"
    }
   ],
   "source": [
    "npToseries.mean()"
   ]
  },
  {
   "cell_type": "code",
   "execution_count": 37,
   "metadata": {},
   "outputs": [
    {
     "data": {
      "text/plain": [
       "103.5"
      ]
     },
     "execution_count": 37,
     "metadata": {},
     "output_type": "execute_result"
    }
   ],
   "source": [
    "npToseries.median()"
   ]
  },
  {
   "cell_type": "code",
   "execution_count": 38,
   "metadata": {},
   "outputs": [
    {
     "data": {
      "text/plain": [
       "0    104\n",
       "dtype: int32"
      ]
     },
     "execution_count": 38,
     "metadata": {},
     "output_type": "execute_result"
    }
   ],
   "source": [
    "npToseries.mode()"
   ]
  },
  {
   "cell_type": "code",
   "execution_count": 39,
   "metadata": {},
   "outputs": [
    {
     "data": {
      "text/plain": [
       "104"
      ]
     },
     "execution_count": 39,
     "metadata": {},
     "output_type": "execute_result"
    }
   ],
   "source": [
    "npToseries.max()"
   ]
  },
  {
   "cell_type": "code",
   "execution_count": 40,
   "metadata": {},
   "outputs": [
    {
     "data": {
      "text/plain": [
       "101"
      ]
     },
     "execution_count": 40,
     "metadata": {},
     "output_type": "execute_result"
    }
   ],
   "source": [
    "npToseries.min()"
   ]
  },
  {
   "cell_type": "code",
   "execution_count": 41,
   "metadata": {},
   "outputs": [
    {
     "data": {
      "text/plain": [
       "0      Ram\n",
       "1     Sham\n",
       "2    Seeta\n",
       "3    Geeta\n",
       "dtype: object"
      ]
     },
     "execution_count": 41,
     "metadata": {},
     "output_type": "execute_result"
    }
   ],
   "source": [
    "npArr = [\"Ram\",\"Sham\",\"Seeta\",\"Geeta\"]\n",
    "\n",
    "npToseries = pd.Series(npArr)\n",
    "npToseries"
   ]
  },
  {
   "cell_type": "markdown",
   "metadata": {},
   "source": [
    "Naming a Series or Dataframe"
   ]
  },
  {
   "cell_type": "code",
   "execution_count": 42,
   "metadata": {},
   "outputs": [],
   "source": [
    "npToseries.name = \"EmpName\"\n"
   ]
  },
  {
   "cell_type": "code",
   "execution_count": 43,
   "metadata": {},
   "outputs": [
    {
     "data": {
      "text/plain": [
       "0      Ram\n",
       "1     Sham\n",
       "2    Seeta\n",
       "3    Geeta\n",
       "Name: EmpName, dtype: object"
      ]
     },
     "execution_count": 43,
     "metadata": {},
     "output_type": "execute_result"
    }
   ],
   "source": [
    "npToseries\n",
    "# check the property called name below"
   ]
  },
  {
   "cell_type": "markdown",
   "metadata": {},
   "source": [
    "## NumPy Array vs. Pandas Series?\n",
    "NumPy Array\n",
    "NumPy arrays are designed for numerical computations and scientific computing. They are highly efficient for handling large datasets and performing array-wise operations. The key features of NumPy arrays, such as homogeneity and multi-dimensionality, make them suitable for tasks where mathematical precision and performance are critical.\n",
    "\n",
    "Pandas Series\n",
    "The Pandas Series, on the other hand, provides a more flexible and labeled approach to handling one-dimensional data. While they are built on NumPy arrays, Pandas Series offer additional functionality, especially in scenarios where data has different types and requires labeled indexing. This makes the Pandas Series ideal for data manipulation, exploration, and analysis in diverse datasets.\n",
    "\n",
    "Choosing Between NumPy Array and Pandas Series\n",
    "The choice between NumPy arrays and Pandas series depends on the nature of the data and the tasks at hand. If you are working with numerical data and require high-performance mathematical operations, NumPy arrays are the go-to choice. On the other hand, if your dataset is heterogeneous, involves labeled indexing, and requires more flexibility in data manipulation, Pandas Series might be the preferred option."
   ]
  },
  {
   "cell_type": "markdown",
   "metadata": {},
   "source": [
    "## Creating Dataframes?\n",
    "\n",
    "Dataframes donot have a name, they contain different Series as columns.\n"
   ]
  },
  {
   "cell_type": "markdown",
   "metadata": {},
   "source": [
    "##### Dictionary of list to Df?"
   ]
  },
  {
   "cell_type": "code",
   "execution_count": 44,
   "metadata": {},
   "outputs": [],
   "source": [
    "#   dict = {key : List[],key : List[],key : List[],key : List[],}\n",
    "\n",
    "dictOfList = {\n",
    "    \"name\":[\"ram\", 'sham', 'sita','gita','ramesh','suresh'],\n",
    "    'city':['Pune', 'satara', 'auragabad','mumbai','nagpur','kolhapur'],\n",
    "    'contact':[34553,76575,22433,98779,56455,23334],\n",
    "    'data_admin':['data_analytics', 'data_science','data_warehousing',\n",
    "                   'data_admin', 'big_data_analytics','data_engineering']\n",
    "}"
   ]
  },
  {
   "cell_type": "code",
   "execution_count": 45,
   "metadata": {},
   "outputs": [
    {
     "data": {
      "text/html": [
       "<div>\n",
       "<style scoped>\n",
       "    .dataframe tbody tr th:only-of-type {\n",
       "        vertical-align: middle;\n",
       "    }\n",
       "\n",
       "    .dataframe tbody tr th {\n",
       "        vertical-align: top;\n",
       "    }\n",
       "\n",
       "    .dataframe thead th {\n",
       "        text-align: right;\n",
       "    }\n",
       "</style>\n",
       "<table border=\"1\" class=\"dataframe\">\n",
       "  <thead>\n",
       "    <tr style=\"text-align: right;\">\n",
       "      <th></th>\n",
       "      <th>name</th>\n",
       "      <th>city</th>\n",
       "      <th>contact</th>\n",
       "      <th>data_admin</th>\n",
       "    </tr>\n",
       "  </thead>\n",
       "  <tbody>\n",
       "    <tr>\n",
       "      <th>0</th>\n",
       "      <td>ram</td>\n",
       "      <td>Pune</td>\n",
       "      <td>34553</td>\n",
       "      <td>data_analytics</td>\n",
       "    </tr>\n",
       "    <tr>\n",
       "      <th>1</th>\n",
       "      <td>sham</td>\n",
       "      <td>satara</td>\n",
       "      <td>76575</td>\n",
       "      <td>data_science</td>\n",
       "    </tr>\n",
       "    <tr>\n",
       "      <th>2</th>\n",
       "      <td>sita</td>\n",
       "      <td>auragabad</td>\n",
       "      <td>22433</td>\n",
       "      <td>data_warehousing</td>\n",
       "    </tr>\n",
       "    <tr>\n",
       "      <th>3</th>\n",
       "      <td>gita</td>\n",
       "      <td>mumbai</td>\n",
       "      <td>98779</td>\n",
       "      <td>data_admin</td>\n",
       "    </tr>\n",
       "    <tr>\n",
       "      <th>4</th>\n",
       "      <td>ramesh</td>\n",
       "      <td>nagpur</td>\n",
       "      <td>56455</td>\n",
       "      <td>big_data_analytics</td>\n",
       "    </tr>\n",
       "    <tr>\n",
       "      <th>5</th>\n",
       "      <td>suresh</td>\n",
       "      <td>kolhapur</td>\n",
       "      <td>23334</td>\n",
       "      <td>data_engineering</td>\n",
       "    </tr>\n",
       "  </tbody>\n",
       "</table>\n",
       "</div>"
      ],
      "text/plain": [
       "     name       city  contact          data_admin\n",
       "0     ram       Pune    34553      data_analytics\n",
       "1    sham     satara    76575        data_science\n",
       "2    sita  auragabad    22433    data_warehousing\n",
       "3    gita     mumbai    98779          data_admin\n",
       "4  ramesh     nagpur    56455  big_data_analytics\n",
       "5  suresh   kolhapur    23334    data_engineering"
      ]
     },
     "execution_count": 45,
     "metadata": {},
     "output_type": "execute_result"
    }
   ],
   "source": [
    "df1 = pd.DataFrame(dictOfList)\n",
    "df1"
   ]
  },
  {
   "cell_type": "markdown",
   "metadata": {},
   "source": [
    "##### List of Dictiionary to Df?"
   ]
  },
  {
   "cell_type": "code",
   "execution_count": 46,
   "metadata": {},
   "outputs": [
    {
     "data": {
      "text/html": [
       "<div>\n",
       "<style scoped>\n",
       "    .dataframe tbody tr th:only-of-type {\n",
       "        vertical-align: middle;\n",
       "    }\n",
       "\n",
       "    .dataframe tbody tr th {\n",
       "        vertical-align: top;\n",
       "    }\n",
       "\n",
       "    .dataframe thead th {\n",
       "        text-align: right;\n",
       "    }\n",
       "</style>\n",
       "<table border=\"1\" class=\"dataframe\">\n",
       "  <thead>\n",
       "    <tr style=\"text-align: right;\">\n",
       "      <th></th>\n",
       "      <th>Name</th>\n",
       "      <th>month</th>\n",
       "      <th>sales</th>\n",
       "    </tr>\n",
       "  </thead>\n",
       "  <tbody>\n",
       "    <tr>\n",
       "      <th>0</th>\n",
       "      <td>ram</td>\n",
       "      <td>january</td>\n",
       "      <td>56676</td>\n",
       "    </tr>\n",
       "    <tr>\n",
       "      <th>1</th>\n",
       "      <td>sham</td>\n",
       "      <td>january</td>\n",
       "      <td>54676</td>\n",
       "    </tr>\n",
       "    <tr>\n",
       "      <th>2</th>\n",
       "      <td>sita</td>\n",
       "      <td>february</td>\n",
       "      <td>89676</td>\n",
       "    </tr>\n",
       "  </tbody>\n",
       "</table>\n",
       "</div>"
      ],
      "text/plain": [
       "   Name     month  sales\n",
       "0   ram   january  56676\n",
       "1  sham   january  54676\n",
       "2  sita  february  89676"
      ]
     },
     "execution_count": 46,
     "metadata": {},
     "output_type": "execute_result"
    }
   ],
   "source": [
    "#   list[{key:value},{key:value},{key:value},{key:value}]\n",
    "listOfDict =[\n",
    "    {'Name':\"ram\", 'month':'january','sales':56676},\n",
    "    {'Name': 'sham', 'month':'january', 'sales':54676},\n",
    "    {'Name':'sita', 'month':'february','sales': 89676}\n",
    "]\n",
    "\n",
    "df2 = pd.DataFrame(listOfDict)\n",
    "df2"
   ]
  },
  {
   "cell_type": "markdown",
   "metadata": {},
   "source": [
    "## Difference and simillarity in JSON & Dictionary?\n",
    "Dictionaries, native to Python, are employed for in-memory data structures, allowing direct manipulation. In contrast, JSON serves as a standardized string-based format, vital for data exchange between systems.\n",
    "\n",
    "Distinct in their data types, dictionaries offer in-memory flexibility, while JSON, with its string format, excels in interoperability. Below we will see differences in the form of a table."
   ]
  },
  {
   "cell_type": "markdown",
   "metadata": {},
   "source": [
    "## Import .csv and .xlsx with pandas?\n"
   ]
  },
  {
   "cell_type": "markdown",
   "metadata": {},
   "source": [
    "##### What is the significance or \"r'()\"?\n",
    "using r'() helps accepting **forward slash(\"/\")** and if we remove r'() <br> we have to give address with **backward slash(\"\\\")** ."
   ]
  },
  {
   "cell_type": "code",
   "execution_count": 47,
   "metadata": {},
   "outputs": [
    {
     "ename": "FileNotFoundError",
     "evalue": "[Errno 2] No such file or directory: 'files/csv_file.csv'",
     "output_type": "error",
     "traceback": [
      "\u001b[1;31m---------------------------------------------------------------------------\u001b[0m",
      "\u001b[1;31mFileNotFoundError\u001b[0m                         Traceback (most recent call last)",
      "Cell \u001b[1;32mIn[47], line 1\u001b[0m\n\u001b[1;32m----> 1\u001b[0m df4 \u001b[38;5;241m=\u001b[39m \u001b[43mpd\u001b[49m\u001b[38;5;241;43m.\u001b[39;49m\u001b[43mread_csv\u001b[49m\u001b[43m(\u001b[49m\u001b[38;5;124;43mr\u001b[39;49m\u001b[38;5;124;43m'\u001b[39;49m\u001b[38;5;124;43mfiles/csv_file.csv\u001b[39;49m\u001b[38;5;124;43m'\u001b[39;49m\u001b[43m)\u001b[49m\n\u001b[0;32m      2\u001b[0m df4\n",
      "File \u001b[1;32m~\\AppData\\Local\\Packages\\PythonSoftwareFoundation.Python.3.12_qbz5n2kfra8p0\\LocalCache\\local-packages\\Python312\\site-packages\\pandas\\io\\parsers\\readers.py:1026\u001b[0m, in \u001b[0;36mread_csv\u001b[1;34m(filepath_or_buffer, sep, delimiter, header, names, index_col, usecols, dtype, engine, converters, true_values, false_values, skipinitialspace, skiprows, skipfooter, nrows, na_values, keep_default_na, na_filter, verbose, skip_blank_lines, parse_dates, infer_datetime_format, keep_date_col, date_parser, date_format, dayfirst, cache_dates, iterator, chunksize, compression, thousands, decimal, lineterminator, quotechar, quoting, doublequote, escapechar, comment, encoding, encoding_errors, dialect, on_bad_lines, delim_whitespace, low_memory, memory_map, float_precision, storage_options, dtype_backend)\u001b[0m\n\u001b[0;32m   1013\u001b[0m kwds_defaults \u001b[38;5;241m=\u001b[39m _refine_defaults_read(\n\u001b[0;32m   1014\u001b[0m     dialect,\n\u001b[0;32m   1015\u001b[0m     delimiter,\n\u001b[1;32m   (...)\u001b[0m\n\u001b[0;32m   1022\u001b[0m     dtype_backend\u001b[38;5;241m=\u001b[39mdtype_backend,\n\u001b[0;32m   1023\u001b[0m )\n\u001b[0;32m   1024\u001b[0m kwds\u001b[38;5;241m.\u001b[39mupdate(kwds_defaults)\n\u001b[1;32m-> 1026\u001b[0m \u001b[38;5;28;01mreturn\u001b[39;00m \u001b[43m_read\u001b[49m\u001b[43m(\u001b[49m\u001b[43mfilepath_or_buffer\u001b[49m\u001b[43m,\u001b[49m\u001b[43m \u001b[49m\u001b[43mkwds\u001b[49m\u001b[43m)\u001b[49m\n",
      "File \u001b[1;32m~\\AppData\\Local\\Packages\\PythonSoftwareFoundation.Python.3.12_qbz5n2kfra8p0\\LocalCache\\local-packages\\Python312\\site-packages\\pandas\\io\\parsers\\readers.py:620\u001b[0m, in \u001b[0;36m_read\u001b[1;34m(filepath_or_buffer, kwds)\u001b[0m\n\u001b[0;32m    617\u001b[0m _validate_names(kwds\u001b[38;5;241m.\u001b[39mget(\u001b[38;5;124m\"\u001b[39m\u001b[38;5;124mnames\u001b[39m\u001b[38;5;124m\"\u001b[39m, \u001b[38;5;28;01mNone\u001b[39;00m))\n\u001b[0;32m    619\u001b[0m \u001b[38;5;66;03m# Create the parser.\u001b[39;00m\n\u001b[1;32m--> 620\u001b[0m parser \u001b[38;5;241m=\u001b[39m \u001b[43mTextFileReader\u001b[49m\u001b[43m(\u001b[49m\u001b[43mfilepath_or_buffer\u001b[49m\u001b[43m,\u001b[49m\u001b[43m \u001b[49m\u001b[38;5;241;43m*\u001b[39;49m\u001b[38;5;241;43m*\u001b[39;49m\u001b[43mkwds\u001b[49m\u001b[43m)\u001b[49m\n\u001b[0;32m    622\u001b[0m \u001b[38;5;28;01mif\u001b[39;00m chunksize \u001b[38;5;129;01mor\u001b[39;00m iterator:\n\u001b[0;32m    623\u001b[0m     \u001b[38;5;28;01mreturn\u001b[39;00m parser\n",
      "File \u001b[1;32m~\\AppData\\Local\\Packages\\PythonSoftwareFoundation.Python.3.12_qbz5n2kfra8p0\\LocalCache\\local-packages\\Python312\\site-packages\\pandas\\io\\parsers\\readers.py:1620\u001b[0m, in \u001b[0;36mTextFileReader.__init__\u001b[1;34m(self, f, engine, **kwds)\u001b[0m\n\u001b[0;32m   1617\u001b[0m     \u001b[38;5;28mself\u001b[39m\u001b[38;5;241m.\u001b[39moptions[\u001b[38;5;124m\"\u001b[39m\u001b[38;5;124mhas_index_names\u001b[39m\u001b[38;5;124m\"\u001b[39m] \u001b[38;5;241m=\u001b[39m kwds[\u001b[38;5;124m\"\u001b[39m\u001b[38;5;124mhas_index_names\u001b[39m\u001b[38;5;124m\"\u001b[39m]\n\u001b[0;32m   1619\u001b[0m \u001b[38;5;28mself\u001b[39m\u001b[38;5;241m.\u001b[39mhandles: IOHandles \u001b[38;5;241m|\u001b[39m \u001b[38;5;28;01mNone\u001b[39;00m \u001b[38;5;241m=\u001b[39m \u001b[38;5;28;01mNone\u001b[39;00m\n\u001b[1;32m-> 1620\u001b[0m \u001b[38;5;28mself\u001b[39m\u001b[38;5;241m.\u001b[39m_engine \u001b[38;5;241m=\u001b[39m \u001b[38;5;28;43mself\u001b[39;49m\u001b[38;5;241;43m.\u001b[39;49m\u001b[43m_make_engine\u001b[49m\u001b[43m(\u001b[49m\u001b[43mf\u001b[49m\u001b[43m,\u001b[49m\u001b[43m \u001b[49m\u001b[38;5;28;43mself\u001b[39;49m\u001b[38;5;241;43m.\u001b[39;49m\u001b[43mengine\u001b[49m\u001b[43m)\u001b[49m\n",
      "File \u001b[1;32m~\\AppData\\Local\\Packages\\PythonSoftwareFoundation.Python.3.12_qbz5n2kfra8p0\\LocalCache\\local-packages\\Python312\\site-packages\\pandas\\io\\parsers\\readers.py:1880\u001b[0m, in \u001b[0;36mTextFileReader._make_engine\u001b[1;34m(self, f, engine)\u001b[0m\n\u001b[0;32m   1878\u001b[0m     \u001b[38;5;28;01mif\u001b[39;00m \u001b[38;5;124m\"\u001b[39m\u001b[38;5;124mb\u001b[39m\u001b[38;5;124m\"\u001b[39m \u001b[38;5;129;01mnot\u001b[39;00m \u001b[38;5;129;01min\u001b[39;00m mode:\n\u001b[0;32m   1879\u001b[0m         mode \u001b[38;5;241m+\u001b[39m\u001b[38;5;241m=\u001b[39m \u001b[38;5;124m\"\u001b[39m\u001b[38;5;124mb\u001b[39m\u001b[38;5;124m\"\u001b[39m\n\u001b[1;32m-> 1880\u001b[0m \u001b[38;5;28mself\u001b[39m\u001b[38;5;241m.\u001b[39mhandles \u001b[38;5;241m=\u001b[39m \u001b[43mget_handle\u001b[49m\u001b[43m(\u001b[49m\n\u001b[0;32m   1881\u001b[0m \u001b[43m    \u001b[49m\u001b[43mf\u001b[49m\u001b[43m,\u001b[49m\n\u001b[0;32m   1882\u001b[0m \u001b[43m    \u001b[49m\u001b[43mmode\u001b[49m\u001b[43m,\u001b[49m\n\u001b[0;32m   1883\u001b[0m \u001b[43m    \u001b[49m\u001b[43mencoding\u001b[49m\u001b[38;5;241;43m=\u001b[39;49m\u001b[38;5;28;43mself\u001b[39;49m\u001b[38;5;241;43m.\u001b[39;49m\u001b[43moptions\u001b[49m\u001b[38;5;241;43m.\u001b[39;49m\u001b[43mget\u001b[49m\u001b[43m(\u001b[49m\u001b[38;5;124;43m\"\u001b[39;49m\u001b[38;5;124;43mencoding\u001b[39;49m\u001b[38;5;124;43m\"\u001b[39;49m\u001b[43m,\u001b[49m\u001b[43m \u001b[49m\u001b[38;5;28;43;01mNone\u001b[39;49;00m\u001b[43m)\u001b[49m\u001b[43m,\u001b[49m\n\u001b[0;32m   1884\u001b[0m \u001b[43m    \u001b[49m\u001b[43mcompression\u001b[49m\u001b[38;5;241;43m=\u001b[39;49m\u001b[38;5;28;43mself\u001b[39;49m\u001b[38;5;241;43m.\u001b[39;49m\u001b[43moptions\u001b[49m\u001b[38;5;241;43m.\u001b[39;49m\u001b[43mget\u001b[49m\u001b[43m(\u001b[49m\u001b[38;5;124;43m\"\u001b[39;49m\u001b[38;5;124;43mcompression\u001b[39;49m\u001b[38;5;124;43m\"\u001b[39;49m\u001b[43m,\u001b[49m\u001b[43m \u001b[49m\u001b[38;5;28;43;01mNone\u001b[39;49;00m\u001b[43m)\u001b[49m\u001b[43m,\u001b[49m\n\u001b[0;32m   1885\u001b[0m \u001b[43m    \u001b[49m\u001b[43mmemory_map\u001b[49m\u001b[38;5;241;43m=\u001b[39;49m\u001b[38;5;28;43mself\u001b[39;49m\u001b[38;5;241;43m.\u001b[39;49m\u001b[43moptions\u001b[49m\u001b[38;5;241;43m.\u001b[39;49m\u001b[43mget\u001b[49m\u001b[43m(\u001b[49m\u001b[38;5;124;43m\"\u001b[39;49m\u001b[38;5;124;43mmemory_map\u001b[39;49m\u001b[38;5;124;43m\"\u001b[39;49m\u001b[43m,\u001b[49m\u001b[43m \u001b[49m\u001b[38;5;28;43;01mFalse\u001b[39;49;00m\u001b[43m)\u001b[49m\u001b[43m,\u001b[49m\n\u001b[0;32m   1886\u001b[0m \u001b[43m    \u001b[49m\u001b[43mis_text\u001b[49m\u001b[38;5;241;43m=\u001b[39;49m\u001b[43mis_text\u001b[49m\u001b[43m,\u001b[49m\n\u001b[0;32m   1887\u001b[0m \u001b[43m    \u001b[49m\u001b[43merrors\u001b[49m\u001b[38;5;241;43m=\u001b[39;49m\u001b[38;5;28;43mself\u001b[39;49m\u001b[38;5;241;43m.\u001b[39;49m\u001b[43moptions\u001b[49m\u001b[38;5;241;43m.\u001b[39;49m\u001b[43mget\u001b[49m\u001b[43m(\u001b[49m\u001b[38;5;124;43m\"\u001b[39;49m\u001b[38;5;124;43mencoding_errors\u001b[39;49m\u001b[38;5;124;43m\"\u001b[39;49m\u001b[43m,\u001b[49m\u001b[43m \u001b[49m\u001b[38;5;124;43m\"\u001b[39;49m\u001b[38;5;124;43mstrict\u001b[39;49m\u001b[38;5;124;43m\"\u001b[39;49m\u001b[43m)\u001b[49m\u001b[43m,\u001b[49m\n\u001b[0;32m   1888\u001b[0m \u001b[43m    \u001b[49m\u001b[43mstorage_options\u001b[49m\u001b[38;5;241;43m=\u001b[39;49m\u001b[38;5;28;43mself\u001b[39;49m\u001b[38;5;241;43m.\u001b[39;49m\u001b[43moptions\u001b[49m\u001b[38;5;241;43m.\u001b[39;49m\u001b[43mget\u001b[49m\u001b[43m(\u001b[49m\u001b[38;5;124;43m\"\u001b[39;49m\u001b[38;5;124;43mstorage_options\u001b[39;49m\u001b[38;5;124;43m\"\u001b[39;49m\u001b[43m,\u001b[49m\u001b[43m \u001b[49m\u001b[38;5;28;43;01mNone\u001b[39;49;00m\u001b[43m)\u001b[49m\u001b[43m,\u001b[49m\n\u001b[0;32m   1889\u001b[0m \u001b[43m\u001b[49m\u001b[43m)\u001b[49m\n\u001b[0;32m   1890\u001b[0m \u001b[38;5;28;01massert\u001b[39;00m \u001b[38;5;28mself\u001b[39m\u001b[38;5;241m.\u001b[39mhandles \u001b[38;5;129;01mis\u001b[39;00m \u001b[38;5;129;01mnot\u001b[39;00m \u001b[38;5;28;01mNone\u001b[39;00m\n\u001b[0;32m   1891\u001b[0m f \u001b[38;5;241m=\u001b[39m \u001b[38;5;28mself\u001b[39m\u001b[38;5;241m.\u001b[39mhandles\u001b[38;5;241m.\u001b[39mhandle\n",
      "File \u001b[1;32m~\\AppData\\Local\\Packages\\PythonSoftwareFoundation.Python.3.12_qbz5n2kfra8p0\\LocalCache\\local-packages\\Python312\\site-packages\\pandas\\io\\common.py:873\u001b[0m, in \u001b[0;36mget_handle\u001b[1;34m(path_or_buf, mode, encoding, compression, memory_map, is_text, errors, storage_options)\u001b[0m\n\u001b[0;32m    868\u001b[0m \u001b[38;5;28;01melif\u001b[39;00m \u001b[38;5;28misinstance\u001b[39m(handle, \u001b[38;5;28mstr\u001b[39m):\n\u001b[0;32m    869\u001b[0m     \u001b[38;5;66;03m# Check whether the filename is to be opened in binary mode.\u001b[39;00m\n\u001b[0;32m    870\u001b[0m     \u001b[38;5;66;03m# Binary mode does not support 'encoding' and 'newline'.\u001b[39;00m\n\u001b[0;32m    871\u001b[0m     \u001b[38;5;28;01mif\u001b[39;00m ioargs\u001b[38;5;241m.\u001b[39mencoding \u001b[38;5;129;01mand\u001b[39;00m \u001b[38;5;124m\"\u001b[39m\u001b[38;5;124mb\u001b[39m\u001b[38;5;124m\"\u001b[39m \u001b[38;5;129;01mnot\u001b[39;00m \u001b[38;5;129;01min\u001b[39;00m ioargs\u001b[38;5;241m.\u001b[39mmode:\n\u001b[0;32m    872\u001b[0m         \u001b[38;5;66;03m# Encoding\u001b[39;00m\n\u001b[1;32m--> 873\u001b[0m         handle \u001b[38;5;241m=\u001b[39m \u001b[38;5;28;43mopen\u001b[39;49m\u001b[43m(\u001b[49m\n\u001b[0;32m    874\u001b[0m \u001b[43m            \u001b[49m\u001b[43mhandle\u001b[49m\u001b[43m,\u001b[49m\n\u001b[0;32m    875\u001b[0m \u001b[43m            \u001b[49m\u001b[43mioargs\u001b[49m\u001b[38;5;241;43m.\u001b[39;49m\u001b[43mmode\u001b[49m\u001b[43m,\u001b[49m\n\u001b[0;32m    876\u001b[0m \u001b[43m            \u001b[49m\u001b[43mencoding\u001b[49m\u001b[38;5;241;43m=\u001b[39;49m\u001b[43mioargs\u001b[49m\u001b[38;5;241;43m.\u001b[39;49m\u001b[43mencoding\u001b[49m\u001b[43m,\u001b[49m\n\u001b[0;32m    877\u001b[0m \u001b[43m            \u001b[49m\u001b[43merrors\u001b[49m\u001b[38;5;241;43m=\u001b[39;49m\u001b[43merrors\u001b[49m\u001b[43m,\u001b[49m\n\u001b[0;32m    878\u001b[0m \u001b[43m            \u001b[49m\u001b[43mnewline\u001b[49m\u001b[38;5;241;43m=\u001b[39;49m\u001b[38;5;124;43m\"\u001b[39;49m\u001b[38;5;124;43m\"\u001b[39;49m\u001b[43m,\u001b[49m\n\u001b[0;32m    879\u001b[0m \u001b[43m        \u001b[49m\u001b[43m)\u001b[49m\n\u001b[0;32m    880\u001b[0m     \u001b[38;5;28;01melse\u001b[39;00m:\n\u001b[0;32m    881\u001b[0m         \u001b[38;5;66;03m# Binary mode\u001b[39;00m\n\u001b[0;32m    882\u001b[0m         handle \u001b[38;5;241m=\u001b[39m \u001b[38;5;28mopen\u001b[39m(handle, ioargs\u001b[38;5;241m.\u001b[39mmode)\n",
      "\u001b[1;31mFileNotFoundError\u001b[0m: [Errno 2] No such file or directory: 'files/csv_file.csv'"
     ]
    }
   ],
   "source": [
    "df4 = pd.read_csv(r'files/csv_file.csv')\n",
    "df4"
   ]
  },
  {
   "cell_type": "code",
   "execution_count": 55,
   "metadata": {},
   "outputs": [
    {
     "ename": "FileNotFoundError",
     "evalue": "[Errno 2] No such file or directory: 'Images\\\\SampleSuperstore.xlsx'",
     "output_type": "error",
     "traceback": [
      "\u001b[1;31m---------------------------------------------------------------------------\u001b[0m",
      "\u001b[1;31mFileNotFoundError\u001b[0m                         Traceback (most recent call last)",
      "Cell \u001b[1;32mIn[55], line 1\u001b[0m\n\u001b[1;32m----> 1\u001b[0m df5 \u001b[38;5;241m=\u001b[39m \u001b[43mpd\u001b[49m\u001b[38;5;241;43m.\u001b[39;49m\u001b[43mread_excel\u001b[49m\u001b[43m(\u001b[49m\u001b[38;5;124;43mr\u001b[39;49m\u001b[38;5;124;43m\"\u001b[39;49m\u001b[38;5;124;43mImages\u001b[39;49m\u001b[38;5;124;43m\\\u001b[39;49m\u001b[38;5;124;43mSampleSuperstore.xlsx\u001b[39;49m\u001b[38;5;124;43m\"\u001b[39;49m\u001b[43m)\u001b[49m\n\u001b[0;32m      2\u001b[0m df5\n",
      "File \u001b[1;32m~\\AppData\\Local\\Packages\\PythonSoftwareFoundation.Python.3.12_qbz5n2kfra8p0\\LocalCache\\local-packages\\Python312\\site-packages\\pandas\\io\\excel\\_base.py:495\u001b[0m, in \u001b[0;36mread_excel\u001b[1;34m(io, sheet_name, header, names, index_col, usecols, dtype, engine, converters, true_values, false_values, skiprows, nrows, na_values, keep_default_na, na_filter, verbose, parse_dates, date_parser, date_format, thousands, decimal, comment, skipfooter, storage_options, dtype_backend, engine_kwargs)\u001b[0m\n\u001b[0;32m    493\u001b[0m \u001b[38;5;28;01mif\u001b[39;00m \u001b[38;5;129;01mnot\u001b[39;00m \u001b[38;5;28misinstance\u001b[39m(io, ExcelFile):\n\u001b[0;32m    494\u001b[0m     should_close \u001b[38;5;241m=\u001b[39m \u001b[38;5;28;01mTrue\u001b[39;00m\n\u001b[1;32m--> 495\u001b[0m     io \u001b[38;5;241m=\u001b[39m \u001b[43mExcelFile\u001b[49m\u001b[43m(\u001b[49m\n\u001b[0;32m    496\u001b[0m \u001b[43m        \u001b[49m\u001b[43mio\u001b[49m\u001b[43m,\u001b[49m\n\u001b[0;32m    497\u001b[0m \u001b[43m        \u001b[49m\u001b[43mstorage_options\u001b[49m\u001b[38;5;241;43m=\u001b[39;49m\u001b[43mstorage_options\u001b[49m\u001b[43m,\u001b[49m\n\u001b[0;32m    498\u001b[0m \u001b[43m        \u001b[49m\u001b[43mengine\u001b[49m\u001b[38;5;241;43m=\u001b[39;49m\u001b[43mengine\u001b[49m\u001b[43m,\u001b[49m\n\u001b[0;32m    499\u001b[0m \u001b[43m        \u001b[49m\u001b[43mengine_kwargs\u001b[49m\u001b[38;5;241;43m=\u001b[39;49m\u001b[43mengine_kwargs\u001b[49m\u001b[43m,\u001b[49m\n\u001b[0;32m    500\u001b[0m \u001b[43m    \u001b[49m\u001b[43m)\u001b[49m\n\u001b[0;32m    501\u001b[0m \u001b[38;5;28;01melif\u001b[39;00m engine \u001b[38;5;129;01mand\u001b[39;00m engine \u001b[38;5;241m!=\u001b[39m io\u001b[38;5;241m.\u001b[39mengine:\n\u001b[0;32m    502\u001b[0m     \u001b[38;5;28;01mraise\u001b[39;00m \u001b[38;5;167;01mValueError\u001b[39;00m(\n\u001b[0;32m    503\u001b[0m         \u001b[38;5;124m\"\u001b[39m\u001b[38;5;124mEngine should not be specified when passing \u001b[39m\u001b[38;5;124m\"\u001b[39m\n\u001b[0;32m    504\u001b[0m         \u001b[38;5;124m\"\u001b[39m\u001b[38;5;124man ExcelFile - ExcelFile already has the engine set\u001b[39m\u001b[38;5;124m\"\u001b[39m\n\u001b[0;32m    505\u001b[0m     )\n",
      "File \u001b[1;32m~\\AppData\\Local\\Packages\\PythonSoftwareFoundation.Python.3.12_qbz5n2kfra8p0\\LocalCache\\local-packages\\Python312\\site-packages\\pandas\\io\\excel\\_base.py:1550\u001b[0m, in \u001b[0;36mExcelFile.__init__\u001b[1;34m(self, path_or_buffer, engine, storage_options, engine_kwargs)\u001b[0m\n\u001b[0;32m   1548\u001b[0m     ext \u001b[38;5;241m=\u001b[39m \u001b[38;5;124m\"\u001b[39m\u001b[38;5;124mxls\u001b[39m\u001b[38;5;124m\"\u001b[39m\n\u001b[0;32m   1549\u001b[0m \u001b[38;5;28;01melse\u001b[39;00m:\n\u001b[1;32m-> 1550\u001b[0m     ext \u001b[38;5;241m=\u001b[39m \u001b[43minspect_excel_format\u001b[49m\u001b[43m(\u001b[49m\n\u001b[0;32m   1551\u001b[0m \u001b[43m        \u001b[49m\u001b[43mcontent_or_path\u001b[49m\u001b[38;5;241;43m=\u001b[39;49m\u001b[43mpath_or_buffer\u001b[49m\u001b[43m,\u001b[49m\u001b[43m \u001b[49m\u001b[43mstorage_options\u001b[49m\u001b[38;5;241;43m=\u001b[39;49m\u001b[43mstorage_options\u001b[49m\n\u001b[0;32m   1552\u001b[0m \u001b[43m    \u001b[49m\u001b[43m)\u001b[49m\n\u001b[0;32m   1553\u001b[0m     \u001b[38;5;28;01mif\u001b[39;00m ext \u001b[38;5;129;01mis\u001b[39;00m \u001b[38;5;28;01mNone\u001b[39;00m:\n\u001b[0;32m   1554\u001b[0m         \u001b[38;5;28;01mraise\u001b[39;00m \u001b[38;5;167;01mValueError\u001b[39;00m(\n\u001b[0;32m   1555\u001b[0m             \u001b[38;5;124m\"\u001b[39m\u001b[38;5;124mExcel file format cannot be determined, you must specify \u001b[39m\u001b[38;5;124m\"\u001b[39m\n\u001b[0;32m   1556\u001b[0m             \u001b[38;5;124m\"\u001b[39m\u001b[38;5;124man engine manually.\u001b[39m\u001b[38;5;124m\"\u001b[39m\n\u001b[0;32m   1557\u001b[0m         )\n",
      "File \u001b[1;32m~\\AppData\\Local\\Packages\\PythonSoftwareFoundation.Python.3.12_qbz5n2kfra8p0\\LocalCache\\local-packages\\Python312\\site-packages\\pandas\\io\\excel\\_base.py:1402\u001b[0m, in \u001b[0;36minspect_excel_format\u001b[1;34m(content_or_path, storage_options)\u001b[0m\n\u001b[0;32m   1399\u001b[0m \u001b[38;5;28;01mif\u001b[39;00m \u001b[38;5;28misinstance\u001b[39m(content_or_path, \u001b[38;5;28mbytes\u001b[39m):\n\u001b[0;32m   1400\u001b[0m     content_or_path \u001b[38;5;241m=\u001b[39m BytesIO(content_or_path)\n\u001b[1;32m-> 1402\u001b[0m \u001b[38;5;28;01mwith\u001b[39;00m \u001b[43mget_handle\u001b[49m\u001b[43m(\u001b[49m\n\u001b[0;32m   1403\u001b[0m \u001b[43m    \u001b[49m\u001b[43mcontent_or_path\u001b[49m\u001b[43m,\u001b[49m\u001b[43m \u001b[49m\u001b[38;5;124;43m\"\u001b[39;49m\u001b[38;5;124;43mrb\u001b[39;49m\u001b[38;5;124;43m\"\u001b[39;49m\u001b[43m,\u001b[49m\u001b[43m \u001b[49m\u001b[43mstorage_options\u001b[49m\u001b[38;5;241;43m=\u001b[39;49m\u001b[43mstorage_options\u001b[49m\u001b[43m,\u001b[49m\u001b[43m \u001b[49m\u001b[43mis_text\u001b[49m\u001b[38;5;241;43m=\u001b[39;49m\u001b[38;5;28;43;01mFalse\u001b[39;49;00m\n\u001b[0;32m   1404\u001b[0m \u001b[43m\u001b[49m\u001b[43m)\u001b[49m \u001b[38;5;28;01mas\u001b[39;00m handle:\n\u001b[0;32m   1405\u001b[0m     stream \u001b[38;5;241m=\u001b[39m handle\u001b[38;5;241m.\u001b[39mhandle\n\u001b[0;32m   1406\u001b[0m     stream\u001b[38;5;241m.\u001b[39mseek(\u001b[38;5;241m0\u001b[39m)\n",
      "File \u001b[1;32m~\\AppData\\Local\\Packages\\PythonSoftwareFoundation.Python.3.12_qbz5n2kfra8p0\\LocalCache\\local-packages\\Python312\\site-packages\\pandas\\io\\common.py:882\u001b[0m, in \u001b[0;36mget_handle\u001b[1;34m(path_or_buf, mode, encoding, compression, memory_map, is_text, errors, storage_options)\u001b[0m\n\u001b[0;32m    873\u001b[0m         handle \u001b[38;5;241m=\u001b[39m \u001b[38;5;28mopen\u001b[39m(\n\u001b[0;32m    874\u001b[0m             handle,\n\u001b[0;32m    875\u001b[0m             ioargs\u001b[38;5;241m.\u001b[39mmode,\n\u001b[1;32m   (...)\u001b[0m\n\u001b[0;32m    878\u001b[0m             newline\u001b[38;5;241m=\u001b[39m\u001b[38;5;124m\"\u001b[39m\u001b[38;5;124m\"\u001b[39m,\n\u001b[0;32m    879\u001b[0m         )\n\u001b[0;32m    880\u001b[0m     \u001b[38;5;28;01melse\u001b[39;00m:\n\u001b[0;32m    881\u001b[0m         \u001b[38;5;66;03m# Binary mode\u001b[39;00m\n\u001b[1;32m--> 882\u001b[0m         handle \u001b[38;5;241m=\u001b[39m \u001b[38;5;28;43mopen\u001b[39;49m\u001b[43m(\u001b[49m\u001b[43mhandle\u001b[49m\u001b[43m,\u001b[49m\u001b[43m \u001b[49m\u001b[43mioargs\u001b[49m\u001b[38;5;241;43m.\u001b[39;49m\u001b[43mmode\u001b[49m\u001b[43m)\u001b[49m\n\u001b[0;32m    883\u001b[0m     handles\u001b[38;5;241m.\u001b[39mappend(handle)\n\u001b[0;32m    885\u001b[0m \u001b[38;5;66;03m# Convert BytesIO or file objects passed with an encoding\u001b[39;00m\n",
      "\u001b[1;31mFileNotFoundError\u001b[0m: [Errno 2] No such file or directory: 'Images\\\\SampleSuperstore.xlsx'"
     ]
    }
   ],
   "source": [
    "df5 = pd.read_excel(r\"Images\\SampleSuperstore.xlsx\")\n",
    "df5"
   ]
  },
  {
   "cell_type": "markdown",
   "metadata": {},
   "source": [
    "# **26.06.2024 Class 12**"
   ]
  },
  {
   "cell_type": "markdown",
   "metadata": {},
   "source": [
    "# Methods of Pandas?"
   ]
  },
  {
   "cell_type": "markdown",
   "metadata": {},
   "source": [
    "### How to Avoiding warnings?"
   ]
  },
  {
   "cell_type": "code",
   "execution_count": null,
   "metadata": {},
   "outputs": [],
   "source": [
    "from logging import warning\n",
    "import warnings\n",
    "\n",
    "warnings.filterwarnings(\"ignore\")"
   ]
  },
  {
   "cell_type": "markdown",
   "metadata": {},
   "source": [
    "### How impot data by / via pandas?"
   ]
  },
  {
   "cell_type": "code",
   "execution_count": 52,
   "metadata": {},
   "outputs": [
    {
     "ename": "FileNotFoundError",
     "evalue": "[Errno 2] No such file or directory: 'Images/SampleSuperstore.xlsx'",
     "output_type": "error",
     "traceback": [
      "\u001b[1;31m---------------------------------------------------------------------------\u001b[0m",
      "\u001b[1;31mFileNotFoundError\u001b[0m                         Traceback (most recent call last)",
      "Cell \u001b[1;32mIn[52], line 2\u001b[0m\n\u001b[0;32m      1\u001b[0m \u001b[38;5;66;03m# importing data to use\u001b[39;00m\n\u001b[1;32m----> 2\u001b[0m df \u001b[38;5;241m=\u001b[39m \u001b[43mpd\u001b[49m\u001b[38;5;241;43m.\u001b[39;49m\u001b[43mread_excel\u001b[49m\u001b[43m(\u001b[49m\u001b[38;5;124;43mr\u001b[39;49m\u001b[38;5;124;43m\"\u001b[39;49m\u001b[38;5;124;43mImages/SampleSuperstore.xlsx\u001b[39;49m\u001b[38;5;124;43m\"\u001b[39;49m\u001b[43m)\u001b[49m\n",
      "File \u001b[1;32m~\\AppData\\Local\\Packages\\PythonSoftwareFoundation.Python.3.12_qbz5n2kfra8p0\\LocalCache\\local-packages\\Python312\\site-packages\\pandas\\io\\excel\\_base.py:495\u001b[0m, in \u001b[0;36mread_excel\u001b[1;34m(io, sheet_name, header, names, index_col, usecols, dtype, engine, converters, true_values, false_values, skiprows, nrows, na_values, keep_default_na, na_filter, verbose, parse_dates, date_parser, date_format, thousands, decimal, comment, skipfooter, storage_options, dtype_backend, engine_kwargs)\u001b[0m\n\u001b[0;32m    493\u001b[0m \u001b[38;5;28;01mif\u001b[39;00m \u001b[38;5;129;01mnot\u001b[39;00m \u001b[38;5;28misinstance\u001b[39m(io, ExcelFile):\n\u001b[0;32m    494\u001b[0m     should_close \u001b[38;5;241m=\u001b[39m \u001b[38;5;28;01mTrue\u001b[39;00m\n\u001b[1;32m--> 495\u001b[0m     io \u001b[38;5;241m=\u001b[39m \u001b[43mExcelFile\u001b[49m\u001b[43m(\u001b[49m\n\u001b[0;32m    496\u001b[0m \u001b[43m        \u001b[49m\u001b[43mio\u001b[49m\u001b[43m,\u001b[49m\n\u001b[0;32m    497\u001b[0m \u001b[43m        \u001b[49m\u001b[43mstorage_options\u001b[49m\u001b[38;5;241;43m=\u001b[39;49m\u001b[43mstorage_options\u001b[49m\u001b[43m,\u001b[49m\n\u001b[0;32m    498\u001b[0m \u001b[43m        \u001b[49m\u001b[43mengine\u001b[49m\u001b[38;5;241;43m=\u001b[39;49m\u001b[43mengine\u001b[49m\u001b[43m,\u001b[49m\n\u001b[0;32m    499\u001b[0m \u001b[43m        \u001b[49m\u001b[43mengine_kwargs\u001b[49m\u001b[38;5;241;43m=\u001b[39;49m\u001b[43mengine_kwargs\u001b[49m\u001b[43m,\u001b[49m\n\u001b[0;32m    500\u001b[0m \u001b[43m    \u001b[49m\u001b[43m)\u001b[49m\n\u001b[0;32m    501\u001b[0m \u001b[38;5;28;01melif\u001b[39;00m engine \u001b[38;5;129;01mand\u001b[39;00m engine \u001b[38;5;241m!=\u001b[39m io\u001b[38;5;241m.\u001b[39mengine:\n\u001b[0;32m    502\u001b[0m     \u001b[38;5;28;01mraise\u001b[39;00m \u001b[38;5;167;01mValueError\u001b[39;00m(\n\u001b[0;32m    503\u001b[0m         \u001b[38;5;124m\"\u001b[39m\u001b[38;5;124mEngine should not be specified when passing \u001b[39m\u001b[38;5;124m\"\u001b[39m\n\u001b[0;32m    504\u001b[0m         \u001b[38;5;124m\"\u001b[39m\u001b[38;5;124man ExcelFile - ExcelFile already has the engine set\u001b[39m\u001b[38;5;124m\"\u001b[39m\n\u001b[0;32m    505\u001b[0m     )\n",
      "File \u001b[1;32m~\\AppData\\Local\\Packages\\PythonSoftwareFoundation.Python.3.12_qbz5n2kfra8p0\\LocalCache\\local-packages\\Python312\\site-packages\\pandas\\io\\excel\\_base.py:1550\u001b[0m, in \u001b[0;36mExcelFile.__init__\u001b[1;34m(self, path_or_buffer, engine, storage_options, engine_kwargs)\u001b[0m\n\u001b[0;32m   1548\u001b[0m     ext \u001b[38;5;241m=\u001b[39m \u001b[38;5;124m\"\u001b[39m\u001b[38;5;124mxls\u001b[39m\u001b[38;5;124m\"\u001b[39m\n\u001b[0;32m   1549\u001b[0m \u001b[38;5;28;01melse\u001b[39;00m:\n\u001b[1;32m-> 1550\u001b[0m     ext \u001b[38;5;241m=\u001b[39m \u001b[43minspect_excel_format\u001b[49m\u001b[43m(\u001b[49m\n\u001b[0;32m   1551\u001b[0m \u001b[43m        \u001b[49m\u001b[43mcontent_or_path\u001b[49m\u001b[38;5;241;43m=\u001b[39;49m\u001b[43mpath_or_buffer\u001b[49m\u001b[43m,\u001b[49m\u001b[43m \u001b[49m\u001b[43mstorage_options\u001b[49m\u001b[38;5;241;43m=\u001b[39;49m\u001b[43mstorage_options\u001b[49m\n\u001b[0;32m   1552\u001b[0m \u001b[43m    \u001b[49m\u001b[43m)\u001b[49m\n\u001b[0;32m   1553\u001b[0m     \u001b[38;5;28;01mif\u001b[39;00m ext \u001b[38;5;129;01mis\u001b[39;00m \u001b[38;5;28;01mNone\u001b[39;00m:\n\u001b[0;32m   1554\u001b[0m         \u001b[38;5;28;01mraise\u001b[39;00m \u001b[38;5;167;01mValueError\u001b[39;00m(\n\u001b[0;32m   1555\u001b[0m             \u001b[38;5;124m\"\u001b[39m\u001b[38;5;124mExcel file format cannot be determined, you must specify \u001b[39m\u001b[38;5;124m\"\u001b[39m\n\u001b[0;32m   1556\u001b[0m             \u001b[38;5;124m\"\u001b[39m\u001b[38;5;124man engine manually.\u001b[39m\u001b[38;5;124m\"\u001b[39m\n\u001b[0;32m   1557\u001b[0m         )\n",
      "File \u001b[1;32m~\\AppData\\Local\\Packages\\PythonSoftwareFoundation.Python.3.12_qbz5n2kfra8p0\\LocalCache\\local-packages\\Python312\\site-packages\\pandas\\io\\excel\\_base.py:1402\u001b[0m, in \u001b[0;36minspect_excel_format\u001b[1;34m(content_or_path, storage_options)\u001b[0m\n\u001b[0;32m   1399\u001b[0m \u001b[38;5;28;01mif\u001b[39;00m \u001b[38;5;28misinstance\u001b[39m(content_or_path, \u001b[38;5;28mbytes\u001b[39m):\n\u001b[0;32m   1400\u001b[0m     content_or_path \u001b[38;5;241m=\u001b[39m BytesIO(content_or_path)\n\u001b[1;32m-> 1402\u001b[0m \u001b[38;5;28;01mwith\u001b[39;00m \u001b[43mget_handle\u001b[49m\u001b[43m(\u001b[49m\n\u001b[0;32m   1403\u001b[0m \u001b[43m    \u001b[49m\u001b[43mcontent_or_path\u001b[49m\u001b[43m,\u001b[49m\u001b[43m \u001b[49m\u001b[38;5;124;43m\"\u001b[39;49m\u001b[38;5;124;43mrb\u001b[39;49m\u001b[38;5;124;43m\"\u001b[39;49m\u001b[43m,\u001b[49m\u001b[43m \u001b[49m\u001b[43mstorage_options\u001b[49m\u001b[38;5;241;43m=\u001b[39;49m\u001b[43mstorage_options\u001b[49m\u001b[43m,\u001b[49m\u001b[43m \u001b[49m\u001b[43mis_text\u001b[49m\u001b[38;5;241;43m=\u001b[39;49m\u001b[38;5;28;43;01mFalse\u001b[39;49;00m\n\u001b[0;32m   1404\u001b[0m \u001b[43m\u001b[49m\u001b[43m)\u001b[49m \u001b[38;5;28;01mas\u001b[39;00m handle:\n\u001b[0;32m   1405\u001b[0m     stream \u001b[38;5;241m=\u001b[39m handle\u001b[38;5;241m.\u001b[39mhandle\n\u001b[0;32m   1406\u001b[0m     stream\u001b[38;5;241m.\u001b[39mseek(\u001b[38;5;241m0\u001b[39m)\n",
      "File \u001b[1;32m~\\AppData\\Local\\Packages\\PythonSoftwareFoundation.Python.3.12_qbz5n2kfra8p0\\LocalCache\\local-packages\\Python312\\site-packages\\pandas\\io\\common.py:882\u001b[0m, in \u001b[0;36mget_handle\u001b[1;34m(path_or_buf, mode, encoding, compression, memory_map, is_text, errors, storage_options)\u001b[0m\n\u001b[0;32m    873\u001b[0m         handle \u001b[38;5;241m=\u001b[39m \u001b[38;5;28mopen\u001b[39m(\n\u001b[0;32m    874\u001b[0m             handle,\n\u001b[0;32m    875\u001b[0m             ioargs\u001b[38;5;241m.\u001b[39mmode,\n\u001b[1;32m   (...)\u001b[0m\n\u001b[0;32m    878\u001b[0m             newline\u001b[38;5;241m=\u001b[39m\u001b[38;5;124m\"\u001b[39m\u001b[38;5;124m\"\u001b[39m,\n\u001b[0;32m    879\u001b[0m         )\n\u001b[0;32m    880\u001b[0m     \u001b[38;5;28;01melse\u001b[39;00m:\n\u001b[0;32m    881\u001b[0m         \u001b[38;5;66;03m# Binary mode\u001b[39;00m\n\u001b[1;32m--> 882\u001b[0m         handle \u001b[38;5;241m=\u001b[39m \u001b[38;5;28;43mopen\u001b[39;49m\u001b[43m(\u001b[49m\u001b[43mhandle\u001b[49m\u001b[43m,\u001b[49m\u001b[43m \u001b[49m\u001b[43mioargs\u001b[49m\u001b[38;5;241;43m.\u001b[39;49m\u001b[43mmode\u001b[49m\u001b[43m)\u001b[49m\n\u001b[0;32m    883\u001b[0m     handles\u001b[38;5;241m.\u001b[39mappend(handle)\n\u001b[0;32m    885\u001b[0m \u001b[38;5;66;03m# Convert BytesIO or file objects passed with an encoding\u001b[39;00m\n",
      "\u001b[1;31mFileNotFoundError\u001b[0m: [Errno 2] No such file or directory: 'Images/SampleSuperstore.xlsx'"
     ]
    }
   ],
   "source": [
    "# importing data to use\n",
    "df = pd.read_excel(\"\")\n"
   ]
  },
  {
   "cell_type": "markdown",
   "metadata": {},
   "source": [
    "## Head()?\n",
    "Gives out first 5 rows of df  as output"
   ]
  },
  {
   "cell_type": "code",
   "execution_count": null,
   "metadata": {},
   "outputs": [],
   "source": [
    "df.head(2)"
   ]
  },
  {
   "cell_type": "markdown",
   "metadata": {},
   "source": [
    "## tail()?\n",
    "Gives out last 5 rows of df  as output"
   ]
  },
  {
   "cell_type": "code",
   "execution_count": null,
   "metadata": {},
   "outputs": [],
   "source": [
    "df.tail(2)"
   ]
  },
  {
   "cell_type": "markdown",
   "metadata": {},
   "source": [
    "## sample()?\n",
    "Returns randomly selected rows from dataframe."
   ]
  },
  {
   "cell_type": "code",
   "execution_count": null,
   "metadata": {},
   "outputs": [],
   "source": [
    "df.sample(2)"
   ]
  },
  {
   "cell_type": "markdown",
   "metadata": {},
   "source": [
    "## info()?\n",
    "> always count non-values properly"
   ]
  },
  {
   "cell_type": "code",
   "execution_count": null,
   "metadata": {},
   "outputs": [],
   "source": [
    "df.info()"
   ]
  },
  {
   "cell_type": "markdown",
   "metadata": {},
   "source": [
    "## isna()? \n",
    "to find na values column wise"
   ]
  },
  {
   "cell_type": "code",
   "execution_count": null,
   "metadata": {},
   "outputs": [],
   "source": [
    "df.isna()"
   ]
  },
  {
   "cell_type": "code",
   "execution_count": null,
   "metadata": {},
   "outputs": [],
   "source": [
    "df.isna().sum()"
   ]
  },
  {
   "cell_type": "markdown",
   "metadata": {},
   "source": [
    "## dropna()?\n",
    "Used to drop rows with \"na\" values\n",
    "- ---------- study it's parameters \n",
    "\n"
   ]
  },
  {
   "cell_type": "code",
   "execution_count": null,
   "metadata": {},
   "outputs": [],
   "source": [
    "df.dropna()\n",
    "df"
   ]
  },
  {
   "cell_type": "markdown",
   "metadata": {},
   "source": []
  },
  {
   "cell_type": "code",
   "execution_count": null,
   "metadata": {},
   "outputs": [],
   "source": [
    "df.dropna(inplace=True)\n",
    "df"
   ]
  },
  {
   "cell_type": "markdown",
   "metadata": {},
   "source": [
    "## duplicated()\n",
    "to find duplicated values"
   ]
  },
  {
   "cell_type": "code",
   "execution_count": null,
   "metadata": {},
   "outputs": [],
   "source": [
    "df.duplicated()"
   ]
  },
  {
   "cell_type": "code",
   "execution_count": null,
   "metadata": {},
   "outputs": [],
   "source": [
    "df.duplicated().sum()"
   ]
  },
  {
   "cell_type": "markdown",
   "metadata": {},
   "source": [
    "## drop()?"
   ]
  },
  {
   "cell_type": "code",
   "execution_count": null,
   "metadata": {},
   "outputs": [],
   "source": [
    "# if one of the columns is to be droped just provide column name in \"\"\n",
    "# if more than 1 column to be droped provide column name in list as shown below\n",
    "# axis =1 means that we as droping column\n",
    "# axis = 0 means we droping rows\n",
    "# inplace = True \n",
    "df.drop(['Row ID', 'Order ID', 'Customer ID', 'Product ID'], axis=1, inplace= True)"
   ]
  },
  {
   "cell_type": "markdown",
   "metadata": {},
   "source": [
    "> once we use toggle **inplace = True** then it will not revert back the changes are committed to the df\n",
    "\n",
    "> **axis = 1** (column wise)    <br>    **axis = 0** (row wise)\n",
    "\n",
    "> 1 or more in all cases give column names in **list** to **drop** them"
   ]
  },
  {
   "cell_type": "code",
   "execution_count": null,
   "metadata": {},
   "outputs": [],
   "source": [
    "df.head()"
   ]
  },
  {
   "cell_type": "markdown",
   "metadata": {},
   "source": [
    "## taking out single column from df?\n",
    "it let's us apply methods we could apply on a series"
   ]
  },
  {
   "cell_type": "code",
   "execution_count": 49,
   "metadata": {},
   "outputs": [
    {
     "ename": "NameError",
     "evalue": "name 'df' is not defined",
     "output_type": "error",
     "traceback": [
      "\u001b[1;31m---------------------------------------------------------------------------\u001b[0m",
      "\u001b[1;31mNameError\u001b[0m                                 Traceback (most recent call last)",
      "Cell \u001b[1;32mIn[49], line 1\u001b[0m\n\u001b[1;32m----> 1\u001b[0m \u001b[43mdf\u001b[49m[\u001b[38;5;124m\"\u001b[39m\u001b[38;5;124mCustomer Name\u001b[39m\u001b[38;5;124m\"\u001b[39m]\n",
      "\u001b[1;31mNameError\u001b[0m: name 'df' is not defined"
     ]
    }
   ],
   "source": [
    "df[\"Customer Name\"]"
   ]
  },
  {
   "cell_type": "code",
   "execution_count": null,
   "metadata": {},
   "outputs": [],
   "source": [
    "# as u may remember single column in df is Series\n",
    "type(df[\"Customer Name\"]) "
   ]
  },
  {
   "cell_type": "markdown",
   "metadata": {},
   "source": [
    "important operation on df"
   ]
  },
  {
   "cell_type": "markdown",
   "metadata": {},
   "source": [
    "## How to find only unique values?"
   ]
  },
  {
   "cell_type": "code",
   "execution_count": 48,
   "metadata": {},
   "outputs": [
    {
     "ename": "NameError",
     "evalue": "name 'df' is not defined",
     "output_type": "error",
     "traceback": [
      "\u001b[1;31m---------------------------------------------------------------------------\u001b[0m",
      "\u001b[1;31mNameError\u001b[0m                                 Traceback (most recent call last)",
      "Cell \u001b[1;32mIn[48], line 1\u001b[0m\n\u001b[1;32m----> 1\u001b[0m \u001b[43mdf\u001b[49m[\u001b[38;5;124m\"\u001b[39m\u001b[38;5;124mCustomer Name\u001b[39m\u001b[38;5;124m\"\u001b[39m]\u001b[38;5;241m.\u001b[39munique()\n",
      "\u001b[1;31mNameError\u001b[0m: name 'df' is not defined"
     ]
    }
   ],
   "source": [
    "df[\"Customer Name\"].unique()"
   ]
  },
  {
   "cell_type": "code",
   "execution_count": null,
   "metadata": {},
   "outputs": [
    {
     "ename": "NameError",
     "evalue": "name 'df' is not defined",
     "output_type": "error",
     "traceback": [
      "\u001b[1;31m---------------------------------------------------------------------------\u001b[0m",
      "\u001b[1;31mNameError\u001b[0m                                 Traceback (most recent call last)",
      "Cell \u001b[1;32mIn[24], line 1\u001b[0m\n\u001b[1;32m----> 1\u001b[0m \u001b[43mdf\u001b[49m[\u001b[38;5;124m'\u001b[39m\u001b[38;5;124mCustomer Name\u001b[39m\u001b[38;5;124m'\u001b[39m]\u001b[38;5;241m.\u001b[39mvalue_counts()\n",
      "\u001b[1;31mNameError\u001b[0m: name 'df' is not defined"
     ]
    }
   ],
   "source": [
    "df['Customer Name'].value_counts()"
   ]
  },
  {
   "cell_type": "code",
   "execution_count": null,
   "metadata": {},
   "outputs": [],
   "source": [
    "df[\"Sales\"]"
   ]
  },
  {
   "cell_type": "code",
   "execution_count": null,
   "metadata": {},
   "outputs": [],
   "source": [
    "df[\"Sales\"].sum()"
   ]
  },
  {
   "cell_type": "code",
   "execution_count": null,
   "metadata": {},
   "outputs": [],
   "source": [
    "df[\"Sales\"].mean()"
   ]
  },
  {
   "cell_type": "code",
   "execution_count": null,
   "metadata": {},
   "outputs": [],
   "source": [
    "df[\"Sales\"].min()"
   ]
  },
  {
   "cell_type": "code",
   "execution_count": null,
   "metadata": {},
   "outputs": [],
   "source": [
    "df[\"Sales\"].max()"
   ]
  },
  {
   "cell_type": "code",
   "execution_count": null,
   "metadata": {},
   "outputs": [],
   "source": [
    "df[['City','State','Region']]"
   ]
  },
  {
   "cell_type": "markdown",
   "metadata": {},
   "source": [
    "> why passing **list inside list** while calling multiple columns?\n",
    "- Using a list inside another list helps pandas differentiate between a single column and multiple columns.<br> If you were to use a single set of brackets, it would be ambiguous whether you were referring to one column or multiple columns."
   ]
  },
  {
   "cell_type": "markdown",
   "metadata": {},
   "source": [
    "## What does **values / count_values()** do?"
   ]
  },
  {
   "cell_type": "code",
   "execution_count": null,
   "metadata": {},
   "outputs": [],
   "source": [
    "# just for understanding\n",
    "df['Ship Mode'].values"
   ]
  },
  {
   "cell_type": "code",
   "execution_count": null,
   "metadata": {},
   "outputs": [],
   "source": [
    "df['Ship Mode'].value_counts()"
   ]
  },
  {
   "cell_type": "code",
   "execution_count": null,
   "metadata": {},
   "outputs": [],
   "source": [
    "df['Segment'].value_counts()"
   ]
  },
  {
   "cell_type": "code",
   "execution_count": null,
   "metadata": {},
   "outputs": [],
   "source": [
    "df['Segment'].value_counts().values"
   ]
  },
  {
   "cell_type": "code",
   "execution_count": null,
   "metadata": {},
   "outputs": [],
   "source": [
    "df['Segment'].value_counts().index"
   ]
  },
  {
   "cell_type": "code",
   "execution_count": null,
   "metadata": {},
   "outputs": [],
   "source": [
    "df['Segment'].name"
   ]
  },
  {
   "cell_type": "markdown",
   "metadata": {},
   "source": [
    "> \"Segment\" is name of this \"Series\"\n",
    "\n",
    "> Series can be renamed if needed"
   ]
  },
  {
   "cell_type": "code",
   "execution_count": null,
   "metadata": {},
   "outputs": [],
   "source": [
    "df['Segment'].value_counts().name\n"
   ]
  },
  {
   "cell_type": "markdown",
   "metadata": {},
   "source": [
    ">check .value_count() cell above for reference\n",
    "\n",
    ">\"count\" is name of the values(numbers) displayed"
   ]
  },
  {
   "cell_type": "markdown",
   "metadata": {},
   "source": [
    "## sort_values()?"
   ]
  },
  {
   "cell_type": "code",
   "execution_count": null,
   "metadata": {},
   "outputs": [],
   "source": []
  },
  {
   "cell_type": "code",
   "execution_count": null,
   "metadata": {},
   "outputs": [],
   "source": []
  },
  {
   "cell_type": "markdown",
   "metadata": {},
   "source": [
    "## Why sometimes we use functions with () and sometimes we don't?\n",
    "example below:\n",
    "- .value_count()  \n",
    "    - it's a **function** being accessed\n",
    "- .value_count().values\n",
    "    - it's a **variable** being accessed\n"
   ]
  },
  {
   "cell_type": "markdown",
   "metadata": {},
   "source": [
    "## .reset_index()?\n",
    "even when we drop certain rows in a df the **index will be same** if we check df.info() so we use .reset_index() <br> \n",
    "and then the index with corrected!\n",
    "> when we do this the previous index is added as column in df"
   ]
  },
  {
   "cell_type": "code",
   "execution_count": null,
   "metadata": {},
   "outputs": [],
   "source": [
    "df.reset_index()"
   ]
  },
  {
   "cell_type": "markdown",
   "metadata": {},
   "source": [
    "> to not add previous index to df as column there is a parameter \"drop=True\" as shown below\n",
    "\n",
    "> Then we use inplace = True to commit it to memory"
   ]
  },
  {
   "cell_type": "code",
   "execution_count": null,
   "metadata": {},
   "outputs": [],
   "source": [
    "df.reset_index(drop=True, inplace=True)"
   ]
  },
  {
   "cell_type": "markdown",
   "metadata": {},
   "source": [
    "## replace()?\n",
    "replace values in columns of df?"
   ]
  },
  {
   "cell_type": "code",
   "execution_count": null,
   "metadata": {},
   "outputs": [],
   "source": [
    "# Changing 'Second Class' to 'Second'\n",
    "df['Ship Mode'].replace(\"Second Class\",'Second')"
   ]
  },
  {
   "cell_type": "markdown",
   "metadata": {},
   "source": [
    "In above case we will have to run code thrice for each class\n",
    "so we will try to remove 'class' from all values in 'Ship Mode'\n",
    "\n",
    "Removing certain keyword \n"
   ]
  },
  {
   "cell_type": "code",
   "execution_count": null,
   "metadata": {},
   "outputs": [],
   "source": [
    "df['Ship Mode'].str.replace(\"Class\",\"\")"
   ]
  },
  {
   "cell_type": "markdown",
   "metadata": {},
   "source": [
    "> in above code :\n",
    ">    - we converted \"Ship Mode\" Series values into \"str\" and then we replaced segment of the str \"Class\" to \"\"(empty space)."
   ]
  },
  {
   "cell_type": "markdown",
   "metadata": {},
   "source": [
    "## **Without using inplace = True** we can commit to memory by like this?"
   ]
  },
  {
   "cell_type": "code",
   "execution_count": null,
   "metadata": {},
   "outputs": [],
   "source": [
    "df['Ship Mode'] = df['Ship Mode'].str.replace(\"Class\",\"\")"
   ]
  },
  {
   "cell_type": "markdown",
   "metadata": {},
   "source": [
    "## **groupby()?**\n",
    "##### By which \"Ship Mode\" (way of shipping) do we get most sales?"
   ]
  },
  {
   "cell_type": "code",
   "execution_count": null,
   "metadata": {},
   "outputs": [],
   "source": [
    "round(df.groupby(\"Ship Mode\")['Sales'].sum())"
   ]
  },
  {
   "cell_type": "code",
   "execution_count": null,
   "metadata": {},
   "outputs": [],
   "source": [
    "round(df.groupby(\"Ship Mode\")['Sales'].mean())"
   ]
  },
  {
   "cell_type": "code",
   "execution_count": null,
   "metadata": {},
   "outputs": [],
   "source": [
    "round(df.groupby(\"Ship Mode\")['Sales'].median())"
   ]
  },
  {
   "cell_type": "code",
   "execution_count": null,
   "metadata": {},
   "outputs": [],
   "source": [
    "round(df.groupby(\"Ship Mode\")[['Sales','Quantity','Profit']].sum())"
   ]
  },
  {
   "cell_type": "markdown",
   "metadata": {},
   "source": [
    "## crosstab()?\n",
    "analyzing segment data against Region data?"
   ]
  },
  {
   "cell_type": "code",
   "execution_count": null,
   "metadata": {},
   "outputs": [],
   "source": [
    "pd.crosstab(df['Segment'],df['Region'])"
   ]
  },
  {
   "cell_type": "code",
   "execution_count": null,
   "metadata": {},
   "outputs": [],
   "source": [
    "pd.crosstab(df['Segment'],df['Region']).sum()"
   ]
  },
  {
   "cell_type": "code",
   "execution_count": null,
   "metadata": {},
   "outputs": [],
   "source": [
    "pd.crosstab(df['Segment'],df['Region']).sum().sum()"
   ]
  },
  {
   "cell_type": "markdown",
   "metadata": {},
   "source": [
    "## pivot_table()?\n",
    "\n",
    "pd.**pivot_table**(**data**, **values**=None, **index**=None, **columns**=None,<br>\n",
    " **aggfunc**='mean',**fill_value**=None, **margins**=False, **dropna**=True,<br>\n",
    "  **margins_name**='All')\n",
    "\n",
    "- **data**: The DataFrame to pivot.\n",
    "- **values**: Column(s) to aggregate.\n",
    "- **index**: Column(s) to set as index.\n",
    "- **columns**: Column(s) to pivot.\n",
    "- **aggfunc**: Function to aggregate the data (e.g., 'mean', 'sum', 'count').\n",
    "- **fill_value**: Value to replace missing values.\n",
    "- **margins**: Add all rows/columns.\n",
    "- **dropna**: Do not include columns whose entries are all NaN.\n",
    "- **margins_name**: Name of the row/column that will contain the totals when margins is True."
   ]
  },
  {
   "cell_type": "code",
   "execution_count": null,
   "metadata": {},
   "outputs": [],
   "source": [
    "pd.pivot_table(df,index='Category',columns='Segment', values='Sales', aggfunc='sum')"
   ]
  },
  {
   "cell_type": "code",
   "execution_count": null,
   "metadata": {},
   "outputs": [],
   "source": [
    "pd.pivot_table(df,index='Category',columns='Segment', values='Sales', aggfunc='mean')"
   ]
  },
  {
   "cell_type": "markdown",
   "metadata": {},
   "source": []
  },
  {
   "cell_type": "code",
   "execution_count": null,
   "metadata": {},
   "outputs": [],
   "source": [
    "# Show sorted total profit according to sub-category\n",
    "df.groupby(\"Sub-Category\")['Profit'].sum().sort_values(ascending=False)"
   ]
  },
  {
   "cell_type": "markdown",
   "metadata": {},
   "source": [
    "## GroupBy vs Pivot table vs Cross table?"
   ]
  },
  {
   "cell_type": "markdown",
   "metadata": {},
   "source": [
    "**GroupBy**\n",
    "\n",
    "**Purpose**:\n",
    "- Used on numerical data!\n",
    "- Focusing on subsets of data!\n",
    "- Big data sets\n",
    "\n",
    "The groupby method is used to split the data into groups based on some criteria, apply a function to each group independently, and then combine the results.\n",
    "\n",
    "**Use Cases:**\n",
    "\n",
    "Aggregating data by one or more keys.\n",
    "Applying custom aggregation functions.\n",
    "Performing group-wise operations like transformations or filtering.\n",
    "\n",
    "\n",
    "Example:"
   ]
  },
  {
   "cell_type": "code",
   "execution_count": null,
   "metadata": {},
   "outputs": [],
   "source": [
    "data = {\n",
    "    'Date': ['2023-01-01', '2023-01-01', '2023-01-02', '2023-01-02'],\n",
    "    'City': ['New York', 'Los Angeles', 'New York', 'Los Angeles'],\n",
    "    'Sales': [200, 150, 300, 250]\n",
    "}\n",
    "\n",
    "df = pd.DataFrame(data)\n",
    "\n",
    "# Group by 'City' and calculate the sum of 'Sales'\n",
    "grouped = df.groupby('City')['Sales'].sum()\n",
    "print(grouped)"
   ]
  },
  {
   "cell_type": "markdown",
   "metadata": {},
   "source": [
    "**Pivot Table**\n",
    "**Purpose:**\n",
    "- Used on numerical data!\n",
    "- For large datasets\n",
    "- Summarizing large data\n",
    "\n",
    "Pivot tables are used to reshape and summarize data. They can aggregate multiple columns and display the results in a tabular format with rows and columns.\n",
    "\n",
    "**Use Cases:**\n",
    "\n",
    "Creating summary tables with multiple aggregations.\n",
    "Handling both numeric and categorical data.\n",
    "Generating multi-dimensional summaries.\n",
    "\n",
    "**Example:**"
   ]
  },
  {
   "cell_type": "code",
   "execution_count": null,
   "metadata": {},
   "outputs": [],
   "source": [
    "# Creating a pivot table\n",
    "pivot_table = pd.pivot_table(df, values='Sales', index='Date', columns='City', aggfunc='sum')\n",
    "print(pivot_table)\n"
   ]
  },
  {
   "cell_type": "markdown",
   "metadata": {},
   "source": [
    "**Cross Table (Crosstab)**\n",
    "\n",
    "**Purpose:**\n",
    "- Used on categorical data!\n",
    "- For Small datasets \n",
    "- Analysing relationships and data frequencies in categories\n",
    "\n",
    "Cross tables, or crosstabs, are used to compute simple cross-tabulations of two (or more) factors. They are especially useful for analyzing categorical data and their frequency distributions.\n",
    "\n",
    "**Use Cases:**\n",
    "\n",
    "Counting occurrences of combinations of categories.\n",
    "Aggregating data with a specific focus on the frequency of categories.\n",
    "Comparing categorical data across different groups.\n",
    "\n",
    "**Example:**"
   ]
  },
  {
   "cell_type": "code",
   "execution_count": null,
   "metadata": {},
   "outputs": [],
   "source": [
    "# Create a cross table to count the occurrences of each 'City' on each 'Date'\n",
    "cross_tab = pd.crosstab(df['Date'], df['City'])\n",
    "print(cross_tab)\n"
   ]
  },
  {
   "cell_type": "markdown",
   "metadata": {},
   "source": [
    "### Choosing Between Pivot table and Cross table?\n",
    "\n",
    "Use pivot tables when you need interactive and dynamic analysis of data with the ability to explore multiple dimensions and customize reports.\n",
    "Use cross tables when you need to analyze categorical data, examine relationships, or prepare data for statistical testing."
   ]
  },
  {
   "cell_type": "markdown",
   "metadata": {},
   "source": [
    "## How do I select a subset of the dataframe?"
   ]
  },
  {
   "cell_type": "markdown",
   "metadata": {},
   "source": [
    "> using **.loc()** and **iloc()** is faster than normal pandas"
   ]
  },
  {
   "cell_type": "markdown",
   "metadata": {},
   "source": [
    "Selecting or filtering specific rows and/or columns? Filtering the data on a condition? Methods for slicing, selecting, and extracting the data you need are available in pandas.\n",
    "![image.png](data:image/png;base64,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)"
   ]
  },
  {
   "cell_type": "code",
   "execution_count": null,
   "metadata": {},
   "outputs": [],
   "source": [
    "titanic = sns.load_dataset(\"titanic\")\n",
    "titanic.head(1)"
   ]
  },
  {
   "cell_type": "code",
   "execution_count": null,
   "metadata": {},
   "outputs": [],
   "source": [
    "# To select a single column, use square brackets [] with the column name of the column of interest.\n",
    "ages = titanic[\"age\"]\n",
    "ages.head()"
   ]
  },
  {
   "cell_type": "markdown",
   "metadata": {},
   "source": [
    "> To select multiple columns, use a list of column names within the selection brackets []."
   ]
  },
  {
   "cell_type": "code",
   "execution_count": null,
   "metadata": {},
   "outputs": [],
   "source": [
    "age_sex = titanic[[\"age\", \"sex\"]]\n",
    "age_sex"
   ]
  },
  {
   "cell_type": "code",
   "execution_count": null,
   "metadata": {},
   "outputs": [],
   "source": [
    "type(titanic[[\"age\", \"sex\"]])"
   ]
  },
  {
   "cell_type": "code",
   "execution_count": null,
   "metadata": {},
   "outputs": [],
   "source": [
    "titanic[[\"age\", \"sex\"]].shape"
   ]
  },
  {
   "cell_type": "markdown",
   "metadata": {},
   "source": [
    "## How do I filter specific rows from a DataFrame?\n",
    "\n",
    "> To select rows based on a conditional expression, use a condition inside the selection brackets []."
   ]
  },
  {
   "cell_type": "code",
   "execution_count": null,
   "metadata": {},
   "outputs": [],
   "source": [
    "titanic[\"age\"] >= 35"
   ]
  },
  {
   "cell_type": "code",
   "execution_count": null,
   "metadata": {},
   "outputs": [],
   "source": [
    "# print whole table where age is more than 35 years\n",
    "titanic[titanic[\"age\"] >= 35]"
   ]
  },
  {
   "cell_type": "code",
   "execution_count": null,
   "metadata": {},
   "outputs": [],
   "source": [
    "# making changes to df\n",
    "above_35 =titanic[titanic[\"age\"] >= 35]"
   ]
  },
  {
   "cell_type": "markdown",
   "metadata": {},
   "source": [
    "## How do I select specific rows and columns from a DataFrame?"
   ]
  },
  {
   "cell_type": "code",
   "execution_count": null,
   "metadata": {},
   "outputs": [],
   "source": [
    "titanic[titanic[\"age\"] > 18][[\"sex\", \"pclass\", \"age\"]]"
   ]
  },
  {
   "cell_type": "code",
   "execution_count": null,
   "metadata": {},
   "outputs": [],
   "source": [
    "# column names to list\n",
    "titanic.columns.tolist()"
   ]
  },
  {
   "cell_type": "code",
   "execution_count": null,
   "metadata": {},
   "outputs": [],
   "source": [
    "# where pclass is 2 or 3 return True\n",
    "titanic[\"pclass\"].isin([2,3])"
   ]
  },
  {
   "cell_type": "code",
   "execution_count": null,
   "metadata": {},
   "outputs": [],
   "source": [
    "above_35_class_23 = titanic[(titanic[\"pclass\"].isin([2,3])) & (titanic[\"age\"] > 35)]\n",
    "above_35_class_23.head()"
   ]
  },
  {
   "cell_type": "code",
   "execution_count": null,
   "metadata": {},
   "outputs": [],
   "source": [
    "age_no_na = titanic[titanic[\"age\"].notna()]\n",
    "age_no_na.head()"
   ]
  },
  {
   "cell_type": "markdown",
   "metadata": {},
   "source": [
    "## How do I select specific rows and columns from a DataFrame?"
   ]
  },
  {
   "cell_type": "code",
   "execution_count": null,
   "metadata": {},
   "outputs": [],
   "source": [
    "adult_names_cond = titanic.loc[titanic[\"age\"] > 18, [len(x) < 5 for x in titanic.columns.tolist()]]\n",
    "adult_names_cond.head()"
   ]
  },
  {
   "cell_type": "code",
   "execution_count": null,
   "metadata": {},
   "outputs": [],
   "source": [
    "# BETTER WAY - MORE EFFICIENT\n",
    "adult_names_list = titanic.loc[titanic[\"age\"] > 18, [\"sex\", \"age\", \"fare\"]]\n",
    "adult_names_list.head()"
   ]
  },
  {
   "cell_type": "code",
   "execution_count": null,
   "metadata": {},
   "outputs": [],
   "source": []
  },
  {
   "cell_type": "markdown",
   "metadata": {},
   "source": [
    "## What are the `loc` and `iloc` operators? what are they? why are they?\n",
    "The loc/iloc operators are required in front of the selection brackets []. When using loc/iloc, the part before the comma is the rows you want, and the part after the comma is the columns you want to select."
   ]
  },
  {
   "cell_type": "markdown",
   "metadata": {},
   "source": [
    "**loc** is how we index Series and Dataframes\n",
    "\n",
    "loc is more frequently used than iloc"
   ]
  },
  {
   "cell_type": "code",
   "execution_count": null,
   "metadata": {},
   "outputs": [],
   "source": [
    "titanic.iloc[10:20, 2:5] # inclusive start : exclusive end"
   ]
  },
  {
   "cell_type": "code",
   "execution_count": null,
   "metadata": {},
   "outputs": [],
   "source": [
    "titanic.iloc[0:3, 3] = \"anonymous\"\n",
    "titanic.head()"
   ]
  },
  {
   "cell_type": "markdown",
   "metadata": {},
   "source": []
  },
  {
   "cell_type": "markdown",
   "metadata": {},
   "source": [
    "## Creating new columns derived from existing columns?\n",
    "\n",
    "![image.png](data:image/png;base64,iVBORw0KGgoAAAANSUhEUgAABMoAAAEmCAYAAACTTXxnAAAAAXNSR0IArs4c6QAAAERlWElmTU0AKgAAAAgAAYdpAAQAAAABAAAAGgAAAAAAA6ABAAMAAAABAAEAAKACAAQAAAABAAAEyqADAAQAAAABAAABJgAAAAAYd9BPAAAv6ElEQVR4Ae3dDYxd1Z0Y8Dsfbz48Ho8HY8Z8GEPAY5wFO81ihIwJSBOFUhqgYtUuK1VRVSmbSrvZIoFUqVWrtkpXKZVWGxqJbr+y1VZBXUVbaFpb2ZAQhXwsCSoEGr4cAmxwYvAXeMbjmbFneu6L73j8NAb7vvPG77z7u9LRvee9e/73nN+5fvP8n3vvZJmFAAECBAgQIECAAAECBAgQIECAAAECBAgQIECAAAECBAgQIECAAAECBAgQIECAAAECBAgQIECAAAECBAgQIECAAAECBAgQIECAAAECBAgQIECAAAECBAgQIECAAAECBAgQIECAAAECBAgQIECAAAECBAgQIECAAAECBAgQIECAAAECBAgQIECAAAECBAgQIECAAAECBAgQIECAAAECBAgQIECAAAECBAgQIECAAAECBAgQIECAAAECBAgQIECAAAECBAgQIECAAAECBAgQIECAAAECBAgQIECAAAECBAgQIECAAAECBAgQIECAAAECBAgQIECAAAECBAgQIECAAAECBAgQIECAAAECBAgQIECAAAECBAgQIECAAAECBAgQIECAAAECBAgQIECAwLkKdJ3rjvYjcL4CCwsLN4c2A+fbzv4fKtAf9pj50L3scL4CXM9X7Nz3f7Wrq2vfue9uTwIECBAgQIAAAQIECFwYAYmyC+NeiaOGRNkbYaCbKjHYlR3kK+FwW1b2kI5GoCmB3wuJsi83FUFjAgQIECBAgAABAgQIrIBA7wocwyEqLnDwwIEsJM0qrtD88Gu1Wjaydu3pQMf3Ztnc26frtsoLDN+22PbEiRPZkcOHF+s2ygsMDQ1lg6tW5QHmy0fRkgABAgQInF0gfMf8Z+Fd/6c5O1HZd7pDQz+/y+qdvV3+xejY2d/2ThMCfaHtbBPtNV1e4OXwC+/Hln+rc1/1Q6Vz57ZtRvbD730vm5uba5v+pNqRi9evz3bddjqhk+3/Upa980iqw2mvfm9/K8v6Ntb7NHn0aPb0d77TXv1LtDdbf+M3si1bt+a9z79sWwgQIECAQCsE/nUrgoqZvRQM6j/EWUQVOB6ieTRNVNLFYO+ErUsWazZiCTweAkmUxdIUhwABAgQIECBAgAABAish4JdccZTzX8xe99GPLgZ7+ac/zQ68++5i3UZ5gaW/8D508GD20xdfLB9My0WBzePj2dill+b1+i1Mh+/9WrYw6cKyRaCSG7UbLsmG/2iiZOv0m7miLP05NAICBAgQIECAAAECVRWYmZ+f75fMiTP9/QNnXuz0/vvvS5TFoc0W5uezru5fX2Q/OzvLNZLrxiuvLCLVn78++72/zhaO+LtnBUrp9elHJ1XyufZuhyl95mhIgAABAgQIECBAgAABAgQIECDQSQISZZ00m8ZCgAABAgQIECBAgAABAgQIECBQWkCirDSdhgQIECBAgAABAgQIECBAgAABAp0kIFHWSbNpLAQIECBAgAABAgQIECBAgAABAqUFJMpK02lIgAABAgQIECBAgAABAgQIECDQSQISZZ00m8ZCgAABAgQIECBAgAABAgQIECBQWkCirDSdhgQIECBAgAABAgQIECBAgAABAp0kIFHWSbNpLAQIECBAgAABAgQIECBAgAABAqUFJMpK02lIgAABAgQIECBAgAABAgQIECDQSQISZZ00m8ZCgAABAgQIECBAgAABAgQIECBQWkCirDSdhgQIECBAgAABAgQIECBAgAABAp0kIFHWSbNpLAQIECBAgAABAgQIECBAgAABAqUFJMpK02lIgAABAgQIECBAgAABAgQIECDQSQISZZ00m8ZCgAABAgQIECBAgAABAgQIECBQWkCirDSdhgQIECBAgAABAgQIECBAgAABAp0kIFHWSbNpLAQIECBAgAABAgQIECBAgAABAqUFJMpK02lIgAABAgQIECBAgAABAgQIECDQSQISZZ00m8ZCgAABAgQIECBAgAABAgQIECBQWkCirDSdhgQIECBAgAABAgQIECBAgAABAp0kIFHWSbNpLAQIECBAgAABAgQIECBAgAABAqUFJMpK02lIgAABAgQIECBAgAABAgQIECDQSQISZZ00m8ZCgAABAgQIECBAgAABAgQIECBQWkCirDSdhgQIECBAgAABAgQIECBAgAABAp0kIFHWSbNpLAQIECBAgAABAgQIECBAgAABAqUFJMpK02lIgAABAgQIECBAgAABAgQIECDQSQISZZ00m8ZCgAABAgQIECBAgAABAgQIECBQWkCirDSdhgQIECBAgAABAgQIECBAgAABAp0kIFHWSbNpLAQIECBAgAABAgQIECBAgAABAqUFJMpK02lIgAABAgQIECBAgAABAgQIECDQSQISZZ00m8ZCgAABAgQIECBAgAABAgQIECBQWkCirDSdhgQIECBAgAABAgQIECBAgAABAp0kIFHWSbNpLAQIECBAgAABAgQIECBAgAABAqUFJMpK02lIgAABAgQIECBAgAABAgQIECDQSQISZZ00m8ZCgAABAgQIECBAgAABAgQIECBQWkCirDSdhgQIECBAgAABAgQIECBAgAABAp0kIFHWSbNpLAQIECBAgAABAgQIECBAgAABAqUFeku31JDAOQrcfMst2cLCwjnubbezCdRqtTPfGvt8ll1035mvqZUT6Nu42G718HC267bbFus2ygsMDQ0VjeeLDWsCBAgQIECAAAECBAi0s4BEWTvPTof0bd3FF3fISNpsGAPXZlleLFEFent7s4vXr48aU7DM1ctOAgIECBAgQIAAAQIEkhDoSqKXOkmAAAECBAgQIECAAIEGgXDXgtsWGkwiVV8KcbZGiiXMaYHjYXPgdNVWRIH9IdZYxHhC/Vrg8a6urnurhuGKsqrNuPESIECAAAECBAgQ6ByBvwxD6euc4bTNSN4PPXmnbXrTOR3J//99onOG01YjmQu9ebmtetQZnXmxM4ZhFAQIECBAgAABAgQIECBAgAABAgQInLdAJW+9DFdofyFI3XLeWhp8mMC+cFnm7xQ7BefHwvaGom4dTeBoiDQcLZpAhUB/2Mh/E+XB84VIvPUfhc+Gx+OFE4kAAQIECBAgQIAAAQKtEajqrZfXB05/1i7+OfV6Q8ibQ31Tw2uqzQu8EkJsaT6MCARWTODPV+xIDkSAAAECBAgQIECAAIEmBKqaKKuTvfD889l7R440wadpLtBbq2U379x5VozXXn75kbnZ2Zmz7uCNcxJYu27dxssuv/zvLe48+f0ns8P/8/8u1m2UF7j8X/5u1j1Yv0pvdmbmV3tfeeXPygfTshC4YtOmXWtGRvKEuav0ChRrAgQqIxCurH8mDHZHZQa8cgP9QbhKefGLZ3A+Hg6dXxVuiSvgYf5xPYto+fnqYf6FRtx1/ky9S+KGFC0IPBE+c++pmkRVE2X1W06PHD6cHTxwoGpzHn28tZAoO7Useyvvmz//+WtTU1PTxU7W5QSuGR/PQqLsdOPZt97JfvlwfnWZpVmBy/95fstlfcm/cL/26qtcC5Am1uvHxrZmIyN5hO4mwmhKgAABAgQIECBAgACBFROoaqJsxYAdiAABAgQIECBAoLoC39yzJ5ucnKwuQKSRDw8PZxN33LFstPBLrhNPfO1r/2jZN714XgLbtm/fcfXmzZ8tGr3+2muPhrtwni3q1uUF7r7vvkfDlTn1AOEz4SdP7tnzSPloWhYCn5iY+Mzo6Oiuov7udX/yByf2HjpW1K3LCax6YMf4yMMTD5VrnX4rv+VPfw6NgAABAgQIECBAgAABAgQIECBAIIKARFkERCEIECBAgAABAgQIECBAgAABAgTSF5AoS38OjYAAAQIECBAgQIAAAQIECBAgQCCCgERZBEQhCBAgQIAAAQIECBAgQIAAAQIE0heQKEt/Do2AAAECBAgQIECAAAECBAgQIEAggoBEWQREIQgQIECAAAECBAgQIECAAAECBNIXkChLfw6NgAABAgQIECBAgAABAgQIECBAIIKARFkERCEIECBAgAABAgQIECBAgAABAgTSF5AoS38OjYAAAQIECBAgQIAAAQIECBAgQCCCgERZBEQhCBAgQIAAAQIECBAgQIAAAQIE0heQKEt/Do2AAAECBAgQIECAAAECBAgQIEAggoBEWQREIQgQIECAAAECBAgQIECAAAECBNIXkChLfw6NgAABAgQIECBAgAABAgQIECBAIIKARFkERCEIECBAgAABAgQIECBAgAABAgTSF5AoS38OjYAAAQIECBAgQIAAAQIECBAgQCCCgERZBEQhCBAgQIAAAQIECBAgQIAAAQIE0heQKEt/Do2AAAECBAgQIECAAAECBAgQIEAggoBEWQREIQgQIECAAAECBAgQIECAAAECBNIXkChLfw6NgAABAgQIECBAgAABAgQIECBAIIKARFkERCEIECBAgAABAgQIECBAgAABAgTSF5AoS38OjYAAAQIECBAgQIAAAQIECBAgQCCCgERZBEQhCBAgQIAAAQIECBAgQIAAAQIE0heQKEt/Do2AAAECBAgQIECAAAECBAgQIEAggoBEWQREIQgQIECAAAECBAgQIECAAAECBNIXkChLfw6NgAABAgQIECBAgAABAgQIECBAIIKARFkERCEIECBAgAABAgQIECBAgAABAgTSF5AoS38OjYAAAQIECBAgQIAAAQIECBAgQCCCgERZBEQhCBAgQIAAAQIECBAgQIAAAQIE0heQKEt/Do2AAAECBAgQIECAAAECBAgQIEAggoBEWQREIQgQIECAAAECBAgQIECAAAECBNIXkChLfw6NgAABAgQIECBAgAABAgQIECBAIIKARFkERCEIECBAgAABAgQIECBAgAABAgTSF5AoS38OjYAAAQIECBAgQIAAAQIECBAgQCCCgERZBEQhCBAgQIAAAQIECBAgQIAAAQIE0heQKEt/Do2AAAECBAgQIECAAAECBAgQIEAggoBEWQREIQgQIECAAAECBAgQIECAAAECBNIX6E1/CKVGsJC3Wjs6mnV1dZUKoNFpgd5arajUXYtKsd509dWb52ZnZ4q6dTmBtevWbTyjZd+Vl2SXPrTljNdUSgr0LJ7E4TNhYPP4ONeSkkub9Q8MrDtVn1/6um0CBAgQIECAAAECBAi0q0BVE2X1+bhh+/Z2nZeO6tfm6677/Y4aULsMZvXOiSwvlqgCff39Gz66bduDUYMK5upl5wABAgQIECBAgAABAkkIVDVRll/59EYSM5RWJ480dPdwqC97lVnDfqrnJ9ATdn/j/JrY+xwE8qvKToTinD0HrPPcZfA897c7AQIEOkbgI9dem83OznbMeC7UQMIvss526P78DpGbd+26+2w7eP3cBYZWr75s6d7rx8ZuDLaXL33NdjmBcJ7m3+Hn8tb9/f1jztlyjo2tVq1adeXS10YevfNvLhyfy7/TW5oQ6B4bKu4MqeT/jaqaKMuvbriqifNG0+UFGv8RjYbdNi2/q1ebEHgltL22ifaaElhpgemVPqDjESBAoF0E8kSZpfUCYxs2fLr1R6neEYbXrLkxlOoNvMUjrtVqY87Z1iD33b7xztZEFrVKAlVNlNXn+K033siOHTtWpfluyVh7enqyzVu2nDX2gXff3X3y5ElZ/bMKndsbg+F5T2vWrt25uPfMz17Mpl/7+WLdRnmBkYlPZl21+lVP4Vw9Es7Z75YPpmUhsGZk5LrBwcHNod6YRC92sSZAgEAnC+RfMt/s5AFeoLE1/vJlb+jH4rNGL1CfOvGw+dVPzt/4M5v//9v/i+K75hHz75vO2fi2lXzWcKUTZW+GRNnBAwfin0oVixh+I/KBibLnfvzj3VNTU41faiqm1PxwrwkPmL9+aaJs6kcvZHvv/1bzkUXIbjx6S5EoOzE3d+SHTz/9BJXmBXbeemv3qURZV/PRRCBAgEByAqtCj11ZH3/a9jWEdMleA0ik6kshjvM3EuaSMMfD9sCSus14AvtDqLF44UQ6JfBcFSUqnSir4oQbMwECBAgQIECAwIoI1K+mffZHP8qm3cHQNPiqoaHs4zfemMepuzYG/OlPfvLvGl9TP3+B8Eyy60L520XLd/bvf+LA/v2vFnXr8gJL/1jU8enpn73+2mt/UT6aloXApo985I7wbL0bivrkH37/kYX3ZmeKunU5gd6Pj10x+He3/na51um3kihLfw6NgAABAgQIECBAoP0E6lfTHj54MJucnGy/3iXWo+Hj+YU49aXxKuWZhYWFntdefTV/hqulSYFwJfiakChbjDL5/vv72C5yNLWx9YYbTuZ/eCJfTpw8OcW1Kc7Fxpdu3Hjz0K9rddzpP31x74m9hzxfaVGo3MaqB3YshERZ3rjxM7dcwMRa5Q+1txAgQIAAAQIECBAgQIAAAQIECBCovIBEWeVPAQAECBAgQIAAAQIECBAgQIAAAQK5gESZ84AAAQIECBAgQIAAAQIECBAgQIBAEJAocxoQIECAAAECBAgQIECAAAECBAgQCAISZU4DAgQIECBAgAABAgQIECBAgAABAkFAosxpQIAAAQIECBAgQIAAAQIECBAgQCAISJQ5DQgQIECAAAECBAgQIECAAAECBAgEAYkypwEBAgQIECBAgAABAgQIECBAgACBICBR5jQgQIAAAQIECBAgQIAAAQIECBAgEAQkypwGBAgQIECAAAECBAgQIECAAAECBIKARJnTgAABAgQIECBAgAABAgQIECBAgEAQkChzGhAgQIAAAQIECBAgQIAAAQIECBAIAhJlTgMCBAgQIECAAAECBAgQIECAAAECQUCizGlAgAABAgQIECBAgAABAgQIECBAIAhIlDkNCBAgQIAAAQIECBAgQIAAAQIECAQBiTKnAQECBAgQIECAAAECBAgQIECAAIEgIFHmNCBAgAABAgQIECBAgAABAgQIECAQBCTKnAYECBAgQIAAAQIECBAgQIAAAQIEgoBEmdOAAAECBAgQIECAAAECBAgQIECAQBCQKHMaECBAgAABAgQIECBAgAABAgQIEAgCEmVOAwIECBAgQIAAAQIECBAgQIAAAQJBQKLMaUCAAAECBAgQIECAAAECBAgQIEAgCEiUOQ0IECBAgAABAgQIECBAgAABAgQIBAGJMqcBAQIECBAgQIAAAQIECBAgQIAAgSAgUeY0IECAAAECBAgQIECAAAECBAgQIBAEJMqcBgQIECBAgAABAgQIECBAgAABAgSCgESZ04AAAQIECBAgQIAAAQIECBAgQIBAEJAocxoQIECAAAECBAgQIECAAAECBAgQCAISZU4DAgQIECBAgAABAgQIECBAgAABAkFAosxpQIAAAQIECBAgQIAAAQIECBAgQCAISJQ5DQgQIECAAAECBAgQIECAAAECBAgEAYkypwEBAgQIECBAgAABAgQIECBAgACBICBR5jQgQIAAAQIECBAgQIAAAQIECBAgEAQkypwGBAgQIECAAAECBAgQIECAAAECBIKARJnTgAABAgQIECBAgAABAgQIECBAgEAQkChzGhAgQIAAAQIECBAgQIAAAQIECBAIAr1VVrj19turPPwVG/sn77zzSyt2sCod6KLfvj+7KRRLVIH+gYGr7vmt3/qPUYMKRoAAAQIECBAgQIAAAQJJCFQ1UTacxOyk18n+hi431hveVi0pMFSynWYELpTAyIU6sOMSIEDgAgos5MceXbcuGxgcvIDd6IxDrxpa/PpTd10yqv6urq5s8/j4liWv2SwpsHrNmsuWNs3rwXZy6Wu2ywmE87QntJzLW/f29Aw5Z8s5Nrbqq9WK75n1z4bBz1x/7cJ7szON+6mfn0Dvx8euONWi8TP3/AIlundXov1uqtsLCwuPhwB3NxVE4+UEXg8/AK4p3gjOb4TtTUXdOprAKyGSL4PROAVaAYHfC58NX16B4zgEAQIE2kYgfA96JnRmR9t0qHM68oPwM2VnMZzgXMn/xBXjb+H6pRB7awvjVzX08TDwgaoOvsXj3h/ij7X4GFUM/3j4zL23agOv6hVl9Xl+78iRbG6untSv2rxHHW/4h5Otu/jis8Y8Pj29d2F+fv6sO3jjnAR6ensH+/r7Ny7ufPK9d7IT7x9ZrNsoL9C/cbxoHM7V4+GcfauoW5cXqPX3X9zb23tRiODff3lGLQkQSFfgWOj6G+l2v217nicali4/C5X8Sh1LXIH8/4lvxA0pWhCohXKCREsE8qT5my2JXO2glfweX9VEWf1Kup8891x28MCBap/2EUZfq9Wyu+65J4+07BWKTz/11JempqamIxyq0iGuCbcUXL9t24OLCO/tfjLbe/+3Fus2ygvcePSLWffqPKGTzc7O/uobu3c/XD6YloXAzltvvXf92Nhdoe4PxxQo1gQIVElgVRjsVVUa8AqN9ZcNx1m8m6HhddXmBPIryjY3F0LrZQRcUbYMSqSX3glxLokUS5jTAs+d3qzOVlUTZdWZYSMlQIAAAQIECBC4YAKv792b/xLmgh2/Uw4crqrPPnLN2XNi+3/1q//VKWO9kOMYWr36stWrV/9m0Yej77//42PHjjUmJ4u3rc9DYGzDhk8Xu4e7mvYfOngwvz3b0qTA2tHR7f39/VcWYWaf+uvdC8fnXLVXgJRcd48Nrav9jbHF29xLhkm2mURZslOn4wQIECBAgAABAu0ukCfKJic9C73ZeRoeHj5bomwmPKas54dPP/1Es8fQPsu2bd++Y/XmzYuJsnf37//xC88//yyb5gXuvu++v5U/siZfZmZm9jtnmzfNI3xiYmJ0aaLsvc/t3nNi76H81ndLEwKrHtgxPvLrRNmyd401ETqJpm6HSWKadJIAAQIECBAgQIAAAQIECBAgQKDVAhJlrRYWnwABAgQIECBAgAABAgQIECBAIAkBibIkpkknCRAgQIAAAQIECBAgQIAAAQIEWi0gUdZqYfEJECBAgAABAgQIECBAgAABAgSSEJAoS2KadJIAAQIECBAgQIAAAQIECBAgQKDVAhJlrRYWnwABAgQIECBAgAABAgQIECBAIAkBibIkpkknCRAgQIAAAQItEfhUiPo7oQy0JLqgBAgQIECAAIHEBCTKEpsw3SVAgAABAgQIRBS4OMT676EcCeUrodwaioUAAQIECBAgUFkBibLKTr2BEyBAgAABAgSyx4LBq6H0h/L3Q9kTyr5Q/kUoG0OxECBAgAABAgQqJSBRVqnpNlgCBAgQIECAwBkC86H2B6HkV5Tl3wtXhXJpKP8klJ+F8kwo/yCUoVAsBAgQIECAAIGOF5Ao6/gpNkACBAgQIECAwAcK5FeR9TbskT+zrBbKjlC+FMqhUP5HKJ8MpSsUCwECBAgQIECgIwUkyjpyWg2KAAECBAgQIHBeAj/8gL1Xh/f6QrkvlMdDeSeUPwzl2lAsBAgQIECAAIGOEpAo66jpNBgCBAgQIECAQCmBb55Dq+LWzPwPADwQyv8L5YVQPhfKSCgWAgQIECBAgEDyAo2X2Sc/IAMgQIAAAQIVEfh2GOftFRmrYbafQP7w/3y5PpR/f6r8blj/51AsBAgQIECAAIFkBSTKkp06HSdAgACBigv8aRj/dypuYPjxBK4Iof7heYZbCPufDOW9UP5TKP8nFAsBAgQIECBAIGkBibKkp0/nCRAgQKDCAl+p8NgNPb7AvzqPkFNh3/yB/vnD/f9LKE+HkifNLAQIECBAgACB5AUkypKfQgMgQIAAAQIECDQt8KkPiTAZ3s9vt/xGKMXVY7Mf0sbbBAgQIECAAIHkBCTKkpsyHSZAgAABAgQIRBW4NES7bpmIx8NrPaE8F8p/CCW/guxoKBYCBAgQIECAQMcKSJR17NQaGAECBAgQIEDgnAS+HPYaOrXnXFjPh/J2KHly7M9C2ReKhQABAgQIECBQCQGJskpMs0ESIECAAAECBJYVuCm8+ndCya8eyx/K/5VT5cWwthAgQIAAAQIEKicgUVa5KTdgAgQIECBAgMCiwO1h67+Fkv8V1W+H4qH8AcFCgAABAgQIVFdAoqy6c2/kBAgQIECAAIF/i4AAAQIECBAgQOC0QPfpTVsECBAgQIAAAQIECBAgQIAAAQIEqisgUVbduTdyAgQIECBAgAABAgQIECBAgACBJQISZUswbBIgQIAAAQIECBAgQIAAAQIECFRXQKKsunNv5AQIECBAgAABAgQIECBAgAABAksEJMqWYNgkQIAAAQIECBAgQIAAAQIECBCoroBEWXXn3sgJECBAgAABAgQIECBAgAABAgSWCEiULcGwSYAAAQIECBAgQIAAAQIECBAgUF0BibLqzr2REyBAgAABAgQIECBAgAABAgQILBGQKFuCYZMAAQIECBAgQIAAAQIECBAgQKC6AhJl1Z17IydAgAABAgQIECBAgAABAgQIEFgiIFG2BMMmAQIECBAgQIAAAQIECBAgQIBAdQUkyqo790ZOgAABAgQIECBAgAABAgQIECCwRECibAmGTQIECBAgQIAAAQIECBAgQIAAgeoKSJRVd+6NnAABAgQIECBAgAABAgQIECBAYIlA75LtKm0u5IPd9rGPZXNzc1Uad0vG2tXVVcStuxaVYr3r9ts/vzA/P1/UrcsJ9PT2Dp7RcuTOiWz7W795xmsq5QS6V19UNOzr69vwqTvvfKioW5cXqPX3X3yqtX//5Rm1JECAAAECBAgQIEBgBQWqmiirE4+sXbuC1NU91MDg4LXVHX0LR94zckmWF0tUga7u7oHBoaHxqEEFc/Wyc4AAAQIECBAgQIAAgSQEFi8FSqK3kTq5sLDw7RDq9kjhhDktsC9cXXZ5UQ3OvwzbG4q6dTSBX4RIV0SLJhCB1gv80/DZ8G9afxhHIECAQPsIhO9Bz4Te7GifHnVMT34QfqbsLEYTnI+H7f6ibh1N4KUQaWu0aAIVAvn5OlBUrKMKvBOiuYggKmk92BPhM/ee+GHbO2JVf8t/tL2nJdnezTT0vLHe8LZqSYGpku00I3ChBN67UAd2XAIECFxAgaELeOxOPnSja1X/P9PqOW50bvXxqhLf+dq6mZYwb43tmtaEbe+olb718rtPPZUdPHCgvWcogd7VarXsrnvOnmT+5u7dn5+amppOYCht3cVrxse3XL9t24OLnTz02Fezvfd/a7Fuo7zAjUe/mJ16TtnM8eNv7Pn6179QPpiWhcDOW2+9d/3Y2F1F3ZoAAQIVE/CLrdZMeKNrrTWHqXzURufKg0QC8NzWSJDLhMmv1htZ5nUvNSdQyV94VzpR1tz5ojUBAgQIECBAgACBswrU/8jR4UOHspMnT551J2+cm0BPT082elH9b+8s+8ejpqemXj23SPb6IIGeWm04/GGjS4t9Zmdn952cm5ss6tblBZY+Azf8nbPJmenpfeWjaVkI9A0MjIXPh8UE2fzbR/fOzy9ISBZAJdfdA72D3etXbSzZPPlmEmXJT6EBECBAgAABAgQItKFA/VnAzz7zTDY5Kc/Q7PwMDw9nE3fckYdpfMbyTHhOWc83du9+uNljaJ9l27Zv33H15s2fLSx+8eabT7zw/PPPFnXr8gJ333ffo+FZT/UAx44de/3JPXseKR9Ny0LgExMTnxkdHd0V6nXcgxNffeTE3kPHivetywmsemDH+MjDEw8VruWipNvKPdLpzp2eEyBAgAABAgQIECBAgAABAgQIRBSQKIuIKRQBAgQIECBAgAABAgQIECBAgEC6AhJl6c6dnhMgQIAAAQIECBAgQIAAAQIECEQUkCiLiCkUAQIECBAgQIAAAQIECBAgQIBAugISZenOnZ4TIECAAAECBAgQIECAAAECBAhEFJAoi4gpFAECBAgQIECAAAECBAgQIECAQLoCEmXpzp2eEyBAgAABAgQIECBAgAABAgQIRBSQKIuIKRQBAgQIECBAgAABAgQIECBAgEC6AhJl6c6dnhMgQIAAAQIECBAgQIAAAQIECEQUkCiLiCkUAQIECBAgQIAAAQIECBAgQIBAugISZenOnZ4TIECAAAECBAgQIECAAAECBAhEFJAoi4gpFAECBAgQIECAAAECBAgQIECAQLoCEmXpzp2eEyBAgAABAgQIECBAgAABAgQIRBSQKIuIKRQBAgQIECBAgAABAgQIECBAgEC6AhJl6c6dnhMgQIAAAQIECBAgQIAAAQIECEQUkCiLiCkUAQIECBAgQIAAAQIECBAgQIBAugISZenOnZ4TIECAAAECBAgQIECAAAECBAhEFJAoi4gpFAECBAgQIECAAAECBAgQIECAQLoCEmXpzp2eEyBAgAABAgQIECBAgAABAgQIRBSQKIuIKRQBAgQIECBAgAABAgQIECBAgEC6AhJl6c6dnhMgQIAAAQIECBAgQIAAAQIECEQUkCiLiCkUAQIECBAgQIAAAQIECBAgQIBAugISZenOnZ4TIECAAAECBAgQIECAAAECBAhEFJAoi4gpFAECBAgQIECAAAECBAgQIECAQLoCEmXpzp2eEyBAgAABAgQIECBAgAABAgQIRBSQKIuIKRQBAgQIECBAgAABAgQIECBAgEC6AhJl6c6dnhMgQIAAAQIECBAgQIAAAQIECEQUkCiLiCkUAQIECBAgQIAAAQIECBAgQIBAugISZenOnZ4TIECAAAECBAgQIECAAAECBAhEFJAoi4gpFAECBAgQIECAAAECBAgQIECAQLoCEmXpzp2eEyBAgAABAgQIECBAgAABAgQIRBSQKIuIKRQBAgQIECBAgAABAgQIECBAgEC6AhJl6c6dnhMgQIAAAQIECBAgQIAAAQIECEQUkCiLiCkUAQIECBAgQIAAAQIECBAgQIBAugISZenOnZ4TIECAAAECBAgQIECAAAECBAhEFJAoi4gpFAECBAgQIECAAAECBAgQIECAQLoCvel2vfmeb7rqqmz9JZc0H6jiEXp6ej5Q4GM33njnyZMnT3zgTt78UIHBgYF1Z+w0tOOGbHz36jNeUykn0NU/WDTsrdXW3rxr191F3bq8wOo1a8ZPtV4oH0VLAgQIECBAgAABAgQIrJxApRNlV4ZEmaX1AhevX39n649SwSP0X3N9lhdLVIGQ+F07tmHDp6MGFawLAQECBAgQIECAAAECBFIQqOR/XhYWFv4kTM5NKUxQYn3c39XVdUfR5+D8l2F7fVG3jiZwPEQaiBZNoEKgP2zMhuLqp0Ik3vqPw2fDf40XTiQCBAi0v0D4HvRXoZc3HT50KAtX1rd/h9u8h/kdDKMXXZT38vvhZ8otRXeDc/3n9vTU1KvFa9blBXpqteG+vr5LQ4SXQtk6Ozu77+Tc3GT5iFoWAoNDQ/mV9vXv8fPz85Mz09P7ivesywv0DQyMhc+HkRBhfyhj828f3Ts/vzBfPqKWuUD3QO9g9/pVG8Pm4+Ez996qqVT1irKxMNHbqzbZKzDe1xuOsTnUNzW8ptq8wCshxJbmw4hAYMUEVq3YkRyIAAEC7SNQ/4X0qeRO+/Qq/Z4s+4v+U0mI9EfXZiMISbPLsr6+NutV+t3p7u5e7ZxtzTx2Xz58rQext8a2SlGrmiir/4D97lNPZQcPHKjSfLdkrLVaLbvrnnvy2Mt+cfnm7t2fn5qamm7JwSsU9Jrx8S3Xb9v24OKQDz321Wzv/d9arNsoL3Dj0S9m3avrv6aeOX78jT1f//oXygfTshDYeeut964fG7urqFsTIECAAAECBAgQIECg3QWqmihr93nRPwIECBAgQIAAgbQF6rcEuvUyziQuufWy7toY1a2XjSLl6ktuvawHcOtlOcflWi29gsytl8sJlXttya2X9QBuvSzn2Nhqya2XjW9Voi5RVolpNkgCBAgQIECAAIEVFqhfaf/sM89kk5Me8dSs/fDwcDZxR/1RuI13MMyEx5T1fGP37oebPYb2WbZt+/YdV2/e/NnC4hdvvvnEC88//2xRty4vcPd99z0anvVUD3Ds2LHXn9yz55Hy0bQsBD4xMfGZ0dHRXaFexz048dVHTuw9dKx437qcwKoHdoyPPDzxUOFaLkq6rdy+m+7c6TkBAgQIECBAgAABAgQIECBAgEBEAYmyiJhCESBAgAABAgQIECBAgAABAgQIpCsgUZbu3Ok5AQIECBAgQIAAAQIECBAgQIBARAGJsoiYQhEgQIAAAQIECBAgQIAAAQIECKQrIFGW7tzpOQECBAgQIECAAAECBAgQIECAQEQBibKImEIRIECAAAECBAgQIECAAAECBAikKyBRlu7c6TkBAgQIECBAgAABAgQIECBAgEBEAYmyiJhCESBAgAABAgQIECBAgAABAgQIpCsgUZbu3Ok5AQIECBAgQIAAAQIECBAgQIBARAGJsoiYQhEgQIAAAQIECBAgQIAAAQIECKQrIFGW7tzpOQECBAgQIECAAAECBAgQIECAQEQBibKImEIRIECAAAECBAgQIECAAAECBAikKyBRlu7c6TkBAgQIECBAgAABAgQIECBAgEBEAYmyiJhCESBAgAABAgQIECBAgAABAgQIpCsgUZbu3Ok5AQIECBAgQIAAAQIECBAgQIBARAGJsoiYQhEgQIAAAQIECBAgQIAAAQIECKQrIFGW7tzpOQECBAgQIECAAAECBAgQIECAQEQBibKImEIRIECAAAECBAgQIECAAAECBAikKyBRlu7c6TkBAgQIECBAgAABAgQIECBAgEBEAYmyiJhCESBAgAABAgQIECBAgAABAgQIpCsgUZbu3Ok5AQIECBAgQIAAAQIECBAgQIBARAGJsoiYQhEgQIAAAQIECBAgQIAAAQIECKQrIFGW7tzpOQECBAgQIECAAAECBAgQIECAQEQBibKImEIRIECAAAECBAgQIECAAAECBAikKyBRlu7c6TkBAgQIECBAgAABAgQIECBAgEBEAYmyiJhCESBAgAABAgQIECBAgAABAgQIpCsgUZbu3Ok5AQIECBAgQIAAAQIECBAgQIBARAGJsoiYQhEgQIAAAQIECBAgQIAAAQIECKQrIFGW7tzpOQECBAgQIECAAAECBAgQIECAQEQBibKImEIRIECAAAECBAgQIECAAAECBAikKyBRlu7c6TkBAgQIECBAgAABAgQIECBAgEBEAYmyiJhCESBAgAABAgQIECBAgAABAgQIpCsgUZbu3Ok5AQIECBAgQIAAAQIECBAgQIBARAGJsoiYQhEgQIAAAQIECBAgQIAAAQIECKQrIFGW7tzpOQECBAgQIECAAAECBAgQIECAQEQBibKImEIRIECAAAECBAgQIECAAAECBAikK9Cbbteb6vlC3nrt6GjW1dXVVCCNs6y3VisY6q5FpVhvuvrqzXOzszNF3bqcwNp16zae0bLvykuySx/acsZrKiUFehZP4vCZMLB5fJxrScmlzfoHBtadqs8vfd02AQIECBAgQIAAAQIE2lWgqomyenbshu3b23VeUu3XslnHzddd9/upDqit+71650SWF0tUgb7+/g0f3bbtwahBBXP1snOAAAECBAgQIECAAIEkBJZNbCTR8yY6ubCwcH9o7oqRJgzP0vRwuBrnj4v3gvM/Dttri7p1NIGeEOlktGgCFQKDYWO6qFhHFfjf4bPhR1EjCkaAAIE2Fwjfg/4qdPGmw4cOZSdP+rHd7HT19PRkoxddlIf5fviZcksRLzjX72iYnpp6tXjNurxAT6023NfXd2mI8FIoW2dnZ/ednJubLB9Ry0JgcGhoPGwfD2Vgfn5+cmZ6el/xnnV5gb6BgbHw+TASIuwPZWz+7aN75+cX3M1QnrTesnugd7B7/ar8jqbHw2fuvU2GS655JRNlyc2SDhMgQIAAAQIECCQlEPI3z4QO70iq02l09gfhP207i64WibKibh1NoJ4oixZNoEKgnigrKtZRBeqJsqgRBcsFKpkoq+qtl055AgQIECBAgAABAq0U+FwIvqaVB6ho7Pcaxn1bqLvFvwElQrUvxJiNEEeIMwUGQjVPllniC/SHkJ6LHd/1QPyQIhIgQIAAAQIECBAgQIAAAQIECBAgQIAAAQIECBAgQIAAAQIECBAgQIAAAQIECBAgQIAAAQIECBAgQIAAAQIECBAgQIAAAQIECBAgQIAAAQIECBAgQIAAAQIECBAgQIAAAQIECBAgQIAAAQIECBAgQIAAAQIECBAgQIAAAQIECBAgQIAAAQIECBAgQIAAAQIECBAgQIAAAQIECBAgQIAAAQIECBAgQIAAAQIECBAgQIAAAQIECBAgQIAAAQIECBAgQIAAAQIECBAgQIAAAQIECBAgQIAAAQIECBAgQIAAAQIECBAgQIAAAQIECBAgQIAAAQIECBAgQIAAAQIECBAgQIAAAQIECBAgQIAAAQIECBAgQIAAAQIECBAgQIAAAQIECBAgQIAAAQIECBDoJIH/D8lsXzX94XJ5AAAAAElFTkSuQmCC)"
   ]
  },
  {
   "cell_type": "code",
   "execution_count": null,
   "metadata": {},
   "outputs": [],
   "source": [
    "titanic = sns.load_dataset('Titanic')\n",
    "titanic.head(2)"
   ]
  },
  {
   "cell_type": "code",
   "execution_count": null,
   "metadata": {},
   "outputs": [],
   "source": [
    "titanic['halfAge'] = titanic['age']*2\n",
    "titanic"
   ]
  },
  {
   "cell_type": "markdown",
   "metadata": {},
   "source": [
    "## How can I rename the columns?"
   ]
  },
  {
   "cell_type": "code",
   "execution_count": null,
   "metadata": {},
   "outputs": [],
   "source": [
    "newtitanic = titanic.rename(\n",
    "    columns={\n",
    "        'survived':'bachgaye',\n",
    "        'age':'umar'\n",
    "    }\n",
    ")\n",
    "newtitanic.head()"
   ]
  },
  {
   "cell_type": "markdown",
   "metadata": {},
   "source": [
    "## How can I aggregate by groups?\n",
    "\n",
    "\n",
    "![image.png](data:image/png;base64,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)"
   ]
  },
  {
   "cell_type": "markdown",
   "metadata": {},
   "source": [
    "## Concatenate two tables?"
   ]
  },
  {
   "cell_type": "code",
   "execution_count": null,
   "metadata": {},
   "outputs": [],
   "source": []
  },
  {
   "cell_type": "markdown",
   "metadata": {},
   "source": [
    "## sort Dataframe?"
   ]
  },
  {
   "cell_type": "code",
   "execution_count": null,
   "metadata": {},
   "outputs": [],
   "source": []
  },
  {
   "cell_type": "markdown",
   "metadata": {},
   "source": [
    "## Joining Tables with common identifier?"
   ]
  },
  {
   "cell_type": "code",
   "execution_count": null,
   "metadata": {},
   "outputs": [],
   "source": []
  },
  {
   "cell_type": "markdown",
   "metadata": {},
   "source": []
  },
  {
   "cell_type": "code",
   "execution_count": null,
   "metadata": {},
   "outputs": [],
   "source": [
    "# Filter the data to include only passengers who survived\n",
    "survived_passengers = titanic_df[titanic_df['Survived'] == 1] # type: ignore "
   ]
  },
  {
   "cell_type": "code",
   "execution_count": null,
   "metadata": {},
   "outputs": [],
   "source": []
  },
  {
   "cell_type": "code",
   "execution_count": null,
   "metadata": {},
   "outputs": [],
   "source": []
  },
  {
   "cell_type": "code",
   "execution_count": null,
   "metadata": {},
   "outputs": [],
   "source": []
  },
  {
   "cell_type": "code",
   "execution_count": null,
   "metadata": {},
   "outputs": [],
   "source": []
  },
  {
   "cell_type": "code",
   "execution_count": null,
   "metadata": {},
   "outputs": [],
   "source": []
  },
  {
   "cell_type": "code",
   "execution_count": null,
   "metadata": {},
   "outputs": [],
   "source": []
  },
  {
   "cell_type": "code",
   "execution_count": null,
   "metadata": {},
   "outputs": [],
   "source": []
  },
  {
   "cell_type": "markdown",
   "metadata": {},
   "source": [
    "# **27.06.2024 Class 13**"
   ]
  },
  {
   "cell_type": "markdown",
   "metadata": {},
   "source": [
    "# **MATPLOTLIB**\n"
   ]
  },
  {
   "cell_type": "markdown",
   "metadata": {},
   "source": [
    "#### How to install matplotlib?"
   ]
  },
  {
   "cell_type": "code",
   "execution_count": null,
   "metadata": {},
   "outputs": [],
   "source": [
    "#!pip install matplotlib\n",
    "\n",
    "# import matplotlib\n",
    "import matplotlib.pyplot as plt"
   ]
  },
  {
   "cell_type": "markdown",
   "metadata": {},
   "source": [
    "### How to create **Line plot**?"
   ]
  },
  {
   "cell_type": "code",
   "execution_count": null,
   "metadata": {},
   "outputs": [],
   "source": [
    " # lineplot\n",
    "\n",
    "# data \n",
    "x1 = np.random.randint(40,99,100)\n",
    "y1 = np.arange(100)\n"
   ]
  },
  {
   "cell_type": "code",
   "execution_count": null,
   "metadata": {},
   "outputs": [],
   "source": [
    "# ploting\n",
    "plt.figure(figsize=(20,4))\n",
    "plt.xlabel(\"No. of Days\")\n",
    "plt.title(\"Sales by days\")\n",
    "plt.plot(y1,x1 , color = 'red', linestyle = \"--\", \n",
    "         marker = \"o\", markersize = 6, markerfacecolor = \"blue\")\n",
    "plt.show()"
   ]
  },
  {
   "cell_type": "markdown",
   "metadata": {},
   "source": [
    "### How to create **Bar plot** ?\n"
   ]
  },
  {
   "cell_type": "code",
   "execution_count": null,
   "metadata": {},
   "outputs": [],
   "source": [
    "# Bar plot\n",
    "\n",
    "# Data\n",
    "sales = np.random.randint(100,500,6)\n",
    "salesperson = [\"ram\",'sham', \"seeta\", \"geeta\", \"ramesh\", 'suresh']"
   ]
  },
  {
   "cell_type": "code",
   "execution_count": null,
   "metadata": {},
   "outputs": [],
   "source": [
    "# plot\n",
    "from turtle import color\n",
    "\n",
    "\n",
    "plt.bar(salesperson, sales , color=[\"red\", \"blue\", 'green', \"yellow\", 'purple'])\n",
    "plt.xlabel(\"Salesperson\")\n",
    "plt.ylabel(\"Sales\")\n",
    "plt.title(\"Sales by Salesperson\")\n",
    "plt.show()"
   ]
  },
  {
   "cell_type": "markdown",
   "metadata": {},
   "source": [
    "## How to plot **Scatter plot**?\n",
    "\n",
    "> insight : grid must be used with scatter plot"
   ]
  },
  {
   "cell_type": "code",
   "execution_count": null,
   "metadata": {},
   "outputs": [],
   "source": [
    "# Data\n",
    "sales = np.random.randint(1,10,20)*10000\n",
    "profit = np.random.randint(100,400,20)\n",
    "quantity = np.random.randint(1,6,20)"
   ]
  },
  {
   "cell_type": "markdown",
   "metadata": {},
   "source": [
    "what do scatter() s and c paratmeter?"
   ]
  },
  {
   "cell_type": "code",
   "execution_count": null,
   "metadata": {},
   "outputs": [],
   "source": [
    "# plot\n",
    "plt.figure(figsize=(10,5))\n",
    "plt.scatter(sales, profit, s=quantity*100, c=quantity*100)\n",
    "plt.xlabel(\"Sales\")\n",
    "plt.ylabel(\"Profit\")\n",
    "plt.title('Sales vs Profit')\n",
    "plt.grid(axis = 'y')\n",
    "plt.show()"
   ]
  },
  {
   "cell_type": "markdown",
   "metadata": {},
   "source": [
    "## How to make **Pie plot** ?"
   ]
  },
  {
   "cell_type": "code",
   "execution_count": null,
   "metadata": {},
   "outputs": [],
   "source": [
    "states = ['Maharashtra','AndhraPradesh', 'Gujrat', 'WestBengal', 'Kerela']\n",
    "gdp = np.random.randint(10,30,5)"
   ]
  },
  {
   "cell_type": "code",
   "execution_count": null,
   "metadata": {},
   "outputs": [],
   "source": [
    "# plot\n",
    "plt.title(\"GDP Distribution\")\n",
    "# how to give color theme?\n",
    "plt.pie(gdp, labels = states, autopct=\"%.2f%%\", explode=[0.3, 0,0,0,0], shadow = True)\n",
    "plt.show()"
   ]
  },
  {
   "cell_type": "markdown",
   "metadata": {},
   "source": [
    "## How to make **Box plot**?"
   ]
  },
  {
   "cell_type": "code",
   "execution_count": null,
   "metadata": {},
   "outputs": [],
   "source": [
    "#Data\n",
    "data = np.random.normal(165,14,500)"
   ]
  },
  {
   "cell_type": "code",
   "execution_count": null,
   "metadata": {},
   "outputs": [],
   "source": [
    "#Plot\n",
    "\n",
    "plt.figure(figsize=(10,4))\n",
    "plt.xticks(range(140,200,5))\n",
    "plt.grid(axis = 'x')\n",
    "plt.boxplot(data, vert = False)\n",
    "plt.title(\"Height Data Describe\")\n",
    "plt.show()"
   ]
  },
  {
   "cell_type": "markdown",
   "metadata": {},
   "source": [
    "![boxplot](images/Box%20plot.PNG)\n",
    ">Normal data range?\n",
    "\n",
    ">Inter Quartile Range?       \n",
    "\n",
    ">Outliers?"
   ]
  },
  {
   "cell_type": "markdown",
   "metadata": {},
   "source": [
    "## IQR\n",
    "By using the IQR to define these bounds rather than simple minimum and maximum values (as with the range), we create a measure of spread that is more robust against extreme values and outliers in the dataset. This method is commonly used in statistical analysis to ensure that extreme values do not unduly influence interpretations or conclusions drawn from the data.\n",
    "[IQR](https://chatgpt.com/share/210641bf-d98c-4920-912a-59913067a484)"
   ]
  },
  {
   "cell_type": "code",
   "execution_count": null,
   "metadata": {},
   "outputs": [],
   "source": [
    "# what happend here?\n",
    "s = pd.Series(data)"
   ]
  },
  {
   "cell_type": "code",
   "execution_count": null,
   "metadata": {},
   "outputs": [],
   "source": [
    "# what does quantile do?\n",
    "q1 = s.quantile(0.25)\n",
    "q3 = s.quantile(0.75)\n",
    "q1,q3"
   ]
  },
  {
   "cell_type": "code",
   "execution_count": null,
   "metadata": {},
   "outputs": [],
   "source": [
    "IQR = q3-q1\n",
    "IQR"
   ]
  },
  {
   "cell_type": "code",
   "execution_count": null,
   "metadata": {},
   "outputs": [],
   "source": [
    "lower_bound = q1 - 1.5*IQR\n",
    "upper_bound = q3 + 1.5*IQR\n",
    "\n",
    "lower_bound, upper_bound"
   ]
  },
  {
   "cell_type": "code",
   "execution_count": null,
   "metadata": {},
   "outputs": [],
   "source": [
    "plt.figure(figsize=(10,4))\n",
    "plt.xticks(range(140, 200, 5))\n",
    "plt.grid(axis = 'x')\n",
    "plt.axvline(lower_bound) # axvline plots vertical line\n",
    "plt.axvline(upper_bound)\n",
    "plt.boxplot(data, vert=False)\n",
    "plt.title('Height Data Desciption')\n",
    "plt.show()"
   ]
  },
  {
   "cell_type": "markdown",
   "metadata": {},
   "source": [
    "## How to make **Histogram**?"
   ]
  },
  {
   "cell_type": "code",
   "execution_count": null,
   "metadata": {},
   "outputs": [],
   "source": [
    "plt.hist(data, bins=50)  # what is bin?\n",
    "plt.show()"
   ]
  },
  {
   "cell_type": "code",
   "execution_count": null,
   "metadata": {},
   "outputs": [],
   "source": []
  },
  {
   "cell_type": "markdown",
   "metadata": {},
   "source": [
    "# Add DataFrames?\n",
    "# concat dataframes?\n",
    "\n"
   ]
  },
  {
   "cell_type": "markdown",
   "metadata": {},
   "source": [
    "# Different Types of Joins in Pandas?"
   ]
  },
  {
   "cell_type": "markdown",
   "metadata": {},
   "source": [
    "## inner join\n",
    "![alt](Images/innerJoin.png)"
   ]
  },
  {
   "cell_type": "code",
   "execution_count": null,
   "metadata": {},
   "outputs": [],
   "source": [
    "\n",
    "# Creating dataframe a\n",
    "a = pd.DataFrame()\n",
    " \n",
    "# Creating Dictionary\n",
    "d = {'id': [1, 2, 10, 12],\n",
    "     'val1': ['a', 'b', 'c', 'd']}\n",
    " \n",
    "a = pd.DataFrame(d)\n",
    " \n",
    "# Creating dataframe b\n",
    "b = pd.DataFrame()\n",
    " \n",
    "# Creating dictionary\n",
    "d = {'id': [1, 2, 9, 8],\n",
    "     'val1': ['p', 'q', 'r', 's']}\n",
    "b = pd.DataFrame(d)\n",
    " \n",
    "# inner join\n",
    "df = pd.merge(a, b, on='id', how='inner')\n",
    " \n",
    "# display dataframe\n",
    "df\n"
   ]
  },
  {
   "cell_type": "markdown",
   "metadata": {},
   "source": [
    "## Left join\n",
    "![left join](Images/left-join.png)"
   ]
  },
  {
   "cell_type": "code",
   "execution_count": null,
   "metadata": {},
   "outputs": [],
   "source": [
    "# Creating dataframe a\n",
    "a = pd.DataFrame()\n",
    " \n",
    "# Creating Dictionary\n",
    "d = {'id': [1, 2, 10, 12],\n",
    "     'val1': ['a', 'b', 'c', 'd']}\n",
    " \n",
    "a = pd.DataFrame(d)\n",
    " \n",
    "# Creating dataframe b\n",
    "b = pd.DataFrame()\n",
    " \n",
    "# Creating dictionary\n",
    "d = {'id': [1, 2, 9, 8],\n",
    "     'val1': ['p', 'q', 'r', 's']}\n",
    "b = pd.DataFrame(d)\n",
    " \n",
    "# left outer join\n",
    "df = pd.merge(a, b, on='id', how='left')\n",
    " \n",
    "# display dataframe\n",
    "df"
   ]
  },
  {
   "cell_type": "markdown",
   "metadata": {},
   "source": [
    "## Right Join\n",
    "![alt](Images/rightJoin.png)"
   ]
  },
  {
   "cell_type": "code",
   "execution_count": null,
   "metadata": {},
   "outputs": [],
   "source": [
    "# Creating dataframe a\n",
    "a = pd.DataFrame()\n",
    " \n",
    "# Creating Dictionary\n",
    "d = {'id': [1, 2, 10, 12],\n",
    "     'val1': ['a', 'b', 'c', 'd']}\n",
    " \n",
    "a = pd.DataFrame(d)\n",
    " \n",
    "# Creating dataframe b\n",
    "b = pd.DataFrame()\n",
    " \n",
    "# Creating dictionary\n",
    "d = {'id': [1, 2, 9, 8],\n",
    "     'val1': ['p', 'q', 'r', 's']}\n",
    "b = pd.DataFrame(d)\n",
    " \n",
    "# right outer join\n",
    "df = pd.merge(a, b, on='id', how='right')\n",
    " \n",
    "# display dataframe\n",
    "df"
   ]
  },
  {
   "cell_type": "markdown",
   "metadata": {},
   "source": [
    "## Outer Join\n",
    "![alt](Images/OutterJoin.png)"
   ]
  },
  {
   "cell_type": "code",
   "execution_count": null,
   "metadata": {},
   "outputs": [],
   "source": [
    "# Creating dataframe a\n",
    "a = pd.DataFrame()\n",
    " \n",
    "# Creating Dictionary\n",
    "d = {'id': [1, 2, 10, 12],\n",
    "     'val1': ['a', 'b', 'c', 'd']}\n",
    " \n",
    "a = pd.DataFrame(d)\n",
    " \n",
    "# Creating dataframe b\n",
    "b = pd.DataFrame()\n",
    " \n",
    "# Creating dictionary\n",
    "d = {'id': [1, 2, 9, 8],\n",
    "     'val1': ['p', 'q', 'r', 's']}\n",
    "b = pd.DataFrame(d)\n",
    " \n",
    "# full outer join\n",
    "df = pd.merge(a, b, on='id', how='outer')\n",
    " \n",
    "# display dataframe\n",
    "df"
   ]
  },
  {
   "cell_type": "markdown",
   "metadata": {},
   "source": [
    "## Index Join\n",
    "To merge the Dataframe on indices pass the left_index and right_index arguments as True i.e. both the Dataframes are merged on an index using default Inner Join."
   ]
  },
  {
   "cell_type": "code",
   "execution_count": null,
   "metadata": {},
   "outputs": [],
   "source": [
    "# Creating dataframe a\n",
    "a = pd.DataFrame()\n",
    " \n",
    "# Creating Dictionary\n",
    "d = {'id': [1, 2, 10, 12],\n",
    "     'val1': ['a', 'b', 'c', 'd']}\n",
    " \n",
    "a = pd.DataFrame(d)\n",
    " \n",
    "# Creating dataframe b\n",
    "b = pd.DataFrame()\n",
    " \n",
    "# Creating dictionary\n",
    "d = {'id': [1, 2, 9, 8],\n",
    "     'val1': ['p', 'q', 'r', 's']}\n",
    "b = pd.DataFrame(d)\n",
    " \n",
    "# index join\n",
    "df = pd.merge(a, b, left_index=True, right_index=True)\n",
    " \n",
    "# display dataframe\n",
    "df"
   ]
  }
 ],
 "metadata": {
  "kernelspec": {
   "display_name": "Python 3",
   "language": "python",
   "name": "python3"
  },
  "language_info": {
   "codemirror_mode": {
    "name": "ipython",
    "version": 3
   },
   "file_extension": ".py",
   "mimetype": "text/x-python",
   "name": "python",
   "nbconvert_exporter": "python",
   "pygments_lexer": "ipython3",
   "version": "3.12.3"
  }
 },
 "nbformat": 4,
 "nbformat_minor": 2
}
