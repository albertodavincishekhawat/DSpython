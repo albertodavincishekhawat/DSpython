{
 "cells": [
  {
   "cell_type": "markdown",
   "id": "d014a360-52db-4c71-a2bd-efb45136a779",
   "metadata": {
    "editable": true,
    "jp-MarkdownHeadingCollapsed": true,
    "slideshow": {
     "slide_type": ""
    },
    "tags": []
   },
   "source": [
    "# Numpy\n",
    "It's short for Numerical Python\n",
    "- [.methods()|Random|Distribution|uFunc](https://www.w3schools.com/python/numpy/numpy_array_reshape.asp)<br>\n",
    "- [Detailed and Advanced](https://www.geeksforgeeks.org/numpy-tutorial/)<br>\n",
    "- [all adv.methods in numpy](https://www.geeksforgeeks.org/python-numpy/)<br>\n",
    "\n",
    "<br>\n",
    "\n",
    "- **Basic exersises**\n",
    "    - [Kaggle basic numpy problems](https://www.kaggle.com/code/themlphdstudent/learn-numpy-numpy-50-exercises-and-solution)\n",
    "    - [101 Numpy Problems - machinelearningplus](https://www.machinelearningplus.com/python/101-pandas-exercises-python/)\n",
    "<br>\n"
   ]
  },
  {
   "cell_type": "markdown",
   "id": "b374c8a6",
   "metadata": {},
   "source": [
    "## What is NumPy?\n",
    "**Defination** : NumPy is used to perform mathamatical **opertations** and **manipulation** of a multi-dimentional array  \n",
    "- python dosent support **array** directly that's why we use numpy.\n",
    "- Numpy has only one data structure **array**\n",
    "- Numpy is used for numeric data\n",
    "- Default data type is **Float**\n",
    "\n"
   ]
  },
  {
   "cell_type": "markdown",
   "id": "55dfc64b",
   "metadata": {},
   "source": [
    "##  When to use array? \n",
    "- When you need to process faster.\n",
    "- it's simillar to list with added functionality and reduced versitality.\n",
    "- It can be accessed faster."
   ]
  },
  {
   "cell_type": "markdown",
   "id": "f4b95475",
   "metadata": {},
   "source": [
    "\n",
    "## Why use **array** and not **list**?\n",
    "\n",
    "- For working with data we need to be faster than normal list.<br>\n",
    "- Accessing elements in list is slow because ***list in python are a linked-list (not simple list)***,<br> This makes list slower.\n",
    "- **LISTS** are **heterogenous**( it can contain all kinds of datatypes) **ARRAYS** are **homogenous**( can only contain one kind of datatype at a time).<br> This makes list versatile and slower.\n",
    "\n"
   ]
  },
  {
   "cell_type": "markdown",
   "id": "298b9664-d229-460e-a0a8-494ada2cee70",
   "metadata": {},
   "source": [
    "## How to install and import \"numpy\"?"
   ]
  },
  {
   "cell_type": "code",
   "execution_count": 1,
   "id": "727c087a-287d-485c-aad5-349641ccce16",
   "metadata": {},
   "outputs": [],
   "source": [
    "# to install the package | not to run everytime\n",
    "# pip install numpy"
   ]
  },
  {
   "cell_type": "code",
   "execution_count": 2,
   "id": "799f0242-415d-4f34-bfb8-47383ab2b0e3",
   "metadata": {},
   "outputs": [],
   "source": [
    "# to import nad use numpy\n",
    "import numpy as np # type: ignore"
   ]
  },
  {
   "cell_type": "markdown",
   "id": "46dff119-af0e-451a-b478-ba41feace0b5",
   "metadata": {},
   "source": [
    "## How to Create array?\n",
    "### 1. Array from list?"
   ]
  },
  {
   "cell_type": "code",
   "execution_count": 3,
   "id": "2977b894-1253-4218-9505-8225f155c376",
   "metadata": {},
   "outputs": [
    {
     "data": {
      "text/plain": [
       "array([5, 2, 9, 6, 2, 4, 7, 3, 9])"
      ]
     },
     "execution_count": 3,
     "metadata": {},
     "output_type": "execute_result"
    }
   ],
   "source": [
    "\n",
    "ls = [5,2,9,6,2,4,7,3,9] # this is a list\n",
    "\n",
    "# method \"array\" of numpy(np) is given an argument variable \"ls\" which points to a list\n",
    "# that list is converted to array\n",
    "arr1 = np.array(ls) \n",
    "arr1"
   ]
  },
  {
   "cell_type": "markdown",
   "id": "8273facb-1f3d-44f3-b539-f131b5561886",
   "metadata": {},
   "source": [
    "### 2. Creating Array directly?"
   ]
  },
  {
   "cell_type": "code",
   "execution_count": 4,
   "id": "ba31b193-52c8-452c-a722-7a3b72f04868",
   "metadata": {},
   "outputs": [
    {
     "data": {
      "text/plain": [
       "array([1, 2, 3, 4])"
      ]
     },
     "execution_count": 4,
     "metadata": {},
     "output_type": "execute_result"
    }
   ],
   "source": [
    "# directly giving a list as argument to 'array' method\n",
    "arr2 = np.array([1,2,3,4]) \n",
    "arr2\n",
    "\n",
    "# pay attention all elements are homogen"
   ]
  },
  {
   "cell_type": "markdown",
   "id": "4612a28b-3767-4d21-a760-4b25984f20a2",
   "metadata": {},
   "source": [
    "### 3. Input in array method is not homogenous?"
   ]
  },
  {
   "cell_type": "code",
   "execution_count": 5,
   "id": "ec9e0271-745b-406f-b3ea-24fb753f098d",
   "metadata": {},
   "outputs": [
    {
     "data": {
      "text/plain": [
       "array([1. , 2. , 3. , 4.7])"
      ]
     },
     "execution_count": 5,
     "metadata": {},
     "output_type": "execute_result"
    }
   ],
   "source": [
    "# one of the elements is \"float\"\n",
    "arr3 = np.array([1,2,3,4.7]) \n",
    "arr3\n",
    "\n"
   ]
  },
  {
   "cell_type": "markdown",
   "id": "7fe03767",
   "metadata": {},
   "source": [
    "> whole array is converted to float \n",
    "- as float can is capable to record both int and float value."
   ]
  },
  {
   "cell_type": "code",
   "execution_count": 6,
   "id": "923a21ff-e032-45d0-975c-8df8432212a2",
   "metadata": {},
   "outputs": [
    {
     "data": {
      "text/plain": [
       "array(['1', '2', '3', '3ri'], dtype='<U11')"
      ]
     },
     "execution_count": 6,
     "metadata": {},
     "output_type": "execute_result"
    }
   ],
   "source": [
    "# one of the elements is \"str\"\n",
    "\n",
    "arr3 = np.array([1,2,3,'3ri']) \n",
    "arr3\n",
    "\n",
    "# whole array is converted to \"str\" \n",
    "# as str can is capable to record as int and float and str value."
   ]
  },
  {
   "cell_type": "markdown",
   "id": "e1d47b8e",
   "metadata": {},
   "source": [
    "> Data being convereted like this is also one of the disadvantages in numpy array as it will rarely through errors."
   ]
  },
  {
   "cell_type": "markdown",
   "id": "ea9dedcb-aace-4e49-94d5-a0479b2f03b9",
   "metadata": {},
   "source": [
    "### 4. Using \"arange()\" to create array?\n",
    "- SYNTAX : np.arange(start,stop,step)\n",
    "> observe below ***array can be converted to matrix using .reshape()***"
   ]
  },
  {
   "cell_type": "code",
   "execution_count": 7,
   "id": "45996cf8-6a49-4d67-bf36-b950274775e4",
   "metadata": {},
   "outputs": [
    {
     "name": "stdout",
     "output_type": "stream",
     "text": [
      "[[0 1]\n",
      " [2 3]]\n",
      "[4 5 6 7 8 9]\n",
      "[ 4  7 10 13 16 19]\n"
     ]
    }
   ],
   "source": [
    "print( np.arange(4).reshape(2, 2))\n",
    "print(np.arange(4, 10))\n",
    "print(np.arange(4, 20, 3))"
   ]
  },
  {
   "cell_type": "markdown",
   "id": "408b8d40",
   "metadata": {},
   "source": [
    "### Creating array using **linspace()**?\n",
    "- SYNTAX : np.linspace(start,end,elementCount)\n",
    "- Used to create equidistant elements between two numbers"
   ]
  },
  {
   "cell_type": "code",
   "execution_count": 8,
   "id": "c0fc1d21",
   "metadata": {},
   "outputs": [
    {
     "data": {
      "text/plain": [
       "array([ 40.        ,  45.78947368,  51.57894737,  57.36842105,\n",
       "        63.15789474,  68.94736842,  74.73684211,  80.52631579,\n",
       "        86.31578947,  92.10526316,  97.89473684, 103.68421053,\n",
       "       109.47368421, 115.26315789, 121.05263158, 126.84210526,\n",
       "       132.63157895, 138.42105263, 144.21052632, 150.        ])"
      ]
     },
     "execution_count": 8,
     "metadata": {},
     "output_type": "execute_result"
    }
   ],
   "source": [
    "arrline = np.linspace(40,150,20)    #creating 20 equi-distant elements between 40 and 150\n",
    "arrline"
   ]
  },
  {
   "cell_type": "markdown",
   "id": "7001e4cc-c51a-4c1f-a444-ae4a648f7315",
   "metadata": {},
   "source": [
    "## How create array matrix?"
   ]
  },
  {
   "cell_type": "code",
   "execution_count": 9,
   "id": "e4841991-2867-4691-8580-829a7a5e1e77",
   "metadata": {
    "scrolled": true
   },
   "outputs": [
    {
     "data": {
      "text/plain": [
       "array([[2, 5, 2, 3, 4],\n",
       "       [4, 7, 5, 6, 7]])"
      ]
     },
     "execution_count": 9,
     "metadata": {},
     "output_type": "execute_result"
    }
   ],
   "source": [
    "arrMat = np.array([[2,5,2,3,4],[4,7,5,6,7]])\n",
    "arrMat"
   ]
  },
  {
   "cell_type": "markdown",
   "id": "1e3f1b81-48a6-4183-b255-2a8bb6724961",
   "metadata": {},
   "source": [
    "## How to read an Matrix?\n",
    "> after a   \"**],**\" read it as next row!\n",
    "\n",
    ">case1\n",
    "\n",
    "[[1,2,3], <br>\n",
    " [4,5,6]]\n",
    "\n",
    " &\n",
    " \n",
    " [[1,2,3],[4,5,6]]\n",
    "\n",
    "both of these are the same\n",
    "\n",
    "\n",
    ">case2\n",
    "\n",
    "[[1],<br>\n",
    "[2],<br>\n",
    "[3]]\n",
    "\n",
    "&\n",
    "\n",
    "[[1],[2],[3]]\n",
    "\n",
    "both of these are same"
   ]
  },
  {
   "cell_type": "markdown",
   "id": "a0a13f23",
   "metadata": {},
   "source": [
    "### Functions for kinds of matrix? "
   ]
  },
  {
   "cell_type": "markdown",
   "id": "df3dd860",
   "metadata": {},
   "source": [
    "Creates zero matrix"
   ]
  },
  {
   "cell_type": "code",
   "execution_count": 10,
   "id": "e5f90d59",
   "metadata": {},
   "outputs": [
    {
     "data": {
      "text/plain": [
       "array([[0., 0.],\n",
       "       [0., 0.],\n",
       "       [0., 0.]])"
      ]
     },
     "execution_count": 10,
     "metadata": {},
     "output_type": "execute_result"
    }
   ],
   "source": [
    "# np.zeros()?\n",
    "zero = np.zeros((3,2))\n",
    "zero"
   ]
  },
  {
   "cell_type": "markdown",
   "id": "6f6ac89a",
   "metadata": {},
   "source": [
    "creates matrix with all ones"
   ]
  },
  {
   "cell_type": "code",
   "execution_count": 11,
   "id": "112f3d0f",
   "metadata": {},
   "outputs": [
    {
     "data": {
      "text/plain": [
       "array([[1., 1.],\n",
       "       [1., 1.],\n",
       "       [1., 1.]])"
      ]
     },
     "execution_count": 11,
     "metadata": {},
     "output_type": "execute_result"
    }
   ],
   "source": [
    "ones = np.ones((3,2))\n",
    "ones"
   ]
  },
  {
   "cell_type": "markdown",
   "id": "94517496",
   "metadata": {},
   "source": [
    "Creates identity matrix"
   ]
  },
  {
   "cell_type": "code",
   "execution_count": 12,
   "id": "59c6c656",
   "metadata": {},
   "outputs": [
    {
     "data": {
      "text/plain": [
       "array([[1., 0., 0.],\n",
       "       [0., 1., 0.],\n",
       "       [0., 0., 1.]])"
      ]
     },
     "execution_count": 12,
     "metadata": {},
     "output_type": "execute_result"
    }
   ],
   "source": [
    "i = np.eye(3)\n",
    "i"
   ]
  },
  {
   "cell_type": "markdown",
   "id": "fe016f1d",
   "metadata": {},
   "source": [
    "Create a full matrix with a specific number\n",
    "- SYNTAX : np.full((m,n),specific num)"
   ]
  },
  {
   "cell_type": "code",
   "execution_count": 13,
   "id": "cb91a5eb",
   "metadata": {},
   "outputs": [
    {
     "data": {
      "text/plain": [
       "array([[9, 9, 9],\n",
       "       [9, 9, 9],\n",
       "       [9, 9, 9]])"
      ]
     },
     "execution_count": 13,
     "metadata": {},
     "output_type": "execute_result"
    }
   ],
   "source": [
    "sn = np.full((3,3),9)\n",
    "sn"
   ]
  },
  {
   "cell_type": "markdown",
   "id": "08e403c7",
   "metadata": {},
   "source": [
    "Create empty array\n",
    "\n",
    "> it's not reliable rather full matrix with 0 as argument"
   ]
  },
  {
   "cell_type": "code",
   "execution_count": 14,
   "id": "c09cfdcf",
   "metadata": {},
   "outputs": [
    {
     "data": {
      "text/plain": [
       "array([[1. , 2. ],\n",
       "       [3. , 4.7]])"
      ]
     },
     "execution_count": 14,
     "metadata": {},
     "output_type": "execute_result"
    }
   ],
   "source": [
    "empty = np.empty((2,2))\n",
    "empty\n"
   ]
  },
  {
   "cell_type": "code",
   "execution_count": 15,
   "id": "25154d43",
   "metadata": {},
   "outputs": [
    {
     "data": {
      "text/plain": [
       "array([[1., 0., 0.],\n",
       "       [0., 1., 0.],\n",
       "       [0., 0., 1.]])"
      ]
     },
     "execution_count": 15,
     "metadata": {},
     "output_type": "execute_result"
    }
   ],
   "source": [
    "\n",
    "empty2 = np.empty((3,3))\n",
    "empty2"
   ]
  },
  {
   "cell_type": "markdown",
   "id": "0b1bd99e-67f7-4a61-8d13-42faf804ac46",
   "metadata": {},
   "source": [
    "## + - * /  operators between matrices?\n",
    "All these mathamatical operations can be performed on arrays of equal shape and size! \n",
    "- when discussing vectors in numpy or pandas we don't have a direction per say as in we used to discus in physics.\n",
    "    -  here a 'scaler' is a uni-directional object. \n",
    "    - everything else is a vector if it has a n-dimentional (more than zero dimentions) i.e, a vector.\n"
   ]
  },
  {
   "cell_type": "code",
   "execution_count": 16,
   "id": "e17fe345-1696-4bb3-a9ad-dfbbf6b4f59e",
   "metadata": {},
   "outputs": [
    {
     "name": "stdout",
     "output_type": "stream",
     "text": [
      "First array:\n",
      "[[0. 1.]\n",
      " [2. 3.]]\n",
      "\n",
      "Second array:\n",
      "[12 12]\n"
     ]
    }
   ],
   "source": [
    "arr1 = np.arange(4, dtype = float).reshape(2, 2) \n",
    " \n",
    "print('First array:') \n",
    "print(arr1)\n",
    " \n",
    "print('\\nSecond array:') \n",
    "arr2 = np.array([12, 12]) \n",
    "print(arr2)\n",
    " \n"
   ]
  },
  {
   "cell_type": "code",
   "execution_count": 17,
   "id": "525aae47",
   "metadata": {},
   "outputs": [
    {
     "name": "stdout",
     "output_type": "stream",
     "text": [
      "\n",
      "Adding the two arrays:\n",
      "[[12. 13.]\n",
      " [14. 15.]]\n",
      "\n",
      "Subtracting the two arrays:\n",
      "[[-12. -11.]\n",
      " [-10.  -9.]]\n",
      "\n",
      "Multiplying the two arrays:\n",
      "[[ 0. 12.]\n",
      " [24. 36.]]\n",
      "\n",
      "Dividing the two arrays:\n",
      "[[0.         0.08333333]\n",
      " [0.16666667 0.25      ]]\n"
     ]
    }
   ],
   "source": [
    "print('\\nAdding the two arrays:')   # gives element wise addition as error\n",
    "print(np.add(arr1, arr2))\n",
    "\n",
    " \n",
    "print('\\nSubtracting the two arrays:') \n",
    "print(np.subtract(arr1, arr2))\n",
    " \n",
    "print('\\nMultiplying the two arrays:')\n",
    "print(np.multiply(arr1, arr2))\n",
    " \n",
    "print('\\nDividing the two arrays:')\n",
    "print(np.divide(arr1, arr2))"
   ]
  },
  {
   "cell_type": "markdown",
   "id": "1c8370f4",
   "metadata": {},
   "source": [
    "## Concatination?"
   ]
  },
  {
   "cell_type": "code",
   "execution_count": 18,
   "id": "ae796e1e",
   "metadata": {},
   "outputs": [
    {
     "name": "stdout",
     "output_type": "stream",
     "text": [
      "[[1 2]\n",
      " [3 4]\n",
      " [1 2]]\n"
     ]
    }
   ],
   "source": [
    "# case 1\n",
    "\n",
    "# both a 2D array\n",
    "arrC1 = np.array([[1,2],[3,4]])\n",
    "arrC2 = np.array([[1,2]])   # attention!\n",
    "\n",
    "# axis 0 means concatinate a row \n",
    "# axis 1 means concatinate a column\n",
    "\n",
    "concatedArr = np.concatenate((arrC1, arrC2), axis = 0)      # adding a row\n",
    "print(concatedArr)"
   ]
  },
  {
   "cell_type": "code",
   "execution_count": 19,
   "id": "b02f08df",
   "metadata": {},
   "outputs": [
    {
     "name": "stdout",
     "output_type": "stream",
     "text": [
      "[[1 2 1]\n",
      " [3 4 2]]\n"
     ]
    }
   ],
   "source": [
    "# case 2\n",
    "arrC1 = np.array([[1,2],[3,4]])\n",
    "arrC2 = np.array([[1],[2]])   # attention!\n",
    "\n",
    "concatedArr = np.concatenate((arrC1, arrC2), axis = 1)\n",
    "print(concatedArr)"
   ]
  },
  {
   "cell_type": "markdown",
   "id": "41ecc1ac",
   "metadata": {},
   "source": []
  },
  {
   "cell_type": "markdown",
   "id": "aa47d012-2cf8-47e0-b750-46240af05973",
   "metadata": {},
   "source": [
    "## Shape in numpy? reshape?\n",
    "- Dimention of matrix is it's shape i.e, (MxN)"
   ]
  },
  {
   "cell_type": "code",
   "execution_count": 20,
   "id": "6847d413-f611-471e-85c2-dc0cd9b8cbcc",
   "metadata": {},
   "outputs": [
    {
     "name": "stdout",
     "output_type": "stream",
     "text": [
      "[ 0  1  2  3  4  5  6  7  8  9 10 11 12 13 14 15 16 17 18 19 20 21 22 23\n",
      " 24 25 26 27 28 29 30 31 32 33 34 35 36 37 38 39 40 41 42 43 44 45 46 47\n",
      " 48 49 50 51 52 53 54 55 56 57 58 59]\n",
      "(60,)\n"
     ]
    }
   ],
   "source": [
    "from numpy import shape\n",
    "\n",
    "\n",
    "Mat = np.arange(60) \n",
    "print(Mat)\n",
    "print(shape(Mat)) # it's a 1D array so it's 1 dimention as output."
   ]
  },
  {
   "cell_type": "code",
   "execution_count": 21,
   "id": "c683a3f7-23d0-4246-9879-43e4f36b9b9c",
   "metadata": {},
   "outputs": [
    {
     "name": "stdout",
     "output_type": "stream",
     "text": [
      "[[ 0  1  2  3  4  5  6  7  8  9 10 11]\n",
      " [12 13 14 15 16 17 18 19 20 21 22 23]\n",
      " [24 25 26 27 28 29 30 31 32 33 34 35]\n",
      " [36 37 38 39 40 41 42 43 44 45 46 47]\n",
      " [48 49 50 51 52 53 54 55 56 57 58 59]]\n",
      "(5, 12)\n"
     ]
    }
   ],
   "source": [
    "reshapedMat = Mat.reshape(5,12)\n",
    "print(reshapedMat)\n",
    "print(shape(reshapedMat)) # it's a 2D array so it's 2 dimention as output."
   ]
  },
  {
   "cell_type": "code",
   "execution_count": 24,
   "id": "8ac19c0e-398a-459e-9a7d-f9acccc94f4e",
   "metadata": {},
   "outputs": [
    {
     "data": {
      "text/plain": [
       "array([[ 0,  1,  2],\n",
       "       [ 3,  4,  5],\n",
       "       [ 6,  7,  8],\n",
       "       [ 9, 10, 11],\n",
       "       [12, 13, 14],\n",
       "       [15, 16, 17],\n",
       "       [18, 19, 20],\n",
       "       [21, 22, 23],\n",
       "       [24, 25, 26],\n",
       "       [27, 28, 29],\n",
       "       [30, 31, 32],\n",
       "       [33, 34, 35],\n",
       "       [36, 37, 38],\n",
       "       [39, 40, 41],\n",
       "       [42, 43, 44],\n",
       "       [45, 46, 47],\n",
       "       [48, 49, 50],\n",
       "       [51, 52, 53],\n",
       "       [54, 55, 56],\n",
       "       [57, 58, 59]])"
      ]
     },
     "execution_count": 24,
     "metadata": {},
     "output_type": "execute_result"
    }
   ],
   "source": [
    "reshapedMat0 = Mat.reshape(20,3)\n",
    "reshapedMat0"
   ]
  },
  {
   "cell_type": "code",
   "execution_count": 25,
   "id": "4d5fd5de-e3bb-422b-a583-07fc8f92c0eb",
   "metadata": {},
   "outputs": [
    {
     "ename": "ValueError",
     "evalue": "cannot reshape array of size 60 into shape (12,1)",
     "output_type": "error",
     "traceback": [
      "\u001b[1;31m---------------------------------------------------------------------------\u001b[0m",
      "\u001b[1;31mValueError\u001b[0m                                Traceback (most recent call last)",
      "Cell \u001b[1;32mIn[25], line 2\u001b[0m\n\u001b[0;32m      1\u001b[0m \u001b[38;5;66;03m# if shape requested is not doable mathamatically it will give an error\u001b[39;00m\n\u001b[1;32m----> 2\u001b[0m reshapedMat1 \u001b[38;5;241m=\u001b[39m \u001b[43mMat\u001b[49m\u001b[38;5;241;43m.\u001b[39;49m\u001b[43mreshape\u001b[49m\u001b[43m(\u001b[49m\u001b[38;5;241;43m12\u001b[39;49m\u001b[43m,\u001b[49m\u001b[38;5;241;43m1\u001b[39;49m\u001b[43m)\u001b[49m\n\u001b[0;32m      3\u001b[0m reshapedMat1\n",
      "\u001b[1;31mValueError\u001b[0m: cannot reshape array of size 60 into shape (12,1)"
     ]
    }
   ],
   "source": [
    "# if shape requested is not doable mathamatically it will give an error\n",
    "reshapedMat1 = Mat.reshape(12,1)\n",
    "reshapedMat1"
   ]
  },
  {
   "cell_type": "markdown",
   "id": "8b4a5dd4-7264-4364-b925-bd24dae83938",
   "metadata": {},
   "source": [
    "## Size in numpy?\n",
    "**Total elements in matrix = size of matrix**\n",
    "- numpy.size() function counts the number of elements in a matrix"
   ]
  },
  {
   "cell_type": "code",
   "execution_count": 31,
   "id": "90820d01-8ee5-4c60-8978-a2b36cc5c876",
   "metadata": {},
   "outputs": [
    {
     "name": "stdout",
     "output_type": "stream",
     "text": [
      "[[ 0  1  2]\n",
      " [ 3  4  5]\n",
      " [ 6  7  8]\n",
      " [ 9 10 11]\n",
      " [12 13 14]\n",
      " [15 16 17]\n",
      " [18 19 20]\n",
      " [21 22 23]\n",
      " [24 25 26]\n",
      " [27 28 29]\n",
      " [30 31 32]\n",
      " [33 34 35]\n",
      " [36 37 38]\n",
      " [39 40 41]\n",
      " [42 43 44]\n",
      " [45 46 47]\n",
      " [48 49 50]\n",
      " [51 52 53]\n",
      " [54 55 56]\n",
      " [57 58 59]]\n",
      "60\n",
      "20\n",
      "3\n"
     ]
    }
   ],
   "source": [
    "print(reshapedMat0)\n",
    "\n",
    "# By default, give the total number of elements.\n",
    "print(np.size(reshapedMat0))\n",
    "\n",
    "#gives no. of rows along x-axis\n",
    "print(np.size(reshapedMat0, 0)) \n",
    " \n",
    "#gives no. of columns along y-axis\n",
    "print(np.size(reshapedMat0, 1)) "
   ]
  },
  {
   "cell_type": "markdown",
   "id": "bed57430",
   "metadata": {},
   "source": [
    "### Resize?"
   ]
  },
  {
   "cell_type": "markdown",
   "id": "cd7b799a",
   "metadata": {},
   "source": [
    "#### Type1 : arr.resize(m,n)\n",
    "\n",
    "- Cant be resized unresonably hence we will get error"
   ]
  },
  {
   "cell_type": "code",
   "execution_count": 41,
   "id": "3a6fadf9",
   "metadata": {},
   "outputs": [
    {
     "data": {
      "text/plain": [
       "array([0, 1, 2, 3, 4, 5])"
      ]
     },
     "execution_count": 41,
     "metadata": {},
     "output_type": "execute_result"
    }
   ],
   "source": [
    "ex=np.arange(6)\n",
    "ex"
   ]
  },
  {
   "cell_type": "code",
   "execution_count": 44,
   "id": "8405715e",
   "metadata": {},
   "outputs": [
    {
     "ename": "ValueError",
     "evalue": "cannot resize an array that references or is referenced\nby another array in this way.\nUse the np.resize function or refcheck=False",
     "output_type": "error",
     "traceback": [
      "\u001b[1;31m---------------------------------------------------------------------------\u001b[0m",
      "\u001b[1;31mValueError\u001b[0m                                Traceback (most recent call last)",
      "Cell \u001b[1;32mIn[44], line 1\u001b[0m\n\u001b[1;32m----> 1\u001b[0m \u001b[43mex\u001b[49m\u001b[38;5;241;43m.\u001b[39;49m\u001b[43mresize\u001b[49m\u001b[43m(\u001b[49m\u001b[38;5;241;43m1\u001b[39;49m\u001b[43m,\u001b[49m\u001b[38;5;241;43m2\u001b[39;49m\u001b[43m)\u001b[49m      \u001b[38;5;66;03m# resizing to less\u001b[39;00m\n\u001b[0;32m      2\u001b[0m ex\n",
      "\u001b[1;31mValueError\u001b[0m: cannot resize an array that references or is referenced\nby another array in this way.\nUse the np.resize function or refcheck=False"
     ]
    }
   ],
   "source": [
    "ex.resize(1,2)      # resizing to less\n",
    "ex"
   ]
  },
  {
   "cell_type": "code",
   "execution_count": 45,
   "id": "4b86aeef",
   "metadata": {},
   "outputs": [
    {
     "ename": "ValueError",
     "evalue": "cannot resize an array that references or is referenced\nby another array in this way.\nUse the np.resize function or refcheck=False",
     "output_type": "error",
     "traceback": [
      "\u001b[1;31m---------------------------------------------------------------------------\u001b[0m",
      "\u001b[1;31mValueError\u001b[0m                                Traceback (most recent call last)",
      "Cell \u001b[1;32mIn[45], line 1\u001b[0m\n\u001b[1;32m----> 1\u001b[0m \u001b[43mex\u001b[49m\u001b[38;5;241;43m.\u001b[39;49m\u001b[43mresize\u001b[49m\u001b[43m(\u001b[49m\u001b[38;5;241;43m1\u001b[39;49m\u001b[43m,\u001b[49m\u001b[38;5;241;43m20\u001b[39;49m\u001b[43m)\u001b[49m     \u001b[38;5;66;03m# resizing to more\u001b[39;00m\n\u001b[0;32m      2\u001b[0m ex\n",
      "\u001b[1;31mValueError\u001b[0m: cannot resize an array that references or is referenced\nby another array in this way.\nUse the np.resize function or refcheck=False"
     ]
    }
   ],
   "source": [
    "ex.resize(1,20)     # resizing to more\n",
    "ex"
   ]
  },
  {
   "cell_type": "markdown",
   "id": "bafdb30b",
   "metadata": {},
   "source": [
    "#### Type2 : np.resize(arr,(m,n))\n",
    "- Can resized unresonably as it removes and adds duplicate elements on it's own"
   ]
  },
  {
   "cell_type": "code",
   "execution_count": 48,
   "id": "eae25c53",
   "metadata": {},
   "outputs": [
    {
     "data": {
      "text/plain": [
       "array([0, 1, 2, 3, 4, 5])"
      ]
     },
     "execution_count": 48,
     "metadata": {},
     "output_type": "execute_result"
    }
   ],
   "source": [
    "ex = np.arange(6)\n",
    "ex"
   ]
  },
  {
   "cell_type": "code",
   "execution_count": 50,
   "id": "6d5cd173",
   "metadata": {},
   "outputs": [
    {
     "data": {
      "text/plain": [
       "array([0, 1])"
      ]
     },
     "execution_count": 50,
     "metadata": {},
     "output_type": "execute_result"
    }
   ],
   "source": [
    "np.resize(ex,(2))     # resizing to less"
   ]
  },
  {
   "cell_type": "code",
   "execution_count": 36,
   "id": "122678c3",
   "metadata": {},
   "outputs": [
    {
     "data": {
      "text/plain": [
       "array([[0, 1, 0, 0, 0],\n",
       "       [0, 0, 0, 0, 0],\n",
       "       [0, 0, 0, 0, 0],\n",
       "       [0, 0, 0, 0, 0],\n",
       "       [0, 1, 0, 0, 0]])"
      ]
     },
     "execution_count": 36,
     "metadata": {},
     "output_type": "execute_result"
    }
   ],
   "source": [
    "np.resize(ex,(5,5))     # resizing to more"
   ]
  },
  {
   "cell_type": "markdown",
   "id": "9e48573d",
   "metadata": {},
   "source": [
    "### Reshape vs Resize?\n",
    "- **Reshape** shows how a matrix will look like if it's diemntions where changed.\n",
    "- **Resize** actually makes the changes at the memory level. "
   ]
  },
  {
   "cell_type": "markdown",
   "id": "0704005f-22b8-4a5d-8dd5-f3dd79d55f64",
   "metadata": {},
   "source": [
    "## .ndim in numpy?\n",
    "- tells us the dimensions of the array!"
   ]
  },
  {
   "cell_type": "code",
   "execution_count": null,
   "id": "8ee6c9a8-6c24-4f72-87cc-46b9264f145e",
   "metadata": {},
   "outputs": [
    {
     "data": {
      "text/plain": [
       "2"
      ]
     },
     "execution_count": 64,
     "metadata": {},
     "output_type": "execute_result"
    }
   ],
   "source": [
    "# returns if it's 1D 2D 3D or more\n",
    "arrMat.ndim"
   ]
  },
  {
   "cell_type": "markdown",
   "id": "4efc01ab",
   "metadata": {},
   "source": [
    "### .nbytes in numpy?\n",
    "- tells us total number of bytes consuemed by the array"
   ]
  },
  {
   "cell_type": "code",
   "execution_count": null,
   "id": "91728e85",
   "metadata": {},
   "outputs": [
    {
     "data": {
      "text/plain": [
       "40"
      ]
     },
     "execution_count": 63,
     "metadata": {},
     "output_type": "execute_result"
    }
   ],
   "source": [
    "arrMat.nbytes"
   ]
  },
  {
   "cell_type": "markdown",
   "id": "e77be00d",
   "metadata": {},
   "source": [
    "### Change ndarray to 1darray using ravel()?\n",
    "Dosent save to memory"
   ]
  },
  {
   "cell_type": "code",
   "execution_count": 55,
   "id": "b8865cc2",
   "metadata": {},
   "outputs": [
    {
     "data": {
      "text/plain": [
       "array([[0, 1, 2, 3, 4],\n",
       "       [5, 0, 1, 2, 3],\n",
       "       [4, 5, 0, 1, 2],\n",
       "       [3, 4, 5, 0, 1],\n",
       "       [2, 3, 4, 5, 0]])"
      ]
     },
     "execution_count": 55,
     "metadata": {},
     "output_type": "execute_result"
    }
   ],
   "source": [
    "ex = np.resize(ex,(5,5)) \n",
    "ex"
   ]
  },
  {
   "cell_type": "code",
   "execution_count": 59,
   "id": "80690424",
   "metadata": {},
   "outputs": [
    {
     "data": {
      "text/plain": [
       "array([0, 1, 2, 3, 4, 5, 0, 1, 2, 3, 4, 5, 0, 1, 2, 3, 4, 5, 0, 1, 2, 3,\n",
       "       4, 5, 0])"
      ]
     },
     "execution_count": 59,
     "metadata": {},
     "output_type": "execute_result"
    }
   ],
   "source": [
    "ex.ravel()"
   ]
  },
  {
   "cell_type": "markdown",
   "id": "e93673cb",
   "metadata": {},
   "source": [
    "# 21.06.2024 Class 10\n",
    "> ATTENTION : There are no \",\" between the values in array!"
   ]
  },
  {
   "cell_type": "markdown",
   "id": "84b73eab",
   "metadata": {},
   "source": [
    "## Random()?"
   ]
  },
  {
   "cell_type": "markdown",
   "id": "633c4040",
   "metadata": {},
   "source": [
    "### Using \"randint()\" to create 1D array and \"N\"-D array?\n",
    "Syntax: randint(start, end, optional: number of outputs)\n",
    "> \"randint()\" returns integer"
   ]
  },
  {
   "cell_type": "code",
   "execution_count": null,
   "id": "95037613",
   "metadata": {},
   "outputs": [],
   "source": [
    "# Default\n",
    "# return integer between 1 and 20\n",
    "print(\"Default----------------------\")\n",
    "randint1Arr = np.random.randint(1,20)\n",
    "print(randint1Arr)\n",
    "print(type(randint1Arr))\n"
   ]
  },
  {
   "cell_type": "code",
   "execution_count": null,
   "id": "3ec622fd",
   "metadata": {},
   "outputs": [
    {
     "name": "stdout",
     "output_type": "stream",
     "text": [
      "Using optional parameter----------------------\n",
      "[ 9  5 10  5  9 16 19  7  2 16 13 17  9 13  4 16 14  7 19  3 14 14  2  9\n",
      " 13  6 15]\n",
      "<class 'numpy.ndarray'>\n"
     ]
    }
   ],
   "source": [
    "# return array \n",
    "# return 27 elements from an array integers between 1 and 20\n",
    "print(\"Using optional parameter----------------------\")\n",
    "randint2Arr = np.random.randint(1,20,27)\n",
    "print(randint2Arr)\n",
    "print(type(randint2Arr))"
   ]
  },
  {
   "cell_type": "markdown",
   "id": "103e53b9",
   "metadata": {},
   "source": [
    "#### It can be used with reshape() and resize()!"
   ]
  },
  {
   "cell_type": "code",
   "execution_count": null,
   "id": "bdc811cf",
   "metadata": {},
   "outputs": [
    {
     "name": "stdout",
     "output_type": "stream",
     "text": [
      "3D array\n",
      "None\n"
     ]
    }
   ],
   "source": [
    "# array reshaped to 3D array\n",
    "print(\"3D array\")\n",
    "randintArrReshaped= randint2Arr.resize(3,3,3) # reshape(1D,2D,3D)\n",
    "print(randintArrReshaped)"
   ]
  },
  {
   "cell_type": "markdown",
   "id": "22c907ad",
   "metadata": {},
   "source": []
  },
  {
   "cell_type": "markdown",
   "id": "91e953d7",
   "metadata": {},
   "source": [
    "#### Using \"rand()\" to create 1D  array, 2D & 3D array?\n",
    "> \"rand()\" returns float"
   ]
  },
  {
   "cell_type": "markdown",
   "id": "6c406a7e",
   "metadata": {},
   "source": [
    ">Syntax <br>\n",
    "- If no argument is given a single Python float is returned.<br>\n",
    "- rand(x) = 1D <br>\n",
    "- rand(x,y) = 2D <br>\n",
    "- rand(x,y,z) = 3D_"
   ]
  },
  {
   "cell_type": "code",
   "execution_count": null,
   "id": "bad20b19",
   "metadata": {},
   "outputs": [],
   "source": [
    "# 1D array\n",
    "randArr1 = np.random.rand(2)    \n",
    "print(\"1D\",randArr1)"
   ]
  },
  {
   "cell_type": "code",
   "execution_count": null,
   "id": "d97c4d16",
   "metadata": {},
   "outputs": [],
   "source": [
    "# 2D array\n",
    "randArr2 = np.random.rand(3,2)\n",
    "print(\"2D\",randArr2)"
   ]
  },
  {
   "cell_type": "code",
   "execution_count": null,
   "id": "135f37e6",
   "metadata": {},
   "outputs": [],
   "source": [
    "# 3D array\n",
    "randArr3 = np.random.rand(3,3,3)\n",
    "print(\"3D\",randArr3)"
   ]
  },
  {
   "cell_type": "markdown",
   "id": "f985ed94",
   "metadata": {},
   "source": [
    "### **Choice?**\n",
    "- Gets the random samples of one dimensional array and return the random samples of numpy array."
   ]
  },
  {
   "cell_type": "markdown",
   "id": "9324a00b",
   "metadata": {},
   "source": [
    "- #### Using for numbers?\n",
    "> **Syntax** : numpy.random.choice(a, size=None, replace=True, p=None)<br>\n",
    "- **a** : 1D-array or list or tuple that contains the samples\n",
    "- **size?** : number of elements to be produced in array\n",
    "- **replace? *False*** : only unique values will be there in array,  ***True*** :Values can be re-used  in array.\n",
    "- **p?** : probabilities of each element in **\"a\"** input array.**their addition must be 1, len(p) must be = len(a)**\n",
    "\n",
    "***Output*** : Return the numpy array of random samples."
   ]
  },
  {
   "cell_type": "code",
   "execution_count": null,
   "id": "de3b6afc",
   "metadata": {},
   "outputs": [],
   "source": [
    "# choice() returning 1D array randomizing element of \"ls\"\n",
    "ls = [3,5]\n",
    "arrChoiceNum = np.random.choice(ls,10)\n",
    "arrChoiceNum"
   ]
  },
  {
   "cell_type": "markdown",
   "id": "5187573c",
   "metadata": {},
   "source": [
    "- #### Using for Str?"
   ]
  },
  {
   "cell_type": "code",
   "execution_count": null,
   "id": "57acfd30",
   "metadata": {},
   "outputs": [],
   "source": [
    "# choice() returning 1D array randomizing element of \"lstr\"\n",
    "lstr = [\"ram\",\"sham\",\"lakshman\",\"bharat\"]\n",
    "\n",
    "arrChoiceStr = np.random.choice(lstr,10)\n",
    "arrChoiceStr"
   ]
  },
  {
   "cell_type": "markdown",
   "id": "9b26bd7b",
   "metadata": {},
   "source": [
    "> .mean()  .std() "
   ]
  },
  {
   "cell_type": "markdown",
   "id": "36ca42f9",
   "metadata": {},
   "source": [
    "### **normal()?**\n",
    "\n",
    "Use the random.normal() method to get a Normal Data Distribution.\n",
    "\n",
    "> **Syntax**: .normal(loc,scale, size)\n",
    "- **loc** - (Mean) where the peak of the bell exists.\n",
    "- **scale** - (Standard Deviation) how flat the graph distribution should be.\n",
    "- **size** - The shape of the returned array."
   ]
  },
  {
   "cell_type": "code",
   "execution_count": null,
   "id": "87c3fefd",
   "metadata": {},
   "outputs": [],
   "source": [
    "# creating a normal array of 5 mean, std 3 and 5x2x2 dimension\n",
    "\n",
    "np.random.normal(5,3,(5,2,2)) # normal(mean, std.dev, (x,y,z))"
   ]
  },
  {
   "cell_type": "markdown",
   "id": "4110ab55",
   "metadata": {},
   "source": [
    "### **binomial()?**"
   ]
  },
  {
   "cell_type": "markdown",
   "id": "4efc2c0b",
   "metadata": {},
   "source": [
    "Binomial Distribution is a Discrete Distribution.\n",
    "> ***Discrete Distribution***:The distribution is defined at **separate** set of events, e.g. a coin toss's result is discrete as it can be only head or tails whereas height of people is **continuous** as it can be 170, 170.1, 170.11 and so on.\n",
    "\n",
    "It describes the outcome of binary scenarios, e.g. toss of a coin, it will either be head or tails.\n",
    "\n",
    "> **Syntax** : .binomial(n, p, size)\n",
    "\n",
    "- **n** - number of trials.\n",
    "- **p** - probability of occurence of each trial (e.g. for toss of a coin 0.5 each).\n",
    "- **size** - The shape of the returned array."
   ]
  },
  {
   "cell_type": "code",
   "execution_count": null,
   "id": "5397e1b4",
   "metadata": {},
   "outputs": [],
   "source": [
    "# PROBLEM STATMENT\n",
    "# vespa comes in 4 colors, we need to find what color was actually sold most\n",
    "# so we first 100 vespa that we find in trafic\n",
    "\n",
    "np.random.binomial(4,0.25,(2,50))"
   ]
  },
  {
   "cell_type": "markdown",
   "id": "765ae8f4",
   "metadata": {},
   "source": [
    "#### **Difference Between Normal and Binomial Distribution?**\n",
    "The main difference is that normal distribution is continous whereas binomial is discrete,<br> but if there are enough data points it will be quite similar to normal distribution with certain loc and scale.\n",
    "<br>\n",
    "<br>"
   ]
  },
  {
   "cell_type": "markdown",
   "id": "e8e05342",
   "metadata": {},
   "source": [
    "### ---------------Doubt      have more understanding of topics above chisquare"
   ]
  },
  {
   "cell_type": "markdown",
   "id": "f3ae7e50",
   "metadata": {},
   "source": [
    "### poisson()?\n",
    "Poisson Distribution is a Discrete Distribution.\n",
    "\n",
    "It estimates how many times an event can happen in a specified time. e.g. If someone eats twice a day what is the probability he will eat thrice?\n",
    "\n",
    "It has two parameters:\n",
    "\n",
    "lam - rate or known number of occurrences e.g. 2 for above problem.\n",
    "\n",
    "size - The shape of the returned array."
   ]
  },
  {
   "cell_type": "markdown",
   "id": "cc8280a2",
   "metadata": {},
   "source": [
    "### uniform()?\n",
    "Used to describe probability where every event has equal chances of occuring.\n",
    "\n",
    "E.g. Generation of random numbers.\n",
    "\n",
    "It has three parameters:\n",
    "\n",
    "a - lower bound - default 0 .0.\n",
    "\n",
    "b - upper bound - default 1.0.\n",
    "\n",
    "size - The shape of the returned array."
   ]
  },
  {
   "cell_type": "markdown",
   "id": "9a5f8e0f",
   "metadata": {},
   "source": []
  },
  {
   "cell_type": "markdown",
   "id": "f5ea4824",
   "metadata": {},
   "source": [
    "### logistic()?\n",
    "\n",
    "Logistic Distribution is used to describe growth.\n",
    "\n",
    "Used extensively in machine learning in logistic regression, neural networks etc.\n",
    "\n",
    "It has three parameters:\n",
    "\n",
    "loc - mean, where the peak is. Default 0.\n",
    "\n",
    "scale - standard deviation, the flatness of distribution. Default 1.\n",
    "\n",
    "size - The shape of the returned array."
   ]
  },
  {
   "cell_type": "markdown",
   "id": "9b610216",
   "metadata": {},
   "source": [
    "### multinomial()?\n",
    "\n",
    "Multinomial distribution is a generalization of binomial distribution.\n",
    "\n",
    "It describes outcomes of multi-nomial scenarios unlike binomial where scenarios must be only one of two. e.g. Blood type of a population, dice roll outcome.\n",
    "\n",
    "It has three parameters:\n",
    "\n",
    "n - number of possible outcomes (e.g. 6 for dice roll).\n",
    "\n",
    "pvals - list of probabilties of outcomes (e.g. [1/6, 1/6, 1/6, 1/6, 1/6, 1/6] for dice roll).\n",
    "\n",
    "size - The shape of the returned array."
   ]
  },
  {
   "cell_type": "markdown",
   "id": "e334fff2",
   "metadata": {},
   "source": [
    "### exponential()?\n",
    "Exponential distribution is used for describing time till next event e.g. failure/success etc.\n",
    "\n",
    "It has two parameters:\n",
    "\n",
    "scale - inverse of rate ( see lam in poisson distribution ) defaults to 1.0.\n",
    "\n",
    "size - The shape of the returned array."
   ]
  },
  {
   "cell_type": "markdown",
   "id": "128279bc",
   "metadata": {},
   "source": [
    "### chisquare()?\n",
    "\n",
    "Chi Square distribution is used as a basis to verify the hypothesis.\n",
    "\n",
    "It has two parameters:\n",
    "\n",
    "df - (degree of freedom).\n",
    "\n",
    "size - The shape of the returned array."
   ]
  },
  {
   "cell_type": "markdown",
   "id": "6d843302",
   "metadata": {},
   "source": [
    "### **.seed()?**\n",
    "Used to stablize the random generated value\n",
    "> scope of .seed():\n",
    "> - .ipynb : Cell it's being used in\n",
    "> - .py : the whole page under it"
   ]
  },
  {
   "cell_type": "code",
   "execution_count": null,
   "id": "22e6d40f",
   "metadata": {},
   "outputs": [],
   "source": [
    "np.random.seed(2)\n",
    "arrSeed0 = np.random.rand() # not changing with refresh\n",
    "print(\"arrSeed0 : \", arrSeed0)"
   ]
  },
  {
   "cell_type": "markdown",
   "id": "e4699fcc",
   "metadata": {},
   "source": [
    "## linespace()?\n",
    "The NumPy.linspace() function returns an array of evenly spaced values within the specified interval [start, stop].\n",
    "\n",
    "It is similar to NumPy.arange() function but instead of a step, it uses a sample number. \n",
    "> **Synatx**: numpy.linspace(start, stop, num=50, endpoint=True , retstep=False, dtype=None, axis=0)\n",
    "- genrally Start, stop and num parameters are used.\n",
    "\n",
    ">**Return:**\n",
    "\n",
    "- ndarray\n",
    "- step : [float, optional], if restep = True\n",
    "\n",
    "**Parameters:**\n",
    "\n",
    "- **start**: [optional] start of interval range. By default start = 0\n",
    "- **stop**: end of interval range\n",
    "- **num**: [int, optional] No. of samples to generate\n",
    "- **retstep**: If True, returts the diff of two consecutive values in the sample array. By default restep = False\n",
    "    - Using retstep is particularly useful when you need to know the exact spacing between values, which can be important for precise calculations<br> or for understanding the distribution of the generated values.\n",
    "- **endpoint**: If True, stop is included as the last value. If False, stop is excluded. By default  endpoint=True.\n",
    "- **dtype**: type of output array\n",
    "- **axis**: If start and stop are arrays, axis specifies on what axis will the values be added. <br>If axis = **0**, value is added to front, if  axis = **-1** value is added at the end."
   ]
  },
  {
   "cell_type": "code",
   "execution_count": null,
   "id": "f1b52e55",
   "metadata": {},
   "outputs": [],
   "source": [
    "# simple example\n",
    "lspace1 = np.linspace(0, 1000, 10)\n",
    "print(\"lspace1\",lspace1)"
   ]
  },
  {
   "cell_type": "code",
   "execution_count": null,
   "id": "8f11d548",
   "metadata": {},
   "outputs": [],
   "source": [
    "# all parameter example\n",
    "lspace2 = np.linspace(start=0, stop=1000, num=10, endpoint=True, dtype= int )\n",
    "print(\"lspace2\", lspace2)"
   ]
  },
  {
   "cell_type": "markdown",
   "id": "3f6803bc",
   "metadata": {},
   "source": [
    "## Indexing Matrix?"
   ]
  },
  {
   "cell_type": "markdown",
   "id": "033ed293",
   "metadata": {},
   "source": [
    "https://stackoverflow.com/a/16096968"
   ]
  },
  {
   "cell_type": "markdown",
   "id": "26c1cea0",
   "metadata": {},
   "source": [
    "## Boolean Indexing"
   ]
  },
  {
   "cell_type": "code",
   "execution_count": null,
   "id": "94cf66d9",
   "metadata": {},
   "outputs": [],
   "source": [
    "arr = np.array([1, 2, 3, 4, 5, 6, 7, 8, 9, 10, 11, 12, 13, 14, 15])\n",
    "arr.shape"
   ]
  },
  {
   "cell_type": "code",
   "execution_count": null,
   "id": "decab3a2",
   "metadata": {},
   "outputs": [],
   "source": [
    "selected_indices = [2, 4, 6, 14]\n",
    "arr[selected_indices] # prints values in the selected_indices"
   ]
  },
  {
   "cell_type": "code",
   "execution_count": null,
   "id": "1b912e82",
   "metadata": {},
   "outputs": [],
   "source": [
    "bool_arr = np.array([False, True, True, False, True, False, True, True, False, True,False, True, True, False, True])\n",
    "bool_arr.shape"
   ]
  },
  {
   "cell_type": "code",
   "execution_count": null,
   "id": "298bf397",
   "metadata": {},
   "outputs": [],
   "source": [
    "bool_arr2 = arr % 2 == 0\n",
    "bool_arr2"
   ]
  },
  {
   "cell_type": "code",
   "execution_count": null,
   "id": "abfbefaf",
   "metadata": {},
   "outputs": [],
   "source": [
    "arr[arr % 2 == 0]"
   ]
  },
  {
   "cell_type": "markdown",
   "id": "5bd00400",
   "metadata": {},
   "source": [
    "### Get a boolean array which indicates if condition is TRUE or FALSE for the element at that index?"
   ]
  },
  {
   "cell_type": "code",
   "execution_count": null,
   "id": "261bbec3",
   "metadata": {},
   "outputs": [],
   "source": [
    "arr = np.array([1, 2, 3, 4, 5])\n",
    "\n",
    "condition = arr > 3\n",
    "print(condition)    # Output: [False False False  True  True]\n"
   ]
  },
  {
   "cell_type": "markdown",
   "id": "9cef4311",
   "metadata": {},
   "source": [
    "### Use boolean array to filter elements from original array?"
   ]
  },
  {
   "cell_type": "code",
   "execution_count": null,
   "id": "e7b8caa1",
   "metadata": {},
   "outputs": [],
   "source": [
    "# Use this boolean array to filter the original array\n",
    "filtered_arr = arr[condition]\n",
    "print(filtered_arr)"
   ]
  },
  {
   "cell_type": "markdown",
   "id": "6a31432e",
   "metadata": {},
   "source": [
    "## Fancy Indexing"
   ]
  },
  {
   "cell_type": "code",
   "execution_count": null,
   "id": "5a4d0ba0",
   "metadata": {},
   "outputs": [],
   "source": [
    "arr = np.array([10, 20, 30, 40, 50])\n",
    "indices = [0, 2, 4]\n",
    "fancy_indexed_arr = arr[indices]\n",
    "print(fancy_indexed_arr)"
   ]
  },
  {
   "cell_type": "markdown",
   "id": "f6b867ce",
   "metadata": {},
   "source": [
    "## **Array matrix slicing?**"
   ]
  },
  {
   "cell_type": "markdown",
   "id": "9a8c5ae8",
   "metadata": {},
   "source": [
    "#### 1D array slicing"
   ]
  },
  {
   "cell_type": "code",
   "execution_count": null,
   "id": "42440b6c",
   "metadata": {},
   "outputs": [],
   "source": [
    "# simple in slicing\n",
    "arr = np.array([0, 1, 2, 3, 4, 5])\n",
    "print(arr[1:5])        # Output: [1 2 3 4]"
   ]
  },
  {
   "cell_type": "code",
   "execution_count": null,
   "id": "d61ddccd",
   "metadata": {},
   "outputs": [],
   "source": [
    "#  step slicing\n",
    "\n",
    "print(arr[::2])        # Output: [0 2 4]"
   ]
  },
  {
   "cell_type": "code",
   "execution_count": null,
   "id": "0fbb27a5",
   "metadata": {},
   "outputs": [],
   "source": [
    "# combination slicing\n",
    "\n",
    "print(arr[1:5:2])      # Output: [1 3]"
   ]
  },
  {
   "cell_type": "markdown",
   "id": "9ff5325b",
   "metadata": {},
   "source": [
    "#### 2D array slicing\n",
    "> here elements refer to single array which constitutes array"
   ]
  },
  {
   "cell_type": "code",
   "execution_count": null,
   "id": "faaa3468",
   "metadata": {},
   "outputs": [],
   "source": [
    "# 1. From the second element, slice elements from index 1 to index 4 (not included)\n",
    "\n",
    "arr = np.array([[1, 2, 3, 4, 5], \n",
    "                [6, 7, 8, 9, 10]])\n",
    "\n",
    "print(arr[1, 1:4])\n"
   ]
  },
  {
   "cell_type": "code",
   "execution_count": null,
   "id": "93638a3c",
   "metadata": {},
   "outputs": [],
   "source": [
    "# 2. From both elements, slice row from 0 to 2 while skipping the mid row \n",
    "#    select columns 1 to 4 and return the 2-D array\n",
    "\n",
    "arr = np.array([[1, 2, 3, 4, 5 ], \n",
    "                [6, 7, 8, 9, 10],\n",
    "                [5, 7, 8, 2, 3 ]])  #  its a 3*5 matrix\n",
    "\n",
    "print(arr[0:3:2, 1:4])  # select rows from 0 to 3 with step of 2, column from 1 to 4\n",
    "\n"
   ]
  },
  {
   "cell_type": "code",
   "execution_count": null,
   "id": "7acfbd9a",
   "metadata": {},
   "outputs": [],
   "source": [
    "# 3. From both elements, return index 2\n",
    "arr = np.array([[1, 2, 3, 4, 5], \n",
    "                [6, 7, 8, 9, 10]])\n",
    "\n",
    "print(arr[0:2, 2])\n"
   ]
  },
  {
   "cell_type": "markdown",
   "id": "6d718760",
   "metadata": {},
   "source": [
    "## Broadcasting\n",
    "Broadcasting is a powerful mechanism that allows NumPy to perform operations on arrays of different shapes."
   ]
  },
  {
   "cell_type": "markdown",
   "id": "fa9f124c",
   "metadata": {},
   "source": [
    "### Broadcasting Example\n",
    "> In this example, the 1D array arr is \"broadcast\" across each row of the 2D array arr2d."
   ]
  },
  {
   "cell_type": "code",
   "execution_count": null,
   "id": "656b6ecc",
   "metadata": {},
   "outputs": [],
   "source": [
    "arr = np.array([1, 2, 3])\n",
    "arr2d = np.array([[1, 2, 3], \n",
    "                  [4, 5, 6]]) \n",
    "result = arr + arr2d    # [[1+1, 2+2, 3+3], [1+4, 2+5, 3+6]]\n",
    "print(result)"
   ]
  },
  {
   "cell_type": "markdown",
   "id": "f70eb88c",
   "metadata": {},
   "source": [
    "## **array to csv ?**"
   ]
  },
  {
   "cell_type": "code",
   "execution_count": null,
   "id": "78192597",
   "metadata": {},
   "outputs": [],
   "source": [
    "arr = np.arange(1,11) \n",
    "print(arr) \n",
    "  \n",
    "# use the tofile() method  \n",
    "# and use ',' as a separator \n",
    "arr.tofile('delete_this_file.csv', sep = ',')"
   ]
  },
  {
   "cell_type": "markdown",
   "id": "9834c5a3",
   "metadata": {},
   "source": [
    "# **28.06.2024 Class 14**"
   ]
  },
  {
   "cell_type": "markdown",
   "id": "5a2c0039",
   "metadata": {},
   "source": [
    "## arr.resize() vs np.resize(arr)?\n",
    "\n",
    "arr.resize():\n",
    "- In-place modification: This method modifies the original array directly.\n",
    "- Behavior with smaller size: If the new size is smaller, elements at the end of the array are truncated.\n",
    "- Behavior with larger size: If the new size is larger, the array is padded with zeros (or the specified fill value).\n",
    "- No return value: This method does not return a new array; it modifies the existing one.\n",
    "\n",
    "np.resize(arr):\n",
    "- Creates a new array: This function creates a new array with the specified size.\n",
    "- Behavior with smaller size: If the new size is smaller, elements from the original array are repeated in a cyclical manner to fill the new array.\n",
    "- Behavior with larger size: If the new size is larger, elements from the original array are repeated in a cyclical manner to fill the new array.\n",
    "- Returns a new array: This function returns the resized array."
   ]
  },
  {
   "cell_type": "markdown",
   "id": "72cf4a9f",
   "metadata": {},
   "source": []
  }
 ],
 "metadata": {
  "kernelspec": {
   "display_name": "Python 3 (ipykernel)",
   "language": "python",
   "name": "python3"
  },
  "language_info": {
   "codemirror_mode": {
    "name": "ipython",
    "version": 3
   },
   "file_extension": ".py",
   "mimetype": "text/x-python",
   "name": "python",
   "nbconvert_exporter": "python",
   "pygments_lexer": "ipython3",
   "version": "3.12.3"
  }
 },
 "nbformat": 4,
 "nbformat_minor": 5
}
